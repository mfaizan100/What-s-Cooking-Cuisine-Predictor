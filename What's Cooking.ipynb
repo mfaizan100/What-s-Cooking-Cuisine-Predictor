{
 "cells": [
  {
   "cell_type": "markdown",
   "metadata": {},
   "source": [
    "# Dataset Exploring and Visulaization"
   ]
  },
  {
   "cell_type": "code",
   "execution_count": 37,
   "metadata": {},
   "outputs": [],
   "source": [
    "import pandas as pd\n",
    "import numpy as np\n",
    "import matplotlib.pyplot as plt\n",
    "#import seaborn as sns\n",
    "from pandas import DataFrame, Series\n",
    "%matplotlib inline\n",
    "\n"
   ]
  },
  {
   "cell_type": "code",
   "execution_count": 38,
   "metadata": {},
   "outputs": [
    {
     "output_type": "stream",
     "name": "stdout",
     "text": [
      "<class 'pandas.core.frame.DataFrame'>\nRangeIndex: 39774 entries, 0 to 39773\nData columns (total 3 columns):\n #   Column       Non-Null Count  Dtype \n---  ------       --------------  ----- \n 0   id           39774 non-null  int64 \n 1   cuisine      39774 non-null  object\n 2   ingredients  39774 non-null  object\ndtypes: int64(1), object(2)\nmemory usage: 932.3+ KB\n"
     ]
    }
   ],
   "source": [
    "df = pd.read_json(r'C:\\Users\\Dell\\Desktop\\Data Science\\Project\\Whats Cooking\\Whats Cooking\\whats-cooking\\train.json')\n",
    "df.info()"
   ]
  },
  {
   "cell_type": "code",
   "execution_count": 39,
   "metadata": {},
   "outputs": [
    {
     "output_type": "execute_result",
     "data": {
      "text/plain": [
       "          id      cuisine                                        ingredients\n",
       "0      10259        greek  [romaine lettuce, black olives, grape tomatoes...\n",
       "1      25693  southern_us  [plain flour, ground pepper, salt, tomatoes, g...\n",
       "2      20130     filipino  [eggs, pepper, salt, mayonaise, cooking oil, g...\n",
       "3      22213       indian                [water, vegetable oil, wheat, salt]\n",
       "4      13162       indian  [black pepper, shallots, cornflour, cayenne pe...\n",
       "...      ...          ...                                                ...\n",
       "39769  29109        irish  [light brown sugar, granulated sugar, butter, ...\n",
       "39770  11462      italian  [KRAFT Zesty Italian Dressing, purple onion, b...\n",
       "39771   2238        irish  [eggs, citrus fruit, raisins, sourdough starte...\n",
       "39772  41882      chinese  [boneless chicken skinless thigh, minced garli...\n",
       "39773   2362      mexican  [green chile, jalapeno chilies, onions, ground...\n",
       "\n",
       "[39774 rows x 3 columns]"
      ],
      "text/html": "<div>\n<style scoped>\n    .dataframe tbody tr th:only-of-type {\n        vertical-align: middle;\n    }\n\n    .dataframe tbody tr th {\n        vertical-align: top;\n    }\n\n    .dataframe thead th {\n        text-align: right;\n    }\n</style>\n<table border=\"1\" class=\"dataframe\">\n  <thead>\n    <tr style=\"text-align: right;\">\n      <th></th>\n      <th>id</th>\n      <th>cuisine</th>\n      <th>ingredients</th>\n    </tr>\n  </thead>\n  <tbody>\n    <tr>\n      <th>0</th>\n      <td>10259</td>\n      <td>greek</td>\n      <td>[romaine lettuce, black olives, grape tomatoes...</td>\n    </tr>\n    <tr>\n      <th>1</th>\n      <td>25693</td>\n      <td>southern_us</td>\n      <td>[plain flour, ground pepper, salt, tomatoes, g...</td>\n    </tr>\n    <tr>\n      <th>2</th>\n      <td>20130</td>\n      <td>filipino</td>\n      <td>[eggs, pepper, salt, mayonaise, cooking oil, g...</td>\n    </tr>\n    <tr>\n      <th>3</th>\n      <td>22213</td>\n      <td>indian</td>\n      <td>[water, vegetable oil, wheat, salt]</td>\n    </tr>\n    <tr>\n      <th>4</th>\n      <td>13162</td>\n      <td>indian</td>\n      <td>[black pepper, shallots, cornflour, cayenne pe...</td>\n    </tr>\n    <tr>\n      <th>...</th>\n      <td>...</td>\n      <td>...</td>\n      <td>...</td>\n    </tr>\n    <tr>\n      <th>39769</th>\n      <td>29109</td>\n      <td>irish</td>\n      <td>[light brown sugar, granulated sugar, butter, ...</td>\n    </tr>\n    <tr>\n      <th>39770</th>\n      <td>11462</td>\n      <td>italian</td>\n      <td>[KRAFT Zesty Italian Dressing, purple onion, b...</td>\n    </tr>\n    <tr>\n      <th>39771</th>\n      <td>2238</td>\n      <td>irish</td>\n      <td>[eggs, citrus fruit, raisins, sourdough starte...</td>\n    </tr>\n    <tr>\n      <th>39772</th>\n      <td>41882</td>\n      <td>chinese</td>\n      <td>[boneless chicken skinless thigh, minced garli...</td>\n    </tr>\n    <tr>\n      <th>39773</th>\n      <td>2362</td>\n      <td>mexican</td>\n      <td>[green chile, jalapeno chilies, onions, ground...</td>\n    </tr>\n  </tbody>\n</table>\n<p>39774 rows × 3 columns</p>\n</div>"
     },
     "metadata": {},
     "execution_count": 39
    }
   ],
   "source": [
    "df"
   ]
  },
  {
   "cell_type": "code",
   "execution_count": 40,
   "metadata": {},
   "outputs": [
    {
     "output_type": "execute_result",
     "data": {
      "text/plain": [
       "(39774, 3)"
      ]
     },
     "metadata": {},
     "execution_count": 40
    }
   ],
   "source": [
    "df.shape"
   ]
  },
  {
   "cell_type": "code",
   "execution_count": 41,
   "metadata": {},
   "outputs": [
    {
     "output_type": "execute_result",
     "data": {
      "text/plain": [
       "cuisine\n",
       "brazilian        467\n",
       "british          804\n",
       "cajun_creole    1546\n",
       "chinese         2673\n",
       "filipino         755\n",
       "french          2646\n",
       "greek           1175\n",
       "indian          3003\n",
       "irish            667\n",
       "italian         7838\n",
       "jamaican         526\n",
       "japanese        1423\n",
       "korean           830\n",
       "mexican         6438\n",
       "moroccan         821\n",
       "russian          489\n",
       "southern_us     4320\n",
       "spanish          989\n",
       "thai            1539\n",
       "vietnamese       825\n",
       "dtype: int64"
      ]
     },
     "metadata": {},
     "execution_count": 41
    }
   ],
   "source": [
    "df.groupby('cuisine').size()"
   ]
  },
  {
   "cell_type": "code",
   "execution_count": 42,
   "metadata": {},
   "outputs": [
    {
     "output_type": "execute_result",
     "data": {
      "text/plain": [
       "id             0\n",
       "cuisine        0\n",
       "ingredients    0\n",
       "dtype: int64"
      ]
     },
     "metadata": {},
     "execution_count": 42
    }
   ],
   "source": [
    "df.isnull().sum()"
   ]
  },
  {
   "cell_type": "code",
   "execution_count": 43,
   "metadata": {},
   "outputs": [
    {
     "output_type": "execute_result",
     "data": {
      "text/plain": [
       "id             0.0\n",
       "cuisine        0.0\n",
       "ingredients    0.0\n",
       "dtype: float64"
      ]
     },
     "metadata": {},
     "execution_count": 43
    }
   ],
   "source": [
    "df2 = df[df.applymap(lambda x: x[0] if isinstance(x, list) else x).duplicated()]\n",
    "df2.sum()"
   ]
  },
  {
   "cell_type": "code",
   "execution_count": 44,
   "metadata": {},
   "outputs": [
    {
     "output_type": "execute_result",
     "data": {
      "text/plain": [
       "                 id\n",
       "count  39774.000000\n",
       "mean   24849.536959\n",
       "std    14360.035505\n",
       "min        0.000000\n",
       "25%    12398.250000\n",
       "50%    24887.000000\n",
       "75%    37328.500000\n",
       "max    49717.000000"
      ],
      "text/html": "<div>\n<style scoped>\n    .dataframe tbody tr th:only-of-type {\n        vertical-align: middle;\n    }\n\n    .dataframe tbody tr th {\n        vertical-align: top;\n    }\n\n    .dataframe thead th {\n        text-align: right;\n    }\n</style>\n<table border=\"1\" class=\"dataframe\">\n  <thead>\n    <tr style=\"text-align: right;\">\n      <th></th>\n      <th>id</th>\n    </tr>\n  </thead>\n  <tbody>\n    <tr>\n      <th>count</th>\n      <td>39774.000000</td>\n    </tr>\n    <tr>\n      <th>mean</th>\n      <td>24849.536959</td>\n    </tr>\n    <tr>\n      <th>std</th>\n      <td>14360.035505</td>\n    </tr>\n    <tr>\n      <th>min</th>\n      <td>0.000000</td>\n    </tr>\n    <tr>\n      <th>25%</th>\n      <td>12398.250000</td>\n    </tr>\n    <tr>\n      <th>50%</th>\n      <td>24887.000000</td>\n    </tr>\n    <tr>\n      <th>75%</th>\n      <td>37328.500000</td>\n    </tr>\n    <tr>\n      <th>max</th>\n      <td>49717.000000</td>\n    </tr>\n  </tbody>\n</table>\n</div>"
     },
     "metadata": {},
     "execution_count": 44
    }
   ],
   "source": [
    "df.describe()"
   ]
  },
  {
   "cell_type": "code",
   "execution_count": 45,
   "metadata": {},
   "outputs": [
    {
     "output_type": "execute_result",
     "data": {
      "text/plain": [
       "italian         19.706341\n",
       "mexican         16.186453\n",
       "southern_us     10.861367\n",
       "indian           7.550158\n",
       "chinese          6.720471\n",
       "french           6.652587\n",
       "cajun_creole     3.886961\n",
       "thai             3.869362\n",
       "japanese         3.577714\n",
       "greek            2.954191\n",
       "spanish          2.486549\n",
       "korean           2.086790\n",
       "vietnamese       2.074219\n",
       "moroccan         2.064163\n",
       "british          2.021421\n",
       "filipino         1.898225\n",
       "irish            1.676975\n",
       "jamaican         1.322472\n",
       "russian          1.229446\n",
       "brazilian        1.174134\n",
       "Name: cuisine, dtype: float64"
      ]
     },
     "metadata": {},
     "execution_count": 45
    }
   ],
   "source": [
    "df['cuisine'].value_counts(normalize=True) *100"
   ]
  },
  {
   "cell_type": "code",
   "execution_count": 46,
   "metadata": {},
   "outputs": [
    {
     "output_type": "execute_result",
     "data": {
      "text/plain": [
       "italian         7838\n",
       "mexican         6438\n",
       "southern_us     4320\n",
       "indian          3003\n",
       "chinese         2673\n",
       "french          2646\n",
       "cajun_creole    1546\n",
       "thai            1539\n",
       "japanese        1423\n",
       "greek           1175\n",
       "spanish          989\n",
       "korean           830\n",
       "vietnamese       825\n",
       "moroccan         821\n",
       "british          804\n",
       "filipino         755\n",
       "irish            667\n",
       "jamaican         526\n",
       "russian          489\n",
       "brazilian        467\n",
       "Name: cuisine, dtype: int64"
      ]
     },
     "metadata": {},
     "execution_count": 46
    }
   ],
   "source": [
    "# Number of recipes per cuisine\n",
    "totalCount = df['cuisine'].value_counts()\n",
    "totalCount"
   ]
  },
  {
   "cell_type": "code",
   "execution_count": 47,
   "metadata": {},
   "outputs": [
    {
     "output_type": "execute_result",
     "data": {
      "text/plain": [
       "Text(0.5, 1.0, 'Total Number of recipes per cuisine')"
      ]
     },
     "metadata": {},
     "execution_count": 47
    },
    {
     "output_type": "display_data",
     "data": {
      "text/plain": "<Figure size 432x288 with 1 Axes>",
      "image/svg+xml": "<?xml version=\"1.0\" encoding=\"utf-8\" standalone=\"no\"?>\r\n<!DOCTYPE svg PUBLIC \"-//W3C//DTD SVG 1.1//EN\"\r\n  \"http://www.w3.org/Graphics/SVG/1.1/DTD/svg11.dtd\">\r\n<!-- Created with matplotlib (https://matplotlib.org/) -->\r\n<svg height=\"341.22125pt\" version=\"1.1\" viewBox=\"0 0 409.553125 341.22125\" width=\"409.553125pt\" xmlns=\"http://www.w3.org/2000/svg\" xmlns:xlink=\"http://www.w3.org/1999/xlink\">\r\n <metadata>\r\n  <rdf:RDF xmlns:cc=\"http://creativecommons.org/ns#\" xmlns:dc=\"http://purl.org/dc/elements/1.1/\" xmlns:rdf=\"http://www.w3.org/1999/02/22-rdf-syntax-ns#\">\r\n   <cc:Work>\r\n    <dc:type rdf:resource=\"http://purl.org/dc/dcmitype/StillImage\"/>\r\n    <dc:date>2021-06-28T23:54:38.155523</dc:date>\r\n    <dc:format>image/svg+xml</dc:format>\r\n    <dc:creator>\r\n     <cc:Agent>\r\n      <dc:title>Matplotlib v3.3.4, https://matplotlib.org/</dc:title>\r\n     </cc:Agent>\r\n    </dc:creator>\r\n   </cc:Work>\r\n  </rdf:RDF>\r\n </metadata>\r\n <defs>\r\n  <style type=\"text/css\">*{stroke-linecap:butt;stroke-linejoin:round;}</style>\r\n </defs>\r\n <g id=\"figure_1\">\r\n  <g id=\"patch_1\">\r\n   <path d=\"M 0 341.22125 \r\nL 409.553125 341.22125 \r\nL 409.553125 0 \r\nL 0 0 \r\nz\r\n\" style=\"fill:none;\"/>\r\n  </g>\r\n  <g id=\"axes_1\">\r\n   <g id=\"patch_2\">\r\n    <path d=\"M 58.167188 245.836875 \r\nL 392.967188 245.836875 \r\nL 392.967188 28.396875 \r\nL 58.167188 28.396875 \r\nz\r\n\" style=\"fill:#ffffff;\"/>\r\n   </g>\r\n   <g id=\"patch_3\">\r\n    <path clip-path=\"url(#p62f1a85622)\" d=\"M 62.352187 245.836875 \r\nL 70.722188 245.836875 \r\nL 70.722188 38.751161 \r\nL 62.352187 38.751161 \r\nz\r\n\" style=\"fill:#1f77b4;\"/>\r\n   </g>\r\n   <g id=\"patch_4\">\r\n    <path clip-path=\"url(#p62f1a85622)\" d=\"M 79.092188 245.836875 \r\nL 87.462188 245.836875 \r\nL 87.462188 75.740189 \r\nL 79.092188 75.740189 \r\nz\r\n\" style=\"fill:#1f77b4;\"/>\r\n   </g>\r\n   <g id=\"patch_5\">\r\n    <path clip-path=\"url(#p62f1a85622)\" d=\"M 95.832188 245.836875 \r\nL 104.202188 245.836875 \r\nL 104.202188 131.699303 \r\nL 95.832188 131.699303 \r\nz\r\n\" style=\"fill:#1f77b4;\"/>\r\n   </g>\r\n   <g id=\"patch_6\">\r\n    <path clip-path=\"url(#p62f1a85622)\" d=\"M 112.572188 245.836875 \r\nL 120.942188 245.836875 \r\nL 120.942188 166.49541 \r\nL 112.572188 166.49541 \r\nz\r\n\" style=\"fill:#1f77b4;\"/>\r\n   </g>\r\n   <g id=\"patch_7\">\r\n    <path clip-path=\"url(#p62f1a85622)\" d=\"M 129.312187 245.836875 \r\nL 137.682187 245.836875 \r\nL 137.682187 175.214253 \r\nL 129.312187 175.214253 \r\nz\r\n\" style=\"fill:#1f77b4;\"/>\r\n   </g>\r\n   <g id=\"patch_8\">\r\n    <path clip-path=\"url(#p62f1a85622)\" d=\"M 146.052188 245.836875 \r\nL 154.422188 245.836875 \r\nL 154.422188 175.927612 \r\nL 146.052188 175.927612 \r\nz\r\n\" style=\"fill:#1f77b4;\"/>\r\n   </g>\r\n   <g id=\"patch_9\">\r\n    <path clip-path=\"url(#p62f1a85622)\" d=\"M 162.792188 245.836875 \r\nL 171.162188 245.836875 \r\nL 171.162188 204.99042 \r\nL 162.792188 204.99042 \r\nz\r\n\" style=\"fill:#1f77b4;\"/>\r\n   </g>\r\n   <g id=\"patch_10\">\r\n    <path clip-path=\"url(#p62f1a85622)\" d=\"M 179.532188 245.836875 \r\nL 187.902188 245.836875 \r\nL 187.902188 205.175365 \r\nL 179.532188 205.175365 \r\nz\r\n\" style=\"fill:#1f77b4;\"/>\r\n   </g>\r\n   <g id=\"patch_11\">\r\n    <path clip-path=\"url(#p62f1a85622)\" d=\"M 196.272188 245.836875 \r\nL 204.642188 245.836875 \r\nL 204.642188 208.24017 \r\nL 196.272188 208.24017 \r\nz\r\n\" style=\"fill:#1f77b4;\"/>\r\n   </g>\r\n   <g id=\"patch_12\">\r\n    <path clip-path=\"url(#p62f1a85622)\" d=\"M 213.012188 245.836875 \r\nL 221.382188 245.836875 \r\nL 221.382188 214.792512 \r\nL 213.012188 214.792512 \r\nz\r\n\" style=\"fill:#1f77b4;\"/>\r\n   </g>\r\n   <g id=\"patch_13\">\r\n    <path clip-path=\"url(#p62f1a85622)\" d=\"M 229.752188 245.836875 \r\nL 238.122188 245.836875 \r\nL 238.122188 219.706769 \r\nL 229.752188 219.706769 \r\nz\r\n\" style=\"fill:#1f77b4;\"/>\r\n   </g>\r\n   <g id=\"patch_14\">\r\n    <path clip-path=\"url(#p62f1a85622)\" d=\"M 246.492188 245.836875 \r\nL 254.862188 245.836875 \r\nL 254.862188 223.907666 \r\nL 246.492188 223.907666 \r\nz\r\n\" style=\"fill:#1f77b4;\"/>\r\n   </g>\r\n   <g id=\"patch_15\">\r\n    <path clip-path=\"url(#p62f1a85622)\" d=\"M 263.232188 245.836875 \r\nL 271.602188 245.836875 \r\nL 271.602188 224.039769 \r\nL 263.232188 224.039769 \r\nz\r\n\" style=\"fill:#1f77b4;\"/>\r\n   </g>\r\n   <g id=\"patch_16\">\r\n    <path clip-path=\"url(#p62f1a85622)\" d=\"M 279.972188 245.836875 \r\nL 288.342188 245.836875 \r\nL 288.342188 224.145452 \r\nL 279.972188 224.145452 \r\nz\r\n\" style=\"fill:#1f77b4;\"/>\r\n   </g>\r\n   <g id=\"patch_17\">\r\n    <path clip-path=\"url(#p62f1a85622)\" d=\"M 296.712188 245.836875 \r\nL 305.082188 245.836875 \r\nL 305.082188 224.594605 \r\nL 296.712188 224.594605 \r\nz\r\n\" style=\"fill:#1f77b4;\"/>\r\n   </g>\r\n   <g id=\"patch_18\">\r\n    <path clip-path=\"url(#p62f1a85622)\" d=\"M 313.452188 245.836875 \r\nL 321.822188 245.836875 \r\nL 321.822188 225.889221 \r\nL 313.452188 225.889221 \r\nz\r\n\" style=\"fill:#1f77b4;\"/>\r\n   </g>\r\n   <g id=\"patch_19\">\r\n    <path clip-path=\"url(#p62f1a85622)\" d=\"M 330.192188 245.836875 \r\nL 338.562188 245.836875 \r\nL 338.562188 228.214245 \r\nL 330.192188 228.214245 \r\nz\r\n\" style=\"fill:#1f77b4;\"/>\r\n   </g>\r\n   <g id=\"patch_20\">\r\n    <path clip-path=\"url(#p62f1a85622)\" d=\"M 346.932188 245.836875 \r\nL 355.302188 245.836875 \r\nL 355.302188 231.939569 \r\nL 346.932188 231.939569 \r\nz\r\n\" style=\"fill:#1f77b4;\"/>\r\n   </g>\r\n   <g id=\"patch_21\">\r\n    <path clip-path=\"url(#p62f1a85622)\" d=\"M 363.672188 245.836875 \r\nL 372.042188 245.836875 \r\nL 372.042188 232.917136 \r\nL 363.672188 232.917136 \r\nz\r\n\" style=\"fill:#1f77b4;\"/>\r\n   </g>\r\n   <g id=\"patch_22\">\r\n    <path clip-path=\"url(#p62f1a85622)\" d=\"M 380.412188 245.836875 \r\nL 388.782188 245.836875 \r\nL 388.782188 233.498392 \r\nL 380.412188 233.498392 \r\nz\r\n\" style=\"fill:#1f77b4;\"/>\r\n   </g>\r\n   <g id=\"matplotlib.axis_1\">\r\n    <g id=\"xtick_1\">\r\n     <g id=\"line2d_1\">\r\n      <defs>\r\n       <path d=\"M 0 0 \r\nL 0 3.5 \r\n\" id=\"m117f7f9079\" style=\"stroke:#000000;stroke-width:0.8;\"/>\r\n      </defs>\r\n      <g>\r\n       <use style=\"stroke:#000000;stroke-width:0.8;\" x=\"66.537188\" xlink:href=\"#m117f7f9079\" y=\"245.836875\"/>\r\n      </g>\r\n     </g>\r\n     <g id=\"text_1\">\r\n      <!-- italian -->\r\n      <g transform=\"translate(69.296563 283.685312)rotate(-90)scale(0.1 -0.1)\">\r\n       <defs>\r\n        <path d=\"M 9.421875 54.6875 \r\nL 18.40625 54.6875 \r\nL 18.40625 0 \r\nL 9.421875 0 \r\nz\r\nM 9.421875 75.984375 \r\nL 18.40625 75.984375 \r\nL 18.40625 64.59375 \r\nL 9.421875 64.59375 \r\nz\r\n\" id=\"DejaVuSans-105\"/>\r\n        <path d=\"M 18.3125 70.21875 \r\nL 18.3125 54.6875 \r\nL 36.8125 54.6875 \r\nL 36.8125 47.703125 \r\nL 18.3125 47.703125 \r\nL 18.3125 18.015625 \r\nQ 18.3125 11.328125 20.140625 9.421875 \r\nQ 21.96875 7.515625 27.59375 7.515625 \r\nL 36.8125 7.515625 \r\nL 36.8125 0 \r\nL 27.59375 0 \r\nQ 17.1875 0 13.234375 3.875 \r\nQ 9.28125 7.765625 9.28125 18.015625 \r\nL 9.28125 47.703125 \r\nL 2.6875 47.703125 \r\nL 2.6875 54.6875 \r\nL 9.28125 54.6875 \r\nL 9.28125 70.21875 \r\nz\r\n\" id=\"DejaVuSans-116\"/>\r\n        <path d=\"M 34.28125 27.484375 \r\nQ 23.390625 27.484375 19.1875 25 \r\nQ 14.984375 22.515625 14.984375 16.5 \r\nQ 14.984375 11.71875 18.140625 8.90625 \r\nQ 21.296875 6.109375 26.703125 6.109375 \r\nQ 34.1875 6.109375 38.703125 11.40625 \r\nQ 43.21875 16.703125 43.21875 25.484375 \r\nL 43.21875 27.484375 \r\nz\r\nM 52.203125 31.203125 \r\nL 52.203125 0 \r\nL 43.21875 0 \r\nL 43.21875 8.296875 \r\nQ 40.140625 3.328125 35.546875 0.953125 \r\nQ 30.953125 -1.421875 24.3125 -1.421875 \r\nQ 15.921875 -1.421875 10.953125 3.296875 \r\nQ 6 8.015625 6 15.921875 \r\nQ 6 25.140625 12.171875 29.828125 \r\nQ 18.359375 34.515625 30.609375 34.515625 \r\nL 43.21875 34.515625 \r\nL 43.21875 35.40625 \r\nQ 43.21875 41.609375 39.140625 45 \r\nQ 35.0625 48.390625 27.6875 48.390625 \r\nQ 23 48.390625 18.546875 47.265625 \r\nQ 14.109375 46.140625 10.015625 43.890625 \r\nL 10.015625 52.203125 \r\nQ 14.9375 54.109375 19.578125 55.046875 \r\nQ 24.21875 56 28.609375 56 \r\nQ 40.484375 56 46.34375 49.84375 \r\nQ 52.203125 43.703125 52.203125 31.203125 \r\nz\r\n\" id=\"DejaVuSans-97\"/>\r\n        <path d=\"M 9.421875 75.984375 \r\nL 18.40625 75.984375 \r\nL 18.40625 0 \r\nL 9.421875 0 \r\nz\r\n\" id=\"DejaVuSans-108\"/>\r\n        <path d=\"M 54.890625 33.015625 \r\nL 54.890625 0 \r\nL 45.90625 0 \r\nL 45.90625 32.71875 \r\nQ 45.90625 40.484375 42.875 44.328125 \r\nQ 39.84375 48.1875 33.796875 48.1875 \r\nQ 26.515625 48.1875 22.3125 43.546875 \r\nQ 18.109375 38.921875 18.109375 30.90625 \r\nL 18.109375 0 \r\nL 9.078125 0 \r\nL 9.078125 54.6875 \r\nL 18.109375 54.6875 \r\nL 18.109375 46.1875 \r\nQ 21.34375 51.125 25.703125 53.5625 \r\nQ 30.078125 56 35.796875 56 \r\nQ 45.21875 56 50.046875 50.171875 \r\nQ 54.890625 44.34375 54.890625 33.015625 \r\nz\r\n\" id=\"DejaVuSans-110\"/>\r\n       </defs>\r\n       <use xlink:href=\"#DejaVuSans-105\"/>\r\n       <use x=\"27.783203\" xlink:href=\"#DejaVuSans-116\"/>\r\n       <use x=\"66.992188\" xlink:href=\"#DejaVuSans-97\"/>\r\n       <use x=\"128.271484\" xlink:href=\"#DejaVuSans-108\"/>\r\n       <use x=\"156.054688\" xlink:href=\"#DejaVuSans-105\"/>\r\n       <use x=\"183.837891\" xlink:href=\"#DejaVuSans-97\"/>\r\n       <use x=\"245.117188\" xlink:href=\"#DejaVuSans-110\"/>\r\n      </g>\r\n     </g>\r\n    </g>\r\n    <g id=\"xtick_2\">\r\n     <g id=\"line2d_2\">\r\n      <g>\r\n       <use style=\"stroke:#000000;stroke-width:0.8;\" x=\"83.277187\" xlink:href=\"#m117f7f9079\" y=\"245.836875\"/>\r\n      </g>\r\n     </g>\r\n     <g id=\"text_2\">\r\n      <!-- mexican -->\r\n      <g transform=\"translate(86.036563 295.216562)rotate(-90)scale(0.1 -0.1)\">\r\n       <defs>\r\n        <path d=\"M 52 44.1875 \r\nQ 55.375 50.25 60.0625 53.125 \r\nQ 64.75 56 71.09375 56 \r\nQ 79.640625 56 84.28125 50.015625 \r\nQ 88.921875 44.046875 88.921875 33.015625 \r\nL 88.921875 0 \r\nL 79.890625 0 \r\nL 79.890625 32.71875 \r\nQ 79.890625 40.578125 77.09375 44.375 \r\nQ 74.3125 48.1875 68.609375 48.1875 \r\nQ 61.625 48.1875 57.5625 43.546875 \r\nQ 53.515625 38.921875 53.515625 30.90625 \r\nL 53.515625 0 \r\nL 44.484375 0 \r\nL 44.484375 32.71875 \r\nQ 44.484375 40.625 41.703125 44.40625 \r\nQ 38.921875 48.1875 33.109375 48.1875 \r\nQ 26.21875 48.1875 22.15625 43.53125 \r\nQ 18.109375 38.875 18.109375 30.90625 \r\nL 18.109375 0 \r\nL 9.078125 0 \r\nL 9.078125 54.6875 \r\nL 18.109375 54.6875 \r\nL 18.109375 46.1875 \r\nQ 21.1875 51.21875 25.484375 53.609375 \r\nQ 29.78125 56 35.6875 56 \r\nQ 41.65625 56 45.828125 52.96875 \r\nQ 50 49.953125 52 44.1875 \r\nz\r\n\" id=\"DejaVuSans-109\"/>\r\n        <path d=\"M 56.203125 29.59375 \r\nL 56.203125 25.203125 \r\nL 14.890625 25.203125 \r\nQ 15.484375 15.921875 20.484375 11.0625 \r\nQ 25.484375 6.203125 34.421875 6.203125 \r\nQ 39.59375 6.203125 44.453125 7.46875 \r\nQ 49.3125 8.734375 54.109375 11.28125 \r\nL 54.109375 2.78125 \r\nQ 49.265625 0.734375 44.1875 -0.34375 \r\nQ 39.109375 -1.421875 33.890625 -1.421875 \r\nQ 20.796875 -1.421875 13.15625 6.1875 \r\nQ 5.515625 13.8125 5.515625 26.8125 \r\nQ 5.515625 40.234375 12.765625 48.109375 \r\nQ 20.015625 56 32.328125 56 \r\nQ 43.359375 56 49.78125 48.890625 \r\nQ 56.203125 41.796875 56.203125 29.59375 \r\nz\r\nM 47.21875 32.234375 \r\nQ 47.125 39.59375 43.09375 43.984375 \r\nQ 39.0625 48.390625 32.421875 48.390625 \r\nQ 24.90625 48.390625 20.390625 44.140625 \r\nQ 15.875 39.890625 15.1875 32.171875 \r\nz\r\n\" id=\"DejaVuSans-101\"/>\r\n        <path d=\"M 54.890625 54.6875 \r\nL 35.109375 28.078125 \r\nL 55.90625 0 \r\nL 45.3125 0 \r\nL 29.390625 21.484375 \r\nL 13.484375 0 \r\nL 2.875 0 \r\nL 24.125 28.609375 \r\nL 4.6875 54.6875 \r\nL 15.28125 54.6875 \r\nL 29.78125 35.203125 \r\nL 44.28125 54.6875 \r\nz\r\n\" id=\"DejaVuSans-120\"/>\r\n        <path d=\"M 48.78125 52.59375 \r\nL 48.78125 44.1875 \r\nQ 44.96875 46.296875 41.140625 47.34375 \r\nQ 37.3125 48.390625 33.40625 48.390625 \r\nQ 24.65625 48.390625 19.8125 42.84375 \r\nQ 14.984375 37.3125 14.984375 27.296875 \r\nQ 14.984375 17.28125 19.8125 11.734375 \r\nQ 24.65625 6.203125 33.40625 6.203125 \r\nQ 37.3125 6.203125 41.140625 7.25 \r\nQ 44.96875 8.296875 48.78125 10.40625 \r\nL 48.78125 2.09375 \r\nQ 45.015625 0.34375 40.984375 -0.53125 \r\nQ 36.96875 -1.421875 32.421875 -1.421875 \r\nQ 20.0625 -1.421875 12.78125 6.34375 \r\nQ 5.515625 14.109375 5.515625 27.296875 \r\nQ 5.515625 40.671875 12.859375 48.328125 \r\nQ 20.21875 56 33.015625 56 \r\nQ 37.15625 56 41.109375 55.140625 \r\nQ 45.0625 54.296875 48.78125 52.59375 \r\nz\r\n\" id=\"DejaVuSans-99\"/>\r\n       </defs>\r\n       <use xlink:href=\"#DejaVuSans-109\"/>\r\n       <use x=\"97.412109\" xlink:href=\"#DejaVuSans-101\"/>\r\n       <use x=\"157.185547\" xlink:href=\"#DejaVuSans-120\"/>\r\n       <use x=\"216.365234\" xlink:href=\"#DejaVuSans-105\"/>\r\n       <use x=\"244.148438\" xlink:href=\"#DejaVuSans-99\"/>\r\n       <use x=\"299.128906\" xlink:href=\"#DejaVuSans-97\"/>\r\n       <use x=\"360.408203\" xlink:href=\"#DejaVuSans-110\"/>\r\n      </g>\r\n     </g>\r\n    </g>\r\n    <g id=\"xtick_3\">\r\n     <g id=\"line2d_3\">\r\n      <g>\r\n       <use style=\"stroke:#000000;stroke-width:0.8;\" x=\"100.017188\" xlink:href=\"#m117f7f9079\" y=\"245.836875\"/>\r\n      </g>\r\n     </g>\r\n     <g id=\"text_3\">\r\n      <!-- southern_us -->\r\n      <g transform=\"translate(102.6375 313.73375)rotate(-90)scale(0.1 -0.1)\">\r\n       <defs>\r\n        <path d=\"M 44.28125 53.078125 \r\nL 44.28125 44.578125 \r\nQ 40.484375 46.53125 36.375 47.5 \r\nQ 32.28125 48.484375 27.875 48.484375 \r\nQ 21.1875 48.484375 17.84375 46.4375 \r\nQ 14.5 44.390625 14.5 40.28125 \r\nQ 14.5 37.15625 16.890625 35.375 \r\nQ 19.28125 33.59375 26.515625 31.984375 \r\nL 29.59375 31.296875 \r\nQ 39.15625 29.25 43.1875 25.515625 \r\nQ 47.21875 21.78125 47.21875 15.09375 \r\nQ 47.21875 7.46875 41.1875 3.015625 \r\nQ 35.15625 -1.421875 24.609375 -1.421875 \r\nQ 20.21875 -1.421875 15.453125 -0.5625 \r\nQ 10.6875 0.296875 5.421875 2 \r\nL 5.421875 11.28125 \r\nQ 10.40625 8.6875 15.234375 7.390625 \r\nQ 20.0625 6.109375 24.8125 6.109375 \r\nQ 31.15625 6.109375 34.5625 8.28125 \r\nQ 37.984375 10.453125 37.984375 14.40625 \r\nQ 37.984375 18.0625 35.515625 20.015625 \r\nQ 33.0625 21.96875 24.703125 23.78125 \r\nL 21.578125 24.515625 \r\nQ 13.234375 26.265625 9.515625 29.90625 \r\nQ 5.8125 33.546875 5.8125 39.890625 \r\nQ 5.8125 47.609375 11.28125 51.796875 \r\nQ 16.75 56 26.8125 56 \r\nQ 31.78125 56 36.171875 55.265625 \r\nQ 40.578125 54.546875 44.28125 53.078125 \r\nz\r\n\" id=\"DejaVuSans-115\"/>\r\n        <path d=\"M 30.609375 48.390625 \r\nQ 23.390625 48.390625 19.1875 42.75 \r\nQ 14.984375 37.109375 14.984375 27.296875 \r\nQ 14.984375 17.484375 19.15625 11.84375 \r\nQ 23.34375 6.203125 30.609375 6.203125 \r\nQ 37.796875 6.203125 41.984375 11.859375 \r\nQ 46.1875 17.53125 46.1875 27.296875 \r\nQ 46.1875 37.015625 41.984375 42.703125 \r\nQ 37.796875 48.390625 30.609375 48.390625 \r\nz\r\nM 30.609375 56 \r\nQ 42.328125 56 49.015625 48.375 \r\nQ 55.71875 40.765625 55.71875 27.296875 \r\nQ 55.71875 13.875 49.015625 6.21875 \r\nQ 42.328125 -1.421875 30.609375 -1.421875 \r\nQ 18.84375 -1.421875 12.171875 6.21875 \r\nQ 5.515625 13.875 5.515625 27.296875 \r\nQ 5.515625 40.765625 12.171875 48.375 \r\nQ 18.84375 56 30.609375 56 \r\nz\r\n\" id=\"DejaVuSans-111\"/>\r\n        <path d=\"M 8.5 21.578125 \r\nL 8.5 54.6875 \r\nL 17.484375 54.6875 \r\nL 17.484375 21.921875 \r\nQ 17.484375 14.15625 20.5 10.265625 \r\nQ 23.53125 6.390625 29.59375 6.390625 \r\nQ 36.859375 6.390625 41.078125 11.03125 \r\nQ 45.3125 15.671875 45.3125 23.6875 \r\nL 45.3125 54.6875 \r\nL 54.296875 54.6875 \r\nL 54.296875 0 \r\nL 45.3125 0 \r\nL 45.3125 8.40625 \r\nQ 42.046875 3.421875 37.71875 1 \r\nQ 33.40625 -1.421875 27.6875 -1.421875 \r\nQ 18.265625 -1.421875 13.375 4.4375 \r\nQ 8.5 10.296875 8.5 21.578125 \r\nz\r\nM 31.109375 56 \r\nz\r\n\" id=\"DejaVuSans-117\"/>\r\n        <path d=\"M 54.890625 33.015625 \r\nL 54.890625 0 \r\nL 45.90625 0 \r\nL 45.90625 32.71875 \r\nQ 45.90625 40.484375 42.875 44.328125 \r\nQ 39.84375 48.1875 33.796875 48.1875 \r\nQ 26.515625 48.1875 22.3125 43.546875 \r\nQ 18.109375 38.921875 18.109375 30.90625 \r\nL 18.109375 0 \r\nL 9.078125 0 \r\nL 9.078125 75.984375 \r\nL 18.109375 75.984375 \r\nL 18.109375 46.1875 \r\nQ 21.34375 51.125 25.703125 53.5625 \r\nQ 30.078125 56 35.796875 56 \r\nQ 45.21875 56 50.046875 50.171875 \r\nQ 54.890625 44.34375 54.890625 33.015625 \r\nz\r\n\" id=\"DejaVuSans-104\"/>\r\n        <path d=\"M 41.109375 46.296875 \r\nQ 39.59375 47.171875 37.8125 47.578125 \r\nQ 36.03125 48 33.890625 48 \r\nQ 26.265625 48 22.1875 43.046875 \r\nQ 18.109375 38.09375 18.109375 28.8125 \r\nL 18.109375 0 \r\nL 9.078125 0 \r\nL 9.078125 54.6875 \r\nL 18.109375 54.6875 \r\nL 18.109375 46.1875 \r\nQ 20.953125 51.171875 25.484375 53.578125 \r\nQ 30.03125 56 36.53125 56 \r\nQ 37.453125 56 38.578125 55.875 \r\nQ 39.703125 55.765625 41.0625 55.515625 \r\nz\r\n\" id=\"DejaVuSans-114\"/>\r\n        <path d=\"M 50.984375 -16.609375 \r\nL 50.984375 -23.578125 \r\nL -0.984375 -23.578125 \r\nL -0.984375 -16.609375 \r\nz\r\n\" id=\"DejaVuSans-95\"/>\r\n       </defs>\r\n       <use xlink:href=\"#DejaVuSans-115\"/>\r\n       <use x=\"52.099609\" xlink:href=\"#DejaVuSans-111\"/>\r\n       <use x=\"113.28125\" xlink:href=\"#DejaVuSans-117\"/>\r\n       <use x=\"176.660156\" xlink:href=\"#DejaVuSans-116\"/>\r\n       <use x=\"215.869141\" xlink:href=\"#DejaVuSans-104\"/>\r\n       <use x=\"279.248047\" xlink:href=\"#DejaVuSans-101\"/>\r\n       <use x=\"340.771484\" xlink:href=\"#DejaVuSans-114\"/>\r\n       <use x=\"380.134766\" xlink:href=\"#DejaVuSans-110\"/>\r\n       <use x=\"443.513672\" xlink:href=\"#DejaVuSans-95\"/>\r\n       <use x=\"493.513672\" xlink:href=\"#DejaVuSans-117\"/>\r\n       <use x=\"556.892578\" xlink:href=\"#DejaVuSans-115\"/>\r\n      </g>\r\n     </g>\r\n    </g>\r\n    <g id=\"xtick_4\">\r\n     <g id=\"line2d_4\">\r\n      <g>\r\n       <use style=\"stroke:#000000;stroke-width:0.8;\" x=\"116.757188\" xlink:href=\"#m117f7f9079\" y=\"245.836875\"/>\r\n      </g>\r\n     </g>\r\n     <g id=\"text_4\">\r\n      <!-- indian -->\r\n      <g transform=\"translate(119.516563 283.544687)rotate(-90)scale(0.1 -0.1)\">\r\n       <defs>\r\n        <path d=\"M 45.40625 46.390625 \r\nL 45.40625 75.984375 \r\nL 54.390625 75.984375 \r\nL 54.390625 0 \r\nL 45.40625 0 \r\nL 45.40625 8.203125 \r\nQ 42.578125 3.328125 38.25 0.953125 \r\nQ 33.9375 -1.421875 27.875 -1.421875 \r\nQ 17.96875 -1.421875 11.734375 6.484375 \r\nQ 5.515625 14.40625 5.515625 27.296875 \r\nQ 5.515625 40.1875 11.734375 48.09375 \r\nQ 17.96875 56 27.875 56 \r\nQ 33.9375 56 38.25 53.625 \r\nQ 42.578125 51.265625 45.40625 46.390625 \r\nz\r\nM 14.796875 27.296875 \r\nQ 14.796875 17.390625 18.875 11.75 \r\nQ 22.953125 6.109375 30.078125 6.109375 \r\nQ 37.203125 6.109375 41.296875 11.75 \r\nQ 45.40625 17.390625 45.40625 27.296875 \r\nQ 45.40625 37.203125 41.296875 42.84375 \r\nQ 37.203125 48.484375 30.078125 48.484375 \r\nQ 22.953125 48.484375 18.875 42.84375 \r\nQ 14.796875 37.203125 14.796875 27.296875 \r\nz\r\n\" id=\"DejaVuSans-100\"/>\r\n       </defs>\r\n       <use xlink:href=\"#DejaVuSans-105\"/>\r\n       <use x=\"27.783203\" xlink:href=\"#DejaVuSans-110\"/>\r\n       <use x=\"91.162109\" xlink:href=\"#DejaVuSans-100\"/>\r\n       <use x=\"154.638672\" xlink:href=\"#DejaVuSans-105\"/>\r\n       <use x=\"182.421875\" xlink:href=\"#DejaVuSans-97\"/>\r\n       <use x=\"243.701172\" xlink:href=\"#DejaVuSans-110\"/>\r\n      </g>\r\n     </g>\r\n    </g>\r\n    <g id=\"xtick_5\">\r\n     <g id=\"line2d_5\">\r\n      <g>\r\n       <use style=\"stroke:#000000;stroke-width:0.8;\" x=\"133.497187\" xlink:href=\"#m117f7f9079\" y=\"245.836875\"/>\r\n      </g>\r\n     </g>\r\n     <g id=\"text_5\">\r\n      <!-- chinese -->\r\n      <g transform=\"translate(136.256563 291.304062)rotate(-90)scale(0.1 -0.1)\">\r\n       <use xlink:href=\"#DejaVuSans-99\"/>\r\n       <use x=\"54.980469\" xlink:href=\"#DejaVuSans-104\"/>\r\n       <use x=\"118.359375\" xlink:href=\"#DejaVuSans-105\"/>\r\n       <use x=\"146.142578\" xlink:href=\"#DejaVuSans-110\"/>\r\n       <use x=\"209.521484\" xlink:href=\"#DejaVuSans-101\"/>\r\n       <use x=\"271.044922\" xlink:href=\"#DejaVuSans-115\"/>\r\n       <use x=\"323.144531\" xlink:href=\"#DejaVuSans-101\"/>\r\n      </g>\r\n     </g>\r\n    </g>\r\n    <g id=\"xtick_6\">\r\n     <g id=\"line2d_6\">\r\n      <g>\r\n       <use style=\"stroke:#000000;stroke-width:0.8;\" x=\"150.237188\" xlink:href=\"#m117f7f9079\" y=\"245.836875\"/>\r\n      </g>\r\n     </g>\r\n     <g id=\"text_6\">\r\n      <!-- french -->\r\n      <g transform=\"translate(152.996563 284.569687)rotate(-90)scale(0.1 -0.1)\">\r\n       <defs>\r\n        <path d=\"M 37.109375 75.984375 \r\nL 37.109375 68.5 \r\nL 28.515625 68.5 \r\nQ 23.6875 68.5 21.796875 66.546875 \r\nQ 19.921875 64.59375 19.921875 59.515625 \r\nL 19.921875 54.6875 \r\nL 34.71875 54.6875 \r\nL 34.71875 47.703125 \r\nL 19.921875 47.703125 \r\nL 19.921875 0 \r\nL 10.890625 0 \r\nL 10.890625 47.703125 \r\nL 2.296875 47.703125 \r\nL 2.296875 54.6875 \r\nL 10.890625 54.6875 \r\nL 10.890625 58.5 \r\nQ 10.890625 67.625 15.140625 71.796875 \r\nQ 19.390625 75.984375 28.609375 75.984375 \r\nz\r\n\" id=\"DejaVuSans-102\"/>\r\n       </defs>\r\n       <use xlink:href=\"#DejaVuSans-102\"/>\r\n       <use x=\"35.205078\" xlink:href=\"#DejaVuSans-114\"/>\r\n       <use x=\"74.068359\" xlink:href=\"#DejaVuSans-101\"/>\r\n       <use x=\"135.591797\" xlink:href=\"#DejaVuSans-110\"/>\r\n       <use x=\"198.970703\" xlink:href=\"#DejaVuSans-99\"/>\r\n       <use x=\"253.951172\" xlink:href=\"#DejaVuSans-104\"/>\r\n      </g>\r\n     </g>\r\n    </g>\r\n    <g id=\"xtick_7\">\r\n     <g id=\"line2d_7\">\r\n      <g>\r\n       <use style=\"stroke:#000000;stroke-width:0.8;\" x=\"166.977188\" xlink:href=\"#m117f7f9079\" y=\"245.836875\"/>\r\n      </g>\r\n     </g>\r\n     <g id=\"text_7\">\r\n      <!-- cajun_creole -->\r\n      <g transform=\"translate(169.5975 315.504062)rotate(-90)scale(0.1 -0.1)\">\r\n       <defs>\r\n        <path d=\"M 9.421875 54.6875 \r\nL 18.40625 54.6875 \r\nL 18.40625 -0.984375 \r\nQ 18.40625 -11.421875 14.421875 -16.109375 \r\nQ 10.453125 -20.796875 1.609375 -20.796875 \r\nL -1.8125 -20.796875 \r\nL -1.8125 -13.1875 \r\nL 0.59375 -13.1875 \r\nQ 5.71875 -13.1875 7.5625 -10.8125 \r\nQ 9.421875 -8.453125 9.421875 -0.984375 \r\nz\r\nM 9.421875 75.984375 \r\nL 18.40625 75.984375 \r\nL 18.40625 64.59375 \r\nL 9.421875 64.59375 \r\nz\r\n\" id=\"DejaVuSans-106\"/>\r\n       </defs>\r\n       <use xlink:href=\"#DejaVuSans-99\"/>\r\n       <use x=\"54.980469\" xlink:href=\"#DejaVuSans-97\"/>\r\n       <use x=\"116.259766\" xlink:href=\"#DejaVuSans-106\"/>\r\n       <use x=\"144.042969\" xlink:href=\"#DejaVuSans-117\"/>\r\n       <use x=\"207.421875\" xlink:href=\"#DejaVuSans-110\"/>\r\n       <use x=\"270.800781\" xlink:href=\"#DejaVuSans-95\"/>\r\n       <use x=\"320.800781\" xlink:href=\"#DejaVuSans-99\"/>\r\n       <use x=\"375.78125\" xlink:href=\"#DejaVuSans-114\"/>\r\n       <use x=\"414.644531\" xlink:href=\"#DejaVuSans-101\"/>\r\n       <use x=\"476.167969\" xlink:href=\"#DejaVuSans-111\"/>\r\n       <use x=\"537.349609\" xlink:href=\"#DejaVuSans-108\"/>\r\n       <use x=\"565.132812\" xlink:href=\"#DejaVuSans-101\"/>\r\n      </g>\r\n     </g>\r\n    </g>\r\n    <g id=\"xtick_8\">\r\n     <g id=\"line2d_8\">\r\n      <g>\r\n       <use style=\"stroke:#000000;stroke-width:0.8;\" x=\"183.717188\" xlink:href=\"#m117f7f9079\" y=\"245.836875\"/>\r\n      </g>\r\n     </g>\r\n     <g id=\"text_8\">\r\n      <!-- thai -->\r\n      <g transform=\"translate(186.476563 272.000937)rotate(-90)scale(0.1 -0.1)\">\r\n       <use xlink:href=\"#DejaVuSans-116\"/>\r\n       <use x=\"39.208984\" xlink:href=\"#DejaVuSans-104\"/>\r\n       <use x=\"102.587891\" xlink:href=\"#DejaVuSans-97\"/>\r\n       <use x=\"163.867188\" xlink:href=\"#DejaVuSans-105\"/>\r\n      </g>\r\n     </g>\r\n    </g>\r\n    <g id=\"xtick_9\">\r\n     <g id=\"line2d_9\">\r\n      <g>\r\n       <use style=\"stroke:#000000;stroke-width:0.8;\" x=\"200.457188\" xlink:href=\"#m117f7f9079\" y=\"245.836875\"/>\r\n      </g>\r\n     </g>\r\n     <g id=\"text_9\">\r\n      <!-- japanese -->\r\n      <g transform=\"translate(203.216563 298.072812)rotate(-90)scale(0.1 -0.1)\">\r\n       <defs>\r\n        <path d=\"M 18.109375 8.203125 \r\nL 18.109375 -20.796875 \r\nL 9.078125 -20.796875 \r\nL 9.078125 54.6875 \r\nL 18.109375 54.6875 \r\nL 18.109375 46.390625 \r\nQ 20.953125 51.265625 25.265625 53.625 \r\nQ 29.59375 56 35.59375 56 \r\nQ 45.5625 56 51.78125 48.09375 \r\nQ 58.015625 40.1875 58.015625 27.296875 \r\nQ 58.015625 14.40625 51.78125 6.484375 \r\nQ 45.5625 -1.421875 35.59375 -1.421875 \r\nQ 29.59375 -1.421875 25.265625 0.953125 \r\nQ 20.953125 3.328125 18.109375 8.203125 \r\nz\r\nM 48.6875 27.296875 \r\nQ 48.6875 37.203125 44.609375 42.84375 \r\nQ 40.53125 48.484375 33.40625 48.484375 \r\nQ 26.265625 48.484375 22.1875 42.84375 \r\nQ 18.109375 37.203125 18.109375 27.296875 \r\nQ 18.109375 17.390625 22.1875 11.75 \r\nQ 26.265625 6.109375 33.40625 6.109375 \r\nQ 40.53125 6.109375 44.609375 11.75 \r\nQ 48.6875 17.390625 48.6875 27.296875 \r\nz\r\n\" id=\"DejaVuSans-112\"/>\r\n       </defs>\r\n       <use xlink:href=\"#DejaVuSans-106\"/>\r\n       <use x=\"27.783203\" xlink:href=\"#DejaVuSans-97\"/>\r\n       <use x=\"89.0625\" xlink:href=\"#DejaVuSans-112\"/>\r\n       <use x=\"152.539062\" xlink:href=\"#DejaVuSans-97\"/>\r\n       <use x=\"213.818359\" xlink:href=\"#DejaVuSans-110\"/>\r\n       <use x=\"277.197266\" xlink:href=\"#DejaVuSans-101\"/>\r\n       <use x=\"338.720703\" xlink:href=\"#DejaVuSans-115\"/>\r\n       <use x=\"390.820312\" xlink:href=\"#DejaVuSans-101\"/>\r\n      </g>\r\n     </g>\r\n    </g>\r\n    <g id=\"xtick_10\">\r\n     <g id=\"line2d_10\">\r\n      <g>\r\n       <use style=\"stroke:#000000;stroke-width:0.8;\" x=\"217.197188\" xlink:href=\"#m117f7f9079\" y=\"245.836875\"/>\r\n      </g>\r\n     </g>\r\n     <g id=\"text_10\">\r\n      <!-- greek -->\r\n      <g transform=\"translate(219.956563 281.168125)rotate(-90)scale(0.1 -0.1)\">\r\n       <defs>\r\n        <path d=\"M 45.40625 27.984375 \r\nQ 45.40625 37.75 41.375 43.109375 \r\nQ 37.359375 48.484375 30.078125 48.484375 \r\nQ 22.859375 48.484375 18.828125 43.109375 \r\nQ 14.796875 37.75 14.796875 27.984375 \r\nQ 14.796875 18.265625 18.828125 12.890625 \r\nQ 22.859375 7.515625 30.078125 7.515625 \r\nQ 37.359375 7.515625 41.375 12.890625 \r\nQ 45.40625 18.265625 45.40625 27.984375 \r\nz\r\nM 54.390625 6.78125 \r\nQ 54.390625 -7.171875 48.1875 -13.984375 \r\nQ 42 -20.796875 29.203125 -20.796875 \r\nQ 24.46875 -20.796875 20.265625 -20.09375 \r\nQ 16.0625 -19.390625 12.109375 -17.921875 \r\nL 12.109375 -9.1875 \r\nQ 16.0625 -11.328125 19.921875 -12.34375 \r\nQ 23.78125 -13.375 27.78125 -13.375 \r\nQ 36.625 -13.375 41.015625 -8.765625 \r\nQ 45.40625 -4.15625 45.40625 5.171875 \r\nL 45.40625 9.625 \r\nQ 42.625 4.78125 38.28125 2.390625 \r\nQ 33.9375 0 27.875 0 \r\nQ 17.828125 0 11.671875 7.65625 \r\nQ 5.515625 15.328125 5.515625 27.984375 \r\nQ 5.515625 40.671875 11.671875 48.328125 \r\nQ 17.828125 56 27.875 56 \r\nQ 33.9375 56 38.28125 53.609375 \r\nQ 42.625 51.21875 45.40625 46.390625 \r\nL 45.40625 54.6875 \r\nL 54.390625 54.6875 \r\nz\r\n\" id=\"DejaVuSans-103\"/>\r\n        <path d=\"M 9.078125 75.984375 \r\nL 18.109375 75.984375 \r\nL 18.109375 31.109375 \r\nL 44.921875 54.6875 \r\nL 56.390625 54.6875 \r\nL 27.390625 29.109375 \r\nL 57.625 0 \r\nL 45.90625 0 \r\nL 18.109375 26.703125 \r\nL 18.109375 0 \r\nL 9.078125 0 \r\nz\r\n\" id=\"DejaVuSans-107\"/>\r\n       </defs>\r\n       <use xlink:href=\"#DejaVuSans-103\"/>\r\n       <use x=\"63.476562\" xlink:href=\"#DejaVuSans-114\"/>\r\n       <use x=\"102.339844\" xlink:href=\"#DejaVuSans-101\"/>\r\n       <use x=\"163.863281\" xlink:href=\"#DejaVuSans-101\"/>\r\n       <use x=\"225.386719\" xlink:href=\"#DejaVuSans-107\"/>\r\n      </g>\r\n     </g>\r\n    </g>\r\n    <g id=\"xtick_11\">\r\n     <g id=\"line2d_11\">\r\n      <g>\r\n       <use style=\"stroke:#000000;stroke-width:0.8;\" x=\"233.937188\" xlink:href=\"#m117f7f9079\" y=\"245.836875\"/>\r\n      </g>\r\n     </g>\r\n     <g id=\"text_11\">\r\n      <!-- spanish -->\r\n      <g transform=\"translate(236.696563 291.185312)rotate(-90)scale(0.1 -0.1)\">\r\n       <use xlink:href=\"#DejaVuSans-115\"/>\r\n       <use x=\"52.099609\" xlink:href=\"#DejaVuSans-112\"/>\r\n       <use x=\"115.576172\" xlink:href=\"#DejaVuSans-97\"/>\r\n       <use x=\"176.855469\" xlink:href=\"#DejaVuSans-110\"/>\r\n       <use x=\"240.234375\" xlink:href=\"#DejaVuSans-105\"/>\r\n       <use x=\"268.017578\" xlink:href=\"#DejaVuSans-115\"/>\r\n       <use x=\"320.117188\" xlink:href=\"#DejaVuSans-104\"/>\r\n      </g>\r\n     </g>\r\n    </g>\r\n    <g id=\"xtick_12\">\r\n     <g id=\"line2d_12\">\r\n      <g>\r\n       <use style=\"stroke:#000000;stroke-width:0.8;\" x=\"250.677188\" xlink:href=\"#m117f7f9079\" y=\"245.836875\"/>\r\n      </g>\r\n     </g>\r\n     <g id=\"text_12\">\r\n      <!-- korean -->\r\n      <g transform=\"translate(253.436563 286.888437)rotate(-90)scale(0.1 -0.1)\">\r\n       <use xlink:href=\"#DejaVuSans-107\"/>\r\n       <use x=\"54.285156\" xlink:href=\"#DejaVuSans-111\"/>\r\n       <use x=\"115.466797\" xlink:href=\"#DejaVuSans-114\"/>\r\n       <use x=\"154.330078\" xlink:href=\"#DejaVuSans-101\"/>\r\n       <use x=\"215.853516\" xlink:href=\"#DejaVuSans-97\"/>\r\n       <use x=\"277.132812\" xlink:href=\"#DejaVuSans-110\"/>\r\n      </g>\r\n     </g>\r\n    </g>\r\n    <g id=\"xtick_13\">\r\n     <g id=\"line2d_13\">\r\n      <g>\r\n       <use style=\"stroke:#000000;stroke-width:0.8;\" x=\"267.417188\" xlink:href=\"#m117f7f9079\" y=\"245.836875\"/>\r\n      </g>\r\n     </g>\r\n     <g id=\"text_13\">\r\n      <!-- vietnamese -->\r\n      <g transform=\"translate(270.176562 311.329062)rotate(-90)scale(0.1 -0.1)\">\r\n       <defs>\r\n        <path d=\"M 2.984375 54.6875 \r\nL 12.5 54.6875 \r\nL 29.59375 8.796875 \r\nL 46.6875 54.6875 \r\nL 56.203125 54.6875 \r\nL 35.6875 0 \r\nL 23.484375 0 \r\nz\r\n\" id=\"DejaVuSans-118\"/>\r\n       </defs>\r\n       <use xlink:href=\"#DejaVuSans-118\"/>\r\n       <use x=\"59.179688\" xlink:href=\"#DejaVuSans-105\"/>\r\n       <use x=\"86.962891\" xlink:href=\"#DejaVuSans-101\"/>\r\n       <use x=\"148.486328\" xlink:href=\"#DejaVuSans-116\"/>\r\n       <use x=\"187.695312\" xlink:href=\"#DejaVuSans-110\"/>\r\n       <use x=\"251.074219\" xlink:href=\"#DejaVuSans-97\"/>\r\n       <use x=\"312.353516\" xlink:href=\"#DejaVuSans-109\"/>\r\n       <use x=\"409.765625\" xlink:href=\"#DejaVuSans-101\"/>\r\n       <use x=\"471.289062\" xlink:href=\"#DejaVuSans-115\"/>\r\n       <use x=\"523.388672\" xlink:href=\"#DejaVuSans-101\"/>\r\n      </g>\r\n     </g>\r\n    </g>\r\n    <g id=\"xtick_14\">\r\n     <g id=\"line2d_14\">\r\n      <g>\r\n       <use style=\"stroke:#000000;stroke-width:0.8;\" x=\"284.157188\" xlink:href=\"#m117f7f9079\" y=\"245.836875\"/>\r\n      </g>\r\n     </g>\r\n     <g id=\"text_14\">\r\n      <!-- moroccan -->\r\n      <g transform=\"translate(286.916562 302.163437)rotate(-90)scale(0.1 -0.1)\">\r\n       <use xlink:href=\"#DejaVuSans-109\"/>\r\n       <use x=\"97.412109\" xlink:href=\"#DejaVuSans-111\"/>\r\n       <use x=\"158.59375\" xlink:href=\"#DejaVuSans-114\"/>\r\n       <use x=\"197.457031\" xlink:href=\"#DejaVuSans-111\"/>\r\n       <use x=\"258.638672\" xlink:href=\"#DejaVuSans-99\"/>\r\n       <use x=\"313.619141\" xlink:href=\"#DejaVuSans-99\"/>\r\n       <use x=\"368.599609\" xlink:href=\"#DejaVuSans-97\"/>\r\n       <use x=\"429.878906\" xlink:href=\"#DejaVuSans-110\"/>\r\n      </g>\r\n     </g>\r\n    </g>\r\n    <g id=\"xtick_15\">\r\n     <g id=\"line2d_15\">\r\n      <g>\r\n       <use style=\"stroke:#000000;stroke-width:0.8;\" x=\"300.897188\" xlink:href=\"#m117f7f9079\" y=\"245.836875\"/>\r\n      </g>\r\n     </g>\r\n     <g id=\"text_15\">\r\n      <!-- british -->\r\n      <g transform=\"translate(303.656563 284.319687)rotate(-90)scale(0.1 -0.1)\">\r\n       <defs>\r\n        <path d=\"M 48.6875 27.296875 \r\nQ 48.6875 37.203125 44.609375 42.84375 \r\nQ 40.53125 48.484375 33.40625 48.484375 \r\nQ 26.265625 48.484375 22.1875 42.84375 \r\nQ 18.109375 37.203125 18.109375 27.296875 \r\nQ 18.109375 17.390625 22.1875 11.75 \r\nQ 26.265625 6.109375 33.40625 6.109375 \r\nQ 40.53125 6.109375 44.609375 11.75 \r\nQ 48.6875 17.390625 48.6875 27.296875 \r\nz\r\nM 18.109375 46.390625 \r\nQ 20.953125 51.265625 25.265625 53.625 \r\nQ 29.59375 56 35.59375 56 \r\nQ 45.5625 56 51.78125 48.09375 \r\nQ 58.015625 40.1875 58.015625 27.296875 \r\nQ 58.015625 14.40625 51.78125 6.484375 \r\nQ 45.5625 -1.421875 35.59375 -1.421875 \r\nQ 29.59375 -1.421875 25.265625 0.953125 \r\nQ 20.953125 3.328125 18.109375 8.203125 \r\nL 18.109375 0 \r\nL 9.078125 0 \r\nL 9.078125 75.984375 \r\nL 18.109375 75.984375 \r\nz\r\n\" id=\"DejaVuSans-98\"/>\r\n       </defs>\r\n       <use xlink:href=\"#DejaVuSans-98\"/>\r\n       <use x=\"63.476562\" xlink:href=\"#DejaVuSans-114\"/>\r\n       <use x=\"104.589844\" xlink:href=\"#DejaVuSans-105\"/>\r\n       <use x=\"132.373047\" xlink:href=\"#DejaVuSans-116\"/>\r\n       <use x=\"171.582031\" xlink:href=\"#DejaVuSans-105\"/>\r\n       <use x=\"199.365234\" xlink:href=\"#DejaVuSans-115\"/>\r\n       <use x=\"251.464844\" xlink:href=\"#DejaVuSans-104\"/>\r\n      </g>\r\n     </g>\r\n    </g>\r\n    <g id=\"xtick_16\">\r\n     <g id=\"line2d_16\">\r\n      <g>\r\n       <use style=\"stroke:#000000;stroke-width:0.8;\" x=\"317.637188\" xlink:href=\"#m117f7f9079\" y=\"245.836875\"/>\r\n      </g>\r\n     </g>\r\n     <g id=\"text_16\">\r\n      <!-- filipino -->\r\n      <g transform=\"translate(320.396563 286.274375)rotate(-90)scale(0.1 -0.1)\">\r\n       <use xlink:href=\"#DejaVuSans-102\"/>\r\n       <use x=\"35.205078\" xlink:href=\"#DejaVuSans-105\"/>\r\n       <use x=\"62.988281\" xlink:href=\"#DejaVuSans-108\"/>\r\n       <use x=\"90.771484\" xlink:href=\"#DejaVuSans-105\"/>\r\n       <use x=\"118.554688\" xlink:href=\"#DejaVuSans-112\"/>\r\n       <use x=\"182.03125\" xlink:href=\"#DejaVuSans-105\"/>\r\n       <use x=\"209.814453\" xlink:href=\"#DejaVuSans-110\"/>\r\n       <use x=\"273.193359\" xlink:href=\"#DejaVuSans-111\"/>\r\n      </g>\r\n     </g>\r\n    </g>\r\n    <g id=\"xtick_17\">\r\n     <g id=\"line2d_17\">\r\n      <g>\r\n       <use style=\"stroke:#000000;stroke-width:0.8;\" x=\"334.377188\" xlink:href=\"#m117f7f9079\" y=\"245.836875\"/>\r\n      </g>\r\n     </g>\r\n     <g id=\"text_17\">\r\n      <!-- irish -->\r\n      <g transform=\"translate(337.136563 274.050937)rotate(-90)scale(0.1 -0.1)\">\r\n       <use xlink:href=\"#DejaVuSans-105\"/>\r\n       <use x=\"27.783203\" xlink:href=\"#DejaVuSans-114\"/>\r\n       <use x=\"68.896484\" xlink:href=\"#DejaVuSans-105\"/>\r\n       <use x=\"96.679688\" xlink:href=\"#DejaVuSans-115\"/>\r\n       <use x=\"148.779297\" xlink:href=\"#DejaVuSans-104\"/>\r\n      </g>\r\n     </g>\r\n    </g>\r\n    <g id=\"xtick_18\">\r\n     <g id=\"line2d_18\">\r\n      <g>\r\n       <use style=\"stroke:#000000;stroke-width:0.8;\" x=\"351.117188\" xlink:href=\"#m117f7f9079\" y=\"245.836875\"/>\r\n      </g>\r\n     </g>\r\n     <g id=\"text_18\">\r\n      <!-- jamaican -->\r\n      <g transform=\"translate(353.876563 298.354062)rotate(-90)scale(0.1 -0.1)\">\r\n       <use xlink:href=\"#DejaVuSans-106\"/>\r\n       <use x=\"27.783203\" xlink:href=\"#DejaVuSans-97\"/>\r\n       <use x=\"89.0625\" xlink:href=\"#DejaVuSans-109\"/>\r\n       <use x=\"186.474609\" xlink:href=\"#DejaVuSans-97\"/>\r\n       <use x=\"247.753906\" xlink:href=\"#DejaVuSans-105\"/>\r\n       <use x=\"275.537109\" xlink:href=\"#DejaVuSans-99\"/>\r\n       <use x=\"330.517578\" xlink:href=\"#DejaVuSans-97\"/>\r\n       <use x=\"391.796875\" xlink:href=\"#DejaVuSans-110\"/>\r\n      </g>\r\n     </g>\r\n    </g>\r\n    <g id=\"xtick_19\">\r\n     <g id=\"line2d_19\">\r\n      <g>\r\n       <use style=\"stroke:#000000;stroke-width:0.8;\" x=\"367.857188\" xlink:href=\"#m117f7f9079\" y=\"245.836875\"/>\r\n      </g>\r\n     </g>\r\n     <g id=\"text_19\">\r\n      <!-- russian -->\r\n      <g transform=\"translate(370.616563 288.947812)rotate(-90)scale(0.1 -0.1)\">\r\n       <use xlink:href=\"#DejaVuSans-114\"/>\r\n       <use x=\"41.113281\" xlink:href=\"#DejaVuSans-117\"/>\r\n       <use x=\"104.492188\" xlink:href=\"#DejaVuSans-115\"/>\r\n       <use x=\"156.591797\" xlink:href=\"#DejaVuSans-115\"/>\r\n       <use x=\"208.691406\" xlink:href=\"#DejaVuSans-105\"/>\r\n       <use x=\"236.474609\" xlink:href=\"#DejaVuSans-97\"/>\r\n       <use x=\"297.753906\" xlink:href=\"#DejaVuSans-110\"/>\r\n      </g>\r\n     </g>\r\n    </g>\r\n    <g id=\"xtick_20\">\r\n     <g id=\"line2d_20\">\r\n      <g>\r\n       <use style=\"stroke:#000000;stroke-width:0.8;\" x=\"384.597188\" xlink:href=\"#m117f7f9079\" y=\"245.836875\"/>\r\n      </g>\r\n     </g>\r\n     <g id=\"text_20\">\r\n      <!-- brazilian -->\r\n      <g transform=\"translate(387.356563 295.472812)rotate(-90)scale(0.1 -0.1)\">\r\n       <defs>\r\n        <path d=\"M 5.515625 54.6875 \r\nL 48.1875 54.6875 \r\nL 48.1875 46.484375 \r\nL 14.40625 7.171875 \r\nL 48.1875 7.171875 \r\nL 48.1875 0 \r\nL 4.296875 0 \r\nL 4.296875 8.203125 \r\nL 38.09375 47.515625 \r\nL 5.515625 47.515625 \r\nz\r\n\" id=\"DejaVuSans-122\"/>\r\n       </defs>\r\n       <use xlink:href=\"#DejaVuSans-98\"/>\r\n       <use x=\"63.476562\" xlink:href=\"#DejaVuSans-114\"/>\r\n       <use x=\"104.589844\" xlink:href=\"#DejaVuSans-97\"/>\r\n       <use x=\"165.869141\" xlink:href=\"#DejaVuSans-122\"/>\r\n       <use x=\"218.359375\" xlink:href=\"#DejaVuSans-105\"/>\r\n       <use x=\"246.142578\" xlink:href=\"#DejaVuSans-108\"/>\r\n       <use x=\"273.925781\" xlink:href=\"#DejaVuSans-105\"/>\r\n       <use x=\"301.708984\" xlink:href=\"#DejaVuSans-97\"/>\r\n       <use x=\"362.988281\" xlink:href=\"#DejaVuSans-110\"/>\r\n      </g>\r\n     </g>\r\n    </g>\r\n    <g id=\"text_21\">\r\n     <!-- Ingredient -->\r\n     <g transform=\"translate(187.157813 330.901719)scale(0.15 -0.15)\">\r\n      <defs>\r\n       <path d=\"M 9.8125 72.90625 \r\nL 19.671875 72.90625 \r\nL 19.671875 0 \r\nL 9.8125 0 \r\nz\r\n\" id=\"DejaVuSans-73\"/>\r\n      </defs>\r\n      <use xlink:href=\"#DejaVuSans-73\"/>\r\n      <use x=\"29.492188\" xlink:href=\"#DejaVuSans-110\"/>\r\n      <use x=\"92.871094\" xlink:href=\"#DejaVuSans-103\"/>\r\n      <use x=\"156.347656\" xlink:href=\"#DejaVuSans-114\"/>\r\n      <use x=\"195.210938\" xlink:href=\"#DejaVuSans-101\"/>\r\n      <use x=\"256.734375\" xlink:href=\"#DejaVuSans-100\"/>\r\n      <use x=\"320.210938\" xlink:href=\"#DejaVuSans-105\"/>\r\n      <use x=\"347.994141\" xlink:href=\"#DejaVuSans-101\"/>\r\n      <use x=\"409.517578\" xlink:href=\"#DejaVuSans-110\"/>\r\n      <use x=\"472.896484\" xlink:href=\"#DejaVuSans-116\"/>\r\n     </g>\r\n    </g>\r\n   </g>\r\n   <g id=\"matplotlib.axis_2\">\r\n    <g id=\"ytick_1\">\r\n     <g id=\"line2d_21\">\r\n      <defs>\r\n       <path d=\"M 0 0 \r\nL -3.5 0 \r\n\" id=\"mbc29359172\" style=\"stroke:#000000;stroke-width:0.8;\"/>\r\n      </defs>\r\n      <g>\r\n       <use style=\"stroke:#000000;stroke-width:0.8;\" x=\"58.167188\" xlink:href=\"#mbc29359172\" y=\"245.836875\"/>\r\n      </g>\r\n     </g>\r\n     <g id=\"text_22\">\r\n      <!-- 0 -->\r\n      <g transform=\"translate(44.804688 249.636094)scale(0.1 -0.1)\">\r\n       <defs>\r\n        <path d=\"M 31.78125 66.40625 \r\nQ 24.171875 66.40625 20.328125 58.90625 \r\nQ 16.5 51.421875 16.5 36.375 \r\nQ 16.5 21.390625 20.328125 13.890625 \r\nQ 24.171875 6.390625 31.78125 6.390625 \r\nQ 39.453125 6.390625 43.28125 13.890625 \r\nQ 47.125 21.390625 47.125 36.375 \r\nQ 47.125 51.421875 43.28125 58.90625 \r\nQ 39.453125 66.40625 31.78125 66.40625 \r\nz\r\nM 31.78125 74.21875 \r\nQ 44.046875 74.21875 50.515625 64.515625 \r\nQ 56.984375 54.828125 56.984375 36.375 \r\nQ 56.984375 17.96875 50.515625 8.265625 \r\nQ 44.046875 -1.421875 31.78125 -1.421875 \r\nQ 19.53125 -1.421875 13.0625 8.265625 \r\nQ 6.59375 17.96875 6.59375 36.375 \r\nQ 6.59375 54.828125 13.0625 64.515625 \r\nQ 19.53125 74.21875 31.78125 74.21875 \r\nz\r\n\" id=\"DejaVuSans-48\"/>\r\n       </defs>\r\n       <use xlink:href=\"#DejaVuSans-48\"/>\r\n      </g>\r\n     </g>\r\n    </g>\r\n    <g id=\"ytick_2\">\r\n     <g id=\"line2d_22\">\r\n      <g>\r\n       <use style=\"stroke:#000000;stroke-width:0.8;\" x=\"58.167188\" xlink:href=\"#mbc29359172\" y=\"219.416141\"/>\r\n      </g>\r\n     </g>\r\n     <g id=\"text_23\">\r\n      <!-- 1000 -->\r\n      <g transform=\"translate(25.717188 223.21536)scale(0.1 -0.1)\">\r\n       <defs>\r\n        <path d=\"M 12.40625 8.296875 \r\nL 28.515625 8.296875 \r\nL 28.515625 63.921875 \r\nL 10.984375 60.40625 \r\nL 10.984375 69.390625 \r\nL 28.421875 72.90625 \r\nL 38.28125 72.90625 \r\nL 38.28125 8.296875 \r\nL 54.390625 8.296875 \r\nL 54.390625 0 \r\nL 12.40625 0 \r\nz\r\n\" id=\"DejaVuSans-49\"/>\r\n       </defs>\r\n       <use xlink:href=\"#DejaVuSans-49\"/>\r\n       <use x=\"63.623047\" xlink:href=\"#DejaVuSans-48\"/>\r\n       <use x=\"127.246094\" xlink:href=\"#DejaVuSans-48\"/>\r\n       <use x=\"190.869141\" xlink:href=\"#DejaVuSans-48\"/>\r\n      </g>\r\n     </g>\r\n    </g>\r\n    <g id=\"ytick_3\">\r\n     <g id=\"line2d_23\">\r\n      <g>\r\n       <use style=\"stroke:#000000;stroke-width:0.8;\" x=\"58.167188\" xlink:href=\"#mbc29359172\" y=\"192.995407\"/>\r\n      </g>\r\n     </g>\r\n     <g id=\"text_24\">\r\n      <!-- 2000 -->\r\n      <g transform=\"translate(25.717188 196.794625)scale(0.1 -0.1)\">\r\n       <defs>\r\n        <path d=\"M 19.1875 8.296875 \r\nL 53.609375 8.296875 \r\nL 53.609375 0 \r\nL 7.328125 0 \r\nL 7.328125 8.296875 \r\nQ 12.9375 14.109375 22.625 23.890625 \r\nQ 32.328125 33.6875 34.8125 36.53125 \r\nQ 39.546875 41.84375 41.421875 45.53125 \r\nQ 43.3125 49.21875 43.3125 52.78125 \r\nQ 43.3125 58.59375 39.234375 62.25 \r\nQ 35.15625 65.921875 28.609375 65.921875 \r\nQ 23.96875 65.921875 18.8125 64.3125 \r\nQ 13.671875 62.703125 7.8125 59.421875 \r\nL 7.8125 69.390625 \r\nQ 13.765625 71.78125 18.9375 73 \r\nQ 24.125 74.21875 28.421875 74.21875 \r\nQ 39.75 74.21875 46.484375 68.546875 \r\nQ 53.21875 62.890625 53.21875 53.421875 \r\nQ 53.21875 48.921875 51.53125 44.890625 \r\nQ 49.859375 40.875 45.40625 35.40625 \r\nQ 44.1875 33.984375 37.640625 27.21875 \r\nQ 31.109375 20.453125 19.1875 8.296875 \r\nz\r\n\" id=\"DejaVuSans-50\"/>\r\n       </defs>\r\n       <use xlink:href=\"#DejaVuSans-50\"/>\r\n       <use x=\"63.623047\" xlink:href=\"#DejaVuSans-48\"/>\r\n       <use x=\"127.246094\" xlink:href=\"#DejaVuSans-48\"/>\r\n       <use x=\"190.869141\" xlink:href=\"#DejaVuSans-48\"/>\r\n      </g>\r\n     </g>\r\n    </g>\r\n    <g id=\"ytick_4\">\r\n     <g id=\"line2d_24\">\r\n      <g>\r\n       <use style=\"stroke:#000000;stroke-width:0.8;\" x=\"58.167188\" xlink:href=\"#mbc29359172\" y=\"166.574673\"/>\r\n      </g>\r\n     </g>\r\n     <g id=\"text_25\">\r\n      <!-- 3000 -->\r\n      <g transform=\"translate(25.717188 170.373891)scale(0.1 -0.1)\">\r\n       <defs>\r\n        <path d=\"M 40.578125 39.3125 \r\nQ 47.65625 37.796875 51.625 33 \r\nQ 55.609375 28.21875 55.609375 21.1875 \r\nQ 55.609375 10.40625 48.1875 4.484375 \r\nQ 40.765625 -1.421875 27.09375 -1.421875 \r\nQ 22.515625 -1.421875 17.65625 -0.515625 \r\nQ 12.796875 0.390625 7.625 2.203125 \r\nL 7.625 11.71875 \r\nQ 11.71875 9.328125 16.59375 8.109375 \r\nQ 21.484375 6.890625 26.8125 6.890625 \r\nQ 36.078125 6.890625 40.9375 10.546875 \r\nQ 45.796875 14.203125 45.796875 21.1875 \r\nQ 45.796875 27.640625 41.28125 31.265625 \r\nQ 36.765625 34.90625 28.71875 34.90625 \r\nL 20.21875 34.90625 \r\nL 20.21875 43.015625 \r\nL 29.109375 43.015625 \r\nQ 36.375 43.015625 40.234375 45.921875 \r\nQ 44.09375 48.828125 44.09375 54.296875 \r\nQ 44.09375 59.90625 40.109375 62.90625 \r\nQ 36.140625 65.921875 28.71875 65.921875 \r\nQ 24.65625 65.921875 20.015625 65.03125 \r\nQ 15.375 64.15625 9.8125 62.3125 \r\nL 9.8125 71.09375 \r\nQ 15.4375 72.65625 20.34375 73.4375 \r\nQ 25.25 74.21875 29.59375 74.21875 \r\nQ 40.828125 74.21875 47.359375 69.109375 \r\nQ 53.90625 64.015625 53.90625 55.328125 \r\nQ 53.90625 49.265625 50.4375 45.09375 \r\nQ 46.96875 40.921875 40.578125 39.3125 \r\nz\r\n\" id=\"DejaVuSans-51\"/>\r\n       </defs>\r\n       <use xlink:href=\"#DejaVuSans-51\"/>\r\n       <use x=\"63.623047\" xlink:href=\"#DejaVuSans-48\"/>\r\n       <use x=\"127.246094\" xlink:href=\"#DejaVuSans-48\"/>\r\n       <use x=\"190.869141\" xlink:href=\"#DejaVuSans-48\"/>\r\n      </g>\r\n     </g>\r\n    </g>\r\n    <g id=\"ytick_5\">\r\n     <g id=\"line2d_25\">\r\n      <g>\r\n       <use style=\"stroke:#000000;stroke-width:0.8;\" x=\"58.167188\" xlink:href=\"#mbc29359172\" y=\"140.153938\"/>\r\n      </g>\r\n     </g>\r\n     <g id=\"text_26\">\r\n      <!-- 4000 -->\r\n      <g transform=\"translate(25.717188 143.953157)scale(0.1 -0.1)\">\r\n       <defs>\r\n        <path d=\"M 37.796875 64.3125 \r\nL 12.890625 25.390625 \r\nL 37.796875 25.390625 \r\nz\r\nM 35.203125 72.90625 \r\nL 47.609375 72.90625 \r\nL 47.609375 25.390625 \r\nL 58.015625 25.390625 \r\nL 58.015625 17.1875 \r\nL 47.609375 17.1875 \r\nL 47.609375 0 \r\nL 37.796875 0 \r\nL 37.796875 17.1875 \r\nL 4.890625 17.1875 \r\nL 4.890625 26.703125 \r\nz\r\n\" id=\"DejaVuSans-52\"/>\r\n       </defs>\r\n       <use xlink:href=\"#DejaVuSans-52\"/>\r\n       <use x=\"63.623047\" xlink:href=\"#DejaVuSans-48\"/>\r\n       <use x=\"127.246094\" xlink:href=\"#DejaVuSans-48\"/>\r\n       <use x=\"190.869141\" xlink:href=\"#DejaVuSans-48\"/>\r\n      </g>\r\n     </g>\r\n    </g>\r\n    <g id=\"ytick_6\">\r\n     <g id=\"line2d_26\">\r\n      <g>\r\n       <use style=\"stroke:#000000;stroke-width:0.8;\" x=\"58.167188\" xlink:href=\"#mbc29359172\" y=\"113.733204\"/>\r\n      </g>\r\n     </g>\r\n     <g id=\"text_27\">\r\n      <!-- 5000 -->\r\n      <g transform=\"translate(25.717188 117.532423)scale(0.1 -0.1)\">\r\n       <defs>\r\n        <path d=\"M 10.796875 72.90625 \r\nL 49.515625 72.90625 \r\nL 49.515625 64.59375 \r\nL 19.828125 64.59375 \r\nL 19.828125 46.734375 \r\nQ 21.96875 47.46875 24.109375 47.828125 \r\nQ 26.265625 48.1875 28.421875 48.1875 \r\nQ 40.625 48.1875 47.75 41.5 \r\nQ 54.890625 34.8125 54.890625 23.390625 \r\nQ 54.890625 11.625 47.5625 5.09375 \r\nQ 40.234375 -1.421875 26.90625 -1.421875 \r\nQ 22.3125 -1.421875 17.546875 -0.640625 \r\nQ 12.796875 0.140625 7.71875 1.703125 \r\nL 7.71875 11.625 \r\nQ 12.109375 9.234375 16.796875 8.0625 \r\nQ 21.484375 6.890625 26.703125 6.890625 \r\nQ 35.15625 6.890625 40.078125 11.328125 \r\nQ 45.015625 15.765625 45.015625 23.390625 \r\nQ 45.015625 31 40.078125 35.4375 \r\nQ 35.15625 39.890625 26.703125 39.890625 \r\nQ 22.75 39.890625 18.8125 39.015625 \r\nQ 14.890625 38.140625 10.796875 36.28125 \r\nz\r\n\" id=\"DejaVuSans-53\"/>\r\n       </defs>\r\n       <use xlink:href=\"#DejaVuSans-53\"/>\r\n       <use x=\"63.623047\" xlink:href=\"#DejaVuSans-48\"/>\r\n       <use x=\"127.246094\" xlink:href=\"#DejaVuSans-48\"/>\r\n       <use x=\"190.869141\" xlink:href=\"#DejaVuSans-48\"/>\r\n      </g>\r\n     </g>\r\n    </g>\r\n    <g id=\"ytick_7\">\r\n     <g id=\"line2d_27\">\r\n      <g>\r\n       <use style=\"stroke:#000000;stroke-width:0.8;\" x=\"58.167188\" xlink:href=\"#mbc29359172\" y=\"87.31247\"/>\r\n      </g>\r\n     </g>\r\n     <g id=\"text_28\">\r\n      <!-- 6000 -->\r\n      <g transform=\"translate(25.717188 91.111689)scale(0.1 -0.1)\">\r\n       <defs>\r\n        <path d=\"M 33.015625 40.375 \r\nQ 26.375 40.375 22.484375 35.828125 \r\nQ 18.609375 31.296875 18.609375 23.390625 \r\nQ 18.609375 15.53125 22.484375 10.953125 \r\nQ 26.375 6.390625 33.015625 6.390625 \r\nQ 39.65625 6.390625 43.53125 10.953125 \r\nQ 47.40625 15.53125 47.40625 23.390625 \r\nQ 47.40625 31.296875 43.53125 35.828125 \r\nQ 39.65625 40.375 33.015625 40.375 \r\nz\r\nM 52.59375 71.296875 \r\nL 52.59375 62.3125 \r\nQ 48.875 64.0625 45.09375 64.984375 \r\nQ 41.3125 65.921875 37.59375 65.921875 \r\nQ 27.828125 65.921875 22.671875 59.328125 \r\nQ 17.53125 52.734375 16.796875 39.40625 \r\nQ 19.671875 43.65625 24.015625 45.921875 \r\nQ 28.375 48.1875 33.59375 48.1875 \r\nQ 44.578125 48.1875 50.953125 41.515625 \r\nQ 57.328125 34.859375 57.328125 23.390625 \r\nQ 57.328125 12.15625 50.6875 5.359375 \r\nQ 44.046875 -1.421875 33.015625 -1.421875 \r\nQ 20.359375 -1.421875 13.671875 8.265625 \r\nQ 6.984375 17.96875 6.984375 36.375 \r\nQ 6.984375 53.65625 15.1875 63.9375 \r\nQ 23.390625 74.21875 37.203125 74.21875 \r\nQ 40.921875 74.21875 44.703125 73.484375 \r\nQ 48.484375 72.75 52.59375 71.296875 \r\nz\r\n\" id=\"DejaVuSans-54\"/>\r\n       </defs>\r\n       <use xlink:href=\"#DejaVuSans-54\"/>\r\n       <use x=\"63.623047\" xlink:href=\"#DejaVuSans-48\"/>\r\n       <use x=\"127.246094\" xlink:href=\"#DejaVuSans-48\"/>\r\n       <use x=\"190.869141\" xlink:href=\"#DejaVuSans-48\"/>\r\n      </g>\r\n     </g>\r\n    </g>\r\n    <g id=\"ytick_8\">\r\n     <g id=\"line2d_28\">\r\n      <g>\r\n       <use style=\"stroke:#000000;stroke-width:0.8;\" x=\"58.167188\" xlink:href=\"#mbc29359172\" y=\"60.891736\"/>\r\n      </g>\r\n     </g>\r\n     <g id=\"text_29\">\r\n      <!-- 7000 -->\r\n      <g transform=\"translate(25.717188 64.690955)scale(0.1 -0.1)\">\r\n       <defs>\r\n        <path d=\"M 8.203125 72.90625 \r\nL 55.078125 72.90625 \r\nL 55.078125 68.703125 \r\nL 28.609375 0 \r\nL 18.3125 0 \r\nL 43.21875 64.59375 \r\nL 8.203125 64.59375 \r\nz\r\n\" id=\"DejaVuSans-55\"/>\r\n       </defs>\r\n       <use xlink:href=\"#DejaVuSans-55\"/>\r\n       <use x=\"63.623047\" xlink:href=\"#DejaVuSans-48\"/>\r\n       <use x=\"127.246094\" xlink:href=\"#DejaVuSans-48\"/>\r\n       <use x=\"190.869141\" xlink:href=\"#DejaVuSans-48\"/>\r\n      </g>\r\n     </g>\r\n    </g>\r\n    <g id=\"ytick_9\">\r\n     <g id=\"line2d_29\">\r\n      <g>\r\n       <use style=\"stroke:#000000;stroke-width:0.8;\" x=\"58.167188\" xlink:href=\"#mbc29359172\" y=\"34.471002\"/>\r\n      </g>\r\n     </g>\r\n     <g id=\"text_30\">\r\n      <!-- 8000 -->\r\n      <g transform=\"translate(25.717188 38.270221)scale(0.1 -0.1)\">\r\n       <defs>\r\n        <path d=\"M 31.78125 34.625 \r\nQ 24.75 34.625 20.71875 30.859375 \r\nQ 16.703125 27.09375 16.703125 20.515625 \r\nQ 16.703125 13.921875 20.71875 10.15625 \r\nQ 24.75 6.390625 31.78125 6.390625 \r\nQ 38.8125 6.390625 42.859375 10.171875 \r\nQ 46.921875 13.96875 46.921875 20.515625 \r\nQ 46.921875 27.09375 42.890625 30.859375 \r\nQ 38.875 34.625 31.78125 34.625 \r\nz\r\nM 21.921875 38.8125 \r\nQ 15.578125 40.375 12.03125 44.71875 \r\nQ 8.5 49.078125 8.5 55.328125 \r\nQ 8.5 64.0625 14.71875 69.140625 \r\nQ 20.953125 74.21875 31.78125 74.21875 \r\nQ 42.671875 74.21875 48.875 69.140625 \r\nQ 55.078125 64.0625 55.078125 55.328125 \r\nQ 55.078125 49.078125 51.53125 44.71875 \r\nQ 48 40.375 41.703125 38.8125 \r\nQ 48.828125 37.15625 52.796875 32.3125 \r\nQ 56.78125 27.484375 56.78125 20.515625 \r\nQ 56.78125 9.90625 50.3125 4.234375 \r\nQ 43.84375 -1.421875 31.78125 -1.421875 \r\nQ 19.734375 -1.421875 13.25 4.234375 \r\nQ 6.78125 9.90625 6.78125 20.515625 \r\nQ 6.78125 27.484375 10.78125 32.3125 \r\nQ 14.796875 37.15625 21.921875 38.8125 \r\nz\r\nM 18.3125 54.390625 \r\nQ 18.3125 48.734375 21.84375 45.5625 \r\nQ 25.390625 42.390625 31.78125 42.390625 \r\nQ 38.140625 42.390625 41.71875 45.5625 \r\nQ 45.3125 48.734375 45.3125 54.390625 \r\nQ 45.3125 60.0625 41.71875 63.234375 \r\nQ 38.140625 66.40625 31.78125 66.40625 \r\nQ 25.390625 66.40625 21.84375 63.234375 \r\nQ 18.3125 60.0625 18.3125 54.390625 \r\nz\r\n\" id=\"DejaVuSans-56\"/>\r\n       </defs>\r\n       <use xlink:href=\"#DejaVuSans-56\"/>\r\n       <use x=\"63.623047\" xlink:href=\"#DejaVuSans-48\"/>\r\n       <use x=\"127.246094\" xlink:href=\"#DejaVuSans-48\"/>\r\n       <use x=\"190.869141\" xlink:href=\"#DejaVuSans-48\"/>\r\n      </g>\r\n     </g>\r\n    </g>\r\n    <g id=\"text_31\">\r\n     <!-- Number of recipes -->\r\n     <g transform=\"translate(18.597656 206.262187)rotate(-90)scale(0.15 -0.15)\">\r\n      <defs>\r\n       <path d=\"M 9.8125 72.90625 \r\nL 23.09375 72.90625 \r\nL 55.421875 11.921875 \r\nL 55.421875 72.90625 \r\nL 64.984375 72.90625 \r\nL 64.984375 0 \r\nL 51.703125 0 \r\nL 19.390625 60.984375 \r\nL 19.390625 0 \r\nL 9.8125 0 \r\nz\r\n\" id=\"DejaVuSans-78\"/>\r\n       <path id=\"DejaVuSans-32\"/>\r\n      </defs>\r\n      <use xlink:href=\"#DejaVuSans-78\"/>\r\n      <use x=\"74.804688\" xlink:href=\"#DejaVuSans-117\"/>\r\n      <use x=\"138.183594\" xlink:href=\"#DejaVuSans-109\"/>\r\n      <use x=\"235.595703\" xlink:href=\"#DejaVuSans-98\"/>\r\n      <use x=\"299.072266\" xlink:href=\"#DejaVuSans-101\"/>\r\n      <use x=\"360.595703\" xlink:href=\"#DejaVuSans-114\"/>\r\n      <use x=\"401.708984\" xlink:href=\"#DejaVuSans-32\"/>\r\n      <use x=\"433.496094\" xlink:href=\"#DejaVuSans-111\"/>\r\n      <use x=\"494.677734\" xlink:href=\"#DejaVuSans-102\"/>\r\n      <use x=\"529.882812\" xlink:href=\"#DejaVuSans-32\"/>\r\n      <use x=\"561.669922\" xlink:href=\"#DejaVuSans-114\"/>\r\n      <use x=\"600.533203\" xlink:href=\"#DejaVuSans-101\"/>\r\n      <use x=\"662.056641\" xlink:href=\"#DejaVuSans-99\"/>\r\n      <use x=\"717.037109\" xlink:href=\"#DejaVuSans-105\"/>\r\n      <use x=\"744.820312\" xlink:href=\"#DejaVuSans-112\"/>\r\n      <use x=\"808.296875\" xlink:href=\"#DejaVuSans-101\"/>\r\n      <use x=\"869.820312\" xlink:href=\"#DejaVuSans-115\"/>\r\n     </g>\r\n    </g>\r\n   </g>\r\n   <g id=\"patch_23\">\r\n    <path d=\"M 58.167188 245.836875 \r\nL 58.167188 28.396875 \r\n\" style=\"fill:none;stroke:#000000;stroke-linecap:square;stroke-linejoin:miter;stroke-width:0.8;\"/>\r\n   </g>\r\n   <g id=\"patch_24\">\r\n    <path d=\"M 392.967188 245.836875 \r\nL 392.967188 28.396875 \r\n\" style=\"fill:none;stroke:#000000;stroke-linecap:square;stroke-linejoin:miter;stroke-width:0.8;\"/>\r\n   </g>\r\n   <g id=\"patch_25\">\r\n    <path d=\"M 58.167187 245.836875 \r\nL 392.967188 245.836875 \r\n\" style=\"fill:none;stroke:#000000;stroke-linecap:square;stroke-linejoin:miter;stroke-width:0.8;\"/>\r\n   </g>\r\n   <g id=\"patch_26\">\r\n    <path d=\"M 58.167187 28.396875 \r\nL 392.967188 28.396875 \r\n\" style=\"fill:none;stroke:#000000;stroke-linecap:square;stroke-linejoin:miter;stroke-width:0.8;\"/>\r\n   </g>\r\n   <g id=\"text_32\">\r\n    <!-- Total Number of recipes per cuisine -->\r\n    <g style=\"fill:#ff0000;\" transform=\"translate(48.78125 22.396875)scale(0.2 -0.2)\">\r\n     <defs>\r\n      <path d=\"M -0.296875 72.90625 \r\nL 61.375 72.90625 \r\nL 61.375 64.59375 \r\nL 35.5 64.59375 \r\nL 35.5 0 \r\nL 25.59375 0 \r\nL 25.59375 64.59375 \r\nL -0.296875 64.59375 \r\nz\r\n\" id=\"DejaVuSans-84\"/>\r\n     </defs>\r\n     <use xlink:href=\"#DejaVuSans-84\"/>\r\n     <use x=\"44.083984\" xlink:href=\"#DejaVuSans-111\"/>\r\n     <use x=\"105.265625\" xlink:href=\"#DejaVuSans-116\"/>\r\n     <use x=\"144.474609\" xlink:href=\"#DejaVuSans-97\"/>\r\n     <use x=\"205.753906\" xlink:href=\"#DejaVuSans-108\"/>\r\n     <use x=\"233.537109\" xlink:href=\"#DejaVuSans-32\"/>\r\n     <use x=\"265.324219\" xlink:href=\"#DejaVuSans-78\"/>\r\n     <use x=\"340.128906\" xlink:href=\"#DejaVuSans-117\"/>\r\n     <use x=\"403.507812\" xlink:href=\"#DejaVuSans-109\"/>\r\n     <use x=\"500.919922\" xlink:href=\"#DejaVuSans-98\"/>\r\n     <use x=\"564.396484\" xlink:href=\"#DejaVuSans-101\"/>\r\n     <use x=\"625.919922\" xlink:href=\"#DejaVuSans-114\"/>\r\n     <use x=\"667.033203\" xlink:href=\"#DejaVuSans-32\"/>\r\n     <use x=\"698.820312\" xlink:href=\"#DejaVuSans-111\"/>\r\n     <use x=\"760.001953\" xlink:href=\"#DejaVuSans-102\"/>\r\n     <use x=\"795.207031\" xlink:href=\"#DejaVuSans-32\"/>\r\n     <use x=\"826.994141\" xlink:href=\"#DejaVuSans-114\"/>\r\n     <use x=\"865.857422\" xlink:href=\"#DejaVuSans-101\"/>\r\n     <use x=\"927.380859\" xlink:href=\"#DejaVuSans-99\"/>\r\n     <use x=\"982.361328\" xlink:href=\"#DejaVuSans-105\"/>\r\n     <use x=\"1010.144531\" xlink:href=\"#DejaVuSans-112\"/>\r\n     <use x=\"1073.621094\" xlink:href=\"#DejaVuSans-101\"/>\r\n     <use x=\"1135.144531\" xlink:href=\"#DejaVuSans-115\"/>\r\n     <use x=\"1187.244141\" xlink:href=\"#DejaVuSans-32\"/>\r\n     <use x=\"1219.03125\" xlink:href=\"#DejaVuSans-112\"/>\r\n     <use x=\"1282.507812\" xlink:href=\"#DejaVuSans-101\"/>\r\n     <use x=\"1344.03125\" xlink:href=\"#DejaVuSans-114\"/>\r\n     <use x=\"1385.144531\" xlink:href=\"#DejaVuSans-32\"/>\r\n     <use x=\"1416.931641\" xlink:href=\"#DejaVuSans-99\"/>\r\n     <use x=\"1471.912109\" xlink:href=\"#DejaVuSans-117\"/>\r\n     <use x=\"1535.291016\" xlink:href=\"#DejaVuSans-105\"/>\r\n     <use x=\"1563.074219\" xlink:href=\"#DejaVuSans-115\"/>\r\n     <use x=\"1615.173828\" xlink:href=\"#DejaVuSans-105\"/>\r\n     <use x=\"1642.957031\" xlink:href=\"#DejaVuSans-110\"/>\r\n     <use x=\"1706.335938\" xlink:href=\"#DejaVuSans-101\"/>\r\n    </g>\r\n   </g>\r\n  </g>\r\n </g>\r\n <defs>\r\n  <clipPath id=\"p62f1a85622\">\r\n   <rect height=\"217.44\" width=\"334.8\" x=\"58.167188\" y=\"28.396875\"/>\r\n  </clipPath>\r\n </defs>\r\n</svg>\r\n",
      "image/png": "[encoded data removed]"
     },
     "metadata": {
      "needs_background": "light"
     }
    }
   ],
   "source": [
    "#Plot Bar Graph\n",
    "plt = totalCount.plot(kind='bar', rot=90 , fontsize=10)\n",
    "plt.set_xlabel('Ingredient', fontsize=15)\n",
    "plt.set_ylabel('Number of recipes', fontsize=15)\n",
    "plt.set_title('Total Number of recipes per cuisine', fontsize=20, color='red')"
   ]
  },
  {
   "cell_type": "code",
   "execution_count": 48,
   "metadata": {},
   "outputs": [],
   "source": [
    "# Top 10 most occurring ingredients\n",
    "def get_ingredients(data):\n",
    "    all_ingredients = []\n",
    "    for i in range(len(data)):\n",
    "        if isinstance(data, pd.core.frame.DataFrame):\n",
    "            all_ingredients.extend(data.loc[i, 'ingredients'])\n",
    "        else:\n",
    "            all_ingredients.extend(data.iloc[i])\n",
    "    return Series(all_ingredients)\n"
   ]
  },
  {
   "cell_type": "code",
   "execution_count": 49,
   "metadata": {},
   "outputs": [
    {
     "output_type": "execute_result",
     "data": {
      "text/plain": [
       "Text(0.5, 1.0, 'Most common ingredients')"
      ]
     },
     "metadata": {},
     "execution_count": 49
    },
    {
     "output_type": "display_data",
     "data": {
      "text/plain": "<Figure size 432x288 with 1 Axes>",
      "image/svg+xml": "<?xml version=\"1.0\" encoding=\"utf-8\" standalone=\"no\"?>\r\n<!DOCTYPE svg PUBLIC \"-//W3C//DTD SVG 1.1//EN\"\r\n  \"http://www.w3.org/Graphics/SVG/1.1/DTD/svg11.dtd\">\r\n<!-- Created with matplotlib (https://matplotlib.org/) -->\r\n<svg height=\"382.293125pt\" version=\"1.1\" viewBox=\"0 0 406.529688 382.293125\" width=\"406.529688pt\" xmlns=\"http://www.w3.org/2000/svg\" xmlns:xlink=\"http://www.w3.org/1999/xlink\">\r\n <metadata>\r\n  <rdf:RDF xmlns:cc=\"http://creativecommons.org/ns#\" xmlns:dc=\"http://purl.org/dc/elements/1.1/\" xmlns:rdf=\"http://www.w3.org/1999/02/22-rdf-syntax-ns#\">\r\n   <cc:Work>\r\n    <dc:type rdf:resource=\"http://purl.org/dc/dcmitype/StillImage\"/>\r\n    <dc:date>2021-06-28T23:54:42.272165</dc:date>\r\n    <dc:format>image/svg+xml</dc:format>\r\n    <dc:creator>\r\n     <cc:Agent>\r\n      <dc:title>Matplotlib v3.3.4, https://matplotlib.org/</dc:title>\r\n     </cc:Agent>\r\n    </dc:creator>\r\n   </cc:Work>\r\n  </rdf:RDF>\r\n </metadata>\r\n <defs>\r\n  <style type=\"text/css\">*{stroke-linecap:butt;stroke-linejoin:round;}</style>\r\n </defs>\r\n <g id=\"figure_1\">\r\n  <g id=\"patch_1\">\r\n   <path d=\"M 0 382.293125 \r\nL 406.529688 382.293125 \r\nL 406.529688 0 \r\nL 0 0 \r\nz\r\n\" style=\"fill:none;\"/>\r\n  </g>\r\n  <g id=\"axes_1\">\r\n   <g id=\"patch_2\">\r\n    <path d=\"M 64.529687 245.836875 \r\nL 399.329688 245.836875 \r\nL 399.329688 28.396875 \r\nL 64.529687 28.396875 \r\nz\r\n\" style=\"fill:#ffffff;\"/>\r\n   </g>\r\n   <g id=\"patch_3\">\r\n    <path clip-path=\"url(#pcac055295b)\" d=\"M 72.899687 245.836875 \r\nL 89.639688 245.836875 \r\nL 89.639688 38.751161 \r\nL 72.899687 38.751161 \r\nz\r\n\" style=\"fill:#1f77b4;\"/>\r\n   </g>\r\n   <g id=\"patch_4\">\r\n    <path clip-path=\"url(#pcac055295b)\" d=\"M 106.379688 245.836875 \r\nL 123.119688 245.836875 \r\nL 123.119688 154.369907 \r\nL 106.379688 154.369907 \r\nz\r\n\" style=\"fill:#1f77b4;\"/>\r\n   </g>\r\n   <g id=\"patch_5\">\r\n    <path clip-path=\"url(#pcac055295b)\" d=\"M 139.859688 245.836875 \r\nL 156.599688 245.836875 \r\nL 156.599688 154.369907 \r\nL 139.859688 154.369907 \r\nz\r\n\" style=\"fill:#1f77b4;\"/>\r\n   </g>\r\n   <g id=\"patch_6\">\r\n    <path clip-path=\"url(#pcac055295b)\" d=\"M 173.339688 245.836875 \r\nL 190.079688 245.836875 \r\nL 190.079688 160.278774 \r\nL 173.339688 160.278774 \r\nz\r\n\" style=\"fill:#1f77b4;\"/>\r\n   </g>\r\n   <g id=\"patch_7\">\r\n    <path clip-path=\"url(#pcac055295b)\" d=\"M 206.819688 245.836875 \r\nL 223.559688 245.836875 \r\nL 223.559688 161.162235 \r\nL 206.819688 161.162235 \r\nz\r\n\" style=\"fill:#1f77b4;\"/>\r\n   </g>\r\n   <g id=\"patch_8\">\r\n    <path clip-path=\"url(#pcac055295b)\" d=\"M 240.299688 245.836875 \r\nL 257.039688 245.836875 \r\nL 257.039688 172.016193 \r\nL 240.299688 172.016193 \r\nz\r\n\" style=\"fill:#1f77b4;\"/>\r\n   </g>\r\n   <g id=\"patch_9\">\r\n    <path clip-path=\"url(#pcac055295b)\" d=\"M 273.779688 245.836875 \r\nL 290.519688 245.836875 \r\nL 290.519688 174.276478 \r\nL 273.779688 174.276478 \r\nz\r\n\" style=\"fill:#1f77b4;\"/>\r\n   </g>\r\n   <g id=\"patch_10\">\r\n    <path clip-path=\"url(#pcac055295b)\" d=\"M 307.259688 245.836875 \r\nL 323.999688 245.836875 \r\nL 323.999688 190.213209 \r\nL 307.259688 190.213209 \r\nz\r\n\" style=\"fill:#1f77b4;\"/>\r\n   </g>\r\n   <g id=\"patch_11\">\r\n    <path clip-path=\"url(#pcac055295b)\" d=\"M 340.739688 245.836875 \r\nL 357.479688 245.836875 \r\nL 357.479688 190.936042 \r\nL 340.739688 190.936042 \r\nz\r\n\" style=\"fill:#1f77b4;\"/>\r\n   </g>\r\n   <g id=\"patch_12\">\r\n    <path clip-path=\"url(#pcac055295b)\" d=\"M 374.219688 245.836875 \r\nL 390.959688 245.836875 \r\nL 390.959688 192.691491 \r\nL 374.219688 192.691491 \r\nz\r\n\" style=\"fill:#1f77b4;\"/>\r\n   </g>\r\n   <g id=\"matplotlib.axis_1\">\r\n    <g id=\"xtick_1\">\r\n     <g id=\"line2d_1\">\r\n      <defs>\r\n       <path d=\"M 0 0 \r\nL 0 3.5 \r\n\" id=\"m4c474ecac7\" style=\"stroke:#000000;stroke-width:0.8;\"/>\r\n      </defs>\r\n      <g>\r\n       <use style=\"stroke:#000000;stroke-width:0.8;\" x=\"81.269688\" xlink:href=\"#m4c474ecac7\" y=\"245.836875\"/>\r\n      </g>\r\n     </g>\r\n     <g id=\"text_1\">\r\n      <!-- salt -->\r\n      <g transform=\"translate(84.029063 270.872812)rotate(-90)scale(0.1 -0.1)\">\r\n       <defs>\r\n        <path d=\"M 44.28125 53.078125 \r\nL 44.28125 44.578125 \r\nQ 40.484375 46.53125 36.375 47.5 \r\nQ 32.28125 48.484375 27.875 48.484375 \r\nQ 21.1875 48.484375 17.84375 46.4375 \r\nQ 14.5 44.390625 14.5 40.28125 \r\nQ 14.5 37.15625 16.890625 35.375 \r\nQ 19.28125 33.59375 26.515625 31.984375 \r\nL 29.59375 31.296875 \r\nQ 39.15625 29.25 43.1875 25.515625 \r\nQ 47.21875 21.78125 47.21875 15.09375 \r\nQ 47.21875 7.46875 41.1875 3.015625 \r\nQ 35.15625 -1.421875 24.609375 -1.421875 \r\nQ 20.21875 -1.421875 15.453125 -0.5625 \r\nQ 10.6875 0.296875 5.421875 2 \r\nL 5.421875 11.28125 \r\nQ 10.40625 8.6875 15.234375 7.390625 \r\nQ 20.0625 6.109375 24.8125 6.109375 \r\nQ 31.15625 6.109375 34.5625 8.28125 \r\nQ 37.984375 10.453125 37.984375 14.40625 \r\nQ 37.984375 18.0625 35.515625 20.015625 \r\nQ 33.0625 21.96875 24.703125 23.78125 \r\nL 21.578125 24.515625 \r\nQ 13.234375 26.265625 9.515625 29.90625 \r\nQ 5.8125 33.546875 5.8125 39.890625 \r\nQ 5.8125 47.609375 11.28125 51.796875 \r\nQ 16.75 56 26.8125 56 \r\nQ 31.78125 56 36.171875 55.265625 \r\nQ 40.578125 54.546875 44.28125 53.078125 \r\nz\r\n\" id=\"DejaVuSans-115\"/>\r\n        <path d=\"M 34.28125 27.484375 \r\nQ 23.390625 27.484375 19.1875 25 \r\nQ 14.984375 22.515625 14.984375 16.5 \r\nQ 14.984375 11.71875 18.140625 8.90625 \r\nQ 21.296875 6.109375 26.703125 6.109375 \r\nQ 34.1875 6.109375 38.703125 11.40625 \r\nQ 43.21875 16.703125 43.21875 25.484375 \r\nL 43.21875 27.484375 \r\nz\r\nM 52.203125 31.203125 \r\nL 52.203125 0 \r\nL 43.21875 0 \r\nL 43.21875 8.296875 \r\nQ 40.140625 3.328125 35.546875 0.953125 \r\nQ 30.953125 -1.421875 24.3125 -1.421875 \r\nQ 15.921875 -1.421875 10.953125 3.296875 \r\nQ 6 8.015625 6 15.921875 \r\nQ 6 25.140625 12.171875 29.828125 \r\nQ 18.359375 34.515625 30.609375 34.515625 \r\nL 43.21875 34.515625 \r\nL 43.21875 35.40625 \r\nQ 43.21875 41.609375 39.140625 45 \r\nQ 35.0625 48.390625 27.6875 48.390625 \r\nQ 23 48.390625 18.546875 47.265625 \r\nQ 14.109375 46.140625 10.015625 43.890625 \r\nL 10.015625 52.203125 \r\nQ 14.9375 54.109375 19.578125 55.046875 \r\nQ 24.21875 56 28.609375 56 \r\nQ 40.484375 56 46.34375 49.84375 \r\nQ 52.203125 43.703125 52.203125 31.203125 \r\nz\r\n\" id=\"DejaVuSans-97\"/>\r\n        <path d=\"M 9.421875 75.984375 \r\nL 18.40625 75.984375 \r\nL 18.40625 0 \r\nL 9.421875 0 \r\nz\r\n\" id=\"DejaVuSans-108\"/>\r\n        <path d=\"M 18.3125 70.21875 \r\nL 18.3125 54.6875 \r\nL 36.8125 54.6875 \r\nL 36.8125 47.703125 \r\nL 18.3125 47.703125 \r\nL 18.3125 18.015625 \r\nQ 18.3125 11.328125 20.140625 9.421875 \r\nQ 21.96875 7.515625 27.59375 7.515625 \r\nL 36.8125 7.515625 \r\nL 36.8125 0 \r\nL 27.59375 0 \r\nQ 17.1875 0 13.234375 3.875 \r\nQ 9.28125 7.765625 9.28125 18.015625 \r\nL 9.28125 47.703125 \r\nL 2.6875 47.703125 \r\nL 2.6875 54.6875 \r\nL 9.28125 54.6875 \r\nL 9.28125 70.21875 \r\nz\r\n\" id=\"DejaVuSans-116\"/>\r\n       </defs>\r\n       <use xlink:href=\"#DejaVuSans-115\"/>\r\n       <use x=\"52.099609\" xlink:href=\"#DejaVuSans-97\"/>\r\n       <use x=\"113.378906\" xlink:href=\"#DejaVuSans-108\"/>\r\n       <use x=\"141.162109\" xlink:href=\"#DejaVuSans-116\"/>\r\n      </g>\r\n     </g>\r\n    </g>\r\n    <g id=\"xtick_2\">\r\n     <g id=\"line2d_2\">\r\n      <g>\r\n       <use style=\"stroke:#000000;stroke-width:0.8;\" x=\"114.749688\" xlink:href=\"#m4c474ecac7\" y=\"245.836875\"/>\r\n      </g>\r\n     </g>\r\n     <g id=\"text_2\">\r\n      <!-- onions -->\r\n      <g transform=\"translate(117.509063 285.736875)rotate(-90)scale(0.1 -0.1)\">\r\n       <defs>\r\n        <path d=\"M 30.609375 48.390625 \r\nQ 23.390625 48.390625 19.1875 42.75 \r\nQ 14.984375 37.109375 14.984375 27.296875 \r\nQ 14.984375 17.484375 19.15625 11.84375 \r\nQ 23.34375 6.203125 30.609375 6.203125 \r\nQ 37.796875 6.203125 41.984375 11.859375 \r\nQ 46.1875 17.53125 46.1875 27.296875 \r\nQ 46.1875 37.015625 41.984375 42.703125 \r\nQ 37.796875 48.390625 30.609375 48.390625 \r\nz\r\nM 30.609375 56 \r\nQ 42.328125 56 49.015625 48.375 \r\nQ 55.71875 40.765625 55.71875 27.296875 \r\nQ 55.71875 13.875 49.015625 6.21875 \r\nQ 42.328125 -1.421875 30.609375 -1.421875 \r\nQ 18.84375 -1.421875 12.171875 6.21875 \r\nQ 5.515625 13.875 5.515625 27.296875 \r\nQ 5.515625 40.765625 12.171875 48.375 \r\nQ 18.84375 56 30.609375 56 \r\nz\r\n\" id=\"DejaVuSans-111\"/>\r\n        <path d=\"M 54.890625 33.015625 \r\nL 54.890625 0 \r\nL 45.90625 0 \r\nL 45.90625 32.71875 \r\nQ 45.90625 40.484375 42.875 44.328125 \r\nQ 39.84375 48.1875 33.796875 48.1875 \r\nQ 26.515625 48.1875 22.3125 43.546875 \r\nQ 18.109375 38.921875 18.109375 30.90625 \r\nL 18.109375 0 \r\nL 9.078125 0 \r\nL 9.078125 54.6875 \r\nL 18.109375 54.6875 \r\nL 18.109375 46.1875 \r\nQ 21.34375 51.125 25.703125 53.5625 \r\nQ 30.078125 56 35.796875 56 \r\nQ 45.21875 56 50.046875 50.171875 \r\nQ 54.890625 44.34375 54.890625 33.015625 \r\nz\r\n\" id=\"DejaVuSans-110\"/>\r\n        <path d=\"M 9.421875 54.6875 \r\nL 18.40625 54.6875 \r\nL 18.40625 0 \r\nL 9.421875 0 \r\nz\r\nM 9.421875 75.984375 \r\nL 18.40625 75.984375 \r\nL 18.40625 64.59375 \r\nL 9.421875 64.59375 \r\nz\r\n\" id=\"DejaVuSans-105\"/>\r\n       </defs>\r\n       <use xlink:href=\"#DejaVuSans-111\"/>\r\n       <use x=\"61.181641\" xlink:href=\"#DejaVuSans-110\"/>\r\n       <use x=\"124.560547\" xlink:href=\"#DejaVuSans-105\"/>\r\n       <use x=\"152.34375\" xlink:href=\"#DejaVuSans-111\"/>\r\n       <use x=\"213.525391\" xlink:href=\"#DejaVuSans-110\"/>\r\n       <use x=\"276.904297\" xlink:href=\"#DejaVuSans-115\"/>\r\n      </g>\r\n     </g>\r\n    </g>\r\n    <g id=\"xtick_3\">\r\n     <g id=\"line2d_3\">\r\n      <g>\r\n       <use style=\"stroke:#000000;stroke-width:0.8;\" x=\"148.229688\" xlink:href=\"#m4c474ecac7\" y=\"245.836875\"/>\r\n      </g>\r\n     </g>\r\n     <g id=\"text_3\">\r\n      <!-- olive oil -->\r\n      <g transform=\"translate(150.989063 291.436875)rotate(-90)scale(0.1 -0.1)\">\r\n       <defs>\r\n        <path d=\"M 2.984375 54.6875 \r\nL 12.5 54.6875 \r\nL 29.59375 8.796875 \r\nL 46.6875 54.6875 \r\nL 56.203125 54.6875 \r\nL 35.6875 0 \r\nL 23.484375 0 \r\nz\r\n\" id=\"DejaVuSans-118\"/>\r\n        <path d=\"M 56.203125 29.59375 \r\nL 56.203125 25.203125 \r\nL 14.890625 25.203125 \r\nQ 15.484375 15.921875 20.484375 11.0625 \r\nQ 25.484375 6.203125 34.421875 6.203125 \r\nQ 39.59375 6.203125 44.453125 7.46875 \r\nQ 49.3125 8.734375 54.109375 11.28125 \r\nL 54.109375 2.78125 \r\nQ 49.265625 0.734375 44.1875 -0.34375 \r\nQ 39.109375 -1.421875 33.890625 -1.421875 \r\nQ 20.796875 -1.421875 13.15625 6.1875 \r\nQ 5.515625 13.8125 5.515625 26.8125 \r\nQ 5.515625 40.234375 12.765625 48.109375 \r\nQ 20.015625 56 32.328125 56 \r\nQ 43.359375 56 49.78125 48.890625 \r\nQ 56.203125 41.796875 56.203125 29.59375 \r\nz\r\nM 47.21875 32.234375 \r\nQ 47.125 39.59375 43.09375 43.984375 \r\nQ 39.0625 48.390625 32.421875 48.390625 \r\nQ 24.90625 48.390625 20.390625 44.140625 \r\nQ 15.875 39.890625 15.1875 32.171875 \r\nz\r\n\" id=\"DejaVuSans-101\"/>\r\n        <path id=\"DejaVuSans-32\"/>\r\n       </defs>\r\n       <use xlink:href=\"#DejaVuSans-111\"/>\r\n       <use x=\"61.181641\" xlink:href=\"#DejaVuSans-108\"/>\r\n       <use x=\"88.964844\" xlink:href=\"#DejaVuSans-105\"/>\r\n       <use x=\"116.748047\" xlink:href=\"#DejaVuSans-118\"/>\r\n       <use x=\"175.927734\" xlink:href=\"#DejaVuSans-101\"/>\r\n       <use x=\"237.451172\" xlink:href=\"#DejaVuSans-32\"/>\r\n       <use x=\"269.238281\" xlink:href=\"#DejaVuSans-111\"/>\r\n       <use x=\"330.419922\" xlink:href=\"#DejaVuSans-105\"/>\r\n       <use x=\"358.203125\" xlink:href=\"#DejaVuSans-108\"/>\r\n      </g>\r\n     </g>\r\n    </g>\r\n    <g id=\"xtick_4\">\r\n     <g id=\"line2d_4\">\r\n      <g>\r\n       <use style=\"stroke:#000000;stroke-width:0.8;\" x=\"181.709688\" xlink:href=\"#m4c474ecac7\" y=\"245.836875\"/>\r\n      </g>\r\n     </g>\r\n     <g id=\"text_4\">\r\n      <!-- water -->\r\n      <g transform=\"translate(184.469063 281.3275)rotate(-90)scale(0.1 -0.1)\">\r\n       <defs>\r\n        <path d=\"M 4.203125 54.6875 \r\nL 13.1875 54.6875 \r\nL 24.421875 12.015625 \r\nL 35.59375 54.6875 \r\nL 46.1875 54.6875 \r\nL 57.421875 12.015625 \r\nL 68.609375 54.6875 \r\nL 77.59375 54.6875 \r\nL 63.28125 0 \r\nL 52.6875 0 \r\nL 40.921875 44.828125 \r\nL 29.109375 0 \r\nL 18.5 0 \r\nz\r\n\" id=\"DejaVuSans-119\"/>\r\n        <path d=\"M 41.109375 46.296875 \r\nQ 39.59375 47.171875 37.8125 47.578125 \r\nQ 36.03125 48 33.890625 48 \r\nQ 26.265625 48 22.1875 43.046875 \r\nQ 18.109375 38.09375 18.109375 28.8125 \r\nL 18.109375 0 \r\nL 9.078125 0 \r\nL 9.078125 54.6875 \r\nL 18.109375 54.6875 \r\nL 18.109375 46.1875 \r\nQ 20.953125 51.171875 25.484375 53.578125 \r\nQ 30.03125 56 36.53125 56 \r\nQ 37.453125 56 38.578125 55.875 \r\nQ 39.703125 55.765625 41.0625 55.515625 \r\nz\r\n\" id=\"DejaVuSans-114\"/>\r\n       </defs>\r\n       <use xlink:href=\"#DejaVuSans-119\"/>\r\n       <use x=\"81.787109\" xlink:href=\"#DejaVuSans-97\"/>\r\n       <use x=\"143.066406\" xlink:href=\"#DejaVuSans-116\"/>\r\n       <use x=\"182.275391\" xlink:href=\"#DejaVuSans-101\"/>\r\n       <use x=\"243.798828\" xlink:href=\"#DejaVuSans-114\"/>\r\n      </g>\r\n     </g>\r\n    </g>\r\n    <g id=\"xtick_5\">\r\n     <g id=\"line2d_5\">\r\n      <g>\r\n       <use style=\"stroke:#000000;stroke-width:0.8;\" x=\"215.189688\" xlink:href=\"#m4c474ecac7\" y=\"245.836875\"/>\r\n      </g>\r\n     </g>\r\n     <g id=\"text_5\">\r\n      <!-- garlic -->\r\n      <g transform=\"translate(217.949063 280.479062)rotate(-90)scale(0.1 -0.1)\">\r\n       <defs>\r\n        <path d=\"M 45.40625 27.984375 \r\nQ 45.40625 37.75 41.375 43.109375 \r\nQ 37.359375 48.484375 30.078125 48.484375 \r\nQ 22.859375 48.484375 18.828125 43.109375 \r\nQ 14.796875 37.75 14.796875 27.984375 \r\nQ 14.796875 18.265625 18.828125 12.890625 \r\nQ 22.859375 7.515625 30.078125 7.515625 \r\nQ 37.359375 7.515625 41.375 12.890625 \r\nQ 45.40625 18.265625 45.40625 27.984375 \r\nz\r\nM 54.390625 6.78125 \r\nQ 54.390625 -7.171875 48.1875 -13.984375 \r\nQ 42 -20.796875 29.203125 -20.796875 \r\nQ 24.46875 -20.796875 20.265625 -20.09375 \r\nQ 16.0625 -19.390625 12.109375 -17.921875 \r\nL 12.109375 -9.1875 \r\nQ 16.0625 -11.328125 19.921875 -12.34375 \r\nQ 23.78125 -13.375 27.78125 -13.375 \r\nQ 36.625 -13.375 41.015625 -8.765625 \r\nQ 45.40625 -4.15625 45.40625 5.171875 \r\nL 45.40625 9.625 \r\nQ 42.625 4.78125 38.28125 2.390625 \r\nQ 33.9375 0 27.875 0 \r\nQ 17.828125 0 11.671875 7.65625 \r\nQ 5.515625 15.328125 5.515625 27.984375 \r\nQ 5.515625 40.671875 11.671875 48.328125 \r\nQ 17.828125 56 27.875 56 \r\nQ 33.9375 56 38.28125 53.609375 \r\nQ 42.625 51.21875 45.40625 46.390625 \r\nL 45.40625 54.6875 \r\nL 54.390625 54.6875 \r\nz\r\n\" id=\"DejaVuSans-103\"/>\r\n        <path d=\"M 48.78125 52.59375 \r\nL 48.78125 44.1875 \r\nQ 44.96875 46.296875 41.140625 47.34375 \r\nQ 37.3125 48.390625 33.40625 48.390625 \r\nQ 24.65625 48.390625 19.8125 42.84375 \r\nQ 14.984375 37.3125 14.984375 27.296875 \r\nQ 14.984375 17.28125 19.8125 11.734375 \r\nQ 24.65625 6.203125 33.40625 6.203125 \r\nQ 37.3125 6.203125 41.140625 7.25 \r\nQ 44.96875 8.296875 48.78125 10.40625 \r\nL 48.78125 2.09375 \r\nQ 45.015625 0.34375 40.984375 -0.53125 \r\nQ 36.96875 -1.421875 32.421875 -1.421875 \r\nQ 20.0625 -1.421875 12.78125 6.34375 \r\nQ 5.515625 14.109375 5.515625 27.296875 \r\nQ 5.515625 40.671875 12.859375 48.328125 \r\nQ 20.21875 56 33.015625 56 \r\nQ 37.15625 56 41.109375 55.140625 \r\nQ 45.0625 54.296875 48.78125 52.59375 \r\nz\r\n\" id=\"DejaVuSans-99\"/>\r\n       </defs>\r\n       <use xlink:href=\"#DejaVuSans-103\"/>\r\n       <use x=\"63.476562\" xlink:href=\"#DejaVuSans-97\"/>\r\n       <use x=\"124.755859\" xlink:href=\"#DejaVuSans-114\"/>\r\n       <use x=\"165.869141\" xlink:href=\"#DejaVuSans-108\"/>\r\n       <use x=\"193.652344\" xlink:href=\"#DejaVuSans-105\"/>\r\n       <use x=\"221.435547\" xlink:href=\"#DejaVuSans-99\"/>\r\n      </g>\r\n     </g>\r\n    </g>\r\n    <g id=\"xtick_6\">\r\n     <g id=\"line2d_6\">\r\n      <g>\r\n       <use style=\"stroke:#000000;stroke-width:0.8;\" x=\"248.669688\" xlink:href=\"#m4c474ecac7\" y=\"245.836875\"/>\r\n      </g>\r\n     </g>\r\n     <g id=\"text_6\">\r\n      <!-- sugar -->\r\n      <g transform=\"translate(251.429063 280.97125)rotate(-90)scale(0.1 -0.1)\">\r\n       <defs>\r\n        <path d=\"M 8.5 21.578125 \r\nL 8.5 54.6875 \r\nL 17.484375 54.6875 \r\nL 17.484375 21.921875 \r\nQ 17.484375 14.15625 20.5 10.265625 \r\nQ 23.53125 6.390625 29.59375 6.390625 \r\nQ 36.859375 6.390625 41.078125 11.03125 \r\nQ 45.3125 15.671875 45.3125 23.6875 \r\nL 45.3125 54.6875 \r\nL 54.296875 54.6875 \r\nL 54.296875 0 \r\nL 45.3125 0 \r\nL 45.3125 8.40625 \r\nQ 42.046875 3.421875 37.71875 1 \r\nQ 33.40625 -1.421875 27.6875 -1.421875 \r\nQ 18.265625 -1.421875 13.375 4.4375 \r\nQ 8.5 10.296875 8.5 21.578125 \r\nz\r\nM 31.109375 56 \r\nz\r\n\" id=\"DejaVuSans-117\"/>\r\n       </defs>\r\n       <use xlink:href=\"#DejaVuSans-115\"/>\r\n       <use x=\"52.099609\" xlink:href=\"#DejaVuSans-117\"/>\r\n       <use x=\"115.478516\" xlink:href=\"#DejaVuSans-103\"/>\r\n       <use x=\"178.955078\" xlink:href=\"#DejaVuSans-97\"/>\r\n       <use x=\"240.234375\" xlink:href=\"#DejaVuSans-114\"/>\r\n      </g>\r\n     </g>\r\n    </g>\r\n    <g id=\"xtick_7\">\r\n     <g id=\"line2d_7\">\r\n      <g>\r\n       <use style=\"stroke:#000000;stroke-width:0.8;\" x=\"282.149688\" xlink:href=\"#m4c474ecac7\" y=\"245.836875\"/>\r\n      </g>\r\n     </g>\r\n     <g id=\"text_7\">\r\n      <!-- garlic cloves -->\r\n      <g transform=\"translate(284.909063 315.33375)rotate(-90)scale(0.1 -0.1)\">\r\n       <use xlink:href=\"#DejaVuSans-103\"/>\r\n       <use x=\"63.476562\" xlink:href=\"#DejaVuSans-97\"/>\r\n       <use x=\"124.755859\" xlink:href=\"#DejaVuSans-114\"/>\r\n       <use x=\"165.869141\" xlink:href=\"#DejaVuSans-108\"/>\r\n       <use x=\"193.652344\" xlink:href=\"#DejaVuSans-105\"/>\r\n       <use x=\"221.435547\" xlink:href=\"#DejaVuSans-99\"/>\r\n       <use x=\"276.416016\" xlink:href=\"#DejaVuSans-32\"/>\r\n       <use x=\"308.203125\" xlink:href=\"#DejaVuSans-99\"/>\r\n       <use x=\"363.183594\" xlink:href=\"#DejaVuSans-108\"/>\r\n       <use x=\"390.966797\" xlink:href=\"#DejaVuSans-111\"/>\r\n       <use x=\"452.148438\" xlink:href=\"#DejaVuSans-118\"/>\r\n       <use x=\"511.328125\" xlink:href=\"#DejaVuSans-101\"/>\r\n       <use x=\"572.851562\" xlink:href=\"#DejaVuSans-115\"/>\r\n      </g>\r\n     </g>\r\n    </g>\r\n    <g id=\"xtick_8\">\r\n     <g id=\"line2d_8\">\r\n      <g>\r\n       <use style=\"stroke:#000000;stroke-width:0.8;\" x=\"315.629688\" xlink:href=\"#m4c474ecac7\" y=\"245.836875\"/>\r\n      </g>\r\n     </g>\r\n     <g id=\"text_8\">\r\n      <!-- butter -->\r\n      <g transform=\"translate(318.389063 283.6275)rotate(-90)scale(0.1 -0.1)\">\r\n       <defs>\r\n        <path d=\"M 48.6875 27.296875 \r\nQ 48.6875 37.203125 44.609375 42.84375 \r\nQ 40.53125 48.484375 33.40625 48.484375 \r\nQ 26.265625 48.484375 22.1875 42.84375 \r\nQ 18.109375 37.203125 18.109375 27.296875 \r\nQ 18.109375 17.390625 22.1875 11.75 \r\nQ 26.265625 6.109375 33.40625 6.109375 \r\nQ 40.53125 6.109375 44.609375 11.75 \r\nQ 48.6875 17.390625 48.6875 27.296875 \r\nz\r\nM 18.109375 46.390625 \r\nQ 20.953125 51.265625 25.265625 53.625 \r\nQ 29.59375 56 35.59375 56 \r\nQ 45.5625 56 51.78125 48.09375 \r\nQ 58.015625 40.1875 58.015625 27.296875 \r\nQ 58.015625 14.40625 51.78125 6.484375 \r\nQ 45.5625 -1.421875 35.59375 -1.421875 \r\nQ 29.59375 -1.421875 25.265625 0.953125 \r\nQ 20.953125 3.328125 18.109375 8.203125 \r\nL 18.109375 0 \r\nL 9.078125 0 \r\nL 9.078125 75.984375 \r\nL 18.109375 75.984375 \r\nz\r\n\" id=\"DejaVuSans-98\"/>\r\n       </defs>\r\n       <use xlink:href=\"#DejaVuSans-98\"/>\r\n       <use x=\"63.476562\" xlink:href=\"#DejaVuSans-117\"/>\r\n       <use x=\"126.855469\" xlink:href=\"#DejaVuSans-116\"/>\r\n       <use x=\"166.064453\" xlink:href=\"#DejaVuSans-116\"/>\r\n       <use x=\"205.273438\" xlink:href=\"#DejaVuSans-101\"/>\r\n       <use x=\"266.796875\" xlink:href=\"#DejaVuSans-114\"/>\r\n      </g>\r\n     </g>\r\n    </g>\r\n    <g id=\"xtick_9\">\r\n     <g id=\"line2d_9\">\r\n      <g>\r\n       <use style=\"stroke:#000000;stroke-width:0.8;\" x=\"349.109688\" xlink:href=\"#m4c474ecac7\" y=\"245.836875\"/>\r\n      </g>\r\n     </g>\r\n     <g id=\"text_9\">\r\n      <!-- ground black pepper -->\r\n      <g transform=\"translate(351.869063 356.575937)rotate(-90)scale(0.1 -0.1)\">\r\n       <defs>\r\n        <path d=\"M 45.40625 46.390625 \r\nL 45.40625 75.984375 \r\nL 54.390625 75.984375 \r\nL 54.390625 0 \r\nL 45.40625 0 \r\nL 45.40625 8.203125 \r\nQ 42.578125 3.328125 38.25 0.953125 \r\nQ 33.9375 -1.421875 27.875 -1.421875 \r\nQ 17.96875 -1.421875 11.734375 6.484375 \r\nQ 5.515625 14.40625 5.515625 27.296875 \r\nQ 5.515625 40.1875 11.734375 48.09375 \r\nQ 17.96875 56 27.875 56 \r\nQ 33.9375 56 38.25 53.625 \r\nQ 42.578125 51.265625 45.40625 46.390625 \r\nz\r\nM 14.796875 27.296875 \r\nQ 14.796875 17.390625 18.875 11.75 \r\nQ 22.953125 6.109375 30.078125 6.109375 \r\nQ 37.203125 6.109375 41.296875 11.75 \r\nQ 45.40625 17.390625 45.40625 27.296875 \r\nQ 45.40625 37.203125 41.296875 42.84375 \r\nQ 37.203125 48.484375 30.078125 48.484375 \r\nQ 22.953125 48.484375 18.875 42.84375 \r\nQ 14.796875 37.203125 14.796875 27.296875 \r\nz\r\n\" id=\"DejaVuSans-100\"/>\r\n        <path d=\"M 9.078125 75.984375 \r\nL 18.109375 75.984375 \r\nL 18.109375 31.109375 \r\nL 44.921875 54.6875 \r\nL 56.390625 54.6875 \r\nL 27.390625 29.109375 \r\nL 57.625 0 \r\nL 45.90625 0 \r\nL 18.109375 26.703125 \r\nL 18.109375 0 \r\nL 9.078125 0 \r\nz\r\n\" id=\"DejaVuSans-107\"/>\r\n        <path d=\"M 18.109375 8.203125 \r\nL 18.109375 -20.796875 \r\nL 9.078125 -20.796875 \r\nL 9.078125 54.6875 \r\nL 18.109375 54.6875 \r\nL 18.109375 46.390625 \r\nQ 20.953125 51.265625 25.265625 53.625 \r\nQ 29.59375 56 35.59375 56 \r\nQ 45.5625 56 51.78125 48.09375 \r\nQ 58.015625 40.1875 58.015625 27.296875 \r\nQ 58.015625 14.40625 51.78125 6.484375 \r\nQ 45.5625 -1.421875 35.59375 -1.421875 \r\nQ 29.59375 -1.421875 25.265625 0.953125 \r\nQ 20.953125 3.328125 18.109375 8.203125 \r\nz\r\nM 48.6875 27.296875 \r\nQ 48.6875 37.203125 44.609375 42.84375 \r\nQ 40.53125 48.484375 33.40625 48.484375 \r\nQ 26.265625 48.484375 22.1875 42.84375 \r\nQ 18.109375 37.203125 18.109375 27.296875 \r\nQ 18.109375 17.390625 22.1875 11.75 \r\nQ 26.265625 6.109375 33.40625 6.109375 \r\nQ 40.53125 6.109375 44.609375 11.75 \r\nQ 48.6875 17.390625 48.6875 27.296875 \r\nz\r\n\" id=\"DejaVuSans-112\"/>\r\n       </defs>\r\n       <use xlink:href=\"#DejaVuSans-103\"/>\r\n       <use x=\"63.476562\" xlink:href=\"#DejaVuSans-114\"/>\r\n       <use x=\"102.339844\" xlink:href=\"#DejaVuSans-111\"/>\r\n       <use x=\"163.521484\" xlink:href=\"#DejaVuSans-117\"/>\r\n       <use x=\"226.900391\" xlink:href=\"#DejaVuSans-110\"/>\r\n       <use x=\"290.279297\" xlink:href=\"#DejaVuSans-100\"/>\r\n       <use x=\"353.755859\" xlink:href=\"#DejaVuSans-32\"/>\r\n       <use x=\"385.542969\" xlink:href=\"#DejaVuSans-98\"/>\r\n       <use x=\"449.019531\" xlink:href=\"#DejaVuSans-108\"/>\r\n       <use x=\"476.802734\" xlink:href=\"#DejaVuSans-97\"/>\r\n       <use x=\"538.082031\" xlink:href=\"#DejaVuSans-99\"/>\r\n       <use x=\"593.0625\" xlink:href=\"#DejaVuSans-107\"/>\r\n       <use x=\"650.972656\" xlink:href=\"#DejaVuSans-32\"/>\r\n       <use x=\"682.759766\" xlink:href=\"#DejaVuSans-112\"/>\r\n       <use x=\"746.236328\" xlink:href=\"#DejaVuSans-101\"/>\r\n       <use x=\"807.759766\" xlink:href=\"#DejaVuSans-112\"/>\r\n       <use x=\"871.236328\" xlink:href=\"#DejaVuSans-112\"/>\r\n       <use x=\"934.712891\" xlink:href=\"#DejaVuSans-101\"/>\r\n       <use x=\"996.236328\" xlink:href=\"#DejaVuSans-114\"/>\r\n      </g>\r\n     </g>\r\n    </g>\r\n    <g id=\"xtick_10\">\r\n     <g id=\"line2d_10\">\r\n      <g>\r\n       <use style=\"stroke:#000000;stroke-width:0.8;\" x=\"382.589688\" xlink:href=\"#m4c474ecac7\" y=\"245.836875\"/>\r\n      </g>\r\n     </g>\r\n     <g id=\"text_10\">\r\n      <!-- all-purpose flour -->\r\n      <g transform=\"translate(385.349063 334.799375)rotate(-90)scale(0.1 -0.1)\">\r\n       <defs>\r\n        <path d=\"M 4.890625 31.390625 \r\nL 31.203125 31.390625 \r\nL 31.203125 23.390625 \r\nL 4.890625 23.390625 \r\nz\r\n\" id=\"DejaVuSans-45\"/>\r\n        <path d=\"M 37.109375 75.984375 \r\nL 37.109375 68.5 \r\nL 28.515625 68.5 \r\nQ 23.6875 68.5 21.796875 66.546875 \r\nQ 19.921875 64.59375 19.921875 59.515625 \r\nL 19.921875 54.6875 \r\nL 34.71875 54.6875 \r\nL 34.71875 47.703125 \r\nL 19.921875 47.703125 \r\nL 19.921875 0 \r\nL 10.890625 0 \r\nL 10.890625 47.703125 \r\nL 2.296875 47.703125 \r\nL 2.296875 54.6875 \r\nL 10.890625 54.6875 \r\nL 10.890625 58.5 \r\nQ 10.890625 67.625 15.140625 71.796875 \r\nQ 19.390625 75.984375 28.609375 75.984375 \r\nz\r\n\" id=\"DejaVuSans-102\"/>\r\n       </defs>\r\n       <use xlink:href=\"#DejaVuSans-97\"/>\r\n       <use x=\"61.279297\" xlink:href=\"#DejaVuSans-108\"/>\r\n       <use x=\"89.0625\" xlink:href=\"#DejaVuSans-108\"/>\r\n       <use x=\"116.845703\" xlink:href=\"#DejaVuSans-45\"/>\r\n       <use x=\"152.929688\" xlink:href=\"#DejaVuSans-112\"/>\r\n       <use x=\"216.40625\" xlink:href=\"#DejaVuSans-117\"/>\r\n       <use x=\"279.785156\" xlink:href=\"#DejaVuSans-114\"/>\r\n       <use x=\"320.898438\" xlink:href=\"#DejaVuSans-112\"/>\r\n       <use x=\"384.375\" xlink:href=\"#DejaVuSans-111\"/>\r\n       <use x=\"445.556641\" xlink:href=\"#DejaVuSans-115\"/>\r\n       <use x=\"497.65625\" xlink:href=\"#DejaVuSans-101\"/>\r\n       <use x=\"559.179688\" xlink:href=\"#DejaVuSans-32\"/>\r\n       <use x=\"590.966797\" xlink:href=\"#DejaVuSans-102\"/>\r\n       <use x=\"626.171875\" xlink:href=\"#DejaVuSans-108\"/>\r\n       <use x=\"653.955078\" xlink:href=\"#DejaVuSans-111\"/>\r\n       <use x=\"715.136719\" xlink:href=\"#DejaVuSans-117\"/>\r\n       <use x=\"778.515625\" xlink:href=\"#DejaVuSans-114\"/>\r\n      </g>\r\n     </g>\r\n    </g>\r\n    <g id=\"text_11\">\r\n     <!-- Occurrences -->\r\n     <g transform=\"translate(185.144922 371.973594)scale(0.15 -0.15)\">\r\n      <defs>\r\n       <path d=\"M 39.40625 66.21875 \r\nQ 28.65625 66.21875 22.328125 58.203125 \r\nQ 16.015625 50.203125 16.015625 36.375 \r\nQ 16.015625 22.609375 22.328125 14.59375 \r\nQ 28.65625 6.59375 39.40625 6.59375 \r\nQ 50.140625 6.59375 56.421875 14.59375 \r\nQ 62.703125 22.609375 62.703125 36.375 \r\nQ 62.703125 50.203125 56.421875 58.203125 \r\nQ 50.140625 66.21875 39.40625 66.21875 \r\nz\r\nM 39.40625 74.21875 \r\nQ 54.734375 74.21875 63.90625 63.9375 \r\nQ 73.09375 53.65625 73.09375 36.375 \r\nQ 73.09375 19.140625 63.90625 8.859375 \r\nQ 54.734375 -1.421875 39.40625 -1.421875 \r\nQ 24.03125 -1.421875 14.8125 8.828125 \r\nQ 5.609375 19.09375 5.609375 36.375 \r\nQ 5.609375 53.65625 14.8125 63.9375 \r\nQ 24.03125 74.21875 39.40625 74.21875 \r\nz\r\n\" id=\"DejaVuSans-79\"/>\r\n      </defs>\r\n      <use xlink:href=\"#DejaVuSans-79\"/>\r\n      <use x=\"78.710938\" xlink:href=\"#DejaVuSans-99\"/>\r\n      <use x=\"133.691406\" xlink:href=\"#DejaVuSans-99\"/>\r\n      <use x=\"188.671875\" xlink:href=\"#DejaVuSans-117\"/>\r\n      <use x=\"252.050781\" xlink:href=\"#DejaVuSans-114\"/>\r\n      <use x=\"291.414062\" xlink:href=\"#DejaVuSans-114\"/>\r\n      <use x=\"330.277344\" xlink:href=\"#DejaVuSans-101\"/>\r\n      <use x=\"391.800781\" xlink:href=\"#DejaVuSans-110\"/>\r\n      <use x=\"455.179688\" xlink:href=\"#DejaVuSans-99\"/>\r\n      <use x=\"510.160156\" xlink:href=\"#DejaVuSans-101\"/>\r\n      <use x=\"571.683594\" xlink:href=\"#DejaVuSans-115\"/>\r\n     </g>\r\n    </g>\r\n   </g>\r\n   <g id=\"matplotlib.axis_2\">\r\n    <g id=\"ytick_1\">\r\n     <g id=\"line2d_11\">\r\n      <defs>\r\n       <path d=\"M 0 0 \r\nL -3.5 0 \r\n\" id=\"m1204e09b0c\" style=\"stroke:#000000;stroke-width:0.8;\"/>\r\n      </defs>\r\n      <g>\r\n       <use style=\"stroke:#000000;stroke-width:0.8;\" x=\"64.529687\" xlink:href=\"#m1204e09b0c\" y=\"245.836875\"/>\r\n      </g>\r\n     </g>\r\n     <g id=\"text_12\">\r\n      <!-- 0 -->\r\n      <g transform=\"translate(51.167187 249.636094)scale(0.1 -0.1)\">\r\n       <defs>\r\n        <path d=\"M 31.78125 66.40625 \r\nQ 24.171875 66.40625 20.328125 58.90625 \r\nQ 16.5 51.421875 16.5 36.375 \r\nQ 16.5 21.390625 20.328125 13.890625 \r\nQ 24.171875 6.390625 31.78125 6.390625 \r\nQ 39.453125 6.390625 43.28125 13.890625 \r\nQ 47.125 21.390625 47.125 36.375 \r\nQ 47.125 51.421875 43.28125 58.90625 \r\nQ 39.453125 66.40625 31.78125 66.40625 \r\nz\r\nM 31.78125 74.21875 \r\nQ 44.046875 74.21875 50.515625 64.515625 \r\nQ 56.984375 54.828125 56.984375 36.375 \r\nQ 56.984375 17.96875 50.515625 8.265625 \r\nQ 44.046875 -1.421875 31.78125 -1.421875 \r\nQ 19.53125 -1.421875 13.0625 8.265625 \r\nQ 6.59375 17.96875 6.59375 36.375 \r\nQ 6.59375 54.828125 13.0625 64.515625 \r\nQ 19.53125 74.21875 31.78125 74.21875 \r\nz\r\n\" id=\"DejaVuSans-48\"/>\r\n       </defs>\r\n       <use xlink:href=\"#DejaVuSans-48\"/>\r\n      </g>\r\n     </g>\r\n    </g>\r\n    <g id=\"ytick_2\">\r\n     <g id=\"line2d_12\">\r\n      <g>\r\n       <use style=\"stroke:#000000;stroke-width:0.8;\" x=\"64.529687\" xlink:href=\"#m1204e09b0c\" y=\"217.153054\"/>\r\n      </g>\r\n     </g>\r\n     <g id=\"text_13\">\r\n      <!-- 2500 -->\r\n      <g transform=\"translate(32.079687 220.952273)scale(0.1 -0.1)\">\r\n       <defs>\r\n        <path d=\"M 19.1875 8.296875 \r\nL 53.609375 8.296875 \r\nL 53.609375 0 \r\nL 7.328125 0 \r\nL 7.328125 8.296875 \r\nQ 12.9375 14.109375 22.625 23.890625 \r\nQ 32.328125 33.6875 34.8125 36.53125 \r\nQ 39.546875 41.84375 41.421875 45.53125 \r\nQ 43.3125 49.21875 43.3125 52.78125 \r\nQ 43.3125 58.59375 39.234375 62.25 \r\nQ 35.15625 65.921875 28.609375 65.921875 \r\nQ 23.96875 65.921875 18.8125 64.3125 \r\nQ 13.671875 62.703125 7.8125 59.421875 \r\nL 7.8125 69.390625 \r\nQ 13.765625 71.78125 18.9375 73 \r\nQ 24.125 74.21875 28.421875 74.21875 \r\nQ 39.75 74.21875 46.484375 68.546875 \r\nQ 53.21875 62.890625 53.21875 53.421875 \r\nQ 53.21875 48.921875 51.53125 44.890625 \r\nQ 49.859375 40.875 45.40625 35.40625 \r\nQ 44.1875 33.984375 37.640625 27.21875 \r\nQ 31.109375 20.453125 19.1875 8.296875 \r\nz\r\n\" id=\"DejaVuSans-50\"/>\r\n        <path d=\"M 10.796875 72.90625 \r\nL 49.515625 72.90625 \r\nL 49.515625 64.59375 \r\nL 19.828125 64.59375 \r\nL 19.828125 46.734375 \r\nQ 21.96875 47.46875 24.109375 47.828125 \r\nQ 26.265625 48.1875 28.421875 48.1875 \r\nQ 40.625 48.1875 47.75 41.5 \r\nQ 54.890625 34.8125 54.890625 23.390625 \r\nQ 54.890625 11.625 47.5625 5.09375 \r\nQ 40.234375 -1.421875 26.90625 -1.421875 \r\nQ 22.3125 -1.421875 17.546875 -0.640625 \r\nQ 12.796875 0.140625 7.71875 1.703125 \r\nL 7.71875 11.625 \r\nQ 12.109375 9.234375 16.796875 8.0625 \r\nQ 21.484375 6.890625 26.703125 6.890625 \r\nQ 35.15625 6.890625 40.078125 11.328125 \r\nQ 45.015625 15.765625 45.015625 23.390625 \r\nQ 45.015625 31 40.078125 35.4375 \r\nQ 35.15625 39.890625 26.703125 39.890625 \r\nQ 22.75 39.890625 18.8125 39.015625 \r\nQ 14.890625 38.140625 10.796875 36.28125 \r\nz\r\n\" id=\"DejaVuSans-53\"/>\r\n       </defs>\r\n       <use xlink:href=\"#DejaVuSans-50\"/>\r\n       <use x=\"63.623047\" xlink:href=\"#DejaVuSans-53\"/>\r\n       <use x=\"127.246094\" xlink:href=\"#DejaVuSans-48\"/>\r\n       <use x=\"190.869141\" xlink:href=\"#DejaVuSans-48\"/>\r\n      </g>\r\n     </g>\r\n    </g>\r\n    <g id=\"ytick_3\">\r\n     <g id=\"line2d_13\">\r\n      <g>\r\n       <use style=\"stroke:#000000;stroke-width:0.8;\" x=\"64.529687\" xlink:href=\"#m1204e09b0c\" y=\"188.469233\"/>\r\n      </g>\r\n     </g>\r\n     <g id=\"text_14\">\r\n      <!-- 5000 -->\r\n      <g transform=\"translate(32.079687 192.268452)scale(0.1 -0.1)\">\r\n       <use xlink:href=\"#DejaVuSans-53\"/>\r\n       <use x=\"63.623047\" xlink:href=\"#DejaVuSans-48\"/>\r\n       <use x=\"127.246094\" xlink:href=\"#DejaVuSans-48\"/>\r\n       <use x=\"190.869141\" xlink:href=\"#DejaVuSans-48\"/>\r\n      </g>\r\n     </g>\r\n    </g>\r\n    <g id=\"ytick_4\">\r\n     <g id=\"line2d_14\">\r\n      <g>\r\n       <use style=\"stroke:#000000;stroke-width:0.8;\" x=\"64.529687\" xlink:href=\"#m1204e09b0c\" y=\"159.785412\"/>\r\n      </g>\r\n     </g>\r\n     <g id=\"text_15\">\r\n      <!-- 7500 -->\r\n      <g transform=\"translate(32.079687 163.584631)scale(0.1 -0.1)\">\r\n       <defs>\r\n        <path d=\"M 8.203125 72.90625 \r\nL 55.078125 72.90625 \r\nL 55.078125 68.703125 \r\nL 28.609375 0 \r\nL 18.3125 0 \r\nL 43.21875 64.59375 \r\nL 8.203125 64.59375 \r\nz\r\n\" id=\"DejaVuSans-55\"/>\r\n       </defs>\r\n       <use xlink:href=\"#DejaVuSans-55\"/>\r\n       <use x=\"63.623047\" xlink:href=\"#DejaVuSans-53\"/>\r\n       <use x=\"127.246094\" xlink:href=\"#DejaVuSans-48\"/>\r\n       <use x=\"190.869141\" xlink:href=\"#DejaVuSans-48\"/>\r\n      </g>\r\n     </g>\r\n    </g>\r\n    <g id=\"ytick_5\">\r\n     <g id=\"line2d_15\">\r\n      <g>\r\n       <use style=\"stroke:#000000;stroke-width:0.8;\" x=\"64.529687\" xlink:href=\"#m1204e09b0c\" y=\"131.101591\"/>\r\n      </g>\r\n     </g>\r\n     <g id=\"text_16\">\r\n      <!-- 10000 -->\r\n      <g transform=\"translate(25.717187 134.90081)scale(0.1 -0.1)\">\r\n       <defs>\r\n        <path d=\"M 12.40625 8.296875 \r\nL 28.515625 8.296875 \r\nL 28.515625 63.921875 \r\nL 10.984375 60.40625 \r\nL 10.984375 69.390625 \r\nL 28.421875 72.90625 \r\nL 38.28125 72.90625 \r\nL 38.28125 8.296875 \r\nL 54.390625 8.296875 \r\nL 54.390625 0 \r\nL 12.40625 0 \r\nz\r\n\" id=\"DejaVuSans-49\"/>\r\n       </defs>\r\n       <use xlink:href=\"#DejaVuSans-49\"/>\r\n       <use x=\"63.623047\" xlink:href=\"#DejaVuSans-48\"/>\r\n       <use x=\"127.246094\" xlink:href=\"#DejaVuSans-48\"/>\r\n       <use x=\"190.869141\" xlink:href=\"#DejaVuSans-48\"/>\r\n       <use x=\"254.492188\" xlink:href=\"#DejaVuSans-48\"/>\r\n      </g>\r\n     </g>\r\n    </g>\r\n    <g id=\"ytick_6\">\r\n     <g id=\"line2d_16\">\r\n      <g>\r\n       <use style=\"stroke:#000000;stroke-width:0.8;\" x=\"64.529687\" xlink:href=\"#m1204e09b0c\" y=\"102.41777\"/>\r\n      </g>\r\n     </g>\r\n     <g id=\"text_17\">\r\n      <!-- 12500 -->\r\n      <g transform=\"translate(25.717187 106.216989)scale(0.1 -0.1)\">\r\n       <use xlink:href=\"#DejaVuSans-49\"/>\r\n       <use x=\"63.623047\" xlink:href=\"#DejaVuSans-50\"/>\r\n       <use x=\"127.246094\" xlink:href=\"#DejaVuSans-53\"/>\r\n       <use x=\"190.869141\" xlink:href=\"#DejaVuSans-48\"/>\r\n       <use x=\"254.492188\" xlink:href=\"#DejaVuSans-48\"/>\r\n      </g>\r\n     </g>\r\n    </g>\r\n    <g id=\"ytick_7\">\r\n     <g id=\"line2d_17\">\r\n      <g>\r\n       <use style=\"stroke:#000000;stroke-width:0.8;\" x=\"64.529687\" xlink:href=\"#m1204e09b0c\" y=\"73.733949\"/>\r\n      </g>\r\n     </g>\r\n     <g id=\"text_18\">\r\n      <!-- 15000 -->\r\n      <g transform=\"translate(25.717187 77.533168)scale(0.1 -0.1)\">\r\n       <use xlink:href=\"#DejaVuSans-49\"/>\r\n       <use x=\"63.623047\" xlink:href=\"#DejaVuSans-53\"/>\r\n       <use x=\"127.246094\" xlink:href=\"#DejaVuSans-48\"/>\r\n       <use x=\"190.869141\" xlink:href=\"#DejaVuSans-48\"/>\r\n       <use x=\"254.492188\" xlink:href=\"#DejaVuSans-48\"/>\r\n      </g>\r\n     </g>\r\n    </g>\r\n    <g id=\"ytick_8\">\r\n     <g id=\"line2d_18\">\r\n      <g>\r\n       <use style=\"stroke:#000000;stroke-width:0.8;\" x=\"64.529687\" xlink:href=\"#m1204e09b0c\" y=\"45.050128\"/>\r\n      </g>\r\n     </g>\r\n     <g id=\"text_19\">\r\n      <!-- 17500 -->\r\n      <g transform=\"translate(25.717187 48.849347)scale(0.1 -0.1)\">\r\n       <use xlink:href=\"#DejaVuSans-49\"/>\r\n       <use x=\"63.623047\" xlink:href=\"#DejaVuSans-55\"/>\r\n       <use x=\"127.246094\" xlink:href=\"#DejaVuSans-53\"/>\r\n       <use x=\"190.869141\" xlink:href=\"#DejaVuSans-48\"/>\r\n       <use x=\"254.492188\" xlink:href=\"#DejaVuSans-48\"/>\r\n      </g>\r\n     </g>\r\n    </g>\r\n    <g id=\"text_20\">\r\n     <!-- Ingredients -->\r\n     <g transform=\"translate(18.597656 179.433281)rotate(-90)scale(0.15 -0.15)\">\r\n      <defs>\r\n       <path d=\"M 9.8125 72.90625 \r\nL 19.671875 72.90625 \r\nL 19.671875 0 \r\nL 9.8125 0 \r\nz\r\n\" id=\"DejaVuSans-73\"/>\r\n      </defs>\r\n      <use xlink:href=\"#DejaVuSans-73\"/>\r\n      <use x=\"29.492188\" xlink:href=\"#DejaVuSans-110\"/>\r\n      <use x=\"92.871094\" xlink:href=\"#DejaVuSans-103\"/>\r\n      <use x=\"156.347656\" xlink:href=\"#DejaVuSans-114\"/>\r\n      <use x=\"195.210938\" xlink:href=\"#DejaVuSans-101\"/>\r\n      <use x=\"256.734375\" xlink:href=\"#DejaVuSans-100\"/>\r\n      <use x=\"320.210938\" xlink:href=\"#DejaVuSans-105\"/>\r\n      <use x=\"347.994141\" xlink:href=\"#DejaVuSans-101\"/>\r\n      <use x=\"409.517578\" xlink:href=\"#DejaVuSans-110\"/>\r\n      <use x=\"472.896484\" xlink:href=\"#DejaVuSans-116\"/>\r\n      <use x=\"512.105469\" xlink:href=\"#DejaVuSans-115\"/>\r\n     </g>\r\n    </g>\r\n   </g>\r\n   <g id=\"patch_13\">\r\n    <path d=\"M 64.529687 245.836875 \r\nL 64.529687 28.396875 \r\n\" style=\"fill:none;stroke:#000000;stroke-linecap:square;stroke-linejoin:miter;stroke-width:0.8;\"/>\r\n   </g>\r\n   <g id=\"patch_14\">\r\n    <path d=\"M 399.329688 245.836875 \r\nL 399.329688 28.396875 \r\n\" style=\"fill:none;stroke:#000000;stroke-linecap:square;stroke-linejoin:miter;stroke-width:0.8;\"/>\r\n   </g>\r\n   <g id=\"patch_15\">\r\n    <path d=\"M 64.529687 245.836875 \r\nL 399.329688 245.836875 \r\n\" style=\"fill:none;stroke:#000000;stroke-linecap:square;stroke-linejoin:miter;stroke-width:0.8;\"/>\r\n   </g>\r\n   <g id=\"patch_16\">\r\n    <path d=\"M 64.529687 28.396875 \r\nL 399.329688 28.396875 \r\n\" style=\"fill:none;stroke:#000000;stroke-linecap:square;stroke-linejoin:miter;stroke-width:0.8;\"/>\r\n   </g>\r\n   <g id=\"text_21\">\r\n    <!-- Most common ingredients -->\r\n    <g style=\"fill:#ff0000;\" transform=\"translate(101.892188 22.396875)scale(0.2 -0.2)\">\r\n     <defs>\r\n      <path d=\"M 9.8125 72.90625 \r\nL 24.515625 72.90625 \r\nL 43.109375 23.296875 \r\nL 61.8125 72.90625 \r\nL 76.515625 72.90625 \r\nL 76.515625 0 \r\nL 66.890625 0 \r\nL 66.890625 64.015625 \r\nL 48.09375 14.015625 \r\nL 38.1875 14.015625 \r\nL 19.390625 64.015625 \r\nL 19.390625 0 \r\nL 9.8125 0 \r\nz\r\n\" id=\"DejaVuSans-77\"/>\r\n      <path d=\"M 52 44.1875 \r\nQ 55.375 50.25 60.0625 53.125 \r\nQ 64.75 56 71.09375 56 \r\nQ 79.640625 56 84.28125 50.015625 \r\nQ 88.921875 44.046875 88.921875 33.015625 \r\nL 88.921875 0 \r\nL 79.890625 0 \r\nL 79.890625 32.71875 \r\nQ 79.890625 40.578125 77.09375 44.375 \r\nQ 74.3125 48.1875 68.609375 48.1875 \r\nQ 61.625 48.1875 57.5625 43.546875 \r\nQ 53.515625 38.921875 53.515625 30.90625 \r\nL 53.515625 0 \r\nL 44.484375 0 \r\nL 44.484375 32.71875 \r\nQ 44.484375 40.625 41.703125 44.40625 \r\nQ 38.921875 48.1875 33.109375 48.1875 \r\nQ 26.21875 48.1875 22.15625 43.53125 \r\nQ 18.109375 38.875 18.109375 30.90625 \r\nL 18.109375 0 \r\nL 9.078125 0 \r\nL 9.078125 54.6875 \r\nL 18.109375 54.6875 \r\nL 18.109375 46.1875 \r\nQ 21.1875 51.21875 25.484375 53.609375 \r\nQ 29.78125 56 35.6875 56 \r\nQ 41.65625 56 45.828125 52.96875 \r\nQ 50 49.953125 52 44.1875 \r\nz\r\n\" id=\"DejaVuSans-109\"/>\r\n     </defs>\r\n     <use xlink:href=\"#DejaVuSans-77\"/>\r\n     <use x=\"86.279297\" xlink:href=\"#DejaVuSans-111\"/>\r\n     <use x=\"147.460938\" xlink:href=\"#DejaVuSans-115\"/>\r\n     <use x=\"199.560547\" xlink:href=\"#DejaVuSans-116\"/>\r\n     <use x=\"238.769531\" xlink:href=\"#DejaVuSans-32\"/>\r\n     <use x=\"270.556641\" xlink:href=\"#DejaVuSans-99\"/>\r\n     <use x=\"325.537109\" xlink:href=\"#DejaVuSans-111\"/>\r\n     <use x=\"386.71875\" xlink:href=\"#DejaVuSans-109\"/>\r\n     <use x=\"484.130859\" xlink:href=\"#DejaVuSans-109\"/>\r\n     <use x=\"581.542969\" xlink:href=\"#DejaVuSans-111\"/>\r\n     <use x=\"642.724609\" xlink:href=\"#DejaVuSans-110\"/>\r\n     <use x=\"706.103516\" xlink:href=\"#DejaVuSans-32\"/>\r\n     <use x=\"737.890625\" xlink:href=\"#DejaVuSans-105\"/>\r\n     <use x=\"765.673828\" xlink:href=\"#DejaVuSans-110\"/>\r\n     <use x=\"829.052734\" xlink:href=\"#DejaVuSans-103\"/>\r\n     <use x=\"892.529297\" xlink:href=\"#DejaVuSans-114\"/>\r\n     <use x=\"931.392578\" xlink:href=\"#DejaVuSans-101\"/>\r\n     <use x=\"992.916016\" xlink:href=\"#DejaVuSans-100\"/>\r\n     <use x=\"1056.392578\" xlink:href=\"#DejaVuSans-105\"/>\r\n     <use x=\"1084.175781\" xlink:href=\"#DejaVuSans-101\"/>\r\n     <use x=\"1145.699219\" xlink:href=\"#DejaVuSans-110\"/>\r\n     <use x=\"1209.078125\" xlink:href=\"#DejaVuSans-116\"/>\r\n     <use x=\"1248.287109\" xlink:href=\"#DejaVuSans-115\"/>\r\n    </g>\r\n   </g>\r\n  </g>\r\n </g>\r\n <defs>\r\n  <clipPath id=\"pcac055295b\">\r\n   <rect height=\"217.44\" width=\"334.8\" x=\"64.529687\" y=\"28.396875\"/>\r\n  </clipPath>\r\n </defs>\r\n</svg>\r\n",
      "image/png": "[encoded data removed]"
     },
     "metadata": {
      "needs_background": "light"
     }
    }
   ],
   "source": [
    "ingredients = get_ingredients(df[\"ingredients\"])\n",
    "plt = ingredients.value_counts()[:10].plot(kind='bar', rot=90,fontsize=10)\n",
    "plt.set_xlabel('Occurrences', fontsize=15)\n",
    "plt.set_ylabel('Ingredients', fontsize=15)\n",
    "plt.set_title('Most common ingredients', fontsize=20 , color='red')\n"
   ]
  },
  {
   "cell_type": "code",
   "execution_count": 50,
   "metadata": {
    "scrolled": true
   },
   "outputs": [
    {
     "output_type": "execute_result",
     "data": {
      "text/plain": [
       "cuisine\n",
       "brazilian       [ice cubes, club soda, white rum, lime, turbin...\n",
       "british         [greek yogurt, lemon curd, confectioners sugar...\n",
       "cajun_creole    [herbs, lemon juice, fresh tomatoes, paprika, ...\n",
       "chinese         [low sodium soy sauce, fresh ginger, dry musta...\n",
       "filipino        [eggs, pepper, salt, mayonaise, cooking oil, g...\n",
       "french          [sugar, salt, fennel bulb, water, lemon olive ...\n",
       "greek           [romaine lettuce, black olives, grape tomatoes...\n",
       "indian          [water, vegetable oil, wheat, salt, black pepp...\n",
       "irish           [cooking spray, salt, black pepper, yukon gold...\n",
       "italian         [sugar, pistachio nuts, white almond bark, flo...\n",
       "jamaican        [plain flour, sugar, butter, eggs, fresh ginge...\n",
       "japanese        [sirloin, mirin, yellow onion, low sodium soy ...\n",
       "korean          [jasmine rice, garlic, scallions, sugar, shiit...\n",
       "mexican         [olive oil, purple onion, fresh pineapple, por...\n",
       "moroccan        [ground cloves, whole nutmegs, ground ginger, ...\n",
       "russian         [water, grits, mozzarella cheese, salt, water,...\n",
       "southern_us     [plain flour, ground pepper, salt, tomatoes, g...\n",
       "spanish         [olive oil, salt, medium shrimp, pepper, garli...\n",
       "thai            [sugar, hot chili, asian fish sauce, lime juic...\n",
       "vietnamese      [soy sauce, vegetable oil, red bell pepper, ch...\n",
       "Name: ingredients, dtype: object"
      ]
     },
     "metadata": {},
     "execution_count": 50
    }
   ],
   "source": [
    "# Group all ingredients by cuisine\n",
    "groupbyCuisine = df.groupby('cuisine')['ingredients'].sum()\n",
    "groupbyCuisine"
   ]
  },
  {
   "cell_type": "code",
   "execution_count": 51,
   "metadata": {},
   "outputs": [
    {
     "output_type": "execute_result",
     "data": {
      "text/plain": [
       "cuisine\n",
       "brazilian       {'salt': 194, 'onions': 133, 'olive oil': 118,...\n",
       "british         {'salt': 407, 'all-purpose flour': 238, 'butte...\n",
       "cajun_creole    {'salt': 743, 'onions': 529, 'garlic': 370, 'g...\n",
       "chinese         {'soy sauce': 1363, 'sesame oil': 915, 'salt':...\n",
       "filipino        {'salt': 421, 'garlic': 325, 'water': 310, 'on...\n",
       "french          {'salt': 1203, 'sugar': 637, 'all-purpose flou...\n",
       "greek           {'salt': 572, 'olive oil': 504, 'dried oregano...\n",
       "indian          {'salt': 1934, 'onions': 1195, 'garam masala':...\n",
       "irish           {'salt': 376, 'all-purpose flour': 219, 'butte...\n",
       "italian         {'salt': 3454, 'olive oil': 3111, 'garlic clov...\n",
       "jamaican        {'salt': 332, 'onions': 173, 'water': 153, 'ga...\n",
       "japanese        {'soy sauce': 561, 'salt': 422, 'mirin': 402, ...\n",
       "korean          {'soy sauce': 427, 'sesame oil': 403, 'garlic'...\n",
       "mexican         {'salt': 2720, 'onions': 1493, 'ground cumin':...\n",
       "moroccan        {'salt': 413, 'olive oil': 412, 'ground cumin'...\n",
       "russian         {'salt': 288, 'sugar': 155, 'onions': 145, 'al...\n",
       "southern_us     {'salt': 2290, 'butter': 1255, 'all-purpose fl...\n",
       "spanish         {'salt': 460, 'olive oil': 387, 'garlic cloves...\n",
       "thai            {'fish sauce': 625, 'garlic': 414, 'salt': 396...\n",
       "vietnamese      {'fish sauce': 392, 'sugar': 344, 'salt': 264,...\n",
       "Name: ingredients, dtype: object"
      ]
     },
     "metadata": {},
     "execution_count": 51
    }
   ],
   "source": [
    "#Count the number of times each ingredient appears in each cuisine\n",
    "def frequencyItems(group):\n",
    "    return dict(Series(group).value_counts())\n",
    "\n",
    "frequency = groupbyCuisine.apply(frequencyItems)\n",
    "frequency"
   ]
  },
  {
   "cell_type": "code",
   "execution_count": 52,
   "metadata": {},
   "outputs": [
    {
     "output_type": "execute_result",
     "data": {
      "text/plain": [
       "cuisine\n",
       "brazilian       [frozen mango, sugar, olive oil, pizza sauce, ...\n",
       "british         [sugar, olive oil, spelt flour, gooseberries, ...\n",
       "cajun_creole    [poultry seasoning, chicken base, chicken meat...\n",
       "chinese         [chicken base, tea bags, chicken meat, medium ...\n",
       "filipino        [sugar, olive oil, chicken meat, won ton wrapp...\n",
       "french          [chicken base, poultry seasoning, gala apples,...\n",
       "greek           [frozen mango, olive oil, sugar, poultry seaso...\n",
       "indian          [gooseberries, poultry seasoning, batter, pean...\n",
       "irish           [back bacon rashers, olive oil, sugar, poultry...\n",
       "italian         [poultry seasoning, italian sauce, turkey meat...\n",
       "jamaican        [sugar, olive oil, poultry seasoning, chicken ...\n",
       "japanese        [chicken base, gala apples, tea bags, baby rad...\n",
       "korean          [sugar, olive oil, batter, gala apples, pilsne...\n",
       "mexican         [chicken base, batter, chicken meat, chili sea...\n",
       "moroccan        [olive oil, sugar, skinless chicken breasts, c...\n",
       "russian         [sugar, olive oil, spelt flour, whey, mixed fr...\n",
       "southern_us     [gooseberries, poultry seasoning, chicken base...\n",
       "spanish         [chicken base, chicken meat, allspice berries,...\n",
       "thai            [chicken base, poultry seasoning, japanese pea...\n",
       "vietnamese      [Chinese egg noodles, pickled carrots, sugar, ...\n",
       "Name: ingredients, dtype: object"
      ]
     },
     "metadata": {},
     "execution_count": 52
    }
   ],
   "source": [
    "# Get unique ingredients by cuisine\n",
    "def removeDuplicatesItems(value):\n",
    "    return list(set(value))\n",
    "\n",
    "uniqueItems = groupbyCuisine.apply(removeDuplicatesItems)\n",
    "uniqueItems"
   ]
  },
  {
   "cell_type": "code",
   "execution_count": 53,
   "metadata": {},
   "outputs": [
    {
     "output_type": "execute_result",
     "data": {
      "text/plain": [
       "Text(0.5, 1.0, 'Unique ingredients by cuisine')"
      ]
     },
     "metadata": {},
     "execution_count": 53
    },
    {
     "output_type": "display_data",
     "data": {
      "text/plain": "<Figure size 432x288 with 1 Axes>",
      "image/svg+xml": "<?xml version=\"1.0\" encoding=\"utf-8\" standalone=\"no\"?>\r\n<!DOCTYPE svg PUBLIC \"-//W3C//DTD SVG 1.1//EN\"\r\n  \"http://www.w3.org/Graphics/SVG/1.1/DTD/svg11.dtd\">\r\n<!-- Created with matplotlib (https://matplotlib.org/) -->\r\n<svg height=\"341.22125pt\" version=\"1.1\" viewBox=\"0 0 400.167187 341.22125\" width=\"400.167187pt\" xmlns=\"http://www.w3.org/2000/svg\" xmlns:xlink=\"http://www.w3.org/1999/xlink\">\r\n <metadata>\r\n  <rdf:RDF xmlns:cc=\"http://creativecommons.org/ns#\" xmlns:dc=\"http://purl.org/dc/elements/1.1/\" xmlns:rdf=\"http://www.w3.org/1999/02/22-rdf-syntax-ns#\">\r\n   <cc:Work>\r\n    <dc:type rdf:resource=\"http://purl.org/dc/dcmitype/StillImage\"/>\r\n    <dc:date>2021-06-28T23:55:40.964015</dc:date>\r\n    <dc:format>image/svg+xml</dc:format>\r\n    <dc:creator>\r\n     <cc:Agent>\r\n      <dc:title>Matplotlib v3.3.4, https://matplotlib.org/</dc:title>\r\n     </cc:Agent>\r\n    </dc:creator>\r\n   </cc:Work>\r\n  </rdf:RDF>\r\n </metadata>\r\n <defs>\r\n  <style type=\"text/css\">*{stroke-linecap:butt;stroke-linejoin:round;}</style>\r\n </defs>\r\n <g id=\"figure_1\">\r\n  <g id=\"patch_1\">\r\n   <path d=\"M 0 341.22125 \r\nL 400.167187 341.22125 \r\nL 400.167187 0 \r\nL 0 0 \r\nz\r\n\" style=\"fill:none;\"/>\r\n  </g>\r\n  <g id=\"axes_1\">\r\n   <g id=\"patch_2\">\r\n    <path d=\"M 58.167188 245.836875 \r\nL 392.967188 245.836875 \r\nL 392.967188 28.396875 \r\nL 58.167188 28.396875 \r\nz\r\n\" style=\"fill:#ffffff;\"/>\r\n   </g>\r\n   <g id=\"patch_3\">\r\n    <path clip-path=\"url(#pabcc86a11a)\" d=\"M 62.352188 245.836875 \r\nL 70.722188 245.836875 \r\nL 70.722188 38.751161 \r\nL 62.352188 38.751161 \r\nz\r\n\" style=\"fill:#1f77b4;\"/>\r\n   </g>\r\n   <g id=\"patch_4\">\r\n    <path clip-path=\"url(#pabcc86a11a)\" d=\"M 79.092188 245.836875 \r\nL 87.462188 245.836875 \r\nL 87.462188 56.073114 \r\nL 79.092188 56.073114 \r\nz\r\n\" style=\"fill:#1f77b4;\"/>\r\n   </g>\r\n   <g id=\"patch_5\">\r\n    <path clip-path=\"url(#pabcc86a11a)\" d=\"M 95.832188 245.836875 \r\nL 104.202188 245.836875 \r\nL 104.202188 71.768924 \r\nL 95.832188 71.768924 \r\nz\r\n\" style=\"fill:#1f77b4;\"/>\r\n   </g>\r\n   <g id=\"patch_6\">\r\n    <path clip-path=\"url(#pabcc86a11a)\" d=\"M 112.572188 245.836875 \r\nL 120.942188 245.836875 \r\nL 120.942188 97.221589 \r\nL 112.572188 97.221589 \r\nz\r\n\" style=\"fill:#1f77b4;\"/>\r\n   </g>\r\n   <g id=\"patch_7\">\r\n    <path clip-path=\"url(#pabcc86a11a)\" d=\"M 129.312188 245.836875 \r\nL 137.682188 245.836875 \r\nL 137.682188 119.139162 \r\nL 129.312188 119.139162 \r\nz\r\n\" style=\"fill:#1f77b4;\"/>\r\n   </g>\r\n   <g id=\"patch_8\">\r\n    <path clip-path=\"url(#pabcc86a11a)\" d=\"M 146.052188 245.836875 \r\nL 154.422188 245.836875 \r\nL 154.422188 128.188999 \r\nL 146.052188 128.188999 \r\nz\r\n\" style=\"fill:#1f77b4;\"/>\r\n   </g>\r\n   <g id=\"patch_9\">\r\n    <path clip-path=\"url(#pabcc86a11a)\" d=\"M 162.792188 245.836875 \r\nL 171.162188 245.836875 \r\nL 171.162188 134.410762 \r\nL 162.792188 134.410762 \r\nz\r\n\" style=\"fill:#1f77b4;\"/>\r\n   </g>\r\n   <g id=\"patch_10\">\r\n    <path clip-path=\"url(#pabcc86a11a)\" d=\"M 179.532188 245.836875 \r\nL 187.902188 245.836875 \r\nL 187.902188 144.096915 \r\nL 179.532188 144.096915 \r\nz\r\n\" style=\"fill:#1f77b4;\"/>\r\n   </g>\r\n   <g id=\"patch_11\">\r\n    <path clip-path=\"url(#pabcc86a11a)\" d=\"M 196.272188 245.836875 \r\nL 204.642188 245.836875 \r\nL 204.642188 148.551131 \r\nL 196.272188 148.551131 \r\nz\r\n\" style=\"fill:#1f77b4;\"/>\r\n   </g>\r\n   <g id=\"patch_12\">\r\n    <path clip-path=\"url(#pabcc86a11a)\" d=\"M 213.012188 245.836875 \r\nL 221.382188 245.836875 \r\nL 221.382188 156.54044 \r\nL 213.012188 156.54044 \r\nz\r\n\" style=\"fill:#1f77b4;\"/>\r\n   </g>\r\n   <g id=\"patch_13\">\r\n    <path clip-path=\"url(#pabcc86a11a)\" d=\"M 229.752188 245.836875 \r\nL 238.122188 245.836875 \r\nL 238.122188 161.13606 \r\nL 229.752188 161.13606 \r\nz\r\n\" style=\"fill:#1f77b4;\"/>\r\n   </g>\r\n   <g id=\"patch_14\">\r\n    <path clip-path=\"url(#pabcc86a11a)\" d=\"M 246.492188 245.836875 \r\nL 254.862188 245.836875 \r\nL 254.862188 163.39852 \r\nL 246.492188 163.39852 \r\nz\r\n\" style=\"fill:#1f77b4;\"/>\r\n   </g>\r\n   <g id=\"patch_15\">\r\n    <path clip-path=\"url(#pabcc86a11a)\" d=\"M 263.232188 245.836875 \r\nL 271.602188 245.836875 \r\nL 271.602188 167.499227 \r\nL 263.232188 167.499227 \r\nz\r\n\" style=\"fill:#1f77b4;\"/>\r\n   </g>\r\n   <g id=\"patch_16\">\r\n    <path clip-path=\"url(#pabcc86a11a)\" d=\"M 279.972188 245.836875 \r\nL 288.342188 245.836875 \r\nL 288.342188 175.205728 \r\nL 279.972188 175.205728 \r\nz\r\n\" style=\"fill:#1f77b4;\"/>\r\n   </g>\r\n   <g id=\"patch_17\">\r\n    <path clip-path=\"url(#pabcc86a11a)\" d=\"M 296.712188 245.836875 \r\nL 305.082188 245.836875 \r\nL 305.082188 176.973275 \r\nL 296.712188 176.973275 \r\nz\r\n\" style=\"fill:#1f77b4;\"/>\r\n   </g>\r\n   <g id=\"patch_18\">\r\n    <path clip-path=\"url(#pabcc86a11a)\" d=\"M 313.452188 245.836875 \r\nL 321.822188 245.836875 \r\nL 321.822188 178.882224 \r\nL 313.452188 178.882224 \r\nz\r\n\" style=\"fill:#1f77b4;\"/>\r\n   </g>\r\n   <g id=\"patch_19\">\r\n    <path clip-path=\"url(#pabcc86a11a)\" d=\"M 330.192188 245.836875 \r\nL 338.562188 245.836875 \r\nL 338.562188 182.346615 \r\nL 330.192188 182.346615 \r\nz\r\n\" style=\"fill:#1f77b4;\"/>\r\n   </g>\r\n   <g id=\"patch_20\">\r\n    <path clip-path=\"url(#pabcc86a11a)\" d=\"M 346.932188 245.836875 \r\nL 355.302188 245.836875 \r\nL 355.302188 183.831354 \r\nL 346.932188 183.831354 \r\nz\r\n\" style=\"fill:#1f77b4;\"/>\r\n   </g>\r\n   <g id=\"patch_21\">\r\n    <path clip-path=\"url(#pabcc86a11a)\" d=\"M 363.672188 245.836875 \r\nL 372.042188 245.836875 \r\nL 372.042188 184.184863 \r\nL 363.672188 184.184863 \r\nz\r\n\" style=\"fill:#1f77b4;\"/>\r\n   </g>\r\n   <g id=\"patch_22\">\r\n    <path clip-path=\"url(#pabcc86a11a)\" d=\"M 380.412188 245.836875 \r\nL 388.782188 245.836875 \r\nL 388.782188 185.528198 \r\nL 380.412188 185.528198 \r\nz\r\n\" style=\"fill:#1f77b4;\"/>\r\n   </g>\r\n   <g id=\"matplotlib.axis_1\">\r\n    <g id=\"xtick_1\">\r\n     <g id=\"line2d_1\">\r\n      <defs>\r\n       <path d=\"M 0 0 \r\nL 0 3.5 \r\n\" id=\"m7c740a7fcc\" style=\"stroke:#000000;stroke-width:0.8;\"/>\r\n      </defs>\r\n      <g>\r\n       <use style=\"stroke:#000000;stroke-width:0.8;\" x=\"66.537188\" xlink:href=\"#m7c740a7fcc\" y=\"245.836875\"/>\r\n      </g>\r\n     </g>\r\n     <g id=\"text_1\">\r\n      <!-- italian -->\r\n      <g transform=\"translate(69.296563 283.685312)rotate(-90)scale(0.1 -0.1)\">\r\n       <defs>\r\n        <path d=\"M 9.421875 54.6875 \r\nL 18.40625 54.6875 \r\nL 18.40625 0 \r\nL 9.421875 0 \r\nz\r\nM 9.421875 75.984375 \r\nL 18.40625 75.984375 \r\nL 18.40625 64.59375 \r\nL 9.421875 64.59375 \r\nz\r\n\" id=\"DejaVuSans-105\"/>\r\n        <path d=\"M 18.3125 70.21875 \r\nL 18.3125 54.6875 \r\nL 36.8125 54.6875 \r\nL 36.8125 47.703125 \r\nL 18.3125 47.703125 \r\nL 18.3125 18.015625 \r\nQ 18.3125 11.328125 20.140625 9.421875 \r\nQ 21.96875 7.515625 27.59375 7.515625 \r\nL 36.8125 7.515625 \r\nL 36.8125 0 \r\nL 27.59375 0 \r\nQ 17.1875 0 13.234375 3.875 \r\nQ 9.28125 7.765625 9.28125 18.015625 \r\nL 9.28125 47.703125 \r\nL 2.6875 47.703125 \r\nL 2.6875 54.6875 \r\nL 9.28125 54.6875 \r\nL 9.28125 70.21875 \r\nz\r\n\" id=\"DejaVuSans-116\"/>\r\n        <path d=\"M 34.28125 27.484375 \r\nQ 23.390625 27.484375 19.1875 25 \r\nQ 14.984375 22.515625 14.984375 16.5 \r\nQ 14.984375 11.71875 18.140625 8.90625 \r\nQ 21.296875 6.109375 26.703125 6.109375 \r\nQ 34.1875 6.109375 38.703125 11.40625 \r\nQ 43.21875 16.703125 43.21875 25.484375 \r\nL 43.21875 27.484375 \r\nz\r\nM 52.203125 31.203125 \r\nL 52.203125 0 \r\nL 43.21875 0 \r\nL 43.21875 8.296875 \r\nQ 40.140625 3.328125 35.546875 0.953125 \r\nQ 30.953125 -1.421875 24.3125 -1.421875 \r\nQ 15.921875 -1.421875 10.953125 3.296875 \r\nQ 6 8.015625 6 15.921875 \r\nQ 6 25.140625 12.171875 29.828125 \r\nQ 18.359375 34.515625 30.609375 34.515625 \r\nL 43.21875 34.515625 \r\nL 43.21875 35.40625 \r\nQ 43.21875 41.609375 39.140625 45 \r\nQ 35.0625 48.390625 27.6875 48.390625 \r\nQ 23 48.390625 18.546875 47.265625 \r\nQ 14.109375 46.140625 10.015625 43.890625 \r\nL 10.015625 52.203125 \r\nQ 14.9375 54.109375 19.578125 55.046875 \r\nQ 24.21875 56 28.609375 56 \r\nQ 40.484375 56 46.34375 49.84375 \r\nQ 52.203125 43.703125 52.203125 31.203125 \r\nz\r\n\" id=\"DejaVuSans-97\"/>\r\n        <path d=\"M 9.421875 75.984375 \r\nL 18.40625 75.984375 \r\nL 18.40625 0 \r\nL 9.421875 0 \r\nz\r\n\" id=\"DejaVuSans-108\"/>\r\n        <path d=\"M 54.890625 33.015625 \r\nL 54.890625 0 \r\nL 45.90625 0 \r\nL 45.90625 32.71875 \r\nQ 45.90625 40.484375 42.875 44.328125 \r\nQ 39.84375 48.1875 33.796875 48.1875 \r\nQ 26.515625 48.1875 22.3125 43.546875 \r\nQ 18.109375 38.921875 18.109375 30.90625 \r\nL 18.109375 0 \r\nL 9.078125 0 \r\nL 9.078125 54.6875 \r\nL 18.109375 54.6875 \r\nL 18.109375 46.1875 \r\nQ 21.34375 51.125 25.703125 53.5625 \r\nQ 30.078125 56 35.796875 56 \r\nQ 45.21875 56 50.046875 50.171875 \r\nQ 54.890625 44.34375 54.890625 33.015625 \r\nz\r\n\" id=\"DejaVuSans-110\"/>\r\n       </defs>\r\n       <use xlink:href=\"#DejaVuSans-105\"/>\r\n       <use x=\"27.783203\" xlink:href=\"#DejaVuSans-116\"/>\r\n       <use x=\"66.992188\" xlink:href=\"#DejaVuSans-97\"/>\r\n       <use x=\"128.271484\" xlink:href=\"#DejaVuSans-108\"/>\r\n       <use x=\"156.054688\" xlink:href=\"#DejaVuSans-105\"/>\r\n       <use x=\"183.837891\" xlink:href=\"#DejaVuSans-97\"/>\r\n       <use x=\"245.117188\" xlink:href=\"#DejaVuSans-110\"/>\r\n      </g>\r\n     </g>\r\n    </g>\r\n    <g id=\"xtick_2\">\r\n     <g id=\"line2d_2\">\r\n      <g>\r\n       <use style=\"stroke:#000000;stroke-width:0.8;\" x=\"83.277188\" xlink:href=\"#m7c740a7fcc\" y=\"245.836875\"/>\r\n      </g>\r\n     </g>\r\n     <g id=\"text_2\">\r\n      <!-- mexican -->\r\n      <g transform=\"translate(86.036563 295.216562)rotate(-90)scale(0.1 -0.1)\">\r\n       <defs>\r\n        <path d=\"M 52 44.1875 \r\nQ 55.375 50.25 60.0625 53.125 \r\nQ 64.75 56 71.09375 56 \r\nQ 79.640625 56 84.28125 50.015625 \r\nQ 88.921875 44.046875 88.921875 33.015625 \r\nL 88.921875 0 \r\nL 79.890625 0 \r\nL 79.890625 32.71875 \r\nQ 79.890625 40.578125 77.09375 44.375 \r\nQ 74.3125 48.1875 68.609375 48.1875 \r\nQ 61.625 48.1875 57.5625 43.546875 \r\nQ 53.515625 38.921875 53.515625 30.90625 \r\nL 53.515625 0 \r\nL 44.484375 0 \r\nL 44.484375 32.71875 \r\nQ 44.484375 40.625 41.703125 44.40625 \r\nQ 38.921875 48.1875 33.109375 48.1875 \r\nQ 26.21875 48.1875 22.15625 43.53125 \r\nQ 18.109375 38.875 18.109375 30.90625 \r\nL 18.109375 0 \r\nL 9.078125 0 \r\nL 9.078125 54.6875 \r\nL 18.109375 54.6875 \r\nL 18.109375 46.1875 \r\nQ 21.1875 51.21875 25.484375 53.609375 \r\nQ 29.78125 56 35.6875 56 \r\nQ 41.65625 56 45.828125 52.96875 \r\nQ 50 49.953125 52 44.1875 \r\nz\r\n\" id=\"DejaVuSans-109\"/>\r\n        <path d=\"M 56.203125 29.59375 \r\nL 56.203125 25.203125 \r\nL 14.890625 25.203125 \r\nQ 15.484375 15.921875 20.484375 11.0625 \r\nQ 25.484375 6.203125 34.421875 6.203125 \r\nQ 39.59375 6.203125 44.453125 7.46875 \r\nQ 49.3125 8.734375 54.109375 11.28125 \r\nL 54.109375 2.78125 \r\nQ 49.265625 0.734375 44.1875 -0.34375 \r\nQ 39.109375 -1.421875 33.890625 -1.421875 \r\nQ 20.796875 -1.421875 13.15625 6.1875 \r\nQ 5.515625 13.8125 5.515625 26.8125 \r\nQ 5.515625 40.234375 12.765625 48.109375 \r\nQ 20.015625 56 32.328125 56 \r\nQ 43.359375 56 49.78125 48.890625 \r\nQ 56.203125 41.796875 56.203125 29.59375 \r\nz\r\nM 47.21875 32.234375 \r\nQ 47.125 39.59375 43.09375 43.984375 \r\nQ 39.0625 48.390625 32.421875 48.390625 \r\nQ 24.90625 48.390625 20.390625 44.140625 \r\nQ 15.875 39.890625 15.1875 32.171875 \r\nz\r\n\" id=\"DejaVuSans-101\"/>\r\n        <path d=\"M 54.890625 54.6875 \r\nL 35.109375 28.078125 \r\nL 55.90625 0 \r\nL 45.3125 0 \r\nL 29.390625 21.484375 \r\nL 13.484375 0 \r\nL 2.875 0 \r\nL 24.125 28.609375 \r\nL 4.6875 54.6875 \r\nL 15.28125 54.6875 \r\nL 29.78125 35.203125 \r\nL 44.28125 54.6875 \r\nz\r\n\" id=\"DejaVuSans-120\"/>\r\n        <path d=\"M 48.78125 52.59375 \r\nL 48.78125 44.1875 \r\nQ 44.96875 46.296875 41.140625 47.34375 \r\nQ 37.3125 48.390625 33.40625 48.390625 \r\nQ 24.65625 48.390625 19.8125 42.84375 \r\nQ 14.984375 37.3125 14.984375 27.296875 \r\nQ 14.984375 17.28125 19.8125 11.734375 \r\nQ 24.65625 6.203125 33.40625 6.203125 \r\nQ 37.3125 6.203125 41.140625 7.25 \r\nQ 44.96875 8.296875 48.78125 10.40625 \r\nL 48.78125 2.09375 \r\nQ 45.015625 0.34375 40.984375 -0.53125 \r\nQ 36.96875 -1.421875 32.421875 -1.421875 \r\nQ 20.0625 -1.421875 12.78125 6.34375 \r\nQ 5.515625 14.109375 5.515625 27.296875 \r\nQ 5.515625 40.671875 12.859375 48.328125 \r\nQ 20.21875 56 33.015625 56 \r\nQ 37.15625 56 41.109375 55.140625 \r\nQ 45.0625 54.296875 48.78125 52.59375 \r\nz\r\n\" id=\"DejaVuSans-99\"/>\r\n       </defs>\r\n       <use xlink:href=\"#DejaVuSans-109\"/>\r\n       <use x=\"97.412109\" xlink:href=\"#DejaVuSans-101\"/>\r\n       <use x=\"157.185547\" xlink:href=\"#DejaVuSans-120\"/>\r\n       <use x=\"216.365234\" xlink:href=\"#DejaVuSans-105\"/>\r\n       <use x=\"244.148438\" xlink:href=\"#DejaVuSans-99\"/>\r\n       <use x=\"299.128906\" xlink:href=\"#DejaVuSans-97\"/>\r\n       <use x=\"360.408203\" xlink:href=\"#DejaVuSans-110\"/>\r\n      </g>\r\n     </g>\r\n    </g>\r\n    <g id=\"xtick_3\">\r\n     <g id=\"line2d_3\">\r\n      <g>\r\n       <use style=\"stroke:#000000;stroke-width:0.8;\" x=\"100.017188\" xlink:href=\"#m7c740a7fcc\" y=\"245.836875\"/>\r\n      </g>\r\n     </g>\r\n     <g id=\"text_3\">\r\n      <!-- southern_us -->\r\n      <g transform=\"translate(102.6375 313.73375)rotate(-90)scale(0.1 -0.1)\">\r\n       <defs>\r\n        <path d=\"M 44.28125 53.078125 \r\nL 44.28125 44.578125 \r\nQ 40.484375 46.53125 36.375 47.5 \r\nQ 32.28125 48.484375 27.875 48.484375 \r\nQ 21.1875 48.484375 17.84375 46.4375 \r\nQ 14.5 44.390625 14.5 40.28125 \r\nQ 14.5 37.15625 16.890625 35.375 \r\nQ 19.28125 33.59375 26.515625 31.984375 \r\nL 29.59375 31.296875 \r\nQ 39.15625 29.25 43.1875 25.515625 \r\nQ 47.21875 21.78125 47.21875 15.09375 \r\nQ 47.21875 7.46875 41.1875 3.015625 \r\nQ 35.15625 -1.421875 24.609375 -1.421875 \r\nQ 20.21875 -1.421875 15.453125 -0.5625 \r\nQ 10.6875 0.296875 5.421875 2 \r\nL 5.421875 11.28125 \r\nQ 10.40625 8.6875 15.234375 7.390625 \r\nQ 20.0625 6.109375 24.8125 6.109375 \r\nQ 31.15625 6.109375 34.5625 8.28125 \r\nQ 37.984375 10.453125 37.984375 14.40625 \r\nQ 37.984375 18.0625 35.515625 20.015625 \r\nQ 33.0625 21.96875 24.703125 23.78125 \r\nL 21.578125 24.515625 \r\nQ 13.234375 26.265625 9.515625 29.90625 \r\nQ 5.8125 33.546875 5.8125 39.890625 \r\nQ 5.8125 47.609375 11.28125 51.796875 \r\nQ 16.75 56 26.8125 56 \r\nQ 31.78125 56 36.171875 55.265625 \r\nQ 40.578125 54.546875 44.28125 53.078125 \r\nz\r\n\" id=\"DejaVuSans-115\"/>\r\n        <path d=\"M 30.609375 48.390625 \r\nQ 23.390625 48.390625 19.1875 42.75 \r\nQ 14.984375 37.109375 14.984375 27.296875 \r\nQ 14.984375 17.484375 19.15625 11.84375 \r\nQ 23.34375 6.203125 30.609375 6.203125 \r\nQ 37.796875 6.203125 41.984375 11.859375 \r\nQ 46.1875 17.53125 46.1875 27.296875 \r\nQ 46.1875 37.015625 41.984375 42.703125 \r\nQ 37.796875 48.390625 30.609375 48.390625 \r\nz\r\nM 30.609375 56 \r\nQ 42.328125 56 49.015625 48.375 \r\nQ 55.71875 40.765625 55.71875 27.296875 \r\nQ 55.71875 13.875 49.015625 6.21875 \r\nQ 42.328125 -1.421875 30.609375 -1.421875 \r\nQ 18.84375 -1.421875 12.171875 6.21875 \r\nQ 5.515625 13.875 5.515625 27.296875 \r\nQ 5.515625 40.765625 12.171875 48.375 \r\nQ 18.84375 56 30.609375 56 \r\nz\r\n\" id=\"DejaVuSans-111\"/>\r\n        <path d=\"M 8.5 21.578125 \r\nL 8.5 54.6875 \r\nL 17.484375 54.6875 \r\nL 17.484375 21.921875 \r\nQ 17.484375 14.15625 20.5 10.265625 \r\nQ 23.53125 6.390625 29.59375 6.390625 \r\nQ 36.859375 6.390625 41.078125 11.03125 \r\nQ 45.3125 15.671875 45.3125 23.6875 \r\nL 45.3125 54.6875 \r\nL 54.296875 54.6875 \r\nL 54.296875 0 \r\nL 45.3125 0 \r\nL 45.3125 8.40625 \r\nQ 42.046875 3.421875 37.71875 1 \r\nQ 33.40625 -1.421875 27.6875 -1.421875 \r\nQ 18.265625 -1.421875 13.375 4.4375 \r\nQ 8.5 10.296875 8.5 21.578125 \r\nz\r\nM 31.109375 56 \r\nz\r\n\" id=\"DejaVuSans-117\"/>\r\n        <path d=\"M 54.890625 33.015625 \r\nL 54.890625 0 \r\nL 45.90625 0 \r\nL 45.90625 32.71875 \r\nQ 45.90625 40.484375 42.875 44.328125 \r\nQ 39.84375 48.1875 33.796875 48.1875 \r\nQ 26.515625 48.1875 22.3125 43.546875 \r\nQ 18.109375 38.921875 18.109375 30.90625 \r\nL 18.109375 0 \r\nL 9.078125 0 \r\nL 9.078125 75.984375 \r\nL 18.109375 75.984375 \r\nL 18.109375 46.1875 \r\nQ 21.34375 51.125 25.703125 53.5625 \r\nQ 30.078125 56 35.796875 56 \r\nQ 45.21875 56 50.046875 50.171875 \r\nQ 54.890625 44.34375 54.890625 33.015625 \r\nz\r\n\" id=\"DejaVuSans-104\"/>\r\n        <path d=\"M 41.109375 46.296875 \r\nQ 39.59375 47.171875 37.8125 47.578125 \r\nQ 36.03125 48 33.890625 48 \r\nQ 26.265625 48 22.1875 43.046875 \r\nQ 18.109375 38.09375 18.109375 28.8125 \r\nL 18.109375 0 \r\nL 9.078125 0 \r\nL 9.078125 54.6875 \r\nL 18.109375 54.6875 \r\nL 18.109375 46.1875 \r\nQ 20.953125 51.171875 25.484375 53.578125 \r\nQ 30.03125 56 36.53125 56 \r\nQ 37.453125 56 38.578125 55.875 \r\nQ 39.703125 55.765625 41.0625 55.515625 \r\nz\r\n\" id=\"DejaVuSans-114\"/>\r\n        <path d=\"M 50.984375 -16.609375 \r\nL 50.984375 -23.578125 \r\nL -0.984375 -23.578125 \r\nL -0.984375 -16.609375 \r\nz\r\n\" id=\"DejaVuSans-95\"/>\r\n       </defs>\r\n       <use xlink:href=\"#DejaVuSans-115\"/>\r\n       <use x=\"52.099609\" xlink:href=\"#DejaVuSans-111\"/>\r\n       <use x=\"113.28125\" xlink:href=\"#DejaVuSans-117\"/>\r\n       <use x=\"176.660156\" xlink:href=\"#DejaVuSans-116\"/>\r\n       <use x=\"215.869141\" xlink:href=\"#DejaVuSans-104\"/>\r\n       <use x=\"279.248047\" xlink:href=\"#DejaVuSans-101\"/>\r\n       <use x=\"340.771484\" xlink:href=\"#DejaVuSans-114\"/>\r\n       <use x=\"380.134766\" xlink:href=\"#DejaVuSans-110\"/>\r\n       <use x=\"443.513672\" xlink:href=\"#DejaVuSans-95\"/>\r\n       <use x=\"493.513672\" xlink:href=\"#DejaVuSans-117\"/>\r\n       <use x=\"556.892578\" xlink:href=\"#DejaVuSans-115\"/>\r\n      </g>\r\n     </g>\r\n    </g>\r\n    <g id=\"xtick_4\">\r\n     <g id=\"line2d_4\">\r\n      <g>\r\n       <use style=\"stroke:#000000;stroke-width:0.8;\" x=\"116.757188\" xlink:href=\"#m7c740a7fcc\" y=\"245.836875\"/>\r\n      </g>\r\n     </g>\r\n     <g id=\"text_4\">\r\n      <!-- french -->\r\n      <g transform=\"translate(119.516563 284.569687)rotate(-90)scale(0.1 -0.1)\">\r\n       <defs>\r\n        <path d=\"M 37.109375 75.984375 \r\nL 37.109375 68.5 \r\nL 28.515625 68.5 \r\nQ 23.6875 68.5 21.796875 66.546875 \r\nQ 19.921875 64.59375 19.921875 59.515625 \r\nL 19.921875 54.6875 \r\nL 34.71875 54.6875 \r\nL 34.71875 47.703125 \r\nL 19.921875 47.703125 \r\nL 19.921875 0 \r\nL 10.890625 0 \r\nL 10.890625 47.703125 \r\nL 2.296875 47.703125 \r\nL 2.296875 54.6875 \r\nL 10.890625 54.6875 \r\nL 10.890625 58.5 \r\nQ 10.890625 67.625 15.140625 71.796875 \r\nQ 19.390625 75.984375 28.609375 75.984375 \r\nz\r\n\" id=\"DejaVuSans-102\"/>\r\n       </defs>\r\n       <use xlink:href=\"#DejaVuSans-102\"/>\r\n       <use x=\"35.205078\" xlink:href=\"#DejaVuSans-114\"/>\r\n       <use x=\"74.068359\" xlink:href=\"#DejaVuSans-101\"/>\r\n       <use x=\"135.591797\" xlink:href=\"#DejaVuSans-110\"/>\r\n       <use x=\"198.970703\" xlink:href=\"#DejaVuSans-99\"/>\r\n       <use x=\"253.951172\" xlink:href=\"#DejaVuSans-104\"/>\r\n      </g>\r\n     </g>\r\n    </g>\r\n    <g id=\"xtick_5\">\r\n     <g id=\"line2d_5\">\r\n      <g>\r\n       <use style=\"stroke:#000000;stroke-width:0.8;\" x=\"133.497188\" xlink:href=\"#m7c740a7fcc\" y=\"245.836875\"/>\r\n      </g>\r\n     </g>\r\n     <g id=\"text_5\">\r\n      <!-- chinese -->\r\n      <g transform=\"translate(136.256563 291.304062)rotate(-90)scale(0.1 -0.1)\">\r\n       <use xlink:href=\"#DejaVuSans-99\"/>\r\n       <use x=\"54.980469\" xlink:href=\"#DejaVuSans-104\"/>\r\n       <use x=\"118.359375\" xlink:href=\"#DejaVuSans-105\"/>\r\n       <use x=\"146.142578\" xlink:href=\"#DejaVuSans-110\"/>\r\n       <use x=\"209.521484\" xlink:href=\"#DejaVuSans-101\"/>\r\n       <use x=\"271.044922\" xlink:href=\"#DejaVuSans-115\"/>\r\n       <use x=\"323.144531\" xlink:href=\"#DejaVuSans-101\"/>\r\n      </g>\r\n     </g>\r\n    </g>\r\n    <g id=\"xtick_6\">\r\n     <g id=\"line2d_6\">\r\n      <g>\r\n       <use style=\"stroke:#000000;stroke-width:0.8;\" x=\"150.237188\" xlink:href=\"#m7c740a7fcc\" y=\"245.836875\"/>\r\n      </g>\r\n     </g>\r\n     <g id=\"text_6\">\r\n      <!-- indian -->\r\n      <g transform=\"translate(152.996563 283.544687)rotate(-90)scale(0.1 -0.1)\">\r\n       <defs>\r\n        <path d=\"M 45.40625 46.390625 \r\nL 45.40625 75.984375 \r\nL 54.390625 75.984375 \r\nL 54.390625 0 \r\nL 45.40625 0 \r\nL 45.40625 8.203125 \r\nQ 42.578125 3.328125 38.25 0.953125 \r\nQ 33.9375 -1.421875 27.875 -1.421875 \r\nQ 17.96875 -1.421875 11.734375 6.484375 \r\nQ 5.515625 14.40625 5.515625 27.296875 \r\nQ 5.515625 40.1875 11.734375 48.09375 \r\nQ 17.96875 56 27.875 56 \r\nQ 33.9375 56 38.25 53.625 \r\nQ 42.578125 51.265625 45.40625 46.390625 \r\nz\r\nM 14.796875 27.296875 \r\nQ 14.796875 17.390625 18.875 11.75 \r\nQ 22.953125 6.109375 30.078125 6.109375 \r\nQ 37.203125 6.109375 41.296875 11.75 \r\nQ 45.40625 17.390625 45.40625 27.296875 \r\nQ 45.40625 37.203125 41.296875 42.84375 \r\nQ 37.203125 48.484375 30.078125 48.484375 \r\nQ 22.953125 48.484375 18.875 42.84375 \r\nQ 14.796875 37.203125 14.796875 27.296875 \r\nz\r\n\" id=\"DejaVuSans-100\"/>\r\n       </defs>\r\n       <use xlink:href=\"#DejaVuSans-105\"/>\r\n       <use x=\"27.783203\" xlink:href=\"#DejaVuSans-110\"/>\r\n       <use x=\"91.162109\" xlink:href=\"#DejaVuSans-100\"/>\r\n       <use x=\"154.638672\" xlink:href=\"#DejaVuSans-105\"/>\r\n       <use x=\"182.421875\" xlink:href=\"#DejaVuSans-97\"/>\r\n       <use x=\"243.701172\" xlink:href=\"#DejaVuSans-110\"/>\r\n      </g>\r\n     </g>\r\n    </g>\r\n    <g id=\"xtick_7\">\r\n     <g id=\"line2d_7\">\r\n      <g>\r\n       <use style=\"stroke:#000000;stroke-width:0.8;\" x=\"166.977188\" xlink:href=\"#m7c740a7fcc\" y=\"245.836875\"/>\r\n      </g>\r\n     </g>\r\n     <g id=\"text_7\">\r\n      <!-- cajun_creole -->\r\n      <g transform=\"translate(169.5975 315.504062)rotate(-90)scale(0.1 -0.1)\">\r\n       <defs>\r\n        <path d=\"M 9.421875 54.6875 \r\nL 18.40625 54.6875 \r\nL 18.40625 -0.984375 \r\nQ 18.40625 -11.421875 14.421875 -16.109375 \r\nQ 10.453125 -20.796875 1.609375 -20.796875 \r\nL -1.8125 -20.796875 \r\nL -1.8125 -13.1875 \r\nL 0.59375 -13.1875 \r\nQ 5.71875 -13.1875 7.5625 -10.8125 \r\nQ 9.421875 -8.453125 9.421875 -0.984375 \r\nz\r\nM 9.421875 75.984375 \r\nL 18.40625 75.984375 \r\nL 18.40625 64.59375 \r\nL 9.421875 64.59375 \r\nz\r\n\" id=\"DejaVuSans-106\"/>\r\n       </defs>\r\n       <use xlink:href=\"#DejaVuSans-99\"/>\r\n       <use x=\"54.980469\" xlink:href=\"#DejaVuSans-97\"/>\r\n       <use x=\"116.259766\" xlink:href=\"#DejaVuSans-106\"/>\r\n       <use x=\"144.042969\" xlink:href=\"#DejaVuSans-117\"/>\r\n       <use x=\"207.421875\" xlink:href=\"#DejaVuSans-110\"/>\r\n       <use x=\"270.800781\" xlink:href=\"#DejaVuSans-95\"/>\r\n       <use x=\"320.800781\" xlink:href=\"#DejaVuSans-99\"/>\r\n       <use x=\"375.78125\" xlink:href=\"#DejaVuSans-114\"/>\r\n       <use x=\"414.644531\" xlink:href=\"#DejaVuSans-101\"/>\r\n       <use x=\"476.167969\" xlink:href=\"#DejaVuSans-111\"/>\r\n       <use x=\"537.349609\" xlink:href=\"#DejaVuSans-108\"/>\r\n       <use x=\"565.132812\" xlink:href=\"#DejaVuSans-101\"/>\r\n      </g>\r\n     </g>\r\n    </g>\r\n    <g id=\"xtick_8\">\r\n     <g id=\"line2d_8\">\r\n      <g>\r\n       <use style=\"stroke:#000000;stroke-width:0.8;\" x=\"183.717188\" xlink:href=\"#m7c740a7fcc\" y=\"245.836875\"/>\r\n      </g>\r\n     </g>\r\n     <g id=\"text_8\">\r\n      <!-- japanese -->\r\n      <g transform=\"translate(186.476563 298.072812)rotate(-90)scale(0.1 -0.1)\">\r\n       <defs>\r\n        <path d=\"M 18.109375 8.203125 \r\nL 18.109375 -20.796875 \r\nL 9.078125 -20.796875 \r\nL 9.078125 54.6875 \r\nL 18.109375 54.6875 \r\nL 18.109375 46.390625 \r\nQ 20.953125 51.265625 25.265625 53.625 \r\nQ 29.59375 56 35.59375 56 \r\nQ 45.5625 56 51.78125 48.09375 \r\nQ 58.015625 40.1875 58.015625 27.296875 \r\nQ 58.015625 14.40625 51.78125 6.484375 \r\nQ 45.5625 -1.421875 35.59375 -1.421875 \r\nQ 29.59375 -1.421875 25.265625 0.953125 \r\nQ 20.953125 3.328125 18.109375 8.203125 \r\nz\r\nM 48.6875 27.296875 \r\nQ 48.6875 37.203125 44.609375 42.84375 \r\nQ 40.53125 48.484375 33.40625 48.484375 \r\nQ 26.265625 48.484375 22.1875 42.84375 \r\nQ 18.109375 37.203125 18.109375 27.296875 \r\nQ 18.109375 17.390625 22.1875 11.75 \r\nQ 26.265625 6.109375 33.40625 6.109375 \r\nQ 40.53125 6.109375 44.609375 11.75 \r\nQ 48.6875 17.390625 48.6875 27.296875 \r\nz\r\n\" id=\"DejaVuSans-112\"/>\r\n       </defs>\r\n       <use xlink:href=\"#DejaVuSans-106\"/>\r\n       <use x=\"27.783203\" xlink:href=\"#DejaVuSans-97\"/>\r\n       <use x=\"89.0625\" xlink:href=\"#DejaVuSans-112\"/>\r\n       <use x=\"152.539062\" xlink:href=\"#DejaVuSans-97\"/>\r\n       <use x=\"213.818359\" xlink:href=\"#DejaVuSans-110\"/>\r\n       <use x=\"277.197266\" xlink:href=\"#DejaVuSans-101\"/>\r\n       <use x=\"338.720703\" xlink:href=\"#DejaVuSans-115\"/>\r\n       <use x=\"390.820312\" xlink:href=\"#DejaVuSans-101\"/>\r\n      </g>\r\n     </g>\r\n    </g>\r\n    <g id=\"xtick_9\">\r\n     <g id=\"line2d_9\">\r\n      <g>\r\n       <use style=\"stroke:#000000;stroke-width:0.8;\" x=\"200.457188\" xlink:href=\"#m7c740a7fcc\" y=\"245.836875\"/>\r\n      </g>\r\n     </g>\r\n     <g id=\"text_9\">\r\n      <!-- thai -->\r\n      <g transform=\"translate(203.216563 272.000937)rotate(-90)scale(0.1 -0.1)\">\r\n       <use xlink:href=\"#DejaVuSans-116\"/>\r\n       <use x=\"39.208984\" xlink:href=\"#DejaVuSans-104\"/>\r\n       <use x=\"102.587891\" xlink:href=\"#DejaVuSans-97\"/>\r\n       <use x=\"163.867188\" xlink:href=\"#DejaVuSans-105\"/>\r\n      </g>\r\n     </g>\r\n    </g>\r\n    <g id=\"xtick_10\">\r\n     <g id=\"line2d_10\">\r\n      <g>\r\n       <use style=\"stroke:#000000;stroke-width:0.8;\" x=\"217.197188\" xlink:href=\"#m7c740a7fcc\" y=\"245.836875\"/>\r\n      </g>\r\n     </g>\r\n     <g id=\"text_10\">\r\n      <!-- spanish -->\r\n      <g transform=\"translate(219.956563 291.185312)rotate(-90)scale(0.1 -0.1)\">\r\n       <use xlink:href=\"#DejaVuSans-115\"/>\r\n       <use x=\"52.099609\" xlink:href=\"#DejaVuSans-112\"/>\r\n       <use x=\"115.576172\" xlink:href=\"#DejaVuSans-97\"/>\r\n       <use x=\"176.855469\" xlink:href=\"#DejaVuSans-110\"/>\r\n       <use x=\"240.234375\" xlink:href=\"#DejaVuSans-105\"/>\r\n       <use x=\"268.017578\" xlink:href=\"#DejaVuSans-115\"/>\r\n       <use x=\"320.117188\" xlink:href=\"#DejaVuSans-104\"/>\r\n      </g>\r\n     </g>\r\n    </g>\r\n    <g id=\"xtick_11\">\r\n     <g id=\"line2d_11\">\r\n      <g>\r\n       <use style=\"stroke:#000000;stroke-width:0.8;\" x=\"233.937188\" xlink:href=\"#m7c740a7fcc\" y=\"245.836875\"/>\r\n      </g>\r\n     </g>\r\n     <g id=\"text_11\">\r\n      <!-- greek -->\r\n      <g transform=\"translate(236.696563 281.168125)rotate(-90)scale(0.1 -0.1)\">\r\n       <defs>\r\n        <path d=\"M 45.40625 27.984375 \r\nQ 45.40625 37.75 41.375 43.109375 \r\nQ 37.359375 48.484375 30.078125 48.484375 \r\nQ 22.859375 48.484375 18.828125 43.109375 \r\nQ 14.796875 37.75 14.796875 27.984375 \r\nQ 14.796875 18.265625 18.828125 12.890625 \r\nQ 22.859375 7.515625 30.078125 7.515625 \r\nQ 37.359375 7.515625 41.375 12.890625 \r\nQ 45.40625 18.265625 45.40625 27.984375 \r\nz\r\nM 54.390625 6.78125 \r\nQ 54.390625 -7.171875 48.1875 -13.984375 \r\nQ 42 -20.796875 29.203125 -20.796875 \r\nQ 24.46875 -20.796875 20.265625 -20.09375 \r\nQ 16.0625 -19.390625 12.109375 -17.921875 \r\nL 12.109375 -9.1875 \r\nQ 16.0625 -11.328125 19.921875 -12.34375 \r\nQ 23.78125 -13.375 27.78125 -13.375 \r\nQ 36.625 -13.375 41.015625 -8.765625 \r\nQ 45.40625 -4.15625 45.40625 5.171875 \r\nL 45.40625 9.625 \r\nQ 42.625 4.78125 38.28125 2.390625 \r\nQ 33.9375 0 27.875 0 \r\nQ 17.828125 0 11.671875 7.65625 \r\nQ 5.515625 15.328125 5.515625 27.984375 \r\nQ 5.515625 40.671875 11.671875 48.328125 \r\nQ 17.828125 56 27.875 56 \r\nQ 33.9375 56 38.28125 53.609375 \r\nQ 42.625 51.21875 45.40625 46.390625 \r\nL 45.40625 54.6875 \r\nL 54.390625 54.6875 \r\nz\r\n\" id=\"DejaVuSans-103\"/>\r\n        <path d=\"M 9.078125 75.984375 \r\nL 18.109375 75.984375 \r\nL 18.109375 31.109375 \r\nL 44.921875 54.6875 \r\nL 56.390625 54.6875 \r\nL 27.390625 29.109375 \r\nL 57.625 0 \r\nL 45.90625 0 \r\nL 18.109375 26.703125 \r\nL 18.109375 0 \r\nL 9.078125 0 \r\nz\r\n\" id=\"DejaVuSans-107\"/>\r\n       </defs>\r\n       <use xlink:href=\"#DejaVuSans-103\"/>\r\n       <use x=\"63.476562\" xlink:href=\"#DejaVuSans-114\"/>\r\n       <use x=\"102.339844\" xlink:href=\"#DejaVuSans-101\"/>\r\n       <use x=\"163.863281\" xlink:href=\"#DejaVuSans-101\"/>\r\n       <use x=\"225.386719\" xlink:href=\"#DejaVuSans-107\"/>\r\n      </g>\r\n     </g>\r\n    </g>\r\n    <g id=\"xtick_12\">\r\n     <g id=\"line2d_12\">\r\n      <g>\r\n       <use style=\"stroke:#000000;stroke-width:0.8;\" x=\"250.677188\" xlink:href=\"#m7c740a7fcc\" y=\"245.836875\"/>\r\n      </g>\r\n     </g>\r\n     <g id=\"text_12\">\r\n      <!-- british -->\r\n      <g transform=\"translate(253.436563 284.319687)rotate(-90)scale(0.1 -0.1)\">\r\n       <defs>\r\n        <path d=\"M 48.6875 27.296875 \r\nQ 48.6875 37.203125 44.609375 42.84375 \r\nQ 40.53125 48.484375 33.40625 48.484375 \r\nQ 26.265625 48.484375 22.1875 42.84375 \r\nQ 18.109375 37.203125 18.109375 27.296875 \r\nQ 18.109375 17.390625 22.1875 11.75 \r\nQ 26.265625 6.109375 33.40625 6.109375 \r\nQ 40.53125 6.109375 44.609375 11.75 \r\nQ 48.6875 17.390625 48.6875 27.296875 \r\nz\r\nM 18.109375 46.390625 \r\nQ 20.953125 51.265625 25.265625 53.625 \r\nQ 29.59375 56 35.59375 56 \r\nQ 45.5625 56 51.78125 48.09375 \r\nQ 58.015625 40.1875 58.015625 27.296875 \r\nQ 58.015625 14.40625 51.78125 6.484375 \r\nQ 45.5625 -1.421875 35.59375 -1.421875 \r\nQ 29.59375 -1.421875 25.265625 0.953125 \r\nQ 20.953125 3.328125 18.109375 8.203125 \r\nL 18.109375 0 \r\nL 9.078125 0 \r\nL 9.078125 75.984375 \r\nL 18.109375 75.984375 \r\nz\r\n\" id=\"DejaVuSans-98\"/>\r\n       </defs>\r\n       <use xlink:href=\"#DejaVuSans-98\"/>\r\n       <use x=\"63.476562\" xlink:href=\"#DejaVuSans-114\"/>\r\n       <use x=\"104.589844\" xlink:href=\"#DejaVuSans-105\"/>\r\n       <use x=\"132.373047\" xlink:href=\"#DejaVuSans-116\"/>\r\n       <use x=\"171.582031\" xlink:href=\"#DejaVuSans-105\"/>\r\n       <use x=\"199.365234\" xlink:href=\"#DejaVuSans-115\"/>\r\n       <use x=\"251.464844\" xlink:href=\"#DejaVuSans-104\"/>\r\n      </g>\r\n     </g>\r\n    </g>\r\n    <g id=\"xtick_13\">\r\n     <g id=\"line2d_13\">\r\n      <g>\r\n       <use style=\"stroke:#000000;stroke-width:0.8;\" x=\"267.417188\" xlink:href=\"#m7c740a7fcc\" y=\"245.836875\"/>\r\n      </g>\r\n     </g>\r\n     <g id=\"text_13\">\r\n      <!-- vietnamese -->\r\n      <g transform=\"translate(270.176563 311.329062)rotate(-90)scale(0.1 -0.1)\">\r\n       <defs>\r\n        <path d=\"M 2.984375 54.6875 \r\nL 12.5 54.6875 \r\nL 29.59375 8.796875 \r\nL 46.6875 54.6875 \r\nL 56.203125 54.6875 \r\nL 35.6875 0 \r\nL 23.484375 0 \r\nz\r\n\" id=\"DejaVuSans-118\"/>\r\n       </defs>\r\n       <use xlink:href=\"#DejaVuSans-118\"/>\r\n       <use x=\"59.179688\" xlink:href=\"#DejaVuSans-105\"/>\r\n       <use x=\"86.962891\" xlink:href=\"#DejaVuSans-101\"/>\r\n       <use x=\"148.486328\" xlink:href=\"#DejaVuSans-116\"/>\r\n       <use x=\"187.695312\" xlink:href=\"#DejaVuSans-110\"/>\r\n       <use x=\"251.074219\" xlink:href=\"#DejaVuSans-97\"/>\r\n       <use x=\"312.353516\" xlink:href=\"#DejaVuSans-109\"/>\r\n       <use x=\"409.765625\" xlink:href=\"#DejaVuSans-101\"/>\r\n       <use x=\"471.289062\" xlink:href=\"#DejaVuSans-115\"/>\r\n       <use x=\"523.388672\" xlink:href=\"#DejaVuSans-101\"/>\r\n      </g>\r\n     </g>\r\n    </g>\r\n    <g id=\"xtick_14\">\r\n     <g id=\"line2d_14\">\r\n      <g>\r\n       <use style=\"stroke:#000000;stroke-width:0.8;\" x=\"284.157188\" xlink:href=\"#m7c740a7fcc\" y=\"245.836875\"/>\r\n      </g>\r\n     </g>\r\n     <g id=\"text_14\">\r\n      <!-- irish -->\r\n      <g transform=\"translate(286.916563 274.050937)rotate(-90)scale(0.1 -0.1)\">\r\n       <use xlink:href=\"#DejaVuSans-105\"/>\r\n       <use x=\"27.783203\" xlink:href=\"#DejaVuSans-114\"/>\r\n       <use x=\"68.896484\" xlink:href=\"#DejaVuSans-105\"/>\r\n       <use x=\"96.679688\" xlink:href=\"#DejaVuSans-115\"/>\r\n       <use x=\"148.779297\" xlink:href=\"#DejaVuSans-104\"/>\r\n      </g>\r\n     </g>\r\n    </g>\r\n    <g id=\"xtick_15\">\r\n     <g id=\"line2d_15\">\r\n      <g>\r\n       <use style=\"stroke:#000000;stroke-width:0.8;\" x=\"300.897188\" xlink:href=\"#m7c740a7fcc\" y=\"245.836875\"/>\r\n      </g>\r\n     </g>\r\n     <g id=\"text_15\">\r\n      <!-- moroccan -->\r\n      <g transform=\"translate(303.656563 302.163437)rotate(-90)scale(0.1 -0.1)\">\r\n       <use xlink:href=\"#DejaVuSans-109\"/>\r\n       <use x=\"97.412109\" xlink:href=\"#DejaVuSans-111\"/>\r\n       <use x=\"158.59375\" xlink:href=\"#DejaVuSans-114\"/>\r\n       <use x=\"197.457031\" xlink:href=\"#DejaVuSans-111\"/>\r\n       <use x=\"258.638672\" xlink:href=\"#DejaVuSans-99\"/>\r\n       <use x=\"313.619141\" xlink:href=\"#DejaVuSans-99\"/>\r\n       <use x=\"368.599609\" xlink:href=\"#DejaVuSans-97\"/>\r\n       <use x=\"429.878906\" xlink:href=\"#DejaVuSans-110\"/>\r\n      </g>\r\n     </g>\r\n    </g>\r\n    <g id=\"xtick_16\">\r\n     <g id=\"line2d_16\">\r\n      <g>\r\n       <use style=\"stroke:#000000;stroke-width:0.8;\" x=\"317.637188\" xlink:href=\"#m7c740a7fcc\" y=\"245.836875\"/>\r\n      </g>\r\n     </g>\r\n     <g id=\"text_16\">\r\n      <!-- filipino -->\r\n      <g transform=\"translate(320.396563 286.274375)rotate(-90)scale(0.1 -0.1)\">\r\n       <use xlink:href=\"#DejaVuSans-102\"/>\r\n       <use x=\"35.205078\" xlink:href=\"#DejaVuSans-105\"/>\r\n       <use x=\"62.988281\" xlink:href=\"#DejaVuSans-108\"/>\r\n       <use x=\"90.771484\" xlink:href=\"#DejaVuSans-105\"/>\r\n       <use x=\"118.554688\" xlink:href=\"#DejaVuSans-112\"/>\r\n       <use x=\"182.03125\" xlink:href=\"#DejaVuSans-105\"/>\r\n       <use x=\"209.814453\" xlink:href=\"#DejaVuSans-110\"/>\r\n       <use x=\"273.193359\" xlink:href=\"#DejaVuSans-111\"/>\r\n      </g>\r\n     </g>\r\n    </g>\r\n    <g id=\"xtick_17\">\r\n     <g id=\"line2d_17\">\r\n      <g>\r\n       <use style=\"stroke:#000000;stroke-width:0.8;\" x=\"334.377188\" xlink:href=\"#m7c740a7fcc\" y=\"245.836875\"/>\r\n      </g>\r\n     </g>\r\n     <g id=\"text_17\">\r\n      <!-- korean -->\r\n      <g transform=\"translate(337.136563 286.888437)rotate(-90)scale(0.1 -0.1)\">\r\n       <use xlink:href=\"#DejaVuSans-107\"/>\r\n       <use x=\"54.285156\" xlink:href=\"#DejaVuSans-111\"/>\r\n       <use x=\"115.466797\" xlink:href=\"#DejaVuSans-114\"/>\r\n       <use x=\"154.330078\" xlink:href=\"#DejaVuSans-101\"/>\r\n       <use x=\"215.853516\" xlink:href=\"#DejaVuSans-97\"/>\r\n       <use x=\"277.132812\" xlink:href=\"#DejaVuSans-110\"/>\r\n      </g>\r\n     </g>\r\n    </g>\r\n    <g id=\"xtick_18\">\r\n     <g id=\"line2d_18\">\r\n      <g>\r\n       <use style=\"stroke:#000000;stroke-width:0.8;\" x=\"351.117188\" xlink:href=\"#m7c740a7fcc\" y=\"245.836875\"/>\r\n      </g>\r\n     </g>\r\n     <g id=\"text_18\">\r\n      <!-- jamaican -->\r\n      <g transform=\"translate(353.876563 298.354062)rotate(-90)scale(0.1 -0.1)\">\r\n       <use xlink:href=\"#DejaVuSans-106\"/>\r\n       <use x=\"27.783203\" xlink:href=\"#DejaVuSans-97\"/>\r\n       <use x=\"89.0625\" xlink:href=\"#DejaVuSans-109\"/>\r\n       <use x=\"186.474609\" xlink:href=\"#DejaVuSans-97\"/>\r\n       <use x=\"247.753906\" xlink:href=\"#DejaVuSans-105\"/>\r\n       <use x=\"275.537109\" xlink:href=\"#DejaVuSans-99\"/>\r\n       <use x=\"330.517578\" xlink:href=\"#DejaVuSans-97\"/>\r\n       <use x=\"391.796875\" xlink:href=\"#DejaVuSans-110\"/>\r\n      </g>\r\n     </g>\r\n    </g>\r\n    <g id=\"xtick_19\">\r\n     <g id=\"line2d_19\">\r\n      <g>\r\n       <use style=\"stroke:#000000;stroke-width:0.8;\" x=\"367.857188\" xlink:href=\"#m7c740a7fcc\" y=\"245.836875\"/>\r\n      </g>\r\n     </g>\r\n     <g id=\"text_19\">\r\n      <!-- russian -->\r\n      <g transform=\"translate(370.616563 288.947812)rotate(-90)scale(0.1 -0.1)\">\r\n       <use xlink:href=\"#DejaVuSans-114\"/>\r\n       <use x=\"41.113281\" xlink:href=\"#DejaVuSans-117\"/>\r\n       <use x=\"104.492188\" xlink:href=\"#DejaVuSans-115\"/>\r\n       <use x=\"156.591797\" xlink:href=\"#DejaVuSans-115\"/>\r\n       <use x=\"208.691406\" xlink:href=\"#DejaVuSans-105\"/>\r\n       <use x=\"236.474609\" xlink:href=\"#DejaVuSans-97\"/>\r\n       <use x=\"297.753906\" xlink:href=\"#DejaVuSans-110\"/>\r\n      </g>\r\n     </g>\r\n    </g>\r\n    <g id=\"xtick_20\">\r\n     <g id=\"line2d_20\">\r\n      <g>\r\n       <use style=\"stroke:#000000;stroke-width:0.8;\" x=\"384.597188\" xlink:href=\"#m7c740a7fcc\" y=\"245.836875\"/>\r\n      </g>\r\n     </g>\r\n     <g id=\"text_20\">\r\n      <!-- brazilian -->\r\n      <g transform=\"translate(387.356563 295.472812)rotate(-90)scale(0.1 -0.1)\">\r\n       <defs>\r\n        <path d=\"M 5.515625 54.6875 \r\nL 48.1875 54.6875 \r\nL 48.1875 46.484375 \r\nL 14.40625 7.171875 \r\nL 48.1875 7.171875 \r\nL 48.1875 0 \r\nL 4.296875 0 \r\nL 4.296875 8.203125 \r\nL 38.09375 47.515625 \r\nL 5.515625 47.515625 \r\nz\r\n\" id=\"DejaVuSans-122\"/>\r\n       </defs>\r\n       <use xlink:href=\"#DejaVuSans-98\"/>\r\n       <use x=\"63.476562\" xlink:href=\"#DejaVuSans-114\"/>\r\n       <use x=\"104.589844\" xlink:href=\"#DejaVuSans-97\"/>\r\n       <use x=\"165.869141\" xlink:href=\"#DejaVuSans-122\"/>\r\n       <use x=\"218.359375\" xlink:href=\"#DejaVuSans-105\"/>\r\n       <use x=\"246.142578\" xlink:href=\"#DejaVuSans-108\"/>\r\n       <use x=\"273.925781\" xlink:href=\"#DejaVuSans-105\"/>\r\n       <use x=\"301.708984\" xlink:href=\"#DejaVuSans-97\"/>\r\n       <use x=\"362.988281\" xlink:href=\"#DejaVuSans-110\"/>\r\n      </g>\r\n     </g>\r\n    </g>\r\n    <g id=\"text_21\">\r\n     <!-- Cuisine -->\r\n     <g transform=\"translate(198.134766 330.901719)scale(0.15 -0.15)\">\r\n      <defs>\r\n       <path d=\"M 64.40625 67.28125 \r\nL 64.40625 56.890625 \r\nQ 59.421875 61.53125 53.78125 63.8125 \r\nQ 48.140625 66.109375 41.796875 66.109375 \r\nQ 29.296875 66.109375 22.65625 58.46875 \r\nQ 16.015625 50.828125 16.015625 36.375 \r\nQ 16.015625 21.96875 22.65625 14.328125 \r\nQ 29.296875 6.6875 41.796875 6.6875 \r\nQ 48.140625 6.6875 53.78125 8.984375 \r\nQ 59.421875 11.28125 64.40625 15.921875 \r\nL 64.40625 5.609375 \r\nQ 59.234375 2.09375 53.4375 0.328125 \r\nQ 47.65625 -1.421875 41.21875 -1.421875 \r\nQ 24.65625 -1.421875 15.125 8.703125 \r\nQ 5.609375 18.84375 5.609375 36.375 \r\nQ 5.609375 53.953125 15.125 64.078125 \r\nQ 24.65625 74.21875 41.21875 74.21875 \r\nQ 47.75 74.21875 53.53125 72.484375 \r\nQ 59.328125 70.75 64.40625 67.28125 \r\nz\r\n\" id=\"DejaVuSans-67\"/>\r\n      </defs>\r\n      <use xlink:href=\"#DejaVuSans-67\"/>\r\n      <use x=\"69.824219\" xlink:href=\"#DejaVuSans-117\"/>\r\n      <use x=\"133.203125\" xlink:href=\"#DejaVuSans-105\"/>\r\n      <use x=\"160.986328\" xlink:href=\"#DejaVuSans-115\"/>\r\n      <use x=\"213.085938\" xlink:href=\"#DejaVuSans-105\"/>\r\n      <use x=\"240.869141\" xlink:href=\"#DejaVuSans-110\"/>\r\n      <use x=\"304.248047\" xlink:href=\"#DejaVuSans-101\"/>\r\n     </g>\r\n    </g>\r\n   </g>\r\n   <g id=\"matplotlib.axis_2\">\r\n    <g id=\"ytick_1\">\r\n     <g id=\"line2d_21\">\r\n      <defs>\r\n       <path d=\"M 0 0 \r\nL -3.5 0 \r\n\" id=\"md320b9f899\" style=\"stroke:#000000;stroke-width:0.8;\"/>\r\n      </defs>\r\n      <g>\r\n       <use style=\"stroke:#000000;stroke-width:0.8;\" x=\"58.167188\" xlink:href=\"#md320b9f899\" y=\"245.836875\"/>\r\n      </g>\r\n     </g>\r\n     <g id=\"text_22\">\r\n      <!-- 0 -->\r\n      <g transform=\"translate(44.804688 249.636094)scale(0.1 -0.1)\">\r\n       <defs>\r\n        <path d=\"M 31.78125 66.40625 \r\nQ 24.171875 66.40625 20.328125 58.90625 \r\nQ 16.5 51.421875 16.5 36.375 \r\nQ 16.5 21.390625 20.328125 13.890625 \r\nQ 24.171875 6.390625 31.78125 6.390625 \r\nQ 39.453125 6.390625 43.28125 13.890625 \r\nQ 47.125 21.390625 47.125 36.375 \r\nQ 47.125 51.421875 43.28125 58.90625 \r\nQ 39.453125 66.40625 31.78125 66.40625 \r\nz\r\nM 31.78125 74.21875 \r\nQ 44.046875 74.21875 50.515625 64.515625 \r\nQ 56.984375 54.828125 56.984375 36.375 \r\nQ 56.984375 17.96875 50.515625 8.265625 \r\nQ 44.046875 -1.421875 31.78125 -1.421875 \r\nQ 19.53125 -1.421875 13.0625 8.265625 \r\nQ 6.59375 17.96875 6.59375 36.375 \r\nQ 6.59375 54.828125 13.0625 64.515625 \r\nQ 19.53125 74.21875 31.78125 74.21875 \r\nz\r\n\" id=\"DejaVuSans-48\"/>\r\n       </defs>\r\n       <use xlink:href=\"#DejaVuSans-48\"/>\r\n      </g>\r\n     </g>\r\n    </g>\r\n    <g id=\"ytick_2\">\r\n     <g id=\"line2d_22\">\r\n      <g>\r\n       <use style=\"stroke:#000000;stroke-width:0.8;\" x=\"58.167188\" xlink:href=\"#md320b9f899\" y=\"210.485951\"/>\r\n      </g>\r\n     </g>\r\n     <g id=\"text_23\">\r\n      <!-- 500 -->\r\n      <g transform=\"translate(32.079688 214.285169)scale(0.1 -0.1)\">\r\n       <defs>\r\n        <path d=\"M 10.796875 72.90625 \r\nL 49.515625 72.90625 \r\nL 49.515625 64.59375 \r\nL 19.828125 64.59375 \r\nL 19.828125 46.734375 \r\nQ 21.96875 47.46875 24.109375 47.828125 \r\nQ 26.265625 48.1875 28.421875 48.1875 \r\nQ 40.625 48.1875 47.75 41.5 \r\nQ 54.890625 34.8125 54.890625 23.390625 \r\nQ 54.890625 11.625 47.5625 5.09375 \r\nQ 40.234375 -1.421875 26.90625 -1.421875 \r\nQ 22.3125 -1.421875 17.546875 -0.640625 \r\nQ 12.796875 0.140625 7.71875 1.703125 \r\nL 7.71875 11.625 \r\nQ 12.109375 9.234375 16.796875 8.0625 \r\nQ 21.484375 6.890625 26.703125 6.890625 \r\nQ 35.15625 6.890625 40.078125 11.328125 \r\nQ 45.015625 15.765625 45.015625 23.390625 \r\nQ 45.015625 31 40.078125 35.4375 \r\nQ 35.15625 39.890625 26.703125 39.890625 \r\nQ 22.75 39.890625 18.8125 39.015625 \r\nQ 14.890625 38.140625 10.796875 36.28125 \r\nz\r\n\" id=\"DejaVuSans-53\"/>\r\n       </defs>\r\n       <use xlink:href=\"#DejaVuSans-53\"/>\r\n       <use x=\"63.623047\" xlink:href=\"#DejaVuSans-48\"/>\r\n       <use x=\"127.246094\" xlink:href=\"#DejaVuSans-48\"/>\r\n      </g>\r\n     </g>\r\n    </g>\r\n    <g id=\"ytick_3\">\r\n     <g id=\"line2d_23\">\r\n      <g>\r\n       <use style=\"stroke:#000000;stroke-width:0.8;\" x=\"58.167188\" xlink:href=\"#md320b9f899\" y=\"175.135026\"/>\r\n      </g>\r\n     </g>\r\n     <g id=\"text_24\">\r\n      <!-- 1000 -->\r\n      <g transform=\"translate(25.717188 178.934245)scale(0.1 -0.1)\">\r\n       <defs>\r\n        <path d=\"M 12.40625 8.296875 \r\nL 28.515625 8.296875 \r\nL 28.515625 63.921875 \r\nL 10.984375 60.40625 \r\nL 10.984375 69.390625 \r\nL 28.421875 72.90625 \r\nL 38.28125 72.90625 \r\nL 38.28125 8.296875 \r\nL 54.390625 8.296875 \r\nL 54.390625 0 \r\nL 12.40625 0 \r\nz\r\n\" id=\"DejaVuSans-49\"/>\r\n       </defs>\r\n       <use xlink:href=\"#DejaVuSans-49\"/>\r\n       <use x=\"63.623047\" xlink:href=\"#DejaVuSans-48\"/>\r\n       <use x=\"127.246094\" xlink:href=\"#DejaVuSans-48\"/>\r\n       <use x=\"190.869141\" xlink:href=\"#DejaVuSans-48\"/>\r\n      </g>\r\n     </g>\r\n    </g>\r\n    <g id=\"ytick_4\">\r\n     <g id=\"line2d_24\">\r\n      <g>\r\n       <use style=\"stroke:#000000;stroke-width:0.8;\" x=\"58.167188\" xlink:href=\"#md320b9f899\" y=\"139.784102\"/>\r\n      </g>\r\n     </g>\r\n     <g id=\"text_25\">\r\n      <!-- 1500 -->\r\n      <g transform=\"translate(25.717188 143.583321)scale(0.1 -0.1)\">\r\n       <use xlink:href=\"#DejaVuSans-49\"/>\r\n       <use x=\"63.623047\" xlink:href=\"#DejaVuSans-53\"/>\r\n       <use x=\"127.246094\" xlink:href=\"#DejaVuSans-48\"/>\r\n       <use x=\"190.869141\" xlink:href=\"#DejaVuSans-48\"/>\r\n      </g>\r\n     </g>\r\n    </g>\r\n    <g id=\"ytick_5\">\r\n     <g id=\"line2d_25\">\r\n      <g>\r\n       <use style=\"stroke:#000000;stroke-width:0.8;\" x=\"58.167188\" xlink:href=\"#md320b9f899\" y=\"104.433178\"/>\r\n      </g>\r\n     </g>\r\n     <g id=\"text_26\">\r\n      <!-- 2000 -->\r\n      <g transform=\"translate(25.717188 108.232397)scale(0.1 -0.1)\">\r\n       <defs>\r\n        <path d=\"M 19.1875 8.296875 \r\nL 53.609375 8.296875 \r\nL 53.609375 0 \r\nL 7.328125 0 \r\nL 7.328125 8.296875 \r\nQ 12.9375 14.109375 22.625 23.890625 \r\nQ 32.328125 33.6875 34.8125 36.53125 \r\nQ 39.546875 41.84375 41.421875 45.53125 \r\nQ 43.3125 49.21875 43.3125 52.78125 \r\nQ 43.3125 58.59375 39.234375 62.25 \r\nQ 35.15625 65.921875 28.609375 65.921875 \r\nQ 23.96875 65.921875 18.8125 64.3125 \r\nQ 13.671875 62.703125 7.8125 59.421875 \r\nL 7.8125 69.390625 \r\nQ 13.765625 71.78125 18.9375 73 \r\nQ 24.125 74.21875 28.421875 74.21875 \r\nQ 39.75 74.21875 46.484375 68.546875 \r\nQ 53.21875 62.890625 53.21875 53.421875 \r\nQ 53.21875 48.921875 51.53125 44.890625 \r\nQ 49.859375 40.875 45.40625 35.40625 \r\nQ 44.1875 33.984375 37.640625 27.21875 \r\nQ 31.109375 20.453125 19.1875 8.296875 \r\nz\r\n\" id=\"DejaVuSans-50\"/>\r\n       </defs>\r\n       <use xlink:href=\"#DejaVuSans-50\"/>\r\n       <use x=\"63.623047\" xlink:href=\"#DejaVuSans-48\"/>\r\n       <use x=\"127.246094\" xlink:href=\"#DejaVuSans-48\"/>\r\n       <use x=\"190.869141\" xlink:href=\"#DejaVuSans-48\"/>\r\n      </g>\r\n     </g>\r\n    </g>\r\n    <g id=\"ytick_6\">\r\n     <g id=\"line2d_26\">\r\n      <g>\r\n       <use style=\"stroke:#000000;stroke-width:0.8;\" x=\"58.167188\" xlink:href=\"#md320b9f899\" y=\"69.082254\"/>\r\n      </g>\r\n     </g>\r\n     <g id=\"text_27\">\r\n      <!-- 2500 -->\r\n      <g transform=\"translate(25.717188 72.881472)scale(0.1 -0.1)\">\r\n       <use xlink:href=\"#DejaVuSans-50\"/>\r\n       <use x=\"63.623047\" xlink:href=\"#DejaVuSans-53\"/>\r\n       <use x=\"127.246094\" xlink:href=\"#DejaVuSans-48\"/>\r\n       <use x=\"190.869141\" xlink:href=\"#DejaVuSans-48\"/>\r\n      </g>\r\n     </g>\r\n    </g>\r\n    <g id=\"ytick_7\">\r\n     <g id=\"line2d_27\">\r\n      <g>\r\n       <use style=\"stroke:#000000;stroke-width:0.8;\" x=\"58.167188\" xlink:href=\"#md320b9f899\" y=\"33.731329\"/>\r\n      </g>\r\n     </g>\r\n     <g id=\"text_28\">\r\n      <!-- 3000 -->\r\n      <g transform=\"translate(25.717188 37.530548)scale(0.1 -0.1)\">\r\n       <defs>\r\n        <path d=\"M 40.578125 39.3125 \r\nQ 47.65625 37.796875 51.625 33 \r\nQ 55.609375 28.21875 55.609375 21.1875 \r\nQ 55.609375 10.40625 48.1875 4.484375 \r\nQ 40.765625 -1.421875 27.09375 -1.421875 \r\nQ 22.515625 -1.421875 17.65625 -0.515625 \r\nQ 12.796875 0.390625 7.625 2.203125 \r\nL 7.625 11.71875 \r\nQ 11.71875 9.328125 16.59375 8.109375 \r\nQ 21.484375 6.890625 26.8125 6.890625 \r\nQ 36.078125 6.890625 40.9375 10.546875 \r\nQ 45.796875 14.203125 45.796875 21.1875 \r\nQ 45.796875 27.640625 41.28125 31.265625 \r\nQ 36.765625 34.90625 28.71875 34.90625 \r\nL 20.21875 34.90625 \r\nL 20.21875 43.015625 \r\nL 29.109375 43.015625 \r\nQ 36.375 43.015625 40.234375 45.921875 \r\nQ 44.09375 48.828125 44.09375 54.296875 \r\nQ 44.09375 59.90625 40.109375 62.90625 \r\nQ 36.140625 65.921875 28.71875 65.921875 \r\nQ 24.65625 65.921875 20.015625 65.03125 \r\nQ 15.375 64.15625 9.8125 62.3125 \r\nL 9.8125 71.09375 \r\nQ 15.4375 72.65625 20.34375 73.4375 \r\nQ 25.25 74.21875 29.59375 74.21875 \r\nQ 40.828125 74.21875 47.359375 69.109375 \r\nQ 53.90625 64.015625 53.90625 55.328125 \r\nQ 53.90625 49.265625 50.4375 45.09375 \r\nQ 46.96875 40.921875 40.578125 39.3125 \r\nz\r\n\" id=\"DejaVuSans-51\"/>\r\n       </defs>\r\n       <use xlink:href=\"#DejaVuSans-51\"/>\r\n       <use x=\"63.623047\" xlink:href=\"#DejaVuSans-48\"/>\r\n       <use x=\"127.246094\" xlink:href=\"#DejaVuSans-48\"/>\r\n       <use x=\"190.869141\" xlink:href=\"#DejaVuSans-48\"/>\r\n      </g>\r\n     </g>\r\n    </g>\r\n    <g id=\"text_29\">\r\n     <!-- Number of unique Ingredients -->\r\n     <g transform=\"translate(18.597656 249.661406)rotate(-90)scale(0.15 -0.15)\">\r\n      <defs>\r\n       <path d=\"M 9.8125 72.90625 \r\nL 23.09375 72.90625 \r\nL 55.421875 11.921875 \r\nL 55.421875 72.90625 \r\nL 64.984375 72.90625 \r\nL 64.984375 0 \r\nL 51.703125 0 \r\nL 19.390625 60.984375 \r\nL 19.390625 0 \r\nL 9.8125 0 \r\nz\r\n\" id=\"DejaVuSans-78\"/>\r\n       <path id=\"DejaVuSans-32\"/>\r\n       <path d=\"M 14.796875 27.296875 \r\nQ 14.796875 17.390625 18.875 11.75 \r\nQ 22.953125 6.109375 30.078125 6.109375 \r\nQ 37.203125 6.109375 41.296875 11.75 \r\nQ 45.40625 17.390625 45.40625 27.296875 \r\nQ 45.40625 37.203125 41.296875 42.84375 \r\nQ 37.203125 48.484375 30.078125 48.484375 \r\nQ 22.953125 48.484375 18.875 42.84375 \r\nQ 14.796875 37.203125 14.796875 27.296875 \r\nz\r\nM 45.40625 8.203125 \r\nQ 42.578125 3.328125 38.25 0.953125 \r\nQ 33.9375 -1.421875 27.875 -1.421875 \r\nQ 17.96875 -1.421875 11.734375 6.484375 \r\nQ 5.515625 14.40625 5.515625 27.296875 \r\nQ 5.515625 40.1875 11.734375 48.09375 \r\nQ 17.96875 56 27.875 56 \r\nQ 33.9375 56 38.25 53.625 \r\nQ 42.578125 51.265625 45.40625 46.390625 \r\nL 45.40625 54.6875 \r\nL 54.390625 54.6875 \r\nL 54.390625 -20.796875 \r\nL 45.40625 -20.796875 \r\nz\r\n\" id=\"DejaVuSans-113\"/>\r\n       <path d=\"M 9.8125 72.90625 \r\nL 19.671875 72.90625 \r\nL 19.671875 0 \r\nL 9.8125 0 \r\nz\r\n\" id=\"DejaVuSans-73\"/>\r\n      </defs>\r\n      <use xlink:href=\"#DejaVuSans-78\"/>\r\n      <use x=\"74.804688\" xlink:href=\"#DejaVuSans-117\"/>\r\n      <use x=\"138.183594\" xlink:href=\"#DejaVuSans-109\"/>\r\n      <use x=\"235.595703\" xlink:href=\"#DejaVuSans-98\"/>\r\n      <use x=\"299.072266\" xlink:href=\"#DejaVuSans-101\"/>\r\n      <use x=\"360.595703\" xlink:href=\"#DejaVuSans-114\"/>\r\n      <use x=\"401.708984\" xlink:href=\"#DejaVuSans-32\"/>\r\n      <use x=\"433.496094\" xlink:href=\"#DejaVuSans-111\"/>\r\n      <use x=\"494.677734\" xlink:href=\"#DejaVuSans-102\"/>\r\n      <use x=\"529.882812\" xlink:href=\"#DejaVuSans-32\"/>\r\n      <use x=\"561.669922\" xlink:href=\"#DejaVuSans-117\"/>\r\n      <use x=\"625.048828\" xlink:href=\"#DejaVuSans-110\"/>\r\n      <use x=\"688.427734\" xlink:href=\"#DejaVuSans-105\"/>\r\n      <use x=\"716.210938\" xlink:href=\"#DejaVuSans-113\"/>\r\n      <use x=\"779.6875\" xlink:href=\"#DejaVuSans-117\"/>\r\n      <use x=\"843.066406\" xlink:href=\"#DejaVuSans-101\"/>\r\n      <use x=\"904.589844\" xlink:href=\"#DejaVuSans-32\"/>\r\n      <use x=\"936.376953\" xlink:href=\"#DejaVuSans-73\"/>\r\n      <use x=\"965.869141\" xlink:href=\"#DejaVuSans-110\"/>\r\n      <use x=\"1029.248047\" xlink:href=\"#DejaVuSans-103\"/>\r\n      <use x=\"1092.724609\" xlink:href=\"#DejaVuSans-114\"/>\r\n      <use x=\"1131.587891\" xlink:href=\"#DejaVuSans-101\"/>\r\n      <use x=\"1193.111328\" xlink:href=\"#DejaVuSans-100\"/>\r\n      <use x=\"1256.587891\" xlink:href=\"#DejaVuSans-105\"/>\r\n      <use x=\"1284.371094\" xlink:href=\"#DejaVuSans-101\"/>\r\n      <use x=\"1345.894531\" xlink:href=\"#DejaVuSans-110\"/>\r\n      <use x=\"1409.273438\" xlink:href=\"#DejaVuSans-116\"/>\r\n      <use x=\"1448.482422\" xlink:href=\"#DejaVuSans-115\"/>\r\n     </g>\r\n    </g>\r\n   </g>\r\n   <g id=\"patch_23\">\r\n    <path d=\"M 58.167188 245.836875 \r\nL 58.167188 28.396875 \r\n\" style=\"fill:none;stroke:#000000;stroke-linecap:square;stroke-linejoin:miter;stroke-width:0.8;\"/>\r\n   </g>\r\n   <g id=\"patch_24\">\r\n    <path d=\"M 392.967188 245.836875 \r\nL 392.967188 28.396875 \r\n\" style=\"fill:none;stroke:#000000;stroke-linecap:square;stroke-linejoin:miter;stroke-width:0.8;\"/>\r\n   </g>\r\n   <g id=\"patch_25\">\r\n    <path d=\"M 58.167188 245.836875 \r\nL 392.967188 245.836875 \r\n\" style=\"fill:none;stroke:#000000;stroke-linecap:square;stroke-linejoin:miter;stroke-width:0.8;\"/>\r\n   </g>\r\n   <g id=\"patch_26\">\r\n    <path d=\"M 58.167188 28.396875 \r\nL 392.967188 28.396875 \r\n\" style=\"fill:none;stroke:#000000;stroke-linecap:square;stroke-linejoin:miter;stroke-width:0.8;\"/>\r\n   </g>\r\n   <g id=\"text_30\">\r\n    <!-- Unique ingredients by cuisine -->\r\n    <g style=\"fill:#ff0000;\" transform=\"translate(77.15 22.396875)scale(0.2 -0.2)\">\r\n     <defs>\r\n      <path d=\"M 8.6875 72.90625 \r\nL 18.609375 72.90625 \r\nL 18.609375 28.609375 \r\nQ 18.609375 16.890625 22.84375 11.734375 \r\nQ 27.09375 6.59375 36.625 6.59375 \r\nQ 46.09375 6.59375 50.34375 11.734375 \r\nQ 54.59375 16.890625 54.59375 28.609375 \r\nL 54.59375 72.90625 \r\nL 64.5 72.90625 \r\nL 64.5 27.390625 \r\nQ 64.5 13.140625 57.4375 5.859375 \r\nQ 50.390625 -1.421875 36.625 -1.421875 \r\nQ 22.796875 -1.421875 15.734375 5.859375 \r\nQ 8.6875 13.140625 8.6875 27.390625 \r\nz\r\n\" id=\"DejaVuSans-85\"/>\r\n      <path d=\"M 32.171875 -5.078125 \r\nQ 28.375 -14.84375 24.75 -17.8125 \r\nQ 21.140625 -20.796875 15.09375 -20.796875 \r\nL 7.90625 -20.796875 \r\nL 7.90625 -13.28125 \r\nL 13.1875 -13.28125 \r\nQ 16.890625 -13.28125 18.9375 -11.515625 \r\nQ 21 -9.765625 23.484375 -3.21875 \r\nL 25.09375 0.875 \r\nL 2.984375 54.6875 \r\nL 12.5 54.6875 \r\nL 29.59375 11.921875 \r\nL 46.6875 54.6875 \r\nL 56.203125 54.6875 \r\nz\r\n\" id=\"DejaVuSans-121\"/>\r\n     </defs>\r\n     <use xlink:href=\"#DejaVuSans-85\"/>\r\n     <use x=\"73.193359\" xlink:href=\"#DejaVuSans-110\"/>\r\n     <use x=\"136.572266\" xlink:href=\"#DejaVuSans-105\"/>\r\n     <use x=\"164.355469\" xlink:href=\"#DejaVuSans-113\"/>\r\n     <use x=\"227.832031\" xlink:href=\"#DejaVuSans-117\"/>\r\n     <use x=\"291.210938\" xlink:href=\"#DejaVuSans-101\"/>\r\n     <use x=\"352.734375\" xlink:href=\"#DejaVuSans-32\"/>\r\n     <use x=\"384.521484\" xlink:href=\"#DejaVuSans-105\"/>\r\n     <use x=\"412.304688\" xlink:href=\"#DejaVuSans-110\"/>\r\n     <use x=\"475.683594\" xlink:href=\"#DejaVuSans-103\"/>\r\n     <use x=\"539.160156\" xlink:href=\"#DejaVuSans-114\"/>\r\n     <use x=\"578.023438\" xlink:href=\"#DejaVuSans-101\"/>\r\n     <use x=\"639.546875\" xlink:href=\"#DejaVuSans-100\"/>\r\n     <use x=\"703.023438\" xlink:href=\"#DejaVuSans-105\"/>\r\n     <use x=\"730.806641\" xlink:href=\"#DejaVuSans-101\"/>\r\n     <use x=\"792.330078\" xlink:href=\"#DejaVuSans-110\"/>\r\n     <use x=\"855.708984\" xlink:href=\"#DejaVuSans-116\"/>\r\n     <use x=\"894.917969\" xlink:href=\"#DejaVuSans-115\"/>\r\n     <use x=\"947.017578\" xlink:href=\"#DejaVuSans-32\"/>\r\n     <use x=\"978.804688\" xlink:href=\"#DejaVuSans-98\"/>\r\n     <use x=\"1042.28125\" xlink:href=\"#DejaVuSans-121\"/>\r\n     <use x=\"1101.460938\" xlink:href=\"#DejaVuSans-32\"/>\r\n     <use x=\"1133.248047\" xlink:href=\"#DejaVuSans-99\"/>\r\n     <use x=\"1188.228516\" xlink:href=\"#DejaVuSans-117\"/>\r\n     <use x=\"1251.607422\" xlink:href=\"#DejaVuSans-105\"/>\r\n     <use x=\"1279.390625\" xlink:href=\"#DejaVuSans-115\"/>\r\n     <use x=\"1331.490234\" xlink:href=\"#DejaVuSans-105\"/>\r\n     <use x=\"1359.273438\" xlink:href=\"#DejaVuSans-110\"/>\r\n     <use x=\"1422.652344\" xlink:href=\"#DejaVuSans-101\"/>\r\n    </g>\r\n   </g>\r\n  </g>\r\n </g>\r\n <defs>\r\n  <clipPath id=\"pabcc86a11a\">\r\n   <rect height=\"217.44\" width=\"334.8\" x=\"58.167188\" y=\"28.396875\"/>\r\n  </clipPath>\r\n </defs>\r\n</svg>\r\n",
      "image/png": "[encoded data removed]"
     },
     "metadata": {
      "needs_background": "light"
     }
    }
   ],
   "source": [
    "# Number of unique ingredients used by cuisine\n",
    "x = uniqueItems.apply(len).sort_values(ascending=False)\n",
    "plt = x.plot(kind='bar', rot=90, fontsize=10)\n",
    "plt.set_xlabel('Cuisine', fontsize=15)\n",
    "plt.set_ylabel('Number of unique Ingredients', fontsize=15)\n",
    "plt.set_title('Unique ingredients by cuisine', fontsize=20 , color='red')"
   ]
  },
  {
   "cell_type": "code",
   "execution_count": 54,
   "metadata": {},
   "outputs": [
    {
     "output_type": "stream",
     "name": "stdout",
     "text": [
      "Total Unique ingredients = 6714\n"
     ]
    }
   ],
   "source": [
    "#Unique ingredients in the dataset\n",
    "unique_ingredients = Series(get_ingredients(uniqueItems).unique())\n",
    "count= len(unique_ingredients)\n",
    "print('Total Unique ingredients =', count)"
   ]
  },
  {
   "cell_type": "markdown",
   "metadata": {},
   "source": [
    "# Data Cleaning"
   ]
  },
  {
   "cell_type": "code",
   "execution_count": 55,
   "metadata": {},
   "outputs": [
    {
     "output_type": "execute_result",
     "data": {
      "text/plain": [
       "(39774, 6714)"
      ]
     },
     "metadata": {},
     "execution_count": 55
    }
   ],
   "source": [
    "#Make dummy of dataset\n",
    "from sklearn.preprocessing import MultiLabelBinarizer\n",
    "mlb = MultiLabelBinarizer()\n",
    "temp = DataFrame(mlb.fit_transform(df['ingredients']), columns=mlb.classes_, index=df.index)\n",
    "temp.shape"
   ]
  },
  {
   "cell_type": "code",
   "execution_count": 56,
   "metadata": {},
   "outputs": [
    {
     "output_type": "execute_result",
     "data": {
      "text/plain": [
       "   (    oz.) tomato sauce  (   oz.) tomato paste  \\\n",
       "0                       0                      0   \n",
       "1                       0                      0   \n",
       "2                       0                      0   \n",
       "3                       0                      0   \n",
       "4                       0                      0   \n",
       "\n",
       "   (10 oz.) frozen chopped spinach  \\\n",
       "0                                0   \n",
       "1                                0   \n",
       "2                                0   \n",
       "3                                0   \n",
       "4                                0   \n",
       "\n",
       "   (10 oz.) frozen chopped spinach, thawed and squeezed dry  \\\n",
       "0                                                  0          \n",
       "1                                                  0          \n",
       "2                                                  0          \n",
       "3                                                  0          \n",
       "4                                                  0          \n",
       "\n",
       "   (14 oz.) sweetened condensed milk  (14.5 oz.) diced tomatoes  \\\n",
       "0                                  0                          0   \n",
       "1                                  0                          0   \n",
       "2                                  0                          0   \n",
       "3                                  0                          0   \n",
       "4                                  0                          0   \n",
       "\n",
       "   (15 oz.) refried beans  1% low-fat buttermilk  1% low-fat chocolate milk  \\\n",
       "0                       0                      0                          0   \n",
       "1                       0                      0                          0   \n",
       "2                       0                      0                          0   \n",
       "3                       0                      0                          0   \n",
       "4                       0                      0                          0   \n",
       "\n",
       "   1% low-fat cottage cheese  ...  yukon gold potatoes  yuzu  yuzu juice  \\\n",
       "0                          0  ...                    0     0           0   \n",
       "1                          0  ...                    0     0           0   \n",
       "2                          0  ...                    0     0           0   \n",
       "3                          0  ...                    0     0           0   \n",
       "4                          0  ...                    0     0           0   \n",
       "\n",
       "   za'atar  zest  zesty italian dressing  zinfandel  ziti  zucchini  \\\n",
       "0        0     0                       0          0     0         0   \n",
       "1        0     0                       0          0     0         0   \n",
       "2        0     0                       0          0     0         0   \n",
       "3        0     0                       0          0     0         0   \n",
       "4        0     0                       0          0     0         0   \n",
       "\n",
       "   zucchini blossoms  \n",
       "0                  0  \n",
       "1                  0  \n",
       "2                  0  \n",
       "3                  0  \n",
       "4                  0  \n",
       "\n",
       "[5 rows x 6714 columns]"
      ],
      "text/html": "<div>\n<style scoped>\n    .dataframe tbody tr th:only-of-type {\n        vertical-align: middle;\n    }\n\n    .dataframe tbody tr th {\n        vertical-align: top;\n    }\n\n    .dataframe thead th {\n        text-align: right;\n    }\n</style>\n<table border=\"1\" class=\"dataframe\">\n  <thead>\n    <tr style=\"text-align: right;\">\n      <th></th>\n      <th>(    oz.) tomato sauce</th>\n      <th>(   oz.) tomato paste</th>\n      <th>(10 oz.) frozen chopped spinach</th>\n      <th>(10 oz.) frozen chopped spinach, thawed and squeezed dry</th>\n      <th>(14 oz.) sweetened condensed milk</th>\n      <th>(14.5 oz.) diced tomatoes</th>\n      <th>(15 oz.) refried beans</th>\n      <th>1% low-fat buttermilk</th>\n      <th>1% low-fat chocolate milk</th>\n      <th>1% low-fat cottage cheese</th>\n      <th>...</th>\n      <th>yukon gold potatoes</th>\n      <th>yuzu</th>\n      <th>yuzu juice</th>\n      <th>za'atar</th>\n      <th>zest</th>\n      <th>zesty italian dressing</th>\n      <th>zinfandel</th>\n      <th>ziti</th>\n      <th>zucchini</th>\n      <th>zucchini blossoms</th>\n    </tr>\n  </thead>\n  <tbody>\n    <tr>\n      <th>0</th>\n      <td>0</td>\n      <td>0</td>\n      <td>0</td>\n      <td>0</td>\n      <td>0</td>\n      <td>0</td>\n      <td>0</td>\n      <td>0</td>\n      <td>0</td>\n      <td>0</td>\n      <td>...</td>\n      <td>0</td>\n      <td>0</td>\n      <td>0</td>\n      <td>0</td>\n      <td>0</td>\n      <td>0</td>\n      <td>0</td>\n      <td>0</td>\n      <td>0</td>\n      <td>0</td>\n    </tr>\n    <tr>\n      <th>1</th>\n      <td>0</td>\n      <td>0</td>\n      <td>0</td>\n      <td>0</td>\n      <td>0</td>\n      <td>0</td>\n      <td>0</td>\n      <td>0</td>\n      <td>0</td>\n      <td>0</td>\n      <td>...</td>\n      <td>0</td>\n      <td>0</td>\n      <td>0</td>\n      <td>0</td>\n      <td>0</td>\n      <td>0</td>\n      <td>0</td>\n      <td>0</td>\n      <td>0</td>\n      <td>0</td>\n    </tr>\n    <tr>\n      <th>2</th>\n      <td>0</td>\n      <td>0</td>\n      <td>0</td>\n      <td>0</td>\n      <td>0</td>\n      <td>0</td>\n      <td>0</td>\n      <td>0</td>\n      <td>0</td>\n      <td>0</td>\n      <td>...</td>\n      <td>0</td>\n      <td>0</td>\n      <td>0</td>\n      <td>0</td>\n      <td>0</td>\n      <td>0</td>\n      <td>0</td>\n      <td>0</td>\n      <td>0</td>\n      <td>0</td>\n    </tr>\n    <tr>\n      <th>3</th>\n      <td>0</td>\n      <td>0</td>\n      <td>0</td>\n      <td>0</td>\n      <td>0</td>\n      <td>0</td>\n      <td>0</td>\n      <td>0</td>\n      <td>0</td>\n      <td>0</td>\n      <td>...</td>\n      <td>0</td>\n      <td>0</td>\n      <td>0</td>\n      <td>0</td>\n      <td>0</td>\n      <td>0</td>\n      <td>0</td>\n      <td>0</td>\n      <td>0</td>\n      <td>0</td>\n    </tr>\n    <tr>\n      <th>4</th>\n      <td>0</td>\n      <td>0</td>\n      <td>0</td>\n      <td>0</td>\n      <td>0</td>\n      <td>0</td>\n      <td>0</td>\n      <td>0</td>\n      <td>0</td>\n      <td>0</td>\n      <td>...</td>\n      <td>0</td>\n      <td>0</td>\n      <td>0</td>\n      <td>0</td>\n      <td>0</td>\n      <td>0</td>\n      <td>0</td>\n      <td>0</td>\n      <td>0</td>\n      <td>0</td>\n    </tr>\n  </tbody>\n</table>\n<p>5 rows × 6714 columns</p>\n</div>"
     },
     "metadata": {},
     "execution_count": 56
    }
   ],
   "source": [
    "temp.head()"
   ]
  },
  {
   "cell_type": "code",
   "execution_count": 57,
   "metadata": {},
   "outputs": [
    {
     "output_type": "execute_result",
     "data": {
      "text/plain": [
       "(39774, 6716)"
      ]
     },
     "metadata": {},
     "execution_count": 57
    }
   ],
   "source": [
    "# Join Original and Dummfied\n",
    "df2 = df.iloc[:].reindex(['cuisine', 'id'], axis=1)\n",
    "df_new = df2.join(temp)\n",
    "\n",
    "df_new.shape"
   ]
  },
  {
   "cell_type": "code",
   "execution_count": 58,
   "metadata": {},
   "outputs": [
    {
     "output_type": "execute_result",
     "data": {
      "text/plain": [
       "       cuisine     id  (    oz.) tomato sauce  (   oz.) tomato paste  \\\n",
       "0        greek  10259                       0                      0   \n",
       "1  southern_us  25693                       0                      0   \n",
       "2     filipino  20130                       0                      0   \n",
       "3       indian  22213                       0                      0   \n",
       "4       indian  13162                       0                      0   \n",
       "\n",
       "   (10 oz.) frozen chopped spinach  \\\n",
       "0                                0   \n",
       "1                                0   \n",
       "2                                0   \n",
       "3                                0   \n",
       "4                                0   \n",
       "\n",
       "   (10 oz.) frozen chopped spinach, thawed and squeezed dry  \\\n",
       "0                                                  0          \n",
       "1                                                  0          \n",
       "2                                                  0          \n",
       "3                                                  0          \n",
       "4                                                  0          \n",
       "\n",
       "   (14 oz.) sweetened condensed milk  (14.5 oz.) diced tomatoes  \\\n",
       "0                                  0                          0   \n",
       "1                                  0                          0   \n",
       "2                                  0                          0   \n",
       "3                                  0                          0   \n",
       "4                                  0                          0   \n",
       "\n",
       "   (15 oz.) refried beans  1% low-fat buttermilk  ...  yukon gold potatoes  \\\n",
       "0                       0                      0  ...                    0   \n",
       "1                       0                      0  ...                    0   \n",
       "2                       0                      0  ...                    0   \n",
       "3                       0                      0  ...                    0   \n",
       "4                       0                      0  ...                    0   \n",
       "\n",
       "   yuzu  yuzu juice  za'atar  zest  zesty italian dressing  zinfandel  ziti  \\\n",
       "0     0           0        0     0                       0          0     0   \n",
       "1     0           0        0     0                       0          0     0   \n",
       "2     0           0        0     0                       0          0     0   \n",
       "3     0           0        0     0                       0          0     0   \n",
       "4     0           0        0     0                       0          0     0   \n",
       "\n",
       "   zucchini  zucchini blossoms  \n",
       "0         0                  0  \n",
       "1         0                  0  \n",
       "2         0                  0  \n",
       "3         0                  0  \n",
       "4         0                  0  \n",
       "\n",
       "[5 rows x 6716 columns]"
      ],
      "text/html": "<div>\n<style scoped>\n    .dataframe tbody tr th:only-of-type {\n        vertical-align: middle;\n    }\n\n    .dataframe tbody tr th {\n        vertical-align: top;\n    }\n\n    .dataframe thead th {\n        text-align: right;\n    }\n</style>\n<table border=\"1\" class=\"dataframe\">\n  <thead>\n    <tr style=\"text-align: right;\">\n      <th></th>\n      <th>cuisine</th>\n      <th>id</th>\n      <th>(    oz.) tomato sauce</th>\n      <th>(   oz.) tomato paste</th>\n      <th>(10 oz.) frozen chopped spinach</th>\n      <th>(10 oz.) frozen chopped spinach, thawed and squeezed dry</th>\n      <th>(14 oz.) sweetened condensed milk</th>\n      <th>(14.5 oz.) diced tomatoes</th>\n      <th>(15 oz.) refried beans</th>\n      <th>1% low-fat buttermilk</th>\n      <th>...</th>\n      <th>yukon gold potatoes</th>\n      <th>yuzu</th>\n      <th>yuzu juice</th>\n      <th>za'atar</th>\n      <th>zest</th>\n      <th>zesty italian dressing</th>\n      <th>zinfandel</th>\n      <th>ziti</th>\n      <th>zucchini</th>\n      <th>zucchini blossoms</th>\n    </tr>\n  </thead>\n  <tbody>\n    <tr>\n      <th>0</th>\n      <td>greek</td>\n      <td>10259</td>\n      <td>0</td>\n      <td>0</td>\n      <td>0</td>\n      <td>0</td>\n      <td>0</td>\n      <td>0</td>\n      <td>0</td>\n      <td>0</td>\n      <td>...</td>\n      <td>0</td>\n      <td>0</td>\n      <td>0</td>\n      <td>0</td>\n      <td>0</td>\n      <td>0</td>\n      <td>0</td>\n      <td>0</td>\n      <td>0</td>\n      <td>0</td>\n    </tr>\n    <tr>\n      <th>1</th>\n      <td>southern_us</td>\n      <td>25693</td>\n      <td>0</td>\n      <td>0</td>\n      <td>0</td>\n      <td>0</td>\n      <td>0</td>\n      <td>0</td>\n      <td>0</td>\n      <td>0</td>\n      <td>...</td>\n      <td>0</td>\n      <td>0</td>\n      <td>0</td>\n      <td>0</td>\n      <td>0</td>\n      <td>0</td>\n      <td>0</td>\n      <td>0</td>\n      <td>0</td>\n      <td>0</td>\n    </tr>\n    <tr>\n      <th>2</th>\n      <td>filipino</td>\n      <td>20130</td>\n      <td>0</td>\n      <td>0</td>\n      <td>0</td>\n      <td>0</td>\n      <td>0</td>\n      <td>0</td>\n      <td>0</td>\n      <td>0</td>\n      <td>...</td>\n      <td>0</td>\n      <td>0</td>\n      <td>0</td>\n      <td>0</td>\n      <td>0</td>\n      <td>0</td>\n      <td>0</td>\n      <td>0</td>\n      <td>0</td>\n      <td>0</td>\n    </tr>\n    <tr>\n      <th>3</th>\n      <td>indian</td>\n      <td>22213</td>\n      <td>0</td>\n      <td>0</td>\n      <td>0</td>\n      <td>0</td>\n      <td>0</td>\n      <td>0</td>\n      <td>0</td>\n      <td>0</td>\n      <td>...</td>\n      <td>0</td>\n      <td>0</td>\n      <td>0</td>\n      <td>0</td>\n      <td>0</td>\n      <td>0</td>\n      <td>0</td>\n      <td>0</td>\n      <td>0</td>\n      <td>0</td>\n    </tr>\n    <tr>\n      <th>4</th>\n      <td>indian</td>\n      <td>13162</td>\n      <td>0</td>\n      <td>0</td>\n      <td>0</td>\n      <td>0</td>\n      <td>0</td>\n      <td>0</td>\n      <td>0</td>\n      <td>0</td>\n      <td>...</td>\n      <td>0</td>\n      <td>0</td>\n      <td>0</td>\n      <td>0</td>\n      <td>0</td>\n      <td>0</td>\n      <td>0</td>\n      <td>0</td>\n      <td>0</td>\n      <td>0</td>\n    </tr>\n  </tbody>\n</table>\n<p>5 rows × 6716 columns</p>\n</div>"
     },
     "metadata": {},
     "execution_count": 58
    }
   ],
   "source": [
    "df_new.head()"
   ]
  },
  {
   "cell_type": "code",
   "execution_count": 59,
   "metadata": {},
   "outputs": [
    {
     "output_type": "execute_result",
     "data": {
      "text/plain": [
       "(39774, 6717)"
      ]
     },
     "metadata": {},
     "execution_count": 59
    }
   ],
   "source": [
    "# Create a variable for recipe size \n",
    "df_new.insert(2, 'size_recipe', df_new.iloc[:, 2:].sum(axis=1))\n",
    "\n",
    "df_new.shape"
   ]
  },
  {
   "cell_type": "code",
   "execution_count": 60,
   "metadata": {},
   "outputs": [
    {
     "output_type": "execute_result",
     "data": {
      "text/plain": [
       "       cuisine     id  size_recipe  (    oz.) tomato sauce  \\\n",
       "0        greek  10259            9                       0   \n",
       "1  southern_us  25693           11                       0   \n",
       "2     filipino  20130           12                       0   \n",
       "3       indian  22213            4                       0   \n",
       "4       indian  13162           20                       0   \n",
       "\n",
       "   (   oz.) tomato paste  (10 oz.) frozen chopped spinach  \\\n",
       "0                      0                                0   \n",
       "1                      0                                0   \n",
       "2                      0                                0   \n",
       "3                      0                                0   \n",
       "4                      0                                0   \n",
       "\n",
       "   (10 oz.) frozen chopped spinach, thawed and squeezed dry  \\\n",
       "0                                                  0          \n",
       "1                                                  0          \n",
       "2                                                  0          \n",
       "3                                                  0          \n",
       "4                                                  0          \n",
       "\n",
       "   (14 oz.) sweetened condensed milk  (14.5 oz.) diced tomatoes  \\\n",
       "0                                  0                          0   \n",
       "1                                  0                          0   \n",
       "2                                  0                          0   \n",
       "3                                  0                          0   \n",
       "4                                  0                          0   \n",
       "\n",
       "   (15 oz.) refried beans  ...  yukon gold potatoes  yuzu  yuzu juice  \\\n",
       "0                       0  ...                    0     0           0   \n",
       "1                       0  ...                    0     0           0   \n",
       "2                       0  ...                    0     0           0   \n",
       "3                       0  ...                    0     0           0   \n",
       "4                       0  ...                    0     0           0   \n",
       "\n",
       "   za'atar  zest  zesty italian dressing  zinfandel  ziti  zucchini  \\\n",
       "0        0     0                       0          0     0         0   \n",
       "1        0     0                       0          0     0         0   \n",
       "2        0     0                       0          0     0         0   \n",
       "3        0     0                       0          0     0         0   \n",
       "4        0     0                       0          0     0         0   \n",
       "\n",
       "   zucchini blossoms  \n",
       "0                  0  \n",
       "1                  0  \n",
       "2                  0  \n",
       "3                  0  \n",
       "4                  0  \n",
       "\n",
       "[5 rows x 6717 columns]"
      ],
      "text/html": "<div>\n<style scoped>\n    .dataframe tbody tr th:only-of-type {\n        vertical-align: middle;\n    }\n\n    .dataframe tbody tr th {\n        vertical-align: top;\n    }\n\n    .dataframe thead th {\n        text-align: right;\n    }\n</style>\n<table border=\"1\" class=\"dataframe\">\n  <thead>\n    <tr style=\"text-align: right;\">\n      <th></th>\n      <th>cuisine</th>\n      <th>id</th>\n      <th>size_recipe</th>\n      <th>(    oz.) tomato sauce</th>\n      <th>(   oz.) tomato paste</th>\n      <th>(10 oz.) frozen chopped spinach</th>\n      <th>(10 oz.) frozen chopped spinach, thawed and squeezed dry</th>\n      <th>(14 oz.) sweetened condensed milk</th>\n      <th>(14.5 oz.) diced tomatoes</th>\n      <th>(15 oz.) refried beans</th>\n      <th>...</th>\n      <th>yukon gold potatoes</th>\n      <th>yuzu</th>\n      <th>yuzu juice</th>\n      <th>za'atar</th>\n      <th>zest</th>\n      <th>zesty italian dressing</th>\n      <th>zinfandel</th>\n      <th>ziti</th>\n      <th>zucchini</th>\n      <th>zucchini blossoms</th>\n    </tr>\n  </thead>\n  <tbody>\n    <tr>\n      <th>0</th>\n      <td>greek</td>\n      <td>10259</td>\n      <td>9</td>\n      <td>0</td>\n      <td>0</td>\n      <td>0</td>\n      <td>0</td>\n      <td>0</td>\n      <td>0</td>\n      <td>0</td>\n      <td>...</td>\n      <td>0</td>\n      <td>0</td>\n      <td>0</td>\n      <td>0</td>\n      <td>0</td>\n      <td>0</td>\n      <td>0</td>\n      <td>0</td>\n      <td>0</td>\n      <td>0</td>\n    </tr>\n    <tr>\n      <th>1</th>\n      <td>southern_us</td>\n      <td>25693</td>\n      <td>11</td>\n      <td>0</td>\n      <td>0</td>\n      <td>0</td>\n      <td>0</td>\n      <td>0</td>\n      <td>0</td>\n      <td>0</td>\n      <td>...</td>\n      <td>0</td>\n      <td>0</td>\n      <td>0</td>\n      <td>0</td>\n      <td>0</td>\n      <td>0</td>\n      <td>0</td>\n      <td>0</td>\n      <td>0</td>\n      <td>0</td>\n    </tr>\n    <tr>\n      <th>2</th>\n      <td>filipino</td>\n      <td>20130</td>\n      <td>12</td>\n      <td>0</td>\n      <td>0</td>\n      <td>0</td>\n      <td>0</td>\n      <td>0</td>\n      <td>0</td>\n      <td>0</td>\n      <td>...</td>\n      <td>0</td>\n      <td>0</td>\n      <td>0</td>\n      <td>0</td>\n      <td>0</td>\n      <td>0</td>\n      <td>0</td>\n      <td>0</td>\n      <td>0</td>\n      <td>0</td>\n    </tr>\n    <tr>\n      <th>3</th>\n      <td>indian</td>\n      <td>22213</td>\n      <td>4</td>\n      <td>0</td>\n      <td>0</td>\n      <td>0</td>\n      <td>0</td>\n      <td>0</td>\n      <td>0</td>\n      <td>0</td>\n      <td>...</td>\n      <td>0</td>\n      <td>0</td>\n      <td>0</td>\n      <td>0</td>\n      <td>0</td>\n      <td>0</td>\n      <td>0</td>\n      <td>0</td>\n      <td>0</td>\n      <td>0</td>\n    </tr>\n    <tr>\n      <th>4</th>\n      <td>indian</td>\n      <td>13162</td>\n      <td>20</td>\n      <td>0</td>\n      <td>0</td>\n      <td>0</td>\n      <td>0</td>\n      <td>0</td>\n      <td>0</td>\n      <td>0</td>\n      <td>...</td>\n      <td>0</td>\n      <td>0</td>\n      <td>0</td>\n      <td>0</td>\n      <td>0</td>\n      <td>0</td>\n      <td>0</td>\n      <td>0</td>\n      <td>0</td>\n      <td>0</td>\n    </tr>\n  </tbody>\n</table>\n<p>5 rows × 6717 columns</p>\n</div>"
     },
     "metadata": {},
     "execution_count": 60
    }
   ],
   "source": [
    "df_new.head()"
   ]
  },
  {
   "cell_type": "code",
   "execution_count": 61,
   "metadata": {},
   "outputs": [
    {
     "output_type": "stream",
     "name": "stdout",
     "text": [
      "Train dataset =  31819\nTest dataset =  7955\n"
     ]
    }
   ],
   "source": [
    "# Partition the data in train and test sets\n",
    "from sklearn.model_selection import train_test_split\n",
    "\n",
    "t_size=0.2\n",
    "seed=7\n",
    "train, test = train_test_split(df_new, test_size=t_size, random_state=seed) #random_state = set.seed\n",
    "\n",
    "print(\"Train dataset = \" , len(train)) \n",
    "print(\"Test dataset = \" , len(test))"
   ]
  },
  {
   "cell_type": "code",
   "execution_count": 62,
   "metadata": {},
   "outputs": [
    {
     "output_type": "execute_result",
     "data": {
      "text/plain": [
       "           cuisine     id  size_recipe  (    oz.) tomato sauce  \\\n",
       "36287    brazilian  34876           11                       0   \n",
       "34352       indian  24471           14                       0   \n",
       "19167  southern_us  11888            6                       0   \n",
       "28769         thai   5133           17                       0   \n",
       "9683         greek   1501            7                       0   \n",
       "\n",
       "       (   oz.) tomato paste  (10 oz.) frozen chopped spinach  \\\n",
       "36287                      0                                0   \n",
       "34352                      0                                0   \n",
       "19167                      0                                0   \n",
       "28769                      0                                0   \n",
       "9683                       0                                0   \n",
       "\n",
       "       (10 oz.) frozen chopped spinach, thawed and squeezed dry  \\\n",
       "36287                                                  0          \n",
       "34352                                                  0          \n",
       "19167                                                  0          \n",
       "28769                                                  0          \n",
       "9683                                                   0          \n",
       "\n",
       "       (14 oz.) sweetened condensed milk  (14.5 oz.) diced tomatoes  \\\n",
       "36287                                  0                          0   \n",
       "34352                                  0                          0   \n",
       "19167                                  0                          0   \n",
       "28769                                  0                          0   \n",
       "9683                                   0                          0   \n",
       "\n",
       "       (15 oz.) refried beans  ...  yukon gold potatoes  yuzu  yuzu juice  \\\n",
       "36287                       0  ...                    0     0           0   \n",
       "34352                       0  ...                    0     0           0   \n",
       "19167                       0  ...                    0     0           0   \n",
       "28769                       0  ...                    0     0           0   \n",
       "9683                        0  ...                    0     0           0   \n",
       "\n",
       "       za'atar  zest  zesty italian dressing  zinfandel  ziti  zucchini  \\\n",
       "36287        0     0                       0          0     0         0   \n",
       "34352        0     0                       0          0     0         0   \n",
       "19167        0     0                       0          0     0         0   \n",
       "28769        0     0                       0          0     0         0   \n",
       "9683         0     0                       0          0     0         0   \n",
       "\n",
       "       zucchini blossoms  \n",
       "36287                  0  \n",
       "34352                  0  \n",
       "19167                  0  \n",
       "28769                  0  \n",
       "9683                   0  \n",
       "\n",
       "[5 rows x 6717 columns]"
      ],
      "text/html": "<div>\n<style scoped>\n    .dataframe tbody tr th:only-of-type {\n        vertical-align: middle;\n    }\n\n    .dataframe tbody tr th {\n        vertical-align: top;\n    }\n\n    .dataframe thead th {\n        text-align: right;\n    }\n</style>\n<table border=\"1\" class=\"dataframe\">\n  <thead>\n    <tr style=\"text-align: right;\">\n      <th></th>\n      <th>cuisine</th>\n      <th>id</th>\n      <th>size_recipe</th>\n      <th>(    oz.) tomato sauce</th>\n      <th>(   oz.) tomato paste</th>\n      <th>(10 oz.) frozen chopped spinach</th>\n      <th>(10 oz.) frozen chopped spinach, thawed and squeezed dry</th>\n      <th>(14 oz.) sweetened condensed milk</th>\n      <th>(14.5 oz.) diced tomatoes</th>\n      <th>(15 oz.) refried beans</th>\n      <th>...</th>\n      <th>yukon gold potatoes</th>\n      <th>yuzu</th>\n      <th>yuzu juice</th>\n      <th>za'atar</th>\n      <th>zest</th>\n      <th>zesty italian dressing</th>\n      <th>zinfandel</th>\n      <th>ziti</th>\n      <th>zucchini</th>\n      <th>zucchini blossoms</th>\n    </tr>\n  </thead>\n  <tbody>\n    <tr>\n      <th>36287</th>\n      <td>brazilian</td>\n      <td>34876</td>\n      <td>11</td>\n      <td>0</td>\n      <td>0</td>\n      <td>0</td>\n      <td>0</td>\n      <td>0</td>\n      <td>0</td>\n      <td>0</td>\n      <td>...</td>\n      <td>0</td>\n      <td>0</td>\n      <td>0</td>\n      <td>0</td>\n      <td>0</td>\n      <td>0</td>\n      <td>0</td>\n      <td>0</td>\n      <td>0</td>\n      <td>0</td>\n    </tr>\n    <tr>\n      <th>34352</th>\n      <td>indian</td>\n      <td>24471</td>\n      <td>14</td>\n      <td>0</td>\n      <td>0</td>\n      <td>0</td>\n      <td>0</td>\n      <td>0</td>\n      <td>0</td>\n      <td>0</td>\n      <td>...</td>\n      <td>0</td>\n      <td>0</td>\n      <td>0</td>\n      <td>0</td>\n      <td>0</td>\n      <td>0</td>\n      <td>0</td>\n      <td>0</td>\n      <td>0</td>\n      <td>0</td>\n    </tr>\n    <tr>\n      <th>19167</th>\n      <td>southern_us</td>\n      <td>11888</td>\n      <td>6</td>\n      <td>0</td>\n      <td>0</td>\n      <td>0</td>\n      <td>0</td>\n      <td>0</td>\n      <td>0</td>\n      <td>0</td>\n      <td>...</td>\n      <td>0</td>\n      <td>0</td>\n      <td>0</td>\n      <td>0</td>\n      <td>0</td>\n      <td>0</td>\n      <td>0</td>\n      <td>0</td>\n      <td>0</td>\n      <td>0</td>\n    </tr>\n    <tr>\n      <th>28769</th>\n      <td>thai</td>\n      <td>5133</td>\n      <td>17</td>\n      <td>0</td>\n      <td>0</td>\n      <td>0</td>\n      <td>0</td>\n      <td>0</td>\n      <td>0</td>\n      <td>0</td>\n      <td>...</td>\n      <td>0</td>\n      <td>0</td>\n      <td>0</td>\n      <td>0</td>\n      <td>0</td>\n      <td>0</td>\n      <td>0</td>\n      <td>0</td>\n      <td>0</td>\n      <td>0</td>\n    </tr>\n    <tr>\n      <th>9683</th>\n      <td>greek</td>\n      <td>1501</td>\n      <td>7</td>\n      <td>0</td>\n      <td>0</td>\n      <td>0</td>\n      <td>0</td>\n      <td>0</td>\n      <td>0</td>\n      <td>0</td>\n      <td>...</td>\n      <td>0</td>\n      <td>0</td>\n      <td>0</td>\n      <td>0</td>\n      <td>0</td>\n      <td>0</td>\n      <td>0</td>\n      <td>0</td>\n      <td>0</td>\n      <td>0</td>\n    </tr>\n  </tbody>\n</table>\n<p>5 rows × 6717 columns</p>\n</div>"
     },
     "metadata": {},
     "execution_count": 62
    }
   ],
   "source": [
    "train.head()"
   ]
  },
  {
   "cell_type": "code",
   "execution_count": 63,
   "metadata": {},
   "outputs": [
    {
     "output_type": "execute_result",
     "data": {
      "text/plain": [
       "(31819, 6717)"
      ]
     },
     "metadata": {},
     "execution_count": 63
    }
   ],
   "source": [
    "#reset index of train dataset\n",
    "train.reset_index(inplace=True,drop=True)\n",
    "train.shape"
   ]
  },
  {
   "cell_type": "code",
   "execution_count": 64,
   "metadata": {},
   "outputs": [
    {
     "output_type": "execute_result",
     "data": {
      "text/plain": [
       "       cuisine     id  size_recipe  (    oz.) tomato sauce  \\\n",
       "0    brazilian  34876           11                       0   \n",
       "1       indian  24471           14                       0   \n",
       "2  southern_us  11888            6                       0   \n",
       "3         thai   5133           17                       0   \n",
       "4        greek   1501            7                       0   \n",
       "\n",
       "   (   oz.) tomato paste  (10 oz.) frozen chopped spinach  \\\n",
       "0                      0                                0   \n",
       "1                      0                                0   \n",
       "2                      0                                0   \n",
       "3                      0                                0   \n",
       "4                      0                                0   \n",
       "\n",
       "   (10 oz.) frozen chopped spinach, thawed and squeezed dry  \\\n",
       "0                                                  0          \n",
       "1                                                  0          \n",
       "2                                                  0          \n",
       "3                                                  0          \n",
       "4                                                  0          \n",
       "\n",
       "   (14 oz.) sweetened condensed milk  (14.5 oz.) diced tomatoes  \\\n",
       "0                                  0                          0   \n",
       "1                                  0                          0   \n",
       "2                                  0                          0   \n",
       "3                                  0                          0   \n",
       "4                                  0                          0   \n",
       "\n",
       "   (15 oz.) refried beans  ...  yukon gold potatoes  yuzu  yuzu juice  \\\n",
       "0                       0  ...                    0     0           0   \n",
       "1                       0  ...                    0     0           0   \n",
       "2                       0  ...                    0     0           0   \n",
       "3                       0  ...                    0     0           0   \n",
       "4                       0  ...                    0     0           0   \n",
       "\n",
       "   za'atar  zest  zesty italian dressing  zinfandel  ziti  zucchini  \\\n",
       "0        0     0                       0          0     0         0   \n",
       "1        0     0                       0          0     0         0   \n",
       "2        0     0                       0          0     0         0   \n",
       "3        0     0                       0          0     0         0   \n",
       "4        0     0                       0          0     0         0   \n",
       "\n",
       "   zucchini blossoms  \n",
       "0                  0  \n",
       "1                  0  \n",
       "2                  0  \n",
       "3                  0  \n",
       "4                  0  \n",
       "\n",
       "[5 rows x 6717 columns]"
      ],
      "text/html": "<div>\n<style scoped>\n    .dataframe tbody tr th:only-of-type {\n        vertical-align: middle;\n    }\n\n    .dataframe tbody tr th {\n        vertical-align: top;\n    }\n\n    .dataframe thead th {\n        text-align: right;\n    }\n</style>\n<table border=\"1\" class=\"dataframe\">\n  <thead>\n    <tr style=\"text-align: right;\">\n      <th></th>\n      <th>cuisine</th>\n      <th>id</th>\n      <th>size_recipe</th>\n      <th>(    oz.) tomato sauce</th>\n      <th>(   oz.) tomato paste</th>\n      <th>(10 oz.) frozen chopped spinach</th>\n      <th>(10 oz.) frozen chopped spinach, thawed and squeezed dry</th>\n      <th>(14 oz.) sweetened condensed milk</th>\n      <th>(14.5 oz.) diced tomatoes</th>\n      <th>(15 oz.) refried beans</th>\n      <th>...</th>\n      <th>yukon gold potatoes</th>\n      <th>yuzu</th>\n      <th>yuzu juice</th>\n      <th>za'atar</th>\n      <th>zest</th>\n      <th>zesty italian dressing</th>\n      <th>zinfandel</th>\n      <th>ziti</th>\n      <th>zucchini</th>\n      <th>zucchini blossoms</th>\n    </tr>\n  </thead>\n  <tbody>\n    <tr>\n      <th>0</th>\n      <td>brazilian</td>\n      <td>34876</td>\n      <td>11</td>\n      <td>0</td>\n      <td>0</td>\n      <td>0</td>\n      <td>0</td>\n      <td>0</td>\n      <td>0</td>\n      <td>0</td>\n      <td>...</td>\n      <td>0</td>\n      <td>0</td>\n      <td>0</td>\n      <td>0</td>\n      <td>0</td>\n      <td>0</td>\n      <td>0</td>\n      <td>0</td>\n      <td>0</td>\n      <td>0</td>\n    </tr>\n    <tr>\n      <th>1</th>\n      <td>indian</td>\n      <td>24471</td>\n      <td>14</td>\n      <td>0</td>\n      <td>0</td>\n      <td>0</td>\n      <td>0</td>\n      <td>0</td>\n      <td>0</td>\n      <td>0</td>\n      <td>...</td>\n      <td>0</td>\n      <td>0</td>\n      <td>0</td>\n      <td>0</td>\n      <td>0</td>\n      <td>0</td>\n      <td>0</td>\n      <td>0</td>\n      <td>0</td>\n      <td>0</td>\n    </tr>\n    <tr>\n      <th>2</th>\n      <td>southern_us</td>\n      <td>11888</td>\n      <td>6</td>\n      <td>0</td>\n      <td>0</td>\n      <td>0</td>\n      <td>0</td>\n      <td>0</td>\n      <td>0</td>\n      <td>0</td>\n      <td>...</td>\n      <td>0</td>\n      <td>0</td>\n      <td>0</td>\n      <td>0</td>\n      <td>0</td>\n      <td>0</td>\n      <td>0</td>\n      <td>0</td>\n      <td>0</td>\n      <td>0</td>\n    </tr>\n    <tr>\n      <th>3</th>\n      <td>thai</td>\n      <td>5133</td>\n      <td>17</td>\n      <td>0</td>\n      <td>0</td>\n      <td>0</td>\n      <td>0</td>\n      <td>0</td>\n      <td>0</td>\n      <td>0</td>\n      <td>...</td>\n      <td>0</td>\n      <td>0</td>\n      <td>0</td>\n      <td>0</td>\n      <td>0</td>\n      <td>0</td>\n      <td>0</td>\n      <td>0</td>\n      <td>0</td>\n      <td>0</td>\n    </tr>\n    <tr>\n      <th>4</th>\n      <td>greek</td>\n      <td>1501</td>\n      <td>7</td>\n      <td>0</td>\n      <td>0</td>\n      <td>0</td>\n      <td>0</td>\n      <td>0</td>\n      <td>0</td>\n      <td>0</td>\n      <td>...</td>\n      <td>0</td>\n      <td>0</td>\n      <td>0</td>\n      <td>0</td>\n      <td>0</td>\n      <td>0</td>\n      <td>0</td>\n      <td>0</td>\n      <td>0</td>\n      <td>0</td>\n    </tr>\n  </tbody>\n</table>\n<p>5 rows × 6717 columns</p>\n</div>"
     },
     "metadata": {},
     "execution_count": 64
    }
   ],
   "source": [
    "train.head()"
   ]
  },
  {
   "cell_type": "code",
   "execution_count": 65,
   "metadata": {},
   "outputs": [
    {
     "output_type": "execute_result",
     "data": {
      "text/plain": [
       "       cuisine     id  size_recipe  (    oz.) tomato sauce  \\\n",
       "10304  british   8237           13                       0   \n",
       "20571   korean  24966           13                       0   \n",
       "37808  italian  26779            8                       0   \n",
       "6928   mexican   1512           14                       0   \n",
       "19575     thai   6492           13                       0   \n",
       "\n",
       "       (   oz.) tomato paste  (10 oz.) frozen chopped spinach  \\\n",
       "10304                      0                                0   \n",
       "20571                      0                                0   \n",
       "37808                      0                                0   \n",
       "6928                       0                                0   \n",
       "19575                      0                                0   \n",
       "\n",
       "       (10 oz.) frozen chopped spinach, thawed and squeezed dry  \\\n",
       "10304                                                  0          \n",
       "20571                                                  0          \n",
       "37808                                                  0          \n",
       "6928                                                   0          \n",
       "19575                                                  0          \n",
       "\n",
       "       (14 oz.) sweetened condensed milk  (14.5 oz.) diced tomatoes  \\\n",
       "10304                                  0                          0   \n",
       "20571                                  0                          0   \n",
       "37808                                  0                          0   \n",
       "6928                                   0                          0   \n",
       "19575                                  0                          0   \n",
       "\n",
       "       (15 oz.) refried beans  ...  yukon gold potatoes  yuzu  yuzu juice  \\\n",
       "10304                       0  ...                    0     0           0   \n",
       "20571                       0  ...                    0     0           0   \n",
       "37808                       0  ...                    0     0           0   \n",
       "6928                        0  ...                    0     0           0   \n",
       "19575                       0  ...                    0     0           0   \n",
       "\n",
       "       za'atar  zest  zesty italian dressing  zinfandel  ziti  zucchini  \\\n",
       "10304        0     0                       0          0     0         0   \n",
       "20571        0     0                       0          0     0         0   \n",
       "37808        0     0                       0          0     0         0   \n",
       "6928         0     0                       0          0     0         0   \n",
       "19575        0     0                       0          0     0         0   \n",
       "\n",
       "       zucchini blossoms  \n",
       "10304                  0  \n",
       "20571                  0  \n",
       "37808                  0  \n",
       "6928                   0  \n",
       "19575                  0  \n",
       "\n",
       "[5 rows x 6717 columns]"
      ],
      "text/html": "<div>\n<style scoped>\n    .dataframe tbody tr th:only-of-type {\n        vertical-align: middle;\n    }\n\n    .dataframe tbody tr th {\n        vertical-align: top;\n    }\n\n    .dataframe thead th {\n        text-align: right;\n    }\n</style>\n<table border=\"1\" class=\"dataframe\">\n  <thead>\n    <tr style=\"text-align: right;\">\n      <th></th>\n      <th>cuisine</th>\n      <th>id</th>\n      <th>size_recipe</th>\n      <th>(    oz.) tomato sauce</th>\n      <th>(   oz.) tomato paste</th>\n      <th>(10 oz.) frozen chopped spinach</th>\n      <th>(10 oz.) frozen chopped spinach, thawed and squeezed dry</th>\n      <th>(14 oz.) sweetened condensed milk</th>\n      <th>(14.5 oz.) diced tomatoes</th>\n      <th>(15 oz.) refried beans</th>\n      <th>...</th>\n      <th>yukon gold potatoes</th>\n      <th>yuzu</th>\n      <th>yuzu juice</th>\n      <th>za'atar</th>\n      <th>zest</th>\n      <th>zesty italian dressing</th>\n      <th>zinfandel</th>\n      <th>ziti</th>\n      <th>zucchini</th>\n      <th>zucchini blossoms</th>\n    </tr>\n  </thead>\n  <tbody>\n    <tr>\n      <th>10304</th>\n      <td>british</td>\n      <td>8237</td>\n      <td>13</td>\n      <td>0</td>\n      <td>0</td>\n      <td>0</td>\n      <td>0</td>\n      <td>0</td>\n      <td>0</td>\n      <td>0</td>\n      <td>...</td>\n      <td>0</td>\n      <td>0</td>\n      <td>0</td>\n      <td>0</td>\n      <td>0</td>\n      <td>0</td>\n      <td>0</td>\n      <td>0</td>\n      <td>0</td>\n      <td>0</td>\n    </tr>\n    <tr>\n      <th>20571</th>\n      <td>korean</td>\n      <td>24966</td>\n      <td>13</td>\n      <td>0</td>\n      <td>0</td>\n      <td>0</td>\n      <td>0</td>\n      <td>0</td>\n      <td>0</td>\n      <td>0</td>\n      <td>...</td>\n      <td>0</td>\n      <td>0</td>\n      <td>0</td>\n      <td>0</td>\n      <td>0</td>\n      <td>0</td>\n      <td>0</td>\n      <td>0</td>\n      <td>0</td>\n      <td>0</td>\n    </tr>\n    <tr>\n      <th>37808</th>\n      <td>italian</td>\n      <td>26779</td>\n      <td>8</td>\n      <td>0</td>\n      <td>0</td>\n      <td>0</td>\n      <td>0</td>\n      <td>0</td>\n      <td>0</td>\n      <td>0</td>\n      <td>...</td>\n      <td>0</td>\n      <td>0</td>\n      <td>0</td>\n      <td>0</td>\n      <td>0</td>\n      <td>0</td>\n      <td>0</td>\n      <td>0</td>\n      <td>0</td>\n      <td>0</td>\n    </tr>\n    <tr>\n      <th>6928</th>\n      <td>mexican</td>\n      <td>1512</td>\n      <td>14</td>\n      <td>0</td>\n      <td>0</td>\n      <td>0</td>\n      <td>0</td>\n      <td>0</td>\n      <td>0</td>\n      <td>0</td>\n      <td>...</td>\n      <td>0</td>\n      <td>0</td>\n      <td>0</td>\n      <td>0</td>\n      <td>0</td>\n      <td>0</td>\n      <td>0</td>\n      <td>0</td>\n      <td>0</td>\n      <td>0</td>\n    </tr>\n    <tr>\n      <th>19575</th>\n      <td>thai</td>\n      <td>6492</td>\n      <td>13</td>\n      <td>0</td>\n      <td>0</td>\n      <td>0</td>\n      <td>0</td>\n      <td>0</td>\n      <td>0</td>\n      <td>0</td>\n      <td>...</td>\n      <td>0</td>\n      <td>0</td>\n      <td>0</td>\n      <td>0</td>\n      <td>0</td>\n      <td>0</td>\n      <td>0</td>\n      <td>0</td>\n      <td>0</td>\n      <td>0</td>\n    </tr>\n  </tbody>\n</table>\n<p>5 rows × 6717 columns</p>\n</div>"
     },
     "metadata": {},
     "execution_count": 65
    }
   ],
   "source": [
    "test.head()"
   ]
  },
  {
   "cell_type": "code",
   "execution_count": 66,
   "metadata": {},
   "outputs": [
    {
     "output_type": "execute_result",
     "data": {
      "text/plain": [
       "(7955, 6717)"
      ]
     },
     "metadata": {},
     "execution_count": 66
    }
   ],
   "source": [
    "#reset index of test dataset\n",
    "test.reset_index(inplace=True , drop=True)\n",
    "test.shape"
   ]
  },
  {
   "cell_type": "code",
   "execution_count": 67,
   "metadata": {},
   "outputs": [
    {
     "output_type": "execute_result",
     "data": {
      "text/plain": [
       "   cuisine     id  size_recipe  (    oz.) tomato sauce  (   oz.) tomato paste  \\\n",
       "0  british   8237           13                       0                      0   \n",
       "1   korean  24966           13                       0                      0   \n",
       "2  italian  26779            8                       0                      0   \n",
       "3  mexican   1512           14                       0                      0   \n",
       "4     thai   6492           13                       0                      0   \n",
       "\n",
       "   (10 oz.) frozen chopped spinach  \\\n",
       "0                                0   \n",
       "1                                0   \n",
       "2                                0   \n",
       "3                                0   \n",
       "4                                0   \n",
       "\n",
       "   (10 oz.) frozen chopped spinach, thawed and squeezed dry  \\\n",
       "0                                                  0          \n",
       "1                                                  0          \n",
       "2                                                  0          \n",
       "3                                                  0          \n",
       "4                                                  0          \n",
       "\n",
       "   (14 oz.) sweetened condensed milk  (14.5 oz.) diced tomatoes  \\\n",
       "0                                  0                          0   \n",
       "1                                  0                          0   \n",
       "2                                  0                          0   \n",
       "3                                  0                          0   \n",
       "4                                  0                          0   \n",
       "\n",
       "   (15 oz.) refried beans  ...  yukon gold potatoes  yuzu  yuzu juice  \\\n",
       "0                       0  ...                    0     0           0   \n",
       "1                       0  ...                    0     0           0   \n",
       "2                       0  ...                    0     0           0   \n",
       "3                       0  ...                    0     0           0   \n",
       "4                       0  ...                    0     0           0   \n",
       "\n",
       "   za'atar  zest  zesty italian dressing  zinfandel  ziti  zucchini  \\\n",
       "0        0     0                       0          0     0         0   \n",
       "1        0     0                       0          0     0         0   \n",
       "2        0     0                       0          0     0         0   \n",
       "3        0     0                       0          0     0         0   \n",
       "4        0     0                       0          0     0         0   \n",
       "\n",
       "   zucchini blossoms  \n",
       "0                  0  \n",
       "1                  0  \n",
       "2                  0  \n",
       "3                  0  \n",
       "4                  0  \n",
       "\n",
       "[5 rows x 6717 columns]"
      ],
      "text/html": "<div>\n<style scoped>\n    .dataframe tbody tr th:only-of-type {\n        vertical-align: middle;\n    }\n\n    .dataframe tbody tr th {\n        vertical-align: top;\n    }\n\n    .dataframe thead th {\n        text-align: right;\n    }\n</style>\n<table border=\"1\" class=\"dataframe\">\n  <thead>\n    <tr style=\"text-align: right;\">\n      <th></th>\n      <th>cuisine</th>\n      <th>id</th>\n      <th>size_recipe</th>\n      <th>(    oz.) tomato sauce</th>\n      <th>(   oz.) tomato paste</th>\n      <th>(10 oz.) frozen chopped spinach</th>\n      <th>(10 oz.) frozen chopped spinach, thawed and squeezed dry</th>\n      <th>(14 oz.) sweetened condensed milk</th>\n      <th>(14.5 oz.) diced tomatoes</th>\n      <th>(15 oz.) refried beans</th>\n      <th>...</th>\n      <th>yukon gold potatoes</th>\n      <th>yuzu</th>\n      <th>yuzu juice</th>\n      <th>za'atar</th>\n      <th>zest</th>\n      <th>zesty italian dressing</th>\n      <th>zinfandel</th>\n      <th>ziti</th>\n      <th>zucchini</th>\n      <th>zucchini blossoms</th>\n    </tr>\n  </thead>\n  <tbody>\n    <tr>\n      <th>0</th>\n      <td>british</td>\n      <td>8237</td>\n      <td>13</td>\n      <td>0</td>\n      <td>0</td>\n      <td>0</td>\n      <td>0</td>\n      <td>0</td>\n      <td>0</td>\n      <td>0</td>\n      <td>...</td>\n      <td>0</td>\n      <td>0</td>\n      <td>0</td>\n      <td>0</td>\n      <td>0</td>\n      <td>0</td>\n      <td>0</td>\n      <td>0</td>\n      <td>0</td>\n      <td>0</td>\n    </tr>\n    <tr>\n      <th>1</th>\n      <td>korean</td>\n      <td>24966</td>\n      <td>13</td>\n      <td>0</td>\n      <td>0</td>\n      <td>0</td>\n      <td>0</td>\n      <td>0</td>\n      <td>0</td>\n      <td>0</td>\n      <td>...</td>\n      <td>0</td>\n      <td>0</td>\n      <td>0</td>\n      <td>0</td>\n      <td>0</td>\n      <td>0</td>\n      <td>0</td>\n      <td>0</td>\n      <td>0</td>\n      <td>0</td>\n    </tr>\n    <tr>\n      <th>2</th>\n      <td>italian</td>\n      <td>26779</td>\n      <td>8</td>\n      <td>0</td>\n      <td>0</td>\n      <td>0</td>\n      <td>0</td>\n      <td>0</td>\n      <td>0</td>\n      <td>0</td>\n      <td>...</td>\n      <td>0</td>\n      <td>0</td>\n      <td>0</td>\n      <td>0</td>\n      <td>0</td>\n      <td>0</td>\n      <td>0</td>\n      <td>0</td>\n      <td>0</td>\n      <td>0</td>\n    </tr>\n    <tr>\n      <th>3</th>\n      <td>mexican</td>\n      <td>1512</td>\n      <td>14</td>\n      <td>0</td>\n      <td>0</td>\n      <td>0</td>\n      <td>0</td>\n      <td>0</td>\n      <td>0</td>\n      <td>0</td>\n      <td>...</td>\n      <td>0</td>\n      <td>0</td>\n      <td>0</td>\n      <td>0</td>\n      <td>0</td>\n      <td>0</td>\n      <td>0</td>\n      <td>0</td>\n      <td>0</td>\n      <td>0</td>\n    </tr>\n    <tr>\n      <th>4</th>\n      <td>thai</td>\n      <td>6492</td>\n      <td>13</td>\n      <td>0</td>\n      <td>0</td>\n      <td>0</td>\n      <td>0</td>\n      <td>0</td>\n      <td>0</td>\n      <td>0</td>\n      <td>...</td>\n      <td>0</td>\n      <td>0</td>\n      <td>0</td>\n      <td>0</td>\n      <td>0</td>\n      <td>0</td>\n      <td>0</td>\n      <td>0</td>\n      <td>0</td>\n      <td>0</td>\n    </tr>\n  </tbody>\n</table>\n<p>5 rows × 6717 columns</p>\n</div>"
     },
     "metadata": {},
     "execution_count": 67
    }
   ],
   "source": [
    "test.head()"
   ]
  },
  {
   "cell_type": "code",
   "execution_count": 68,
   "metadata": {},
   "outputs": [
    {
     "output_type": "error",
     "ename": "AttributeError",
     "evalue": "'Index' object has no attribute 'contains'",
     "traceback": [
      "\u001b[1;31m---------------------------------------------------------------------------\u001b[0m",
      "\u001b[1;31mAttributeError\u001b[0m                            Traceback (most recent call last)",
      "\u001b[1;32m<ipython-input-68-15c69ebebf97>\u001b[0m in \u001b[0;36m<module>\u001b[1;34m\u001b[0m\n\u001b[0;32m      3\u001b[0m \u001b[0mdf_train\u001b[0m \u001b[1;33m=\u001b[0m \u001b[0mdf\u001b[0m\u001b[1;33m.\u001b[0m\u001b[0mloc\u001b[0m\u001b[1;33m[\u001b[0m\u001b[0mtrain_idx\u001b[0m\u001b[1;33m]\u001b[0m\u001b[1;33m.\u001b[0m\u001b[0mreset_index\u001b[0m\u001b[1;33m(\u001b[0m\u001b[0mdrop\u001b[0m\u001b[1;33m=\u001b[0m\u001b[1;32mTrue\u001b[0m\u001b[1;33m)\u001b[0m\u001b[1;33m\u001b[0m\u001b[1;33m\u001b[0m\u001b[0m\n\u001b[0;32m      4\u001b[0m \u001b[1;33m\u001b[0m\u001b[0m\n\u001b[1;32m----> 5\u001b[1;33m \u001b[1;32mif\u001b[0m \u001b[1;33m(\u001b[0m\u001b[0mdf_train\u001b[0m\u001b[1;33m.\u001b[0m\u001b[0mcolumns\u001b[0m\u001b[1;33m)\u001b[0m\u001b[1;33m.\u001b[0m\u001b[0mcontains\u001b[0m\u001b[1;33m(\u001b[0m\u001b[1;34m'size_recipe'\u001b[0m\u001b[1;33m)\u001b[0m\u001b[1;33m:\u001b[0m\u001b[1;33m\u001b[0m\u001b[1;33m\u001b[0m\u001b[0m\n\u001b[0m\u001b[0;32m      6\u001b[0m     \u001b[0mdf_train\u001b[0m\u001b[1;33m.\u001b[0m\u001b[0mhead\u001b[0m\u001b[1;33m(\u001b[0m\u001b[1;33m)\u001b[0m\u001b[1;33m\u001b[0m\u001b[1;33m\u001b[0m\u001b[0m\n\u001b[0;32m      7\u001b[0m     \u001b[0mdf_train\u001b[0m\u001b[1;33m.\u001b[0m\u001b[0mshape\u001b[0m\u001b[1;33m\u001b[0m\u001b[1;33m\u001b[0m\u001b[0m\n",
      "\u001b[1;31mAttributeError\u001b[0m: 'Index' object has no attribute 'contains'"
     ]
    }
   ],
   "source": [
    "# Creates a DataFrame in the original format for train set to be manipulated\n",
    "train_idx = train.index\n",
    "df_train = df.loc[train_idx].reset_index(drop=True)\n",
    "\n",
    "if (df_train.columns).contains('size_recipe'):\n",
    "    df_train.head()\n",
    "    df_train.shape\n",
    "else:\n",
    "    df_train.insert(2, 'size_recipe', df_train['ingredients'].apply(len))\n",
    "    df_train.head()\n",
    "    df_train.shape"
   ]
  },
  {
   "cell_type": "code",
   "execution_count": 69,
   "metadata": {},
   "outputs": [
    {
     "output_type": "execute_result",
     "data": {
      "text/plain": [
       "      id      cuisine                                        ingredients\n",
       "0  10259        greek  [romaine lettuce, black olives, grape tomatoes...\n",
       "1  25693  southern_us  [plain flour, ground pepper, salt, tomatoes, g...\n",
       "2  20130     filipino  [eggs, pepper, salt, mayonaise, cooking oil, g...\n",
       "3  22213       indian                [water, vegetable oil, wheat, salt]\n",
       "4  13162       indian  [black pepper, shallots, cornflour, cayenne pe..."
      ],
      "text/html": "<div>\n<style scoped>\n    .dataframe tbody tr th:only-of-type {\n        vertical-align: middle;\n    }\n\n    .dataframe tbody tr th {\n        vertical-align: top;\n    }\n\n    .dataframe thead th {\n        text-align: right;\n    }\n</style>\n<table border=\"1\" class=\"dataframe\">\n  <thead>\n    <tr style=\"text-align: right;\">\n      <th></th>\n      <th>id</th>\n      <th>cuisine</th>\n      <th>ingredients</th>\n    </tr>\n  </thead>\n  <tbody>\n    <tr>\n      <th>0</th>\n      <td>10259</td>\n      <td>greek</td>\n      <td>[romaine lettuce, black olives, grape tomatoes...</td>\n    </tr>\n    <tr>\n      <th>1</th>\n      <td>25693</td>\n      <td>southern_us</td>\n      <td>[plain flour, ground pepper, salt, tomatoes, g...</td>\n    </tr>\n    <tr>\n      <th>2</th>\n      <td>20130</td>\n      <td>filipino</td>\n      <td>[eggs, pepper, salt, mayonaise, cooking oil, g...</td>\n    </tr>\n    <tr>\n      <th>3</th>\n      <td>22213</td>\n      <td>indian</td>\n      <td>[water, vegetable oil, wheat, salt]</td>\n    </tr>\n    <tr>\n      <th>4</th>\n      <td>13162</td>\n      <td>indian</td>\n      <td>[black pepper, shallots, cornflour, cayenne pe...</td>\n    </tr>\n  </tbody>\n</table>\n</div>"
     },
     "metadata": {},
     "execution_count": 69
    }
   ],
   "source": [
    "df_train.head()"
   ]
  },
  {
   "cell_type": "code",
   "execution_count": 70,
   "metadata": {},
   "outputs": [
    {
     "output_type": "execute_result",
     "data": {
      "text/plain": [
       "italian         6315\n",
       "mexican         5148\n",
       "southern_us     3472\n",
       "indian          2400\n",
       "chinese         2109\n",
       "french          2099\n",
       "thai            1226\n",
       "cajun_creole    1213\n",
       "japanese        1153\n",
       "greek            929\n",
       "spanish          787\n",
       "moroccan         670\n",
       "korean           656\n",
       "vietnamese       655\n",
       "british          646\n",
       "filipino         605\n",
       "irish            526\n",
       "jamaican         429\n",
       "russian          410\n",
       "brazilian        371\n",
       "Name: cuisine, dtype: int64"
      ]
     },
     "metadata": {},
     "execution_count": 70
    }
   ],
   "source": [
    "# Number of recipes per cuisine\n",
    "number_recipe_cuisine = df_train['cuisine'].value_counts()\n",
    "number_recipe_cuisine"
   ]
  },
  {
   "cell_type": "code",
   "execution_count": 71,
   "metadata": {},
   "outputs": [
    {
     "output_type": "stream",
     "name": "stdout",
     "text": [
      "Total number of Recipes =  31819\nTotal cuisines =  20\n"
     ]
    }
   ],
   "source": [
    "count = number_recipe_cuisine.sum()\n",
    "print(\"Total number of Recipes = \", count)\n",
    "total = len(number_recipe_cuisine)\n",
    "print(\"Total cuisines = \", total)"
   ]
  },
  {
   "cell_type": "code",
   "execution_count": 72,
   "metadata": {},
   "outputs": [
    {
     "output_type": "execute_result",
     "data": {
      "text/plain": [
       "salt                   14501\n",
       "onions                  6384\n",
       "olive oil               6362\n",
       "water                   5931\n",
       "garlic                  5881\n",
       "sugar                   5103\n",
       "garlic cloves           4966\n",
       "butter                  3857\n",
       "ground black pepper     3846\n",
       "all-purpose flour       3736\n",
       "dtype: int64"
      ]
     },
     "metadata": {},
     "execution_count": 72
    }
   ],
   "source": [
    "# Top 10 most occurring ingredients\n",
    "all_ingredients = get_ingredients(df_train)\n",
    "all_ingredients.value_counts()[:10]"
   ]
  },
  {
   "cell_type": "code",
   "execution_count": 73,
   "metadata": {},
   "outputs": [
    {
     "output_type": "stream",
     "name": "stdout",
     "text": [
      "Number of Unique Ingredients =  6311\n"
     ]
    }
   ],
   "source": [
    "#Number of unique ingredients\n",
    "number = len(set(all_ingredients))\n",
    "print('Number of Unique Ingredients = ' , number)"
   ]
  },
  {
   "cell_type": "code",
   "execution_count": 74,
   "metadata": {},
   "outputs": [
    {
     "output_type": "execute_result",
     "data": {
      "text/plain": [
       "cuisine\n",
       "brazilian       [ice cubes, club soda, white rum, lime, turbin...\n",
       "british         [greek yogurt, lemon curd, confectioners sugar...\n",
       "cajun_creole    [herbs, lemon juice, fresh tomatoes, paprika, ...\n",
       "chinese         [low sodium soy sauce, fresh ginger, dry musta...\n",
       "filipino        [eggs, pepper, salt, mayonaise, cooking oil, g...\n",
       "french          [sugar, salt, fennel bulb, water, lemon olive ...\n",
       "greek           [romaine lettuce, black olives, grape tomatoes...\n",
       "indian          [water, vegetable oil, wheat, salt, black pepp...\n",
       "irish           [cooking spray, salt, black pepper, yukon gold...\n",
       "italian         [sugar, pistachio nuts, white almond bark, flo...\n",
       "jamaican        [plain flour, sugar, butter, eggs, fresh ginge...\n",
       "japanese        [sirloin, mirin, yellow onion, low sodium soy ...\n",
       "korean          [jasmine rice, garlic, scallions, sugar, shiit...\n",
       "mexican         [olive oil, purple onion, fresh pineapple, por...\n",
       "moroccan        [ground cloves, whole nutmegs, ground ginger, ...\n",
       "russian         [water, grits, mozzarella cheese, salt, water,...\n",
       "southern_us     [plain flour, ground pepper, salt, tomatoes, g...\n",
       "spanish         [olive oil, salt, medium shrimp, pepper, garli...\n",
       "thai            [sugar, hot chili, asian fish sauce, lime juic...\n",
       "vietnamese      [soy sauce, vegetable oil, red bell pepper, ch...\n",
       "Name: ingredients, dtype: object"
      ]
     },
     "metadata": {},
     "execution_count": 74
    }
   ],
   "source": [
    "# Group all ingredients by cuisine\n",
    "all_ingredients_cuisine = df_train.groupby('cuisine')['ingredients'].sum()\n",
    "all_ingredients_cuisine"
   ]
  },
  {
   "cell_type": "code",
   "execution_count": 75,
   "metadata": {},
   "outputs": [
    {
     "output_type": "execute_result",
     "data": {
      "text/plain": [
       "cuisine\n",
       "brazilian       {'salt': 153, 'onions': 108, 'olive oil': 96, ...\n",
       "british         {'salt': 333, 'all-purpose flour': 192, 'butte...\n",
       "cajun_creole    {'salt': 580, 'onions': 422, 'garlic': 290, 'b...\n",
       "chinese         {'soy sauce': 1056, 'sesame oil': 723, 'corn s...\n",
       "filipino        {'salt': 339, 'garlic': 263, 'onions': 259, 'w...\n",
       "french          {'salt': 961, 'sugar': 498, 'all-purpose flour...\n",
       "greek           {'salt': 445, 'olive oil': 393, 'dried oregano...\n",
       "indian          {'salt': 1543, 'onions': 966, 'garam masala': ...\n",
       "irish           {'salt': 309, 'butter': 177, 'all-purpose flou...\n",
       "italian         {'salt': 2799, 'olive oil': 2499, 'garlic clov...\n",
       "jamaican        {'salt': 269, 'onions': 142, 'water': 125, 'ga...\n",
       "japanese        {'soy sauce': 456, 'salt': 345, 'mirin': 336, ...\n",
       "korean          {'soy sauce': 342, 'sesame oil': 328, 'garlic'...\n",
       "mexican         {'salt': 2202, 'onions': 1208, 'ground cumin':...\n",
       "moroccan        {'olive oil': 335, 'salt': 334, 'ground cumin'...\n",
       "russian         {'salt': 240, 'sugar': 125, 'onions': 125, 'al...\n",
       "southern_us     {'salt': 1854, 'all-purpose flour': 1014, 'but...\n",
       "spanish         {'salt': 371, 'olive oil': 312, 'garlic cloves...\n",
       "thai            {'fish sauce': 491, 'garlic': 329, 'salt': 308...\n",
       "vietnamese      {'fish sauce': 305, 'sugar': 278, 'salt': 199,...\n",
       "Name: ingredients, dtype: object"
      ]
     },
     "metadata": {},
     "execution_count": 75
    }
   ],
   "source": [
    "cuisine_count = all_ingredients_cuisine.apply(frequencyItems)\n",
    "cuisine_count"
   ]
  },
  {
   "cell_type": "code",
   "execution_count": 76,
   "metadata": {},
   "outputs": [
    {
     "output_type": "execute_result",
     "data": {
      "text/plain": [
       "cuisine\n",
       "brazilian       [frozen mango, sugar, olive oil, stewed tomato...\n",
       "british         [sugar, olive oil, spelt flour, mixed fruit, e...\n",
       "cajun_creole    [poultry seasoning, chicken base, chicken meat...\n",
       "chinese         [chicken base, tea bags, chicken meat, medium ...\n",
       "filipino        [sugar, olive oil, chicken meat, won ton wrapp...\n",
       "french          [chicken base, gala apples, tea bags, medium d...\n",
       "greek           [olive oil, sugar, poultry seasoning, low-fat ...\n",
       "indian          [gooseberries, poultry seasoning, batter, pean...\n",
       "irish           [olive oil, sugar, poultry seasoning, low-fat ...\n",
       "italian         [poultry seasoning, italian sauce, turkey meat...\n",
       "jamaican        [sugar, olive oil, poultry seasoning, chicken ...\n",
       "japanese        [tea bags, baby radishes, medium dry sherry, c...\n",
       "korean          [sugar, olive oil, batter, gala apples, pilsne...\n",
       "mexican         [chicken base, batter, chicken meat, chili sea...\n",
       "moroccan        [olive oil, sugar, skinless chicken breasts, c...\n",
       "russian         [sugar, olive oil, spelt flour, whey, mixed fr...\n",
       "southern_us     [gooseberries, poultry seasoning, chicken base...\n",
       "spanish         [olive oil, sugar, chicken base, country style...\n",
       "thai            [chicken base, poultry seasoning, japanese pea...\n",
       "vietnamese      [Chinese egg noodles, pickled carrots, sugar, ...\n",
       "Name: ingredients, dtype: object"
      ]
     },
     "metadata": {},
     "execution_count": 76
    }
   ],
   "source": [
    "unique_ingredients_cuisine = all_ingredients_cuisine.apply(removeDuplicatesItems)\n",
    "unique_ingredients_cuisine"
   ]
  },
  {
   "cell_type": "code",
   "execution_count": 77,
   "metadata": {},
   "outputs": [
    {
     "output_type": "execute_result",
     "data": {
      "text/plain": [
       "cuisine\n",
       "italian         2723\n",
       "mexican         2481\n",
       "southern_us     2267\n",
       "french          1897\n",
       "chinese         1641\n",
       "indian          1529\n",
       "cajun_creole    1414\n",
       "japanese        1322\n",
       "thai            1259\n",
       "spanish         1140\n",
       "greek           1075\n",
       "british         1048\n",
       "vietnamese      1009\n",
       "irish            900\n",
       "moroccan         887\n",
       "filipino         846\n",
       "russian          805\n",
       "korean           801\n",
       "jamaican         776\n",
       "brazilian        772\n",
       "Name: ingredients, dtype: int64"
      ]
     },
     "metadata": {},
     "execution_count": 77
    }
   ],
   "source": [
    "# Lists number of unique ingredients per cuisine\n",
    "unique_ingredients_cuisine.apply(len).sort_values(ascending=False)"
   ]
  },
  {
   "cell_type": "code",
   "execution_count": 78,
   "metadata": {},
   "outputs": [
    {
     "output_type": "stream",
     "name": "stdout",
     "text": [
      "Unique ingredients =  6311\n"
     ]
    }
   ],
   "source": [
    "# Get unique ingredients\n",
    "unique_ingredients = get_ingredients(unique_ingredients_cuisine).unique()\n",
    "number = len(unique_ingredients)\n",
    "print(\"Unique ingredients = \" , number)"
   ]
  },
  {
   "cell_type": "code",
   "execution_count": 79,
   "metadata": {},
   "outputs": [],
   "source": [
    "def check_for_ingredient(my_dict, ingredient):\n",
    "    result = {}\n",
    "    for cuisine, list_ingredients in my_dict.items():\n",
    "        if ingredient in list_ingredients:\n",
    "            result[cuisine] = list_ingredients[ingredient]\n",
    "    return result"
   ]
  },
  {
   "cell_type": "code",
   "execution_count": 80,
   "metadata": {},
   "outputs": [
    {
     "output_type": "execute_result",
     "data": {
      "text/plain": [
       "frozen mango                                        {'brazilian': 1}\n",
       "sugar              {'brazilian': 50, 'british': 136, 'cajun_creol...\n",
       "olive oil          {'brazilian': 96, 'british': 43, 'cajun_creole...\n",
       "stewed tomatoes    {'brazilian': 1, 'cajun_creole': 26, 'french':...\n",
       "chicken meat       {'brazilian': 1, 'cajun_creole': 2, 'chinese':...\n",
       "dtype: object"
      ]
     },
     "metadata": {},
     "execution_count": 80
    }
   ],
   "source": [
    "# Number of times each ingredient appear in a cuisine\n",
    "def number_cuisine_per_ingredient(unique):\n",
    "    cuisines_count_per_ingredient = dict()\n",
    "    for ingredient in unique:\n",
    "        cuisines_count_per_ingredient[ingredient] = check_for_ingredient(cuisine_count, ingredient)\n",
    "    return Series(cuisines_count_per_ingredient)\n",
    "        \n",
    "cuisines_count_per_ingredient = number_cuisine_per_ingredient(unique_ingredients)\n",
    "\n",
    "cuisines_count_per_ingredient.head()"
   ]
  },
  {
   "cell_type": "code",
   "execution_count": 81,
   "metadata": {},
   "outputs": [],
   "source": [
    "# Extract cuisines from a dict\n",
    "def extract_cuisine(my_series):\n",
    "    return list(my_series.keys())"
   ]
  },
  {
   "cell_type": "code",
   "execution_count": 82,
   "metadata": {},
   "outputs": [
    {
     "output_type": "execute_result",
     "data": {
      "text/plain": [
       "frozen mango                                                 [brazilian]\n",
       "sugar                  [brazilian, british, cajun_creole, chinese, fi...\n",
       "olive oil              [brazilian, british, cajun_creole, chinese, fi...\n",
       "stewed tomatoes        [brazilian, cajun_creole, french, greek, india...\n",
       "chicken meat           [brazilian, cajun_creole, chinese, filipino, g...\n",
       "lime juice             [brazilian, british, cajun_creole, chinese, fi...\n",
       "allspice berries       [brazilian, british, irish, italian, jamaican,...\n",
       "canola                 [brazilian, cajun_creole, chinese, french, ind...\n",
       "onion powder           [brazilian, british, cajun_creole, chinese, fi...\n",
       "scotch bonnet chile    [brazilian, indian, jamaican, mexican, souther...\n",
       "dtype: object"
      ]
     },
     "metadata": {},
     "execution_count": 82
    }
   ],
   "source": [
    "cuisines_per_ingredient = cuisines_count_per_ingredient.apply(extract_cuisine)\n",
    "cuisines_per_ingredient[:10]"
   ]
  },
  {
   "cell_type": "code",
   "execution_count": 83,
   "metadata": {},
   "outputs": [],
   "source": [
    "def get_common_ingredients(data):\n",
    "    common = set(data.loc[data.index[0]])\n",
    "    for cuisine in data.index[1:]:\n",
    "        next_cuisine = set(data.loc[cuisine])\n",
    "        common.intersection_update(next_cuisine)\n",
    "    return list(common)"
   ]
  },
  {
   "cell_type": "code",
   "execution_count": 84,
   "metadata": {},
   "outputs": [
    {
     "output_type": "execute_result",
     "data": {
      "text/plain": [
       "['sugar',\n",
       " 'olive oil',\n",
       " 'tomato paste',\n",
       " 'egg whites',\n",
       " 'purple onion',\n",
       " 'paprika',\n",
       " 'vegetable oil',\n",
       " 'pepper',\n",
       " 'cayenne pepper',\n",
       " 'flour']"
      ]
     },
     "metadata": {},
     "execution_count": 84
    }
   ],
   "source": [
    "common_ingredients = get_common_ingredients(unique_ingredients_cuisine)\n",
    "common_ingredients[:10]"
   ]
  },
  {
   "cell_type": "code",
   "execution_count": 85,
   "metadata": {},
   "outputs": [
    {
     "output_type": "stream",
     "name": "stdout",
     "text": [
      "Common ingredients =  91\n"
     ]
    }
   ],
   "source": [
    "number = len(common_ingredients)\n",
    "print(\"Common ingredients = \" , number)"
   ]
  },
  {
   "cell_type": "code",
   "execution_count": 86,
   "metadata": {},
   "outputs": [],
   "source": [
    "#Remove ingredients from a list of ingredients\n",
    "def remove_ingredients(series, remove):\n",
    "    return list(set(series) - set(remove))"
   ]
  },
  {
   "cell_type": "code",
   "execution_count": 87,
   "metadata": {},
   "outputs": [
    {
     "output_type": "execute_result",
     "data": {
      "text/plain": [
       "cuisine\n",
       "italian         2632\n",
       "mexican         2390\n",
       "southern_us     2176\n",
       "french          1806\n",
       "chinese         1550\n",
       "indian          1438\n",
       "cajun_creole    1323\n",
       "japanese        1231\n",
       "thai            1168\n",
       "spanish         1049\n",
       "greek            984\n",
       "british          957\n",
       "vietnamese       918\n",
       "irish            809\n",
       "moroccan         796\n",
       "filipino         755\n",
       "russian          714\n",
       "korean           710\n",
       "jamaican         685\n",
       "brazilian        681\n",
       "Name: ingredients, dtype: int64"
      ]
     },
     "metadata": {},
     "execution_count": 87
    }
   ],
   "source": [
    "unique_ingredients_cuisine = unique_ingredients_cuisine.apply(remove_ingredients, remove=common_ingredients)\n",
    "unique_ingredients_cuisine.apply(len).sort_values(ascending=False)"
   ]
  },
  {
   "cell_type": "code",
   "execution_count": 88,
   "metadata": {},
   "outputs": [
    {
     "output_type": "execute_result",
     "data": {
      "text/plain": [
       "soy sauce                 2613\n",
       "tomatoes                  2458\n",
       "ground cumin              2189\n",
       "chili powder              1625\n",
       "grated parmesan cheese    1501\n",
       "sesame oil                1430\n",
       "corn starch               1401\n",
       "jalapeno chilies          1384\n",
       "dried oregano             1354\n",
       "chopped cilantro fresh    1347\n",
       "diced tomatoes            1316\n",
       "fresh parsley             1293\n",
       "sour cream                1242\n",
       "fresh ginger              1198\n",
       "lime                      1133\n",
       "fresh lime juice          1096\n",
       "vanilla extract           1054\n",
       "avocado                   1003\n",
       "fish sauce                 997\n",
       "dry white wine             989\n",
       "dtype: int64"
      ]
     },
     "metadata": {},
     "execution_count": 88
    }
   ],
   "source": [
    "#Removes common ingredientes of the list all observation of all ingredients used in all recipes\n",
    "all_ingredients = all_ingredients[~all_ingredients.isin(Series(common_ingredients))]\n",
    "all_ingredients.reset_index(drop=True, inplace=True)\n",
    "all_ingredients.value_counts()[:20]"
   ]
  },
  {
   "cell_type": "code",
   "execution_count": 89,
   "metadata": {},
   "outputs": [
    {
     "output_type": "stream",
     "name": "stdout",
     "text": [
      "Unique ingredients =  6220\n"
     ]
    }
   ],
   "source": [
    "# Number of unique ingredients after removing common ingredients\n",
    "count = len(set(all_ingredients))\n",
    "print(\"Unique ingredients = \", count)"
   ]
  },
  {
   "cell_type": "markdown",
   "metadata": {},
   "source": [
    "#  DataFrame Manipulation"
   ]
  },
  {
   "cell_type": "code",
   "execution_count": 90,
   "metadata": {},
   "outputs": [
    {
     "output_type": "execute_result",
     "data": {
      "text/plain": [
       "      id      cuisine                                        ingredients\n",
       "0  10259        greek  [romaine lettuce, black olives, grape tomatoes...\n",
       "1  25693  southern_us  [plain flour, ground pepper, salt, tomatoes, g...\n",
       "2  20130     filipino  [eggs, pepper, salt, mayonaise, cooking oil, g...\n",
       "3  22213       indian                [water, vegetable oil, wheat, salt]\n",
       "4  13162       indian  [black pepper, shallots, cornflour, cayenne pe..."
      ],
      "text/html": "<div>\n<style scoped>\n    .dataframe tbody tr th:only-of-type {\n        vertical-align: middle;\n    }\n\n    .dataframe tbody tr th {\n        vertical-align: top;\n    }\n\n    .dataframe thead th {\n        text-align: right;\n    }\n</style>\n<table border=\"1\" class=\"dataframe\">\n  <thead>\n    <tr style=\"text-align: right;\">\n      <th></th>\n      <th>id</th>\n      <th>cuisine</th>\n      <th>ingredients</th>\n    </tr>\n  </thead>\n  <tbody>\n    <tr>\n      <th>0</th>\n      <td>10259</td>\n      <td>greek</td>\n      <td>[romaine lettuce, black olives, grape tomatoes...</td>\n    </tr>\n    <tr>\n      <th>1</th>\n      <td>25693</td>\n      <td>southern_us</td>\n      <td>[plain flour, ground pepper, salt, tomatoes, g...</td>\n    </tr>\n    <tr>\n      <th>2</th>\n      <td>20130</td>\n      <td>filipino</td>\n      <td>[eggs, pepper, salt, mayonaise, cooking oil, g...</td>\n    </tr>\n    <tr>\n      <th>3</th>\n      <td>22213</td>\n      <td>indian</td>\n      <td>[water, vegetable oil, wheat, salt]</td>\n    </tr>\n    <tr>\n      <th>4</th>\n      <td>13162</td>\n      <td>indian</td>\n      <td>[black pepper, shallots, cornflour, cayenne pe...</td>\n    </tr>\n  </tbody>\n</table>\n</div>"
     },
     "metadata": {},
     "execution_count": 90
    }
   ],
   "source": [
    "df_train.head()"
   ]
  },
  {
   "cell_type": "code",
   "execution_count": 91,
   "metadata": {},
   "outputs": [],
   "source": [
    "# Remove ingredients and zero ingredient recipes from a table\n",
    "def remove_ingredients_from_table(df, ingredients_to_remove):\n",
    "    new_df = df.copy()\n",
    "    # Removes common ingredients from DataFrame\n",
    "    new_df.loc[:, 'ingredients'] = new_df.loc[:, 'ingredients'].apply(remove_ingredients, remove=ingredients_to_remove)\n",
    "    new_df.loc[:, 'size_recipe'] = new_df.loc[:, 'ingredients'].apply(len)\n",
    "    \n",
    "    if any(new_df['size_recipe'] == 0):     # Checks for zero ingredient recipes to remove\n",
    "        new_df = new_df[new_df['size_recipe'] != 0]        # Removes zero ingredient recipes from DataFrame\n",
    "        new_df.reset_index(drop=True, inplace=True)\n",
    "\n",
    "    return new_df"
   ]
  },
  {
   "cell_type": "code",
   "execution_count": 92,
   "metadata": {},
   "outputs": [
    {
     "output_type": "execute_result",
     "data": {
      "text/plain": [
       "      id      cuisine                                        ingredients  \\\n",
       "0  10259        greek  [grape tomatoes, romaine lettuce, feta cheese ...   \n",
       "1  25693  southern_us  [plain flour, thyme, green tomatoes, yellow co...   \n",
       "2  20130     filipino  [chicken livers, soy sauce, grilled chicken br...   \n",
       "3  22213       indian                                            [wheat]   \n",
       "4  13162       indian  [cornflour, garlic paste, ground cumin, chili ...   \n",
       "\n",
       "   size_recipe  \n",
       "0            5  \n",
       "1            5  \n",
       "2            5  \n",
       "3            1  \n",
       "4           10  "
      ],
      "text/html": "<div>\n<style scoped>\n    .dataframe tbody tr th:only-of-type {\n        vertical-align: middle;\n    }\n\n    .dataframe tbody tr th {\n        vertical-align: top;\n    }\n\n    .dataframe thead th {\n        text-align: right;\n    }\n</style>\n<table border=\"1\" class=\"dataframe\">\n  <thead>\n    <tr style=\"text-align: right;\">\n      <th></th>\n      <th>id</th>\n      <th>cuisine</th>\n      <th>ingredients</th>\n      <th>size_recipe</th>\n    </tr>\n  </thead>\n  <tbody>\n    <tr>\n      <th>0</th>\n      <td>10259</td>\n      <td>greek</td>\n      <td>[grape tomatoes, romaine lettuce, feta cheese ...</td>\n      <td>5</td>\n    </tr>\n    <tr>\n      <th>1</th>\n      <td>25693</td>\n      <td>southern_us</td>\n      <td>[plain flour, thyme, green tomatoes, yellow co...</td>\n      <td>5</td>\n    </tr>\n    <tr>\n      <th>2</th>\n      <td>20130</td>\n      <td>filipino</td>\n      <td>[chicken livers, soy sauce, grilled chicken br...</td>\n      <td>5</td>\n    </tr>\n    <tr>\n      <th>3</th>\n      <td>22213</td>\n      <td>indian</td>\n      <td>[wheat]</td>\n      <td>1</td>\n    </tr>\n    <tr>\n      <th>4</th>\n      <td>13162</td>\n      <td>indian</td>\n      <td>[cornflour, garlic paste, ground cumin, chili ...</td>\n      <td>10</td>\n    </tr>\n  </tbody>\n</table>\n</div>"
     },
     "metadata": {},
     "execution_count": 92
    }
   ],
   "source": [
    "df_train = remove_ingredients_from_table(df_train, common_ingredients)\n",
    "df_train.head()"
   ]
  },
  {
   "cell_type": "code",
   "execution_count": 93,
   "metadata": {},
   "outputs": [
    {
     "output_type": "execute_result",
     "data": {
      "text/plain": [
       "(31664, 4)"
      ]
     },
     "metadata": {},
     "execution_count": 93
    }
   ],
   "source": [
    "df_train.shape"
   ]
  },
  {
   "cell_type": "code",
   "execution_count": 94,
   "metadata": {},
   "outputs": [],
   "source": [
    "# Method to remove ingredients and zero ingredient recipes\n",
    "def remove_ingredients_from_table_dummified(df, ingredients_to_remove, drop_rows=True):\n",
    "    # Remove ingredients from columns\n",
    "    df = df.loc[:, ~df.columns.isin(ingredients_to_remove)]\n",
    "    df.loc[:, 'size_recipe'] = df.iloc[:, 4:].sum(axis=1)     # Update size_recipe\n",
    "\n",
    "    # Remove zero ingredient recipes left after removing common ingredients\n",
    "    if drop_rows:\n",
    "        df = df[df['size_recipe'] != 0]\n",
    "        return df\n",
    "    else:\n",
    "        return df"
   ]
  },
  {
   "cell_type": "code",
   "execution_count": 95,
   "metadata": {},
   "outputs": [
    {
     "output_type": "stream",
     "name": "stderr",
     "text": [
      "C:\\Users\\Dell\\AppData\\Local\\Programs\\Python\\Python39\\lib\\site-packages\\pandas\\core\\indexing.py:1676: SettingWithCopyWarning: \nA value is trying to be set on a copy of a slice from a DataFrame.\nTry using .loc[row_indexer,col_indexer] = value instead\n\nSee the caveats in the documentation: https://pandas.pydata.org/pandas-docs/stable/user_guide/indexing.html#returning-a-view-versus-a-copy\n  self._setitem_single_column(ilocs[0], value, pi)\n"
     ]
    },
    {
     "output_type": "execute_result",
     "data": {
      "text/plain": [
       "       cuisine     id  size_recipe  (    oz.) tomato sauce  \\\n",
       "0        greek  10259            5                       0   \n",
       "1  southern_us  25693            5                       0   \n",
       "2     filipino  20130            5                       0   \n",
       "3       indian  22213            1                       0   \n",
       "4       indian  13162           10                       0   \n",
       "\n",
       "   (   oz.) tomato paste  (10 oz.) frozen chopped spinach  \\\n",
       "0                      0                                0   \n",
       "1                      0                                0   \n",
       "2                      0                                0   \n",
       "3                      0                                0   \n",
       "4                      0                                0   \n",
       "\n",
       "   (10 oz.) frozen chopped spinach, thawed and squeezed dry  \\\n",
       "0                                                  0          \n",
       "1                                                  0          \n",
       "2                                                  0          \n",
       "3                                                  0          \n",
       "4                                                  0          \n",
       "\n",
       "   (14 oz.) sweetened condensed milk  (14.5 oz.) diced tomatoes  \\\n",
       "0                                  0                          0   \n",
       "1                                  0                          0   \n",
       "2                                  0                          0   \n",
       "3                                  0                          0   \n",
       "4                                  0                          0   \n",
       "\n",
       "   (15 oz.) refried beans  ...  yukon gold  yukon gold potatoes  yuzu  \\\n",
       "0                       0  ...           0                    0     0   \n",
       "1                       0  ...           0                    0     0   \n",
       "2                       0  ...           0                    0     0   \n",
       "3                       0  ...           0                    0     0   \n",
       "4                       0  ...           0                    0     0   \n",
       "\n",
       "   yuzu juice  za'atar  zest  zesty italian dressing  zinfandel  ziti  \\\n",
       "0           0        0     0                       0          0     0   \n",
       "1           0        0     0                       0          0     0   \n",
       "2           0        0     0                       0          0     0   \n",
       "3           0        0     0                       0          0     0   \n",
       "4           0        0     0                       0          0     0   \n",
       "\n",
       "   zucchini blossoms  \n",
       "0                  0  \n",
       "1                  0  \n",
       "2                  0  \n",
       "3                  0  \n",
       "4                  0  \n",
       "\n",
       "[5 rows x 6626 columns]"
      ],
      "text/html": "<div>\n<style scoped>\n    .dataframe tbody tr th:only-of-type {\n        vertical-align: middle;\n    }\n\n    .dataframe tbody tr th {\n        vertical-align: top;\n    }\n\n    .dataframe thead th {\n        text-align: right;\n    }\n</style>\n<table border=\"1\" class=\"dataframe\">\n  <thead>\n    <tr style=\"text-align: right;\">\n      <th></th>\n      <th>cuisine</th>\n      <th>id</th>\n      <th>size_recipe</th>\n      <th>(    oz.) tomato sauce</th>\n      <th>(   oz.) tomato paste</th>\n      <th>(10 oz.) frozen chopped spinach</th>\n      <th>(10 oz.) frozen chopped spinach, thawed and squeezed dry</th>\n      <th>(14 oz.) sweetened condensed milk</th>\n      <th>(14.5 oz.) diced tomatoes</th>\n      <th>(15 oz.) refried beans</th>\n      <th>...</th>\n      <th>yukon gold</th>\n      <th>yukon gold potatoes</th>\n      <th>yuzu</th>\n      <th>yuzu juice</th>\n      <th>za'atar</th>\n      <th>zest</th>\n      <th>zesty italian dressing</th>\n      <th>zinfandel</th>\n      <th>ziti</th>\n      <th>zucchini blossoms</th>\n    </tr>\n  </thead>\n  <tbody>\n    <tr>\n      <th>0</th>\n      <td>greek</td>\n      <td>10259</td>\n      <td>5</td>\n      <td>0</td>\n      <td>0</td>\n      <td>0</td>\n      <td>0</td>\n      <td>0</td>\n      <td>0</td>\n      <td>0</td>\n      <td>...</td>\n      <td>0</td>\n      <td>0</td>\n      <td>0</td>\n      <td>0</td>\n      <td>0</td>\n      <td>0</td>\n      <td>0</td>\n      <td>0</td>\n      <td>0</td>\n      <td>0</td>\n    </tr>\n    <tr>\n      <th>1</th>\n      <td>southern_us</td>\n      <td>25693</td>\n      <td>5</td>\n      <td>0</td>\n      <td>0</td>\n      <td>0</td>\n      <td>0</td>\n      <td>0</td>\n      <td>0</td>\n      <td>0</td>\n      <td>...</td>\n      <td>0</td>\n      <td>0</td>\n      <td>0</td>\n      <td>0</td>\n      <td>0</td>\n      <td>0</td>\n      <td>0</td>\n      <td>0</td>\n      <td>0</td>\n      <td>0</td>\n    </tr>\n    <tr>\n      <th>2</th>\n      <td>filipino</td>\n      <td>20130</td>\n      <td>5</td>\n      <td>0</td>\n      <td>0</td>\n      <td>0</td>\n      <td>0</td>\n      <td>0</td>\n      <td>0</td>\n      <td>0</td>\n      <td>...</td>\n      <td>0</td>\n      <td>0</td>\n      <td>0</td>\n      <td>0</td>\n      <td>0</td>\n      <td>0</td>\n      <td>0</td>\n      <td>0</td>\n      <td>0</td>\n      <td>0</td>\n    </tr>\n    <tr>\n      <th>3</th>\n      <td>indian</td>\n      <td>22213</td>\n      <td>1</td>\n      <td>0</td>\n      <td>0</td>\n      <td>0</td>\n      <td>0</td>\n      <td>0</td>\n      <td>0</td>\n      <td>0</td>\n      <td>...</td>\n      <td>0</td>\n      <td>0</td>\n      <td>0</td>\n      <td>0</td>\n      <td>0</td>\n      <td>0</td>\n      <td>0</td>\n      <td>0</td>\n      <td>0</td>\n      <td>0</td>\n    </tr>\n    <tr>\n      <th>4</th>\n      <td>indian</td>\n      <td>13162</td>\n      <td>10</td>\n      <td>0</td>\n      <td>0</td>\n      <td>0</td>\n      <td>0</td>\n      <td>0</td>\n      <td>0</td>\n      <td>0</td>\n      <td>...</td>\n      <td>0</td>\n      <td>0</td>\n      <td>0</td>\n      <td>0</td>\n      <td>0</td>\n      <td>0</td>\n      <td>0</td>\n      <td>0</td>\n      <td>0</td>\n      <td>0</td>\n    </tr>\n  </tbody>\n</table>\n<p>5 rows × 6626 columns</p>\n</div>"
     },
     "metadata": {},
     "execution_count": 95
    }
   ],
   "source": [
    "df_train_new = remove_ingredients_from_table_dummified(df_new, common_ingredients)\n",
    "df_train_new.head()"
   ]
  },
  {
   "cell_type": "code",
   "execution_count": 96,
   "metadata": {},
   "outputs": [
    {
     "output_type": "execute_result",
     "data": {
      "text/plain": [
       "(39580, 6626)"
      ]
     },
     "metadata": {},
     "execution_count": 96
    }
   ],
   "source": [
    "df_train_new.shape"
   ]
  },
  {
   "cell_type": "code",
   "execution_count": 97,
   "metadata": {},
   "outputs": [
    {
     "output_type": "execute_result",
     "data": {
      "text/plain": [
       "italian         6296\n",
       "mexican         5130\n",
       "southern_us     3457\n",
       "indian          2389\n",
       "chinese         2106\n",
       "french          2076\n",
       "thai            1226\n",
       "cajun_creole    1210\n",
       "japanese        1151\n",
       "greek            926\n",
       "Name: cuisine, dtype: int64"
      ]
     },
     "metadata": {},
     "execution_count": 97
    }
   ],
   "source": [
    "# Updates variables after removal of common ingredients from dataset\n",
    "# Number of recipes per cuisine\n",
    "number_recipe_cuisine = df_train['cuisine'].value_counts()\n",
    "number_recipe_cuisine[:10]"
   ]
  },
  {
   "cell_type": "code",
   "execution_count": 98,
   "metadata": {},
   "outputs": [
    {
     "output_type": "execute_result",
     "data": {
      "text/plain": [
       "soy sauce                 2613\n",
       "tomatoes                  2458\n",
       "ground cumin              2189\n",
       "chili powder              1625\n",
       "grated parmesan cheese    1500\n",
       "sesame oil                1430\n",
       "corn starch               1401\n",
       "jalapeno chilies          1384\n",
       "dried oregano             1353\n",
       "chopped cilantro fresh    1347\n",
       "dtype: int64"
      ]
     },
     "metadata": {},
     "execution_count": 98
    }
   ],
   "source": [
    "all_ingredients = get_ingredients(df_train)\n",
    "all_ingredients.value_counts()[:10]"
   ]
  },
  {
   "cell_type": "code",
   "execution_count": 99,
   "metadata": {},
   "outputs": [
    {
     "output_type": "execute_result",
     "data": {
      "text/plain": [
       "cuisine\n",
       "brazilian       [lime, turbinado, ice cubes, club soda, white ...\n",
       "british         [lemon curd, greek yogurt, confectioners sugar...\n",
       "cajun_creole    [stock, chile pepper, red chili peppers, fresh...\n",
       "chinese         [low sodium soy sauce, green beans, white pepp...\n",
       "filipino        [chicken livers, soy sauce, grilled chicken br...\n",
       "french          [lemon olive oil, grapefruit juice, fennel bul...\n",
       "greek           [grape tomatoes, romaine lettuce, feta cheese ...\n",
       "indian          [wheat, cornflour, garlic paste, ground cumin,...\n",
       "irish           [low-fat sour cream, yukon gold potatoes, 1% l...\n",
       "italian         [vanilla extract, dried cranberries, pistachio...\n",
       "jamaican        [powdered sugar, plain flour, vanilla extract,...\n",
       "japanese        [shiitake, mirin, low sodium soy sauce, corn o...\n",
       "korean          [shiitake, sesame seeds, soy sauce, beansprout...\n",
       "mexican         [iceberg lettuce, pork, poblano peppers, chopp...\n",
       "moroccan        [whole nutmegs, ground coriander, ground clove...\n",
       "russian         [grits, mozzarella cheese, cucumber, red beets...\n",
       "southern_us     [plain flour, thyme, green tomatoes, yellow co...\n",
       "spanish         [bay leaf, chopped cilantro, jalapeno chilies,...\n",
       "thai            [asian fish sauce, hot chili, lime juice, rice...\n",
       "vietnamese      [yellow squash, garlic chili sauce, soy sauce,...\n",
       "Name: ingredients, dtype: object"
      ]
     },
     "metadata": {},
     "execution_count": 99
    }
   ],
   "source": [
    "# Group all ingredients by cuisine after removing common ingredients\n",
    "all_ingredients_cuisine = df_train.groupby('cuisine')['ingredients'].sum()\n",
    "all_ingredients_cuisine"
   ]
  },
  {
   "cell_type": "code",
   "execution_count": 100,
   "metadata": {},
   "outputs": [
    {
     "output_type": "execute_result",
     "data": {
      "text/plain": [
       "cuisine\n",
       "brazilian       {'lime': 70, 'tomatoes': 55, 'cachaca': 51, 'c...\n",
       "british         {'baking soda': 60, 'vanilla extract': 49, 'wo...\n",
       "cajun_creole    {'cajun seasoning': 231, 'dried thyme': 182, '...\n",
       "chinese         {'soy sauce': 1056, 'sesame oil': 723, 'corn s...\n",
       "filipino        {'soy sauce': 195, 'fish sauce': 86, 'cooking ...\n",
       "french          {'dry white wine': 203, 'large egg yolks': 182...\n",
       "greek           {'dried oregano': 216, 'feta cheese crumbles':...\n",
       "indian          {'garam masala': 684, 'ground turmeric': 572, ...\n",
       "irish           {'baking soda': 88, 'buttermilk': 56, 'cabbage...\n",
       "italian         {'grated parmesan cheese': 1256, 'fresh basil'...\n",
       "jamaican        {'ground allspice': 107, 'dried thyme': 84, 't...\n",
       "japanese        {'soy sauce': 456, 'mirin': 336, 'sake': 239, ...\n",
       "korean          {'soy sauce': 342, 'sesame oil': 328, 'sesame ...\n",
       "mexican         {'ground cumin': 1058, 'chili powder': 994, 'j...\n",
       "moroccan        {'ground cumin': 286, 'couscous': 111, 'ground...\n",
       "russian         {'sour cream': 99, 'fresh dill': 51, 'beets': ...\n",
       "southern_us     {'buttermilk': 526, 'baking soda': 369, 'vanil...\n",
       "spanish         {'tomatoes': 119, 'fresh parsley': 80, 'dry wh...\n",
       "thai            {'fish sauce': 491, 'coconut milk': 278, 'soy ...\n",
       "vietnamese      {'fish sauce': 305, 'soy sauce': 123, 'rice vi...\n",
       "Name: ingredients, dtype: object"
      ]
     },
     "metadata": {},
     "execution_count": 100
    }
   ],
   "source": [
    "all_ingredient_by_cuisine_count = all_ingredients_cuisine.apply(frequencyItems)\n",
    "all_ingredient_by_cuisine_count"
   ]
  },
  {
   "cell_type": "code",
   "execution_count": 101,
   "metadata": {},
   "outputs": [
    {
     "output_type": "execute_result",
     "data": {
      "text/plain": [
       "cuisine\n",
       "brazilian       [frozen mango, stewed tomatoes, chicken meat, ...\n",
       "british         [spelt flour, mixed fruit, english walnuts, to...\n",
       "cajun_creole    [poultry seasoning, chicken base, chicken meat...\n",
       "chinese         [chicken base, tea bags, chicken meat, medium ...\n",
       "filipino        [chicken meat, won ton wrappers, lime juice, o...\n",
       "french          [chicken base, gala apples, tea bags, medium d...\n",
       "greek           [poultry seasoning, low-fat buttermilk, pointe...\n",
       "indian          [gooseberries, poultry seasoning, batter, pean...\n",
       "irish           [poultry seasoning, low-fat buttermilk, gala a...\n",
       "italian         [poultry seasoning, italian sauce, turkey meat...\n",
       "jamaican        [skinless chicken breasts, poultry seasoning, ...\n",
       "japanese        [tea bags, baby radishes, medium dry sherry, c...\n",
       "korean          [batter, gala apples, pilsner, lime juice, oni...\n",
       "mexican         [chicken base, batter, chicken meat, chili sea...\n",
       "moroccan        [skinless chicken breasts, chopped fresh herbs...\n",
       "russian         [spelt flour, whey, mixed fruit, stewed tomato...\n",
       "southern_us     [gooseberries, poultry seasoning, chicken base...\n",
       "spanish         [chicken base, country style bread, stewed tom...\n",
       "thai            [Chinese egg noodles, Jif Creamy Peanut Butter...\n",
       "vietnamese      [Chinese egg noodles, pickled carrots, skinles...\n",
       "Name: ingredients, dtype: object"
      ]
     },
     "metadata": {},
     "execution_count": 101
    }
   ],
   "source": [
    "unique_ingredients_cuisine = all_ingredients_cuisine.apply(removeDuplicatesItems)\n",
    "unique_ingredients_cuisine"
   ]
  },
  {
   "cell_type": "code",
   "execution_count": 102,
   "metadata": {},
   "outputs": [
    {
     "output_type": "execute_result",
     "data": {
      "text/plain": [
       "cuisine\n",
       "italian         2632\n",
       "mexican         2390\n",
       "southern_us     2176\n",
       "french          1806\n",
       "chinese         1550\n",
       "indian          1438\n",
       "cajun_creole    1323\n",
       "japanese        1231\n",
       "thai            1168\n",
       "spanish         1049\n",
       "greek            984\n",
       "british          957\n",
       "vietnamese       918\n",
       "irish            809\n",
       "moroccan         796\n",
       "filipino         755\n",
       "russian          714\n",
       "korean           710\n",
       "jamaican         685\n",
       "brazilian        681\n",
       "Name: ingredients, dtype: int64"
      ]
     },
     "metadata": {},
     "execution_count": 102
    }
   ],
   "source": [
    "# Lists number of unique ingredients per cuisine\n",
    "unique_ingredients_cuisine.apply(len).sort_values(ascending=False)"
   ]
  },
  {
   "cell_type": "code",
   "execution_count": 103,
   "metadata": {},
   "outputs": [
    {
     "output_type": "execute_result",
     "data": {
      "text/plain": [
       "0           frozen mango\n",
       "1        stewed tomatoes\n",
       "2           chicken meat\n",
       "3             lime juice\n",
       "4       allspice berries\n",
       "5                 canola\n",
       "6           onion powder\n",
       "7    scotch bonnet chile\n",
       "8             dried beef\n",
       "9          potato starch\n",
       "dtype: object"
      ]
     },
     "metadata": {},
     "execution_count": 103
    }
   ],
   "source": [
    "# Get unique ingredients\n",
    "unique_ingredients = Series(get_ingredients(unique_ingredients_cuisine).unique())\n",
    "unique_ingredients[:10]"
   ]
  },
  {
   "cell_type": "code",
   "execution_count": 104,
   "metadata": {},
   "outputs": [
    {
     "output_type": "stream",
     "name": "stdout",
     "text": [
      "Number of Unique ingredients after removing common ingredients =  6220\n"
     ]
    }
   ],
   "source": [
    "number = len(unique_ingredients)\n",
    "print('Number of Unique ingredients after removing common ingredients = ' , number)"
   ]
  },
  {
   "cell_type": "code",
   "execution_count": 105,
   "metadata": {},
   "outputs": [
    {
     "output_type": "execute_result",
     "data": {
      "text/plain": [
       "frozen mango                                                        {'brazilian': 1}\n",
       "stewed tomatoes                    {'brazilian': 1, 'cajun_creole': 26, 'french':...\n",
       "chicken meat                       {'brazilian': 1, 'cajun_creole': 2, 'chinese':...\n",
       "lime juice                         {'brazilian': 16, 'british': 1, 'cajun_creole'...\n",
       "allspice berries                   {'brazilian': 1, 'british': 2, 'irish': 1, 'it...\n",
       "canola                             {'brazilian': 1, 'cajun_creole': 1, 'chinese':...\n",
       "onion powder                       {'brazilian': 1, 'british': 6, 'cajun_creole':...\n",
       "scotch bonnet chile                {'brazilian': 2, 'indian': 1, 'jamaican': 31, ...\n",
       "dried beef                                            {'brazilian': 2, 'spanish': 1}\n",
       "potato starch                      {'brazilian': 1, 'chinese': 12, 'french': 3, '...\n",
       "pineapple juice                    {'brazilian': 1, 'cajun_creole': 1, 'chinese':...\n",
       "boneless chicken skinless thigh    {'brazilian': 2, 'cajun_creole': 26, 'chinese'...\n",
       "fruit                              {'brazilian': 5, 'british': 3, 'filipino': 1, ...\n",
       "stone-ground cornmeal              {'brazilian': 1, 'cajun_creole': 1, 'italian':...\n",
       "chile powder                       {'brazilian': 1, 'cajun_creole': 2, 'chinese':...\n",
       "chili paste                        {'brazilian': 1, 'chinese': 22, 'filipino': 1,...\n",
       "1% low-fat milk                    {'brazilian': 1, 'cajun_creole': 2, 'french': ...\n",
       "pearl tapioca                                            {'brazilian': 1, 'thai': 1}\n",
       "fresh raspberries                  {'brazilian': 2, 'british': 13, 'french': 24, ...\n",
       "green peas                         {'brazilian': 1, 'british': 1, 'chinese': 19, ...\n",
       "dtype: object"
      ]
     },
     "metadata": {},
     "execution_count": 105
    }
   ],
   "source": [
    "# Number of cuisines each ingredient appears after removing common ingredients\n",
    "cuisines_count_per_ingredient = number_cuisine_per_ingredient(unique_ingredients)\n",
    "cuisines_count_per_ingredient[:20]"
   ]
  },
  {
   "cell_type": "code",
   "execution_count": 106,
   "metadata": {},
   "outputs": [
    {
     "output_type": "execute_result",
     "data": {
      "text/plain": [
       "frozen mango                                                 [brazilian]\n",
       "stewed tomatoes        [brazilian, cajun_creole, french, greek, india...\n",
       "chicken meat           [brazilian, cajun_creole, chinese, filipino, g...\n",
       "lime juice             [brazilian, british, cajun_creole, chinese, fi...\n",
       "allspice berries       [brazilian, british, irish, italian, jamaican,...\n",
       "canola                 [brazilian, cajun_creole, chinese, french, ind...\n",
       "onion powder           [brazilian, british, cajun_creole, chinese, fi...\n",
       "scotch bonnet chile    [brazilian, indian, jamaican, mexican, souther...\n",
       "dried beef                                          [brazilian, spanish]\n",
       "potato starch          [brazilian, chinese, french, italian, japanese...\n",
       "dtype: object"
      ]
     },
     "metadata": {},
     "execution_count": 106
    }
   ],
   "source": [
    "# Cuisines in which each ingredient appears\n",
    "cuisines_per_ingredient = cuisines_count_per_ingredient.apply(extract_cuisine)\n",
    "cuisines_per_ingredient[:10]"
   ]
  },
  {
   "cell_type": "code",
   "execution_count": 107,
   "metadata": {},
   "outputs": [
    {
     "output_type": "stream",
     "name": "stderr",
     "text": [
      "<ipython-input-107-9c82b215f5cd>:2: DeprecationWarning: The default dtype for empty Series will be 'object' instead of 'float64' in a future version. Specify a dtype explicitly to silence this warning.\n  top10 = Series()\n"
     ]
    },
    {
     "output_type": "error",
     "ename": "AttributeError",
     "evalue": "type object 'DataFrame' has no attribute 'from_items'",
     "traceback": [
      "\u001b[1;31m---------------------------------------------------------------------------\u001b[0m",
      "\u001b[1;31mAttributeError\u001b[0m                            Traceback (most recent call last)",
      "\u001b[1;32m<ipython-input-107-9c82b215f5cd>\u001b[0m in \u001b[0;36m<module>\u001b[1;34m\u001b[0m\n\u001b[0;32m      8\u001b[0m \u001b[1;33m\u001b[0m\u001b[0m\n\u001b[0;32m      9\u001b[0m \u001b[1;33m\u001b[0m\u001b[0m\n\u001b[1;32m---> 10\u001b[1;33m \u001b[0mdf_top10\u001b[0m \u001b[1;33m=\u001b[0m \u001b[0mDataFrame\u001b[0m\u001b[1;33m.\u001b[0m\u001b[0mfrom_items\u001b[0m\u001b[1;33m(\u001b[0m\u001b[0mzip\u001b[0m\u001b[1;33m(\u001b[0m\u001b[0mtop10\u001b[0m\u001b[1;33m.\u001b[0m\u001b[0mindex\u001b[0m\u001b[1;33m,\u001b[0m \u001b[0mtop10\u001b[0m\u001b[1;33m.\u001b[0m\u001b[0mvalues\u001b[0m\u001b[1;33m)\u001b[0m\u001b[1;33m)\u001b[0m\u001b[1;33m.\u001b[0m\u001b[0mT\u001b[0m\u001b[1;33m\u001b[0m\u001b[1;33m\u001b[0m\u001b[0m\n\u001b[0m\u001b[0;32m     11\u001b[0m \u001b[0mdf_top10\u001b[0m\u001b[1;33m.\u001b[0m\u001b[0mcolumns\u001b[0m \u001b[1;33m=\u001b[0m \u001b[1;33m[\u001b[0m\u001b[1;34m'top{}'\u001b[0m\u001b[1;33m.\u001b[0m\u001b[0mformat\u001b[0m\u001b[1;33m(\u001b[0m\u001b[0mi\u001b[0m\u001b[1;33m)\u001b[0m \u001b[1;32mfor\u001b[0m \u001b[0mi\u001b[0m \u001b[1;32min\u001b[0m \u001b[0mrange\u001b[0m\u001b[1;33m(\u001b[0m\u001b[1;36m1\u001b[0m\u001b[1;33m,\u001b[0m \u001b[1;36m11\u001b[0m\u001b[1;33m)\u001b[0m\u001b[1;33m]\u001b[0m\u001b[1;33m\u001b[0m\u001b[1;33m\u001b[0m\u001b[0m\n\u001b[0;32m     12\u001b[0m \u001b[0mdf_top10\u001b[0m\u001b[1;33m\u001b[0m\u001b[1;33m\u001b[0m\u001b[0m\n",
      "\u001b[1;31mAttributeError\u001b[0m: type object 'DataFrame' has no attribute 'from_items'"
     ]
    }
   ],
   "source": [
    "#  Top 10 ingredients per cuisine after removing common ingredients\n",
    "top10 = Series()\n",
    "\n",
    "for cuisine, list_ingredients in all_ingredient_by_cuisine_count.items():\n",
    "    top10.loc[cuisine] = []\n",
    "    for ingredient, occurrence in Series(list_ingredients)[:10].items():\n",
    "        top10.loc[cuisine].append(ingredient)\n",
    "\n",
    "\n",
    "df_top10 = DataFrame.from_items(zip(top10.index, top10.values)).T\n",
    "df_top10.columns = ['top{}'.format(i) for i in range(1, 11)]\n",
    "df_top10"
   ]
  },
  {
   "cell_type": "code",
   "execution_count": 73,
   "metadata": {},
   "outputs": [
    {
     "data": {
      "text/plain": [
       "brazilian                                                      []\n",
       "british                                                        []\n",
       "cajun_creole                                                   []\n",
       "chinese         [chinese rice wine, chinese five-spice powder,...\n",
       "filipino                                      [filipino eggplant]\n",
       "french          [french bread, french bread, french fried onio...\n",
       "greek           [greek yogurt, greek seasoning, greek yogurt, ...\n",
       "indian                                        [indian flat bread]\n",
       "irish           [irish cream liqueur, irish cream liqueur, iri...\n",
       "italian         [italian seasoning, zesty italian dressing, it...\n",
       "jamaican        [jamaican jerk season, jamaican jerk spice, ja...\n",
       "japanese        [japanese eggplants, japanese rice, japanese r...\n",
       "korean          [korean chile, korean chile paste, korean chil...\n",
       "mexican         [crema mexicana, mexican chorizo, fresh mexica...\n",
       "moroccan                                     [moroccan seasoning]\n",
       "russian                      [red russian kale, red russian kale]\n",
       "southern_us                                                    []\n",
       "spanish         [chorizo spanish, spanish paprika, spanish ric...\n",
       "thai            [thai basil, thai green curry paste, thai chil...\n",
       "vietnamese      [vietnamese fish sauce, vietnamese fish sauce,...\n",
       "dtype: object"
      ]
     },
     "execution_count": 73,
     "metadata": {},
     "output_type": "execute_result"
    }
   ],
   "source": [
    "# Finds the cuisines with same name ingredients \n",
    "all_ingredients_same_name_cuisine = Series()\n",
    "\n",
    "for cuisine, list_ingredients in all_ingredients_cuisine.items():\n",
    "    all_ingredients_same_name_cuisine.loc[cuisine] = all_ingredients_same_name_cuisine.get(cuisine, [])\n",
    "    for ingredient in list_ingredients:\n",
    "        if cuisine in ingredient:\n",
    "            all_ingredients_same_name_cuisine.loc[cuisine].append(ingredient)\n",
    "            \n",
    "all_ingredients_same_name_cuisine"
   ]
  },
  {
   "cell_type": "code",
   "execution_count": 74,
   "metadata": {},
   "outputs": [
    {
     "data": {
      "text/plain": [
       "brazilian         0\n",
       "british           0\n",
       "cajun_creole      0\n",
       "chinese         438\n",
       "filipino          1\n",
       "french           62\n",
       "greek           167\n",
       "indian            1\n",
       "irish            22\n",
       "italian         618\n",
       "jamaican         33\n",
       "japanese         37\n",
       "korean           13\n",
       "mexican          97\n",
       "moroccan          1\n",
       "russian           2\n",
       "southern_us       0\n",
       "spanish          68\n",
       "thai            212\n",
       "vietnamese       27\n",
       "dtype: int64"
      ]
     },
     "execution_count": 74,
     "metadata": {},
     "output_type": "execute_result"
    }
   ],
   "source": [
    "# Counts the number of recipes(occurrences) in which same cuisine/ingredients name appear\n",
    "all_ingredients_same_name_cuisine.apply(len)"
   ]
  },
  {
   "cell_type": "code",
   "execution_count": 75,
   "metadata": {},
   "outputs": [
    {
     "data": {
      "text/plain": [
       "1799"
      ]
     },
     "execution_count": 75,
     "metadata": {},
     "output_type": "execute_result"
    }
   ],
   "source": [
    "# Number of recipes with same name ingredient\n",
    "all_ingredients_same_name_cuisine.apply(len).sum(axis=0)"
   ]
  },
  {
   "cell_type": "code",
   "execution_count": 76,
   "metadata": {},
   "outputs": [
    {
     "data": {
      "text/plain": [
       "brazilian                                                      {}\n",
       "british                                                        {}\n",
       "cajun_creole                                                   {}\n",
       "chinese         {'chinese five-spice powder': 178, 'chinese ri...\n",
       "filipino                                 {'filipino eggplant': 1}\n",
       "french          {'french bread': 47, 'french baguette': 8, 'fr...\n",
       "greek           {'greek yogurt': 66, 'greek style plain yogurt...\n",
       "indian                                   {'indian flat bread': 1}\n",
       "irish               {'irish cream liqueur': 17, 'irish bacon': 5}\n",
       "italian         {'italian seasoning': 280, 'italian sausage': ...\n",
       "jamaican        {'jamaican jerk season': 16, 'jamaican jerk sp...\n",
       "japanese        {'japanese rice': 16, 'japanese eggplants': 13...\n",
       "korean          {'korean chile paste': 9, 'korean chile': 2, '...\n",
       "mexican         {'mexican chocolate': 27, 'mexican chorizo': 2...\n",
       "moroccan                                {'moroccan seasoning': 1}\n",
       "russian                                   {'red russian kale': 2}\n",
       "southern_us                                                    {}\n",
       "spanish         {'spanish chorizo': 35, 'spanish paprika': 19,...\n",
       "thai            {'thai basil': 82, 'thai chile': 76, 'thai gre...\n",
       "vietnamese      {'vietnamese fish sauce': 25, 'vietnamese rice...\n",
       "dtype: object"
      ]
     },
     "execution_count": 76,
     "metadata": {},
     "output_type": "execute_result"
    }
   ],
   "source": [
    "all_ingredients_same_name_cuisine_count = all_ingredients_same_name_cuisine.apply(frequencyItems)\n",
    "all_ingredients_same_name_cuisine_count"
   ]
  },
  {
   "cell_type": "code",
   "execution_count": 77,
   "metadata": {},
   "outputs": [
    {
     "data": {
      "text/plain": [
       "brazilian                                                      []\n",
       "british                                                        []\n",
       "cajun_creole                                                   []\n",
       "chinese         [chinese plum sauce, chinese black mushrooms, ...\n",
       "filipino                                      [filipino eggplant]\n",
       "french          [french fri frozen, french bread, french fried...\n",
       "greek           [whole milk greek yogurt, greek seasoning, gre...\n",
       "indian                                        [indian flat bread]\n",
       "irish                          [irish bacon, irish cream liqueur]\n",
       "italian         [italian seasoning mix, italian eggplant, ital...\n",
       "jamaican        [jamaican curry powder, jamaican jerk season, ...\n",
       "japanese        [japanese eggplants, japanese rice, japanese c...\n",
       "korean          [korean chile, korean buckwheat noodles, korea...\n",
       "mexican         [crema mexicana, crema mexican, mexican style ...\n",
       "moroccan                                     [moroccan seasoning]\n",
       "russian                                        [red russian kale]\n",
       "southern_us                                                    []\n",
       "spanish         [chorizo spanish, spanish onion, spanish chori...\n",
       "thai            [thai chile, thai basil, thai noodles, thai gr...\n",
       "vietnamese         [vietnamese fish sauce, vietnamese rice paper]\n",
       "dtype: object"
      ]
     },
     "execution_count": 77,
     "metadata": {},
     "output_type": "execute_result"
    }
   ],
   "source": [
    "#Lists of unique cuisine/ingredients names\n",
    "unique_ingredients_same_name_cuisine = all_ingredients_same_name_cuisine.apply(removeDuplicatesItems)\n",
    "unique_ingredients_same_name_cuisine"
   ]
  },
  {
   "cell_type": "code",
   "execution_count": 78,
   "metadata": {},
   "outputs": [
    {
     "data": {
      "text/plain": [
       "brazilian        0\n",
       "british          0\n",
       "cajun_creole     0\n",
       "chinese         33\n",
       "filipino         1\n",
       "french           8\n",
       "greek           12\n",
       "indian           1\n",
       "irish            2\n",
       "italian         39\n",
       "jamaican         8\n",
       "japanese         4\n",
       "korean           4\n",
       "mexican          7\n",
       "moroccan         1\n",
       "russian          1\n",
       "southern_us      0\n",
       "spanish          5\n",
       "thai             6\n",
       "vietnamese       2\n",
       "dtype: int64"
      ]
     },
     "execution_count": 78,
     "metadata": {},
     "output_type": "execute_result"
    }
   ],
   "source": [
    "# Number of unique ingredients per cuisine\n",
    "unique_ingredients_same_name_cuisine.apply(len)"
   ]
  },
  {
   "cell_type": "code",
   "execution_count": 79,
   "metadata": {},
   "outputs": [
    {
     "name": "stdout",
     "output_type": "stream",
     "text": [
      "Number of Instances of same cuisine name =  134\n"
     ]
    }
   ],
   "source": [
    "# Total occurrences of same cuisine/ingredient name\n",
    "sum = all_ingredients_same_name_cuisine_count.apply(len).sum()\n",
    "print('Number of Instances of same cuisine name = ' , sum)"
   ]
  },
  {
   "cell_type": "code",
   "execution_count": 80,
   "metadata": {},
   "outputs": [
    {
     "name": "stdout",
     "output_type": "stream",
     "text": [
      "Stored 'unique_same_name_ingredients' (Series)\n"
     ]
    },
    {
     "data": {
      "text/plain": [
       "0           chinese plum sauce\n",
       "1      chinese black mushrooms\n",
       "2              chinese parsley\n",
       "3             chinese pea pods\n",
       "4    chinese five-spice powder\n",
       "5             chinese pancakes\n",
       "6           chinese roast pork\n",
       "7               chinese celery\n",
       "8          chinese wolfberries\n",
       "9               chinese chives\n",
       "dtype: object"
      ]
     },
     "execution_count": 80,
     "metadata": {},
     "output_type": "execute_result"
    }
   ],
   "source": [
    "# Get unique same name ingredients\n",
    "unique_same_name_ingredients = Series(get_ingredients(unique_ingredients_same_name_cuisine).unique())\n",
    "%store unique_same_name_ingredients\n",
    "\n",
    "unique_same_name_ingredients[:10]"
   ]
  },
  {
   "cell_type": "code",
   "execution_count": 81,
   "metadata": {},
   "outputs": [
    {
     "name": "stdout",
     "output_type": "stream",
     "text": [
      "Number of Unique_ingredients =  134\n"
     ]
    }
   ],
   "source": [
    "number = len(unique_same_name_ingredients)\n",
    "print('Number of Unique_ingredients = ' , number)"
   ]
  },
  {
   "cell_type": "code",
   "execution_count": 82,
   "metadata": {},
   "outputs": [
    {
     "data": {
      "text/plain": [
       "chinese plum sauce                                              {'chinese': 3}\n",
       "chinese black mushrooms                            {'chinese': 8, 'korean': 1}\n",
       "chinese parsley                                  {'chinese': 2, 'filipino': 1}\n",
       "chinese pea pods                                                {'chinese': 1}\n",
       "chinese five-spice powder    {'chinese': 178, 'filipino': 2, 'french': 1, '...\n",
       "chinese pancakes                                                {'chinese': 1}\n",
       "chinese roast pork                                              {'chinese': 3}\n",
       "chinese celery               {'chinese': 5, 'filipino': 1, 'thai': 2, 'viet...\n",
       "chinese wolfberries                                             {'chinese': 1}\n",
       "chinese chives               {'chinese': 12, 'japanese': 2, 'korean': 6, 't...\n",
       "dtype: object"
      ]
     },
     "execution_count": 82,
     "metadata": {},
     "output_type": "execute_result"
    }
   ],
   "source": [
    "# Number of times each same name ingredient appear in a cuisine\n",
    "cuisines_count_per_same_name_ingredient = number_cuisine_per_ingredient(unique_same_name_ingredients)\n",
    "cuisines_count_per_same_name_ingredient[:10]"
   ]
  },
  {
   "cell_type": "code",
   "execution_count": 83,
   "metadata": {},
   "outputs": [
    {
     "data": {
      "text/plain": [
       "chinese plum sauce                                                   [chinese]\n",
       "chinese black mushrooms                                      [chinese, korean]\n",
       "chinese parsley                                            [chinese, filipino]\n",
       "chinese pea pods                                                     [chinese]\n",
       "chinese five-spice powder    [chinese, filipino, french, indian, italian, j...\n",
       "chinese pancakes                                                     [chinese]\n",
       "chinese roast pork                                                   [chinese]\n",
       "chinese celery                           [chinese, filipino, thai, vietnamese]\n",
       "chinese wolfberries                                                  [chinese]\n",
       "chinese chives                   [chinese, japanese, korean, thai, vietnamese]\n",
       "dtype: object"
      ]
     },
     "execution_count": 83,
     "metadata": {},
     "output_type": "execute_result"
    }
   ],
   "source": [
    "# Checks in how many other cuisines the same name cuisine-ingredients appear\n",
    "# Get name of cuisine from dictionary with frequency in which they appear\n",
    "cuisines_per_same_name_ingredient = cuisines_count_per_same_name_ingredient.apply(extract_cuisine)\n",
    "cuisines_per_same_name_ingredient[:10]"
   ]
  },
  {
   "cell_type": "code",
   "execution_count": 84,
   "metadata": {},
   "outputs": [
    {
     "data": {
      "text/plain": [
       "chinese plum sauce           1\n",
       "chinese black mushrooms      2\n",
       "chinese parsley              2\n",
       "chinese pea pods             1\n",
       "chinese five-spice powder    9\n",
       "chinese pancakes             1\n",
       "chinese roast pork           1\n",
       "chinese celery               4\n",
       "chinese wolfberries          1\n",
       "chinese chives               5\n",
       "dtype: int64"
      ]
     },
     "execution_count": 84,
     "metadata": {},
     "output_type": "execute_result"
    }
   ],
   "source": [
    "# Number of cuisine each same name cuisine appears (first 10 ingredients)\n",
    "cuisines_per_same_name_ingredient.apply(len)[:10]"
   ]
  },
  {
   "cell_type": "markdown",
   "metadata": {},
   "source": [
    "# Data Modeling"
   ]
  },
  {
   "cell_type": "code",
   "execution_count": 110,
   "metadata": {},
   "outputs": [
    {
     "output_type": "execute_result",
     "data": {
      "text/plain": [
       "(31664, 2887)"
      ]
     },
     "metadata": {},
     "execution_count": 110
    }
   ],
   "source": [
    "df_train['all_ingredients'] = df_train['ingredients'].map(\";\".join)\n",
    "\n",
    "from sklearn.feature_extraction.text import CountVectorizer\n",
    "cv = CountVectorizer()\n",
    "X = cv.fit_transform(df_train['all_ingredients'].values)\n",
    "X.shape"
   ]
  },
  {
   "cell_type": "code",
   "execution_count": 111,
   "metadata": {},
   "outputs": [
    {
     "output_type": "execute_result",
     "data": {
      "text/plain": [
       "array([ 6, 16,  4,  7,  7, 10, 17,  9, 13,  9,  9,  3,  9, 13,  9,  7,  1,\n",
       "        9, 18, 19, 18, 13, 16,  3,  9,  3,  2,  9,  3, 13,  9,  2, 13, 18,\n",
       "        9,  2,  9,  4, 16, 16,  9,  0, 13,  7, 13,  3,  5, 16, 16, 11, 16,\n",
       "        9, 16,  9, 10, 11,  7,  9,  8, 18, 18,  7, 10,  9, 18, 12,  5,  5,\n",
       "       16, 17,  7, 14,  9,  9, 14, 14, 19, 11, 13,  2, 16,  5,  7,  7,  9,\n",
       "        9,  7, 12, 17,  9, 16, 16,  6, 13, 13, 16,  7,  9,  9,  9])"
      ]
     },
     "metadata": {},
     "execution_count": 111
    }
   ],
   "source": [
    "from sklearn.preprocessing import LabelEncoder\n",
    "enc = LabelEncoder()\n",
    "y = enc.fit_transform(df_train.cuisine)\n",
    "y[:100]"
   ]
  },
  {
   "cell_type": "markdown",
   "metadata": {},
   "source": [
    "# KNN"
   ]
  },
  {
   "cell_type": "code",
   "execution_count": 113,
   "metadata": {},
   "outputs": [],
   "source": [
    "#KNN\n",
    "from sklearn.metrics import classification_report\n",
    "from sklearn.metrics import confusion_matrix\n",
    "from sklearn.neighbors import KNeighborsClassifier\n",
    "from sklearn.metrics import accuracy_score\n",
    "X_train, X_test, y_train, y_test = train_test_split(X, y, test_size=0.2)\n"
   ]
  },
  {
   "cell_type": "code",
   "execution_count": 114,
   "metadata": {},
   "outputs": [
    {
     "output_type": "stream",
     "name": "stdout",
     "text": [
      "KNN Accuracy:  0.5755566082425391\n"
     ]
    }
   ],
   "source": [
    "knn = KNeighborsClassifier(n_neighbors=1)\n",
    "knn.fit(X_train, y_train)\n",
    "predictions = knn.predict(X_test)\n",
    "print(\"KNN Accuracy: \",accuracy_score(y_test, predictions))"
   ]
  },
  {
   "cell_type": "code",
   "execution_count": 115,
   "metadata": {},
   "outputs": [
    {
     "output_type": "stream",
     "name": "stdout",
     "text": [
      "Confusion Matrix: \n",
      " [[ 34   1   0   3   5   2   0   2   0   5   1   1   0  13   0   0   7   2\n",
      "    0   2]\n",
      " [  2  31   1   3   0  24   0   1   6  17   1   0   1   9   2   6  23   1\n",
      "    0   0]\n",
      " [  2   3 114  10   0  18   3   0   3  35   1   1   1  17   4   1  31   2\n",
      "    0   0]\n",
      " [  0   0   0 261  12   6   2   8   2  11   0  34  31   9   1   0   8   0\n",
      "   16  11]\n",
      " [  6   1   0  12  49   4   1   0   2   5   4   3   2   6   0   8  12   0\n",
      "    3   3]\n",
      " [  0   9   6   7   2 151  15   3  13 104   0   1   1  18   3   8  36  11\n",
      "    2   2]\n",
      " [  0   2   2   4   0   8  99   7   1  39   1   0   1   1   4   3  12   4\n",
      "    1   1]\n",
      " [  5   8   1   9   3   8   9 283   0  20   6  13   1  41  27   1  19   2\n",
      "    7   3]\n",
      " [  1   4   0   3   0  20   2   0  24  13   0   0   0   5   0   2  18   2\n",
      "    1   0]\n",
      " [  4  15  15  21   4 117  30   9   8 871   1   3   1  38   5   6  73  25\n",
      "    0   1]\n",
      " [  2   1   2   3   3   4   1   1   1   6  33   0   1   5   1   0   9   1\n",
      "    0   1]\n",
      " [  1   3   1  28   3   8   1  15   1  12   1 127  21   5   2   3   7   2\n",
      "    1   7]\n",
      " [  0   0   0  23   2   1   0   1   0   1   0  21  85   2   0   3   4   0\n",
      "    2   2]\n",
      " [ 13   4   7  10   3  25   6  17   5  57   1   4   0 793   7   6  46   8\n",
      "    3   7]\n",
      " [  0   0   1   5   1  11   4  15   0  14   1   0   0  14  54   4   7   5\n",
      "    0   1]\n",
      " [  0   2   0   2   0  16   1   5   1  15   0   0   0   8   1  25  11   2\n",
      "    0   0]\n",
      " [  5  14  36  12   8  44   3  16  22  69   3   7   0  52   3   4 412   7\n",
      "    1   2]\n",
      " [  1   3   6   3   5  21   5   5   3  46   0   0   1  20   2   2  13  23\n",
      "    0   1]\n",
      " [  1   1   0  15   6   2   1  15   0   3   2   7   7  14   3   1   3   1\n",
      "  117  31]\n",
      " [  1   0   2  14   3   1   0   3   0   2   0   6   6  12   0   0   3   1\n",
      "   16  59]]\n"
     ]
    }
   ],
   "source": [
    "print('Confusion Matrix: \\n',confusion_matrix(y_test, predictions))"
   ]
  },
  {
   "cell_type": "code",
   "execution_count": 116,
   "metadata": {},
   "outputs": [
    {
     "output_type": "stream",
     "name": "stdout",
     "text": [
      "Classification Report: \n               precision    recall  f1-score   support\n\n           0       0.44      0.44      0.44        78\n           1       0.30      0.24      0.27       128\n           2       0.59      0.46      0.52       246\n           3       0.58      0.63      0.61       412\n           4       0.45      0.40      0.43       121\n           5       0.31      0.39      0.34       392\n           6       0.54      0.52      0.53       190\n           7       0.70      0.61      0.65       466\n           8       0.26      0.25      0.26        95\n           9       0.65      0.70      0.67      1247\n          10       0.59      0.44      0.50        75\n          11       0.56      0.51      0.53       249\n          12       0.53      0.58      0.55       147\n          13       0.73      0.78      0.75      1022\n          14       0.45      0.39      0.42       137\n          15       0.30      0.28      0.29        89\n          16       0.55      0.57      0.56       720\n          17       0.23      0.14      0.18       160\n          18       0.69      0.51      0.58       230\n          19       0.44      0.46      0.45       129\n\n    accuracy                           0.58      6333\n   macro avg       0.49      0.47      0.48      6333\nweighted avg       0.57      0.58      0.57      6333\n\n"
     ]
    }
   ],
   "source": [
    "print('Classification Report: \\n',classification_report(y_test, predictions))"
   ]
  },
  {
   "cell_type": "code",
   "execution_count": 117,
   "metadata": {},
   "outputs": [
    {
     "output_type": "error",
     "ename": "MemoryError",
     "evalue": "Unable to allocate 1.00 GiB for an array with shape (5298, 25331) and data type float64",
     "traceback": [
      "\u001b[1;31m---------------------------------------------------------------------------\u001b[0m",
      "\u001b[1;31mMemoryError\u001b[0m                               Traceback (most recent call last)",
      "\u001b[1;32m<ipython-input-117-6a0cf150acb7>\u001b[0m in \u001b[0;36m<module>\u001b[1;34m\u001b[0m\n\u001b[0;32m      5\u001b[0m     \u001b[0mknn\u001b[0m \u001b[1;33m=\u001b[0m \u001b[0mKNeighborsClassifier\u001b[0m\u001b[1;33m(\u001b[0m\u001b[0mn_neighbors\u001b[0m\u001b[1;33m=\u001b[0m\u001b[0mi\u001b[0m\u001b[1;33m)\u001b[0m\u001b[1;33m\u001b[0m\u001b[1;33m\u001b[0m\u001b[0m\n\u001b[0;32m      6\u001b[0m     \u001b[0mknn\u001b[0m\u001b[1;33m.\u001b[0m\u001b[0mfit\u001b[0m\u001b[1;33m(\u001b[0m\u001b[0mX_train\u001b[0m\u001b[1;33m,\u001b[0m \u001b[0my_train\u001b[0m\u001b[1;33m)\u001b[0m\u001b[1;33m\u001b[0m\u001b[1;33m\u001b[0m\u001b[0m\n\u001b[1;32m----> 7\u001b[1;33m     \u001b[0mpred_i\u001b[0m \u001b[1;33m=\u001b[0m \u001b[0mknn\u001b[0m\u001b[1;33m.\u001b[0m\u001b[0mpredict\u001b[0m\u001b[1;33m(\u001b[0m\u001b[0mX_test\u001b[0m\u001b[1;33m)\u001b[0m\u001b[1;33m\u001b[0m\u001b[1;33m\u001b[0m\u001b[0m\n\u001b[0m\u001b[0;32m      8\u001b[0m     \u001b[0merror_rate\u001b[0m\u001b[1;33m.\u001b[0m\u001b[0mappend\u001b[0m\u001b[1;33m(\u001b[0m\u001b[0mnp\u001b[0m\u001b[1;33m.\u001b[0m\u001b[0mmean\u001b[0m\u001b[1;33m(\u001b[0m\u001b[0mpred_i\u001b[0m \u001b[1;33m!=\u001b[0m \u001b[0my_test\u001b[0m\u001b[1;33m)\u001b[0m\u001b[1;33m)\u001b[0m\u001b[1;33m\u001b[0m\u001b[1;33m\u001b[0m\u001b[0m\n",
      "\u001b[1;32m~\\AppData\\Local\\Programs\\Python\\Python39\\lib\\site-packages\\sklearn\\neighbors\\_classification.py\u001b[0m in \u001b[0;36mpredict\u001b[1;34m(self, X)\u001b[0m\n\u001b[0;32m    195\u001b[0m         \u001b[0mX\u001b[0m \u001b[1;33m=\u001b[0m \u001b[0mcheck_array\u001b[0m\u001b[1;33m(\u001b[0m\u001b[0mX\u001b[0m\u001b[1;33m,\u001b[0m \u001b[0maccept_sparse\u001b[0m\u001b[1;33m=\u001b[0m\u001b[1;34m'csr'\u001b[0m\u001b[1;33m)\u001b[0m\u001b[1;33m\u001b[0m\u001b[1;33m\u001b[0m\u001b[0m\n\u001b[0;32m    196\u001b[0m \u001b[1;33m\u001b[0m\u001b[0m\n\u001b[1;32m--> 197\u001b[1;33m         \u001b[0mneigh_dist\u001b[0m\u001b[1;33m,\u001b[0m \u001b[0mneigh_ind\u001b[0m \u001b[1;33m=\u001b[0m \u001b[0mself\u001b[0m\u001b[1;33m.\u001b[0m\u001b[0mkneighbors\u001b[0m\u001b[1;33m(\u001b[0m\u001b[0mX\u001b[0m\u001b[1;33m)\u001b[0m\u001b[1;33m\u001b[0m\u001b[1;33m\u001b[0m\u001b[0m\n\u001b[0m\u001b[0;32m    198\u001b[0m         \u001b[0mclasses_\u001b[0m \u001b[1;33m=\u001b[0m \u001b[0mself\u001b[0m\u001b[1;33m.\u001b[0m\u001b[0mclasses_\u001b[0m\u001b[1;33m\u001b[0m\u001b[1;33m\u001b[0m\u001b[0m\n\u001b[0;32m    199\u001b[0m         \u001b[0m_y\u001b[0m \u001b[1;33m=\u001b[0m \u001b[0mself\u001b[0m\u001b[1;33m.\u001b[0m\u001b[0m_y\u001b[0m\u001b[1;33m\u001b[0m\u001b[1;33m\u001b[0m\u001b[0m\n",
      "\u001b[1;32m~\\AppData\\Local\\Programs\\Python\\Python39\\lib\\site-packages\\sklearn\\neighbors\\_base.py\u001b[0m in \u001b[0;36mkneighbors\u001b[1;34m(self, X, n_neighbors, return_distance)\u001b[0m\n\u001b[0;32m    703\u001b[0m                 \u001b[0mkwds\u001b[0m \u001b[1;33m=\u001b[0m \u001b[0mself\u001b[0m\u001b[1;33m.\u001b[0m\u001b[0meffective_metric_params_\u001b[0m\u001b[1;33m\u001b[0m\u001b[1;33m\u001b[0m\u001b[0m\n\u001b[0;32m    704\u001b[0m \u001b[1;33m\u001b[0m\u001b[0m\n\u001b[1;32m--> 705\u001b[1;33m             chunked_results = list(pairwise_distances_chunked(\n\u001b[0m\u001b[0;32m    706\u001b[0m                 \u001b[0mX\u001b[0m\u001b[1;33m,\u001b[0m \u001b[0mself\u001b[0m\u001b[1;33m.\u001b[0m\u001b[0m_fit_X\u001b[0m\u001b[1;33m,\u001b[0m \u001b[0mreduce_func\u001b[0m\u001b[1;33m=\u001b[0m\u001b[0mreduce_func\u001b[0m\u001b[1;33m,\u001b[0m\u001b[1;33m\u001b[0m\u001b[1;33m\u001b[0m\u001b[0m\n\u001b[0;32m    707\u001b[0m                 \u001b[0mmetric\u001b[0m\u001b[1;33m=\u001b[0m\u001b[0mself\u001b[0m\u001b[1;33m.\u001b[0m\u001b[0meffective_metric_\u001b[0m\u001b[1;33m,\u001b[0m \u001b[0mn_jobs\u001b[0m\u001b[1;33m=\u001b[0m\u001b[0mn_jobs\u001b[0m\u001b[1;33m,\u001b[0m\u001b[1;33m\u001b[0m\u001b[1;33m\u001b[0m\u001b[0m\n",
      "\u001b[1;32m~\\AppData\\Local\\Programs\\Python\\Python39\\lib\\site-packages\\sklearn\\metrics\\pairwise.py\u001b[0m in \u001b[0;36mpairwise_distances_chunked\u001b[1;34m(X, Y, reduce_func, metric, n_jobs, working_memory, **kwds)\u001b[0m\n\u001b[0;32m   1621\u001b[0m         \u001b[1;32melse\u001b[0m\u001b[1;33m:\u001b[0m\u001b[1;33m\u001b[0m\u001b[1;33m\u001b[0m\u001b[0m\n\u001b[0;32m   1622\u001b[0m             \u001b[0mX_chunk\u001b[0m \u001b[1;33m=\u001b[0m \u001b[0mX\u001b[0m\u001b[1;33m[\u001b[0m\u001b[0msl\u001b[0m\u001b[1;33m]\u001b[0m\u001b[1;33m\u001b[0m\u001b[1;33m\u001b[0m\u001b[0m\n\u001b[1;32m-> 1623\u001b[1;33m         D_chunk = pairwise_distances(X_chunk, Y, metric=metric,\n\u001b[0m\u001b[0;32m   1624\u001b[0m                                      n_jobs=n_jobs, **kwds)\n\u001b[0;32m   1625\u001b[0m         if ((X is Y or Y is None)\n",
      "\u001b[1;32m~\\AppData\\Local\\Programs\\Python\\Python39\\lib\\site-packages\\sklearn\\utils\\validation.py\u001b[0m in \u001b[0;36minner_f\u001b[1;34m(*args, **kwargs)\u001b[0m\n\u001b[0;32m     61\u001b[0m             \u001b[0mextra_args\u001b[0m \u001b[1;33m=\u001b[0m \u001b[0mlen\u001b[0m\u001b[1;33m(\u001b[0m\u001b[0margs\u001b[0m\u001b[1;33m)\u001b[0m \u001b[1;33m-\u001b[0m \u001b[0mlen\u001b[0m\u001b[1;33m(\u001b[0m\u001b[0mall_args\u001b[0m\u001b[1;33m)\u001b[0m\u001b[1;33m\u001b[0m\u001b[1;33m\u001b[0m\u001b[0m\n\u001b[0;32m     62\u001b[0m             \u001b[1;32mif\u001b[0m \u001b[0mextra_args\u001b[0m \u001b[1;33m<=\u001b[0m \u001b[1;36m0\u001b[0m\u001b[1;33m:\u001b[0m\u001b[1;33m\u001b[0m\u001b[1;33m\u001b[0m\u001b[0m\n\u001b[1;32m---> 63\u001b[1;33m                 \u001b[1;32mreturn\u001b[0m \u001b[0mf\u001b[0m\u001b[1;33m(\u001b[0m\u001b[1;33m*\u001b[0m\u001b[0margs\u001b[0m\u001b[1;33m,\u001b[0m \u001b[1;33m**\u001b[0m\u001b[0mkwargs\u001b[0m\u001b[1;33m)\u001b[0m\u001b[1;33m\u001b[0m\u001b[1;33m\u001b[0m\u001b[0m\n\u001b[0m\u001b[0;32m     64\u001b[0m \u001b[1;33m\u001b[0m\u001b[0m\n\u001b[0;32m     65\u001b[0m             \u001b[1;31m# extra_args > 0\u001b[0m\u001b[1;33m\u001b[0m\u001b[1;33m\u001b[0m\u001b[1;33m\u001b[0m\u001b[0m\n",
      "\u001b[1;32m~\\AppData\\Local\\Programs\\Python\\Python39\\lib\\site-packages\\sklearn\\metrics\\pairwise.py\u001b[0m in \u001b[0;36mpairwise_distances\u001b[1;34m(X, Y, metric, n_jobs, force_all_finite, **kwds)\u001b[0m\n\u001b[0;32m   1788\u001b[0m         \u001b[0mfunc\u001b[0m \u001b[1;33m=\u001b[0m \u001b[0mpartial\u001b[0m\u001b[1;33m(\u001b[0m\u001b[0mdistance\u001b[0m\u001b[1;33m.\u001b[0m\u001b[0mcdist\u001b[0m\u001b[1;33m,\u001b[0m \u001b[0mmetric\u001b[0m\u001b[1;33m=\u001b[0m\u001b[0mmetric\u001b[0m\u001b[1;33m,\u001b[0m \u001b[1;33m**\u001b[0m\u001b[0mkwds\u001b[0m\u001b[1;33m)\u001b[0m\u001b[1;33m\u001b[0m\u001b[1;33m\u001b[0m\u001b[0m\n\u001b[0;32m   1789\u001b[0m \u001b[1;33m\u001b[0m\u001b[0m\n\u001b[1;32m-> 1790\u001b[1;33m     \u001b[1;32mreturn\u001b[0m \u001b[0m_parallel_pairwise\u001b[0m\u001b[1;33m(\u001b[0m\u001b[0mX\u001b[0m\u001b[1;33m,\u001b[0m \u001b[0mY\u001b[0m\u001b[1;33m,\u001b[0m \u001b[0mfunc\u001b[0m\u001b[1;33m,\u001b[0m \u001b[0mn_jobs\u001b[0m\u001b[1;33m,\u001b[0m \u001b[1;33m**\u001b[0m\u001b[0mkwds\u001b[0m\u001b[1;33m)\u001b[0m\u001b[1;33m\u001b[0m\u001b[1;33m\u001b[0m\u001b[0m\n\u001b[0m\u001b[0;32m   1791\u001b[0m \u001b[1;33m\u001b[0m\u001b[0m\n\u001b[0;32m   1792\u001b[0m \u001b[1;33m\u001b[0m\u001b[0m\n",
      "\u001b[1;32m~\\AppData\\Local\\Programs\\Python\\Python39\\lib\\site-packages\\sklearn\\metrics\\pairwise.py\u001b[0m in \u001b[0;36m_parallel_pairwise\u001b[1;34m(X, Y, func, n_jobs, **kwds)\u001b[0m\n\u001b[0;32m   1357\u001b[0m \u001b[1;33m\u001b[0m\u001b[0m\n\u001b[0;32m   1358\u001b[0m     \u001b[1;32mif\u001b[0m \u001b[0meffective_n_jobs\u001b[0m\u001b[1;33m(\u001b[0m\u001b[0mn_jobs\u001b[0m\u001b[1;33m)\u001b[0m \u001b[1;33m==\u001b[0m \u001b[1;36m1\u001b[0m\u001b[1;33m:\u001b[0m\u001b[1;33m\u001b[0m\u001b[1;33m\u001b[0m\u001b[0m\n\u001b[1;32m-> 1359\u001b[1;33m         \u001b[1;32mreturn\u001b[0m \u001b[0mfunc\u001b[0m\u001b[1;33m(\u001b[0m\u001b[0mX\u001b[0m\u001b[1;33m,\u001b[0m \u001b[0mY\u001b[0m\u001b[1;33m,\u001b[0m \u001b[1;33m**\u001b[0m\u001b[0mkwds\u001b[0m\u001b[1;33m)\u001b[0m\u001b[1;33m\u001b[0m\u001b[1;33m\u001b[0m\u001b[0m\n\u001b[0m\u001b[0;32m   1360\u001b[0m \u001b[1;33m\u001b[0m\u001b[0m\n\u001b[0;32m   1361\u001b[0m     \u001b[1;31m# enforce a threading backend to prevent data communication overhead\u001b[0m\u001b[1;33m\u001b[0m\u001b[1;33m\u001b[0m\u001b[1;33m\u001b[0m\u001b[0m\n",
      "\u001b[1;32m~\\AppData\\Local\\Programs\\Python\\Python39\\lib\\site-packages\\sklearn\\utils\\validation.py\u001b[0m in \u001b[0;36minner_f\u001b[1;34m(*args, **kwargs)\u001b[0m\n\u001b[0;32m     61\u001b[0m             \u001b[0mextra_args\u001b[0m \u001b[1;33m=\u001b[0m \u001b[0mlen\u001b[0m\u001b[1;33m(\u001b[0m\u001b[0margs\u001b[0m\u001b[1;33m)\u001b[0m \u001b[1;33m-\u001b[0m \u001b[0mlen\u001b[0m\u001b[1;33m(\u001b[0m\u001b[0mall_args\u001b[0m\u001b[1;33m)\u001b[0m\u001b[1;33m\u001b[0m\u001b[1;33m\u001b[0m\u001b[0m\n\u001b[0;32m     62\u001b[0m             \u001b[1;32mif\u001b[0m \u001b[0mextra_args\u001b[0m \u001b[1;33m<=\u001b[0m \u001b[1;36m0\u001b[0m\u001b[1;33m:\u001b[0m\u001b[1;33m\u001b[0m\u001b[1;33m\u001b[0m\u001b[0m\n\u001b[1;32m---> 63\u001b[1;33m                 \u001b[1;32mreturn\u001b[0m \u001b[0mf\u001b[0m\u001b[1;33m(\u001b[0m\u001b[1;33m*\u001b[0m\u001b[0margs\u001b[0m\u001b[1;33m,\u001b[0m \u001b[1;33m**\u001b[0m\u001b[0mkwargs\u001b[0m\u001b[1;33m)\u001b[0m\u001b[1;33m\u001b[0m\u001b[1;33m\u001b[0m\u001b[0m\n\u001b[0m\u001b[0;32m     64\u001b[0m \u001b[1;33m\u001b[0m\u001b[0m\n\u001b[0;32m     65\u001b[0m             \u001b[1;31m# extra_args > 0\u001b[0m\u001b[1;33m\u001b[0m\u001b[1;33m\u001b[0m\u001b[1;33m\u001b[0m\u001b[0m\n",
      "\u001b[1;32m~\\AppData\\Local\\Programs\\Python\\Python39\\lib\\site-packages\\sklearn\\metrics\\pairwise.py\u001b[0m in \u001b[0;36meuclidean_distances\u001b[1;34m(X, Y, Y_norm_squared, squared, X_norm_squared)\u001b[0m\n\u001b[0;32m    311\u001b[0m     \u001b[1;32melse\u001b[0m\u001b[1;33m:\u001b[0m\u001b[1;33m\u001b[0m\u001b[1;33m\u001b[0m\u001b[0m\n\u001b[0;32m    312\u001b[0m         \u001b[1;31m# if dtype is already float64, no need to chunk and upcast\u001b[0m\u001b[1;33m\u001b[0m\u001b[1;33m\u001b[0m\u001b[1;33m\u001b[0m\u001b[0m\n\u001b[1;32m--> 313\u001b[1;33m         \u001b[0mdistances\u001b[0m \u001b[1;33m=\u001b[0m \u001b[1;33m-\u001b[0m \u001b[1;36m2\u001b[0m \u001b[1;33m*\u001b[0m \u001b[0msafe_sparse_dot\u001b[0m\u001b[1;33m(\u001b[0m\u001b[0mX\u001b[0m\u001b[1;33m,\u001b[0m \u001b[0mY\u001b[0m\u001b[1;33m.\u001b[0m\u001b[0mT\u001b[0m\u001b[1;33m,\u001b[0m \u001b[0mdense_output\u001b[0m\u001b[1;33m=\u001b[0m\u001b[1;32mTrue\u001b[0m\u001b[1;33m)\u001b[0m\u001b[1;33m\u001b[0m\u001b[1;33m\u001b[0m\u001b[0m\n\u001b[0m\u001b[0;32m    314\u001b[0m         \u001b[0mdistances\u001b[0m \u001b[1;33m+=\u001b[0m \u001b[0mXX\u001b[0m\u001b[1;33m\u001b[0m\u001b[1;33m\u001b[0m\u001b[0m\n\u001b[0;32m    315\u001b[0m         \u001b[0mdistances\u001b[0m \u001b[1;33m+=\u001b[0m \u001b[0mYY\u001b[0m\u001b[1;33m\u001b[0m\u001b[1;33m\u001b[0m\u001b[0m\n",
      "\u001b[1;31mMemoryError\u001b[0m: Unable to allocate 1.00 GiB for an array with shape (5298, 25331) and data type float64"
     ]
    }
   ],
   "source": [
    "# Trying results on different k values\n",
    "error_rate = []\n",
    "\n",
    "for i in range(1, 40):\n",
    "    knn = KNeighborsClassifier(n_neighbors=i)\n",
    "    knn.fit(X_train, y_train)\n",
    "    pred_i = knn.predict(X_test)\n",
    "    error_rate.append(np.mean(pred_i != y_test))"
   ]
  },
  {
   "cell_type": "code",
   "execution_count": 116,
   "metadata": {},
   "outputs": [
    {
     "data": {
      "text/plain": [
       "Text(0, 0.5, 'Error Rate')"
      ]
     },
     "execution_count": 116,
     "metadata": {},
     "output_type": "execute_result"
    },
    {
     "data": {
      "image/png": "[encoded data removed]",
      "text/plain": [
       "<Figure size 864x576 with 1 Axes>"
      ]
     },
     "metadata": {
      "needs_background": "light"
     },
     "output_type": "display_data"
    }
   ],
   "source": [
    "plt.figure(figsize=(12, 8))\n",
    "        # X-axis, Y-asix\n",
    "plt.plot(range(1, 40), error_rate, color=\"blue\", linestyle='--', marker='o', markerfacecolor='red', markersize=10)\n",
    "plt.title('Error Rate vs. K Value')\n",
    "plt.xlabel('K')\n",
    "plt.ylabel('Error Rate')"
   ]
  },
  {
   "cell_type": "code",
   "execution_count": 120,
   "metadata": {},
   "outputs": [
    {
     "name": "stdout",
     "output_type": "stream",
     "text": [
      "KNN Accuracy:  0.607610926890889\n"
     ]
    }
   ],
   "source": [
    "knn = KNeighborsClassifier(n_neighbors=9)\n",
    "knn.fit(X_train, y_train)\n",
    "predictions = knn.predict(X_test)\n",
    "print(\"KNN Accuracy: \",accuracy_score(y_test, predictions))"
   ]
  },
  {
   "cell_type": "code",
   "execution_count": 124,
   "metadata": {},
   "outputs": [
    {
     "name": "stdout",
     "output_type": "stream",
     "text": [
      "KNN Accuracy:  0.6072951207958314\n"
     ]
    }
   ],
   "source": [
    "knn = KNeighborsClassifier(n_neighbors=22)\n",
    "knn.fit(X_train, y_train)\n",
    "predictions = knn.predict(X_test)\n",
    "print(\"KNN Accuracy: \",accuracy_score(y_test, predictions))"
   ]
  },
  {
   "cell_type": "markdown",
   "metadata": {},
   "source": [
    "# Logistic Regression"
   ]
  },
  {
   "cell_type": "code",
   "execution_count": 125,
   "metadata": {},
   "outputs": [
    {
     "name": "stderr",
     "output_type": "stream",
     "text": [
      "C:\\Users\\DC\\Anaconda3\\lib\\site-packages\\sklearn\\linear_model\\logistic.py:469: FutureWarning: Default multi_class will be changed to 'auto' in 0.22. Specify the multi_class option to silence this warning.\n",
      "  \"this warning.\", FutureWarning)\n"
     ]
    }
   ],
   "source": [
    "#LogisticRegression\n",
    "from sklearn.linear_model import LogisticRegression\n",
    "logistic = LogisticRegression(solver='lbfgs', max_iter=1000)\n",
    "logistic.fit(X_train, y_train)\n",
    "pred = logistic.predict(X_test)"
   ]
  },
  {
   "cell_type": "code",
   "execution_count": 127,
   "metadata": {},
   "outputs": [
    {
     "name": "stdout",
     "output_type": "stream",
     "text": [
      "Logistic Regression Accuracy:  0.7686720353702826\n"
     ]
    }
   ],
   "source": [
    "print('Logistic Regression Accuracy: ', accuracy_score(pred, y_test))"
   ]
  },
  {
   "cell_type": "code",
   "execution_count": 129,
   "metadata": {},
   "outputs": [
    {
     "name": "stdout",
     "output_type": "stream",
     "text": [
      "Confusion Matrix: \n",
      " [[  37    0    1    1    2    5    0    4    1    7    2    0    0   10\n",
      "     0    0    3    2    4    0]\n",
      " [   0   51    1    1    1   18    1    2    5   14    0    1    1    2\n",
      "     0    1   21    3    0    0]\n",
      " [   0    2  140    1    0   12    1    1    0   21    0    0    2    7\n",
      "     0    2   43    1    0    1]\n",
      " [   1    1    2  378    8    5    0    1    0    7    1   11    6    5\n",
      "     0    0    8    0    6    8]\n",
      " [   2    0    1   12   65    3    0    2    0    7    0    1    1    1\n",
      "     0    0    7    1    0    4]\n",
      " [   0    4    3    0    1  269    4    3    1  100    1    1    0    3\n",
      "     0    5   43    2    0    0]\n",
      " [   0    0    1    0    0    9  120    5    1   34    1    1    0    2\n",
      "     4    0    3    4    0    0]\n",
      " [   0    1    0    1    1    2    7  430    1    6    0    1    0    9\n",
      "     4    1    7    1    4    0]\n",
      " [   0    5    0    0    0   10    2    1   40   11    1    0    0    2\n",
      "     0    0   30    0    0    0]\n",
      " [   0    3    8    1    0   46   13    4    1 1083    0    2    0    9\n",
      "     1    2   31    3    0    0]\n",
      " [   0    0    2    0    3    3    0    4    1    2   57    0    0    3\n",
      "     0    1    5    1    0    0]\n",
      " [   1    1    0   24    1    3    0   19    2    8    0  165    1    1\n",
      "     0    0    7    0    1    0]\n",
      " [   0    0    0   18    2    0    0    0    0    8    0    5   99    0\n",
      "     0    0    0    0    0    1]\n",
      " [   0    0    4    3    3   11    3    6    1   31    2    0    0  948\n",
      "     0    1   36    3    0    0]\n",
      " [   1    0    0    0    0    5    4   11    2    8    1    0    0    5\n",
      "   103    0    4    0    0    0]\n",
      " [   0    2    1    0    0   12    3    2    6   14    0    0    0    2\n",
      "     1   28   10    2    0    0]\n",
      " [   1    5   23    8    1   26    1    3    3   36    1    2    0   24\n",
      "     0    4  522    4    0    0]\n",
      " [   2    4    0    0    1   17    4    3    0   25    1    0    0   14\n",
      "     2    1    7   57    0    0]\n",
      " [   3    0    0   13    2    0    1   11    0    0    0    3    6    2\n",
      "     0    0    1    1  204   20]\n",
      " [   1    0    0    9    4    2    0    3    0    3    0    1    1    1\n",
      "     0    0    4    0   34   72]]\n"
     ]
    }
   ],
   "source": [
    "print('Confusion Matrix: \\n',confusion_matrix(y_test, pred))"
   ]
  },
  {
   "cell_type": "code",
   "execution_count": 130,
   "metadata": {},
   "outputs": [
    {
     "name": "stdout",
     "output_type": "stream",
     "text": [
      "Classification Report: \n",
      "               precision    recall  f1-score   support\n",
      "\n",
      "           0       0.76      0.47      0.58        79\n",
      "           1       0.65      0.41      0.50       123\n",
      "           2       0.75      0.60      0.67       234\n",
      "           3       0.80      0.84      0.82       448\n",
      "           4       0.68      0.61      0.64       107\n",
      "           5       0.59      0.61      0.60       440\n",
      "           6       0.73      0.65      0.69       185\n",
      "           7       0.83      0.90      0.87       476\n",
      "           8       0.62      0.39      0.48       102\n",
      "           9       0.76      0.90      0.82      1207\n",
      "          10       0.84      0.70      0.76        82\n",
      "          11       0.85      0.71      0.77       234\n",
      "          12       0.85      0.74      0.79       133\n",
      "          13       0.90      0.90      0.90      1052\n",
      "          14       0.90      0.72      0.80       144\n",
      "          15       0.61      0.34      0.43        83\n",
      "          16       0.66      0.79      0.72       664\n",
      "          17       0.67      0.41      0.51       138\n",
      "          18       0.81      0.76      0.78       267\n",
      "          19       0.68      0.53      0.60       135\n",
      "\n",
      "    accuracy                           0.77      6333\n",
      "   macro avg       0.75      0.65      0.69      6333\n",
      "weighted avg       0.77      0.77      0.76      6333\n",
      "\n"
     ]
    }
   ],
   "source": [
    "print('Classification Report: \\n',classification_report(y_test, pred))"
   ]
  },
  {
   "cell_type": "markdown",
   "metadata": {},
   "source": [
    "# Random Forest"
   ]
  },
  {
   "cell_type": "code",
   "execution_count": 137,
   "metadata": {},
   "outputs": [
    {
     "name": "stdout",
     "output_type": "stream",
     "text": [
      "RandomForest Accuracy: 0.7310911100584241\n"
     ]
    }
   ],
   "source": [
    "from sklearn.ensemble import RandomForestClassifier\n",
    "\n",
    "#Create a Gaussian Classifier\n",
    "clf=RandomForestClassifier(n_estimators=100)\n",
    "\n",
    "#Train the model using the training sets y_pred=clf.predict(X_test)\n",
    "clf.fit(X_train,y_train)\n",
    "\n",
    "y_pred=clf.predict(X_test)\n",
    "\n",
    "from sklearn import metrics\n",
    "# Model Accuracy, how often is the classifier correct?\n",
    "print(\"RandomForest Accuracy:\",metrics.accuracy_score(y_test, y_pred))"
   ]
  },
  {
   "cell_type": "code",
   "execution_count": 138,
   "metadata": {},
   "outputs": [
    {
     "name": "stdout",
     "output_type": "stream",
     "text": [
      "Confusion Matrix: \n",
      " [[  39    2    1    2    3    1    2    2    0    6    0    0    0   15\n",
      "     0    0    3    1    2    0]\n",
      " [   0   28    1    2    0   24    1    5    7   12    1    0    0    6\n",
      "     0    0   33    3    0    0]\n",
      " [   1    2  127    0    0   14    0    1    0   25    0    3    1   19\n",
      "     0    1   38    1    0    1]\n",
      " [   0    1    1  385    6    1    0    7    0    5    1    4    8    6\n",
      "     0    1    8    0   11    3]\n",
      " [   3    0    1   21   47    3    0    2    1    8    1    2    0    2\n",
      "     0    0    9    0    3    4]\n",
      " [   0    4    4    3    0  209    1    6    3  141    0    3    1   16\n",
      "     1    6   36    5    0    1]\n",
      " [   0    0    1    2    0    7  111    4    1   48    0    0    0    4\n",
      "     0    3    3    1    0    0]\n",
      " [   1    0    0    0    1    2    3  437    0    6    0    0    0   12\n",
      "     3    1    7    0    3    0]\n",
      " [   1    2    0    3    0    9    4    1   31   12    1    0    0    2\n",
      "     0    3   33    0    0    0]\n",
      " [   0    2    1    5    0   40   13    6    3 1075    1    0    1   15\n",
      "     1    2   35    6    1    0]\n",
      " [   1    0    1    1    3    2    0    7    0    3   46    0    0    5\n",
      "     0    1    9    0    3    0]\n",
      " [   0    2    0   38    1    6    0   17    1    8    0  148    2    5\n",
      "     1    0    4    0    0    1]\n",
      " [   0    0    0   25    3    1    0    1    0    2    0    3   94    1\n",
      "     0    1    2    0    0    0]\n",
      " [   0    1    1    3    2   18    1    8    2   31    1    1    0  950\n",
      "     2    1   26    2    1    1]\n",
      " [   0    1    0    0    0    4    1   26    0   12    0    0    0    8\n",
      "    88    2    2    0    0    0]\n",
      " [   0    0    0    0    1   12    4    1    1   17    0    1    0    3\n",
      "     0   27   16    0    0    0]\n",
      " [   1    1   22    6    1   25    2    9    3   53    1    0    0   43\n",
      "     1    2  493    1    0    0]\n",
      " [   1    1    4    0    0   18    0    2    1   37    1    0    0   23\n",
      "     1    0   10   38    0    1]\n",
      " [   0    0    0   25    2    0    0   22    0    1    0    2    4    7\n",
      "     0    0    1    0  194    9]\n",
      " [   0    0    0   15    2    0    0    6    0    1    1    3    2    5\n",
      "     1    0    2    1   33   63]]\n"
     ]
    }
   ],
   "source": [
    "print('Confusion Matrix: \\n',confusion_matrix(y_test, y_pred))"
   ]
  },
  {
   "cell_type": "code",
   "execution_count": 139,
   "metadata": {},
   "outputs": [
    {
     "name": "stdout",
     "output_type": "stream",
     "text": [
      "Classification Report: \n",
      "               precision    recall  f1-score   support\n",
      "\n",
      "           0       0.81      0.49      0.61        79\n",
      "           1       0.60      0.23      0.33       123\n",
      "           2       0.77      0.54      0.64       234\n",
      "           3       0.72      0.86      0.78       448\n",
      "           4       0.65      0.44      0.53       107\n",
      "           5       0.53      0.47      0.50       440\n",
      "           6       0.78      0.60      0.68       185\n",
      "           7       0.77      0.92      0.84       476\n",
      "           8       0.57      0.30      0.40       102\n",
      "           9       0.72      0.89      0.79      1207\n",
      "          10       0.84      0.56      0.67        82\n",
      "          11       0.87      0.63      0.73       234\n",
      "          12       0.83      0.71      0.76       133\n",
      "          13       0.83      0.90      0.86      1052\n",
      "          14       0.89      0.61      0.72       144\n",
      "          15       0.53      0.33      0.40        83\n",
      "          16       0.64      0.74      0.69       664\n",
      "          17       0.64      0.28      0.39       138\n",
      "          18       0.77      0.73      0.75       267\n",
      "          19       0.75      0.47      0.58       135\n",
      "\n",
      "    accuracy                           0.73      6333\n",
      "   macro avg       0.73      0.59      0.63      6333\n",
      "weighted avg       0.73      0.73      0.72      6333\n",
      "\n"
     ]
    }
   ],
   "source": [
    "print('Classification Report: \\n',classification_report(y_test, y_pred))"
   ]
  },
  {
   "source": [
    "# Decision Tree"
   ],
   "cell_type": "code",
   "metadata": {},
   "execution_count": 35,
   "outputs": []
  },
  {
   "cell_type": "code",
   "execution_count": 140,
   "metadata": {},
   "outputs": [],
   "source": [
    "#Decision Tree\n",
    "from sklearn.tree import DecisionTreeClassifier\n",
    "from sklearn.model_selection import cross_val_score, StratifiedShuffleSplit, RepeatedKFold, train_test_split\n",
    "Gini = DecisionTreeClassifier( criterion='gini' )\n"
   ]
  },
  {
   "cell_type": "code",
   "execution_count": 141,
   "metadata": {},
   "outputs": [
    {
     "name": "stdout",
     "output_type": "stream",
     "text": [
      "Accuracy:  0.6405853817429068  Standard Deviation:  0.007714819259691977\n",
      "Accuracy:  0.6348097268277277  Standard Deviation:  0.005896886085941548\n"
     ]
    }
   ],
   "source": [
    "#Classifier without pruning using gini\n",
    "CV = RepeatedKFold(n_splits = 10, n_repeats = 10, random_state = 1)\n",
    "\n",
    "CV2 = StratifiedShuffleSplit(n_splits=100, test_size=0.2, random_state=0)\n",
    "\n",
    "Acc_n_Std = cross_val_score(Gini, X, y, scoring='accuracy', cv=CV, n_jobs = -1)\n",
    "print('Accuracy: ', np.mean(Acc_n_Std), ' Standard Deviation: ', np.std(Acc_n_Std))\n",
    "\n",
    "Acc_n_Std = cross_val_score(Gini, X, y, scoring='accuracy', cv=CV2, n_jobs = -1)\n",
    "print('Accuracy: ', np.mean(Acc_n_Std), ' Standard Deviation: ', np.std(Acc_n_Std))"
   ]
  },
  {
   "cell_type": "code",
   "execution_count": 118,
   "metadata": {},
   "outputs": [
    {
     "output_type": "stream",
     "name": "stdout",
     "text": [
      "SVC Accuracy:  0.7471972209063635\n"
     ]
    }
   ],
   "source": [
    "#SVM\n",
    "\n",
    "from sklearn.svm import SVC\n",
    "from sklearn.metrics import accuracy_score\n",
    "clf = SVC(kernel='linear')\n",
    "clf.fit(X_train,y_train)\n",
    "y_pred = clf.predict(X_test)\n",
    "print(\"SVC Accuracy: \", accuracy_score(y_test,y_pred))"
   ]
  }
 ],
 "metadata": {
  "kernelspec": {
   "name": "python3",
   "display_name": "Python 3.9.1 64-bit"
  },
  "language_info": {
   "codemirror_mode": {
    "name": "ipython",
    "version": 3
   },
   "file_extension": ".py",
   "mimetype": "text/x-python",
   "name": "python",
   "nbconvert_exporter": "python",
   "pygments_lexer": "ipython3",
   "version": "3.9.1"
  },
  "metadata": {
   "interpreter": {
    "hash": "d62006d1f3422635846181a997a61e8ec3049f797e5d7dfe0cd1bb84092b7c19"
   }
  },
  "interpreter": {
   "hash": "d62006d1f3422635846181a997a61e8ec3049f797e5d7dfe0cd1bb84092b7c19"
  }
 },
 "nbformat": 4,
 "nbformat_minor": 5
}